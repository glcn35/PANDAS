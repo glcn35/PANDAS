{
  "cells": [
    {
      "cell_type": "markdown",
      "metadata": {
        "id": "view-in-github",
        "colab_type": "text"
      },
      "source": [
        "<a href=\"https://colab.research.google.com/github/glcn35/PANDAS/blob/main/text_datetime.ipynb\" target=\"_parent\"><img src=\"https://colab.research.google.com/assets/colab-badge.svg\" alt=\"Open In Colab\"/></a>"
      ]
    },
    {
      "cell_type": "code",
      "execution_count": null,
      "id": "5e51c9fe",
      "metadata": {
        "id": "5e51c9fe",
        "outputId": "7d2a8a1c-8e53-4c32-f4e0-80dc123b3d50"
      },
      "outputs": [
        {
          "data": {
            "text/plain": [
              "'HELLO1'"
            ]
          },
          "execution_count": 150,
          "metadata": {},
          "output_type": "execute_result"
        }
      ],
      "source": [
        "\"hello1\".upper()  # lower' ı  ♫ upper a çevirir"
      ]
    },
    {
      "cell_type": "code",
      "execution_count": null,
      "id": "3d4b069a",
      "metadata": {
        "id": "3d4b069a",
        "outputId": "4d7daa5f-2450-48e0-b672-fde8bda41827"
      },
      "outputs": [
        {
          "data": {
            "text/plain": [
              "'HELLO'"
            ]
          },
          "execution_count": 151,
          "metadata": {},
          "output_type": "execute_result"
        }
      ],
      "source": [
        "\"hELLO\".upper()"
      ]
    },
    {
      "cell_type": "code",
      "execution_count": null,
      "id": "11b25b5e",
      "metadata": {
        "id": "11b25b5e",
        "outputId": "ff2336b8-5ca2-4712-e461-a43b306f9724"
      },
      "outputs": [
        {
          "data": {
            "text/plain": [
              "'world'"
            ]
          },
          "execution_count": 152,
          "metadata": {},
          "output_type": "execute_result"
        }
      ],
      "source": [
        "\"WORLD\".lower()  # upper'ı ♫ lower a çevirir"
      ]
    },
    {
      "cell_type": "code",
      "execution_count": null,
      "id": "e5892809",
      "metadata": {
        "id": "e5892809",
        "outputId": "c0e71a12-dcb5-46bc-9446-a423063cb27e"
      },
      "outputs": [
        {
          "data": {
            "text/plain": [
              "'world'"
            ]
          },
          "execution_count": 153,
          "metadata": {},
          "output_type": "execute_result"
        }
      ],
      "source": [
        "\"World\".lower()"
      ]
    },
    {
      "cell_type": "code",
      "execution_count": null,
      "id": "73bf6824",
      "metadata": {
        "id": "73bf6824",
        "outputId": "4ebb020d-702f-4afc-9de2-4340f3882d2d"
      },
      "outputs": [
        {
          "data": {
            "text/plain": [
              "False"
            ]
          },
          "execution_count": 154,
          "metadata": {},
          "output_type": "execute_result"
        }
      ],
      "source": [
        "\"How are you today\".islower()  # lower olup olmadıgına bakar tümü lower ise true döndürür(bool değerleri döndürür.)"
      ]
    },
    {
      "cell_type": "code",
      "execution_count": null,
      "id": "5670775e",
      "metadata": {
        "id": "5670775e",
        "outputId": "02313a0b-3567-4b11-cb21-19aeb5983688"
      },
      "outputs": [
        {
          "data": {
            "text/plain": [
              "True"
            ]
          },
          "execution_count": 155,
          "metadata": {},
          "output_type": "execute_result"
        }
      ],
      "source": [
        "\"how are you today\".islower()"
      ]
    },
    {
      "cell_type": "code",
      "execution_count": null,
      "id": "f750111a",
      "metadata": {
        "id": "f750111a",
        "outputId": "26e4b2a1-92b4-4208-8cee-0ababf3eae2d"
      },
      "outputs": [
        {
          "data": {
            "text/plain": [
              "False"
            ]
          },
          "execution_count": 156,
          "metadata": {},
          "output_type": "execute_result"
        }
      ],
      "source": [
        "\"In the end,the good always win\".isupper()   # upper olup olmadıgına bakar tümü upper ise true döndürür(bool değerleri döndürür.)"
      ]
    },
    {
      "cell_type": "code",
      "execution_count": null,
      "id": "faf2e509",
      "metadata": {
        "id": "faf2e509",
        "outputId": "75ca27b4-c2d6-4b88-8d2c-8630b73d212f"
      },
      "outputs": [
        {
          "data": {
            "text/plain": [
              "'IN THE END,THE GOOD ALWAYS WIN'"
            ]
          },
          "execution_count": 157,
          "metadata": {},
          "output_type": "execute_result"
        }
      ],
      "source": [
        "\"In the end,the good always win\".upper()"
      ]
    },
    {
      "cell_type": "code",
      "execution_count": null,
      "id": "a3236412",
      "metadata": {
        "id": "a3236412",
        "outputId": "c563eeaa-82ad-4dc2-90c5-cc8b40779737"
      },
      "outputs": [
        {
          "data": {
            "text/plain": [
              "True"
            ]
          },
          "execution_count": 158,
          "metadata": {},
          "output_type": "execute_result"
        }
      ],
      "source": [
        "'IN THE END,THE GOOD ALWAYS WIN'.isupper() #  :)"
      ]
    },
    {
      "cell_type": "code",
      "execution_count": null,
      "id": "7ada27ca",
      "metadata": {
        "id": "7ada27ca",
        "outputId": "5267b534-9ce6-4619-898e-57c7fbed97f3"
      },
      "outputs": [
        {
          "data": {
            "text/plain": [
              "'In The End,The Good Always Win'"
            ]
          },
          "execution_count": 159,
          "metadata": {},
          "output_type": "execute_result"
        }
      ],
      "source": [
        "\"In the end,the good always win\".title()  # kelimelerin baş harfini büyük yapar."
      ]
    },
    {
      "cell_type": "code",
      "execution_count": null,
      "id": "301ad386",
      "metadata": {
        "id": "301ad386",
        "outputId": "d067899a-19f2-48eb-8dcf-5622be9043f9"
      },
      "outputs": [
        {
          "data": {
            "text/plain": [
              "True"
            ]
          },
          "execution_count": 160,
          "metadata": {},
          "output_type": "execute_result"
        }
      ],
      "source": [
        "\"8\".isdigit() # rakamlardan oluşrur"
      ]
    },
    {
      "cell_type": "code",
      "execution_count": null,
      "id": "1b77d580",
      "metadata": {
        "id": "1b77d580",
        "outputId": "9401d7d2-67e9-4a57-cf28-44265ab47a6c"
      },
      "outputs": [
        {
          "data": {
            "text/plain": [
              "True"
            ]
          },
          "execution_count": 161,
          "metadata": {},
          "output_type": "execute_result"
        }
      ],
      "source": [
        "\"½\".isnumeric()  # sayısal karakterler olmalı"
      ]
    },
    {
      "cell_type": "code",
      "execution_count": null,
      "id": "2dc43290",
      "metadata": {
        "id": "2dc43290",
        "outputId": "62325d9e-aa9a-4f49-b687-1114af4070ea"
      },
      "outputs": [
        {
          "data": {
            "text/plain": [
              "False"
            ]
          },
          "execution_count": 162,
          "metadata": {},
          "output_type": "execute_result"
        }
      ],
      "source": [
        "\"½\".isdigit()  # rakam olmadığı için false verdi."
      ]
    },
    {
      "cell_type": "code",
      "execution_count": null,
      "id": "f81da07e",
      "metadata": {
        "id": "f81da07e",
        "outputId": "d0fe72c4-09b8-47aa-dd8b-419d530fc8e3"
      },
      "outputs": [
        {
          "data": {
            "text/plain": [
              "'say a sentence'"
            ]
          },
          "execution_count": 163,
          "metadata": {},
          "output_type": "execute_result"
        }
      ],
      "source": [
        "sentence = \"write a sentence\"\n",
        "sentence.replace(\"write\", \"say\")\n"
      ]
    },
    {
      "cell_type": "code",
      "execution_count": null,
      "id": "48bd774a",
      "metadata": {
        "id": "48bd774a",
        "outputId": "4aac6ee8-d361-4f58-83a1-90ecbca17f9c"
      },
      "outputs": [
        {
          "data": {
            "text/plain": [
              "'vrite a sentence'"
            ]
          },
          "execution_count": 164,
          "metadata": {},
          "output_type": "execute_result"
        }
      ],
      "source": [
        "sentence.replace(\"w\",\"v\")"
      ]
    },
    {
      "cell_type": "code",
      "execution_count": null,
      "id": "f76bdf0b",
      "metadata": {
        "id": "f76bdf0b",
        "outputId": "821918ca-69b4-4de9-91ad-836f565e6819"
      },
      "outputs": [
        {
          "data": {
            "text/plain": [
              "['Splits', 'each', 'string', 'with', 'the', 'given', 'pattern', '']"
            ]
          },
          "execution_count": 165,
          "metadata": {},
          "output_type": "execute_result"
        }
      ],
      "source": [
        "sentence_1 = \"Splits each string with the given pattern \"  # boşluga göre ayırır.\n",
        "sentence_1.split(\" \")"
      ]
    },
    {
      "cell_type": "code",
      "execution_count": null,
      "id": "a5692037",
      "metadata": {
        "id": "a5692037",
        "outputId": "01a5fd76-ea2a-4949-b672-7387ebda905b"
      },
      "outputs": [
        {
          "data": {
            "text/plain": [
              "['Splits', 'each', 'string', 'with', 'the', 'given', 'pattern']"
            ]
          },
          "execution_count": 166,
          "metadata": {},
          "output_type": "execute_result"
        }
      ],
      "source": [
        "sentence_1 = \"Splits each string with the given pattern\"\n",
        "sentence_1.split()"
      ]
    },
    {
      "cell_type": "code",
      "execution_count": null,
      "id": "277b8e69",
      "metadata": {
        "id": "277b8e69",
        "outputId": "06934466-d43f-4021-8d22-8c97bacf77f8"
      },
      "outputs": [
        {
          "data": {
            "text/plain": [
              "['Splits e', 'ch string with the given p', 'ttern']"
            ]
          },
          "execution_count": 167,
          "metadata": {},
          "output_type": "execute_result"
        }
      ],
      "source": [
        "sentence_1 = \"Splits each string with the given pattern\" # split içindeki ifadeyi görür görmez böler.\n",
        "sentence_1.split(\"a\")"
      ]
    },
    {
      "cell_type": "code",
      "execution_count": null,
      "id": "6afc70f8",
      "metadata": {
        "id": "6afc70f8"
      },
      "outputs": [],
      "source": [
        " # sentence_1.contains(r = \"iv\")  #  düzenle"
      ]
    },
    {
      "cell_type": "code",
      "execution_count": null,
      "id": "538d03a7",
      "metadata": {
        "colab": {
          "base_uri": "https://localhost:8080/",
          "height": 35
        },
        "id": "538d03a7",
        "outputId": "f0303d41-5084-4bb5-f6c0-d2fff8d7ee9b"
      },
      "outputs": [
        {
          "output_type": "execute_result",
          "data": {
            "application/vnd.google.colaboratory.intrinsic+json": {
              "type": "string"
            },
            "text/plain": [
              "'butterfly,    air, animal'"
            ]
          },
          "metadata": {},
          "execution_count": 1
        }
      ],
      "source": [
        "words = \"    butterfly,    air, animal    \"  # başta ve sondaki boşlukları siler.\n",
        "words.strip()\n"
      ]
    },
    {
      "cell_type": "code",
      "execution_count": null,
      "id": "0d553814",
      "metadata": {
        "id": "0d553814",
        "outputId": "b9c976c2-43d8-4485-ba32-8bc18402a5bd"
      },
      "outputs": [
        {
          "data": {
            "text/plain": [
              "'    butterfly,    air, animal'"
            ]
          },
          "execution_count": 170,
          "metadata": {},
          "output_type": "execute_result"
        }
      ],
      "source": [
        "words = \"    butterfly,    air, animal    \"  # sondaki(right) boşlukları siler.\n",
        "words.rstrip()"
      ]
    },
    {
      "cell_type": "code",
      "execution_count": null,
      "id": "7f93b6cd",
      "metadata": {
        "id": "7f93b6cd",
        "outputId": "bdd003dc-e44f-47ad-f206-c9ba1aea3af9"
      },
      "outputs": [
        {
          "data": {
            "text/plain": [
              "'butterfly,    air, animal    '"
            ]
          },
          "execution_count": 171,
          "metadata": {},
          "output_type": "execute_result"
        }
      ],
      "source": [
        "words = \"    butterfly,    air, animal    \"  # baştaki(left) boşlukları siler.\n",
        "words.lstrip()"
      ]
    },
    {
      "cell_type": "code",
      "execution_count": null,
      "id": "8dfd38e9",
      "metadata": {
        "id": "8dfd38e9",
        "outputId": "6982ec9e-4850-449e-e5ae-02310247c18b"
      },
      "outputs": [
        {
          "data": {
            "text/plain": [
              "3"
            ]
          },
          "execution_count": 172,
          "metadata": {},
          "output_type": "execute_result"
        }
      ],
      "source": [
        "\"In the end,the good always win\".find(\"t\")  # ilk hangi indexte gördüyse o indexi verir. dipnot:boşluklar da indextir"
      ]
    },
    {
      "cell_type": "code",
      "execution_count": null,
      "id": "e8390da1",
      "metadata": {
        "id": "e8390da1",
        "outputId": "efefddfb-305a-4815-c4d8-637d903c8e79"
      },
      "outputs": [
        {
          "data": {
            "text/plain": [
              "15"
            ]
          },
          "execution_count": 173,
          "metadata": {},
          "output_type": "execute_result"
        }
      ],
      "source": [
        "\"In the end,the good always win\".find(\"g\")  # case sensitive dir.her zaman pozitif döndürür."
      ]
    },
    {
      "cell_type": "code",
      "execution_count": null,
      "id": "95ff4920",
      "metadata": {
        "id": "95ff4920",
        "outputId": "17449006-6ae8-4264-fe8d-d13e02be0379"
      },
      "outputs": [
        {
          "data": {
            "text/plain": [
              "-1"
            ]
          },
          "execution_count": 174,
          "metadata": {},
          "output_type": "execute_result"
        }
      ],
      "source": [
        "\"In the end,the good always win\".find(\"O\")  # negatif döndüğünde bulamadığı anlamı çıkar."
      ]
    },
    {
      "cell_type": "code",
      "execution_count": null,
      "id": "a4e814ee",
      "metadata": {
        "id": "a4e814ee",
        "outputId": "f0fc6598-e340-4b2e-8042-21167dab68bc"
      },
      "outputs": [
        {
          "data": {
            "text/plain": [
              "29"
            ]
          },
          "execution_count": 175,
          "metadata": {},
          "output_type": "execute_result"
        }
      ],
      "source": [
        "\"In the end,the good always win\".rfind(\"n\") # sondan ilk gördüğünü yani en sağdakini alır."
      ]
    },
    {
      "cell_type": "code",
      "execution_count": null,
      "id": "e6b8320e",
      "metadata": {
        "id": "e6b8320e",
        "outputId": "3e80bc02-fad4-4f2f-de07-dd0741d5c486"
      },
      "outputs": [
        {
          "data": {
            "text/plain": [
              "5"
            ]
          },
          "execution_count": 176,
          "metadata": {},
          "output_type": "execute_result"
        }
      ],
      "source": [
        "\"In the end,the good always win\".find(\"e\" ,5,30) # indekten sonrası alınır"
      ]
    },
    {
      "cell_type": "code",
      "execution_count": null,
      "id": "e462a394",
      "metadata": {
        "id": "e462a394"
      },
      "outputs": [],
      "source": [
        "import re\n",
        "s1 = pd.Series(['Tiger', 'Deer', 'Zoo'])"
      ]
    },
    {
      "cell_type": "code",
      "execution_count": null,
      "id": "188f0f04",
      "metadata": {
        "id": "188f0f04",
        "outputId": "05ebb369-a082-425a-96e8-9bfdce41fb12"
      },
      "outputs": [
        {
          "data": {
            "text/plain": [
              "0    []\n",
              "1    []\n",
              "2    []\n",
              "dtype: object"
            ]
          },
          "execution_count": 178,
          "metadata": {},
          "output_type": "execute_result"
        }
      ],
      "source": [
        "\n",
        "s1.str.findall(\"DEER\")"
      ]
    },
    {
      "cell_type": "code",
      "execution_count": null,
      "id": "f73b81c8",
      "metadata": {
        "id": "f73b81c8",
        "outputId": "a077a7c7-83c7-4fce-b4b4-dadfc589608d"
      },
      "outputs": [
        {
          "data": {
            "text/plain": [
              "0        []\n",
              "1    [Deer]\n",
              "2        []\n",
              "dtype: object"
            ]
          },
          "execution_count": 179,
          "metadata": {},
          "output_type": "execute_result"
        }
      ],
      "source": [
        "s1.str.findall('DEER', flags=re.IGNORECASE)"
      ]
    },
    {
      "cell_type": "code",
      "execution_count": null,
      "id": "891a9955",
      "metadata": {
        "id": "891a9955"
      },
      "outputs": [],
      "source": [
        ""
      ]
    },
    {
      "cell_type": "code",
      "execution_count": null,
      "id": "b24a992e",
      "metadata": {
        "id": "b24a992e"
      },
      "outputs": [],
      "source": [
        "import numpy as np  # numerical paython = \n",
        "import pandas as pd \n",
        "import re  # regular expression= düzenli ifadeler"
      ]
    },
    {
      "cell_type": "code",
      "execution_count": null,
      "id": "d2a62c86",
      "metadata": {
        "id": "d2a62c86"
      },
      "outputs": [],
      "source": [
        "orders = pd.read_table(\"http://bit.ly/chiporders\")"
      ]
    },
    {
      "cell_type": "code",
      "execution_count": null,
      "id": "546ece9d",
      "metadata": {
        "colab": {
          "base_uri": "https://localhost:8080/"
        },
        "id": "546ece9d",
        "outputId": "adf5ca3f-3182-420a-f108-4d49ac14b392"
      },
      "outputs": [
        {
          "output_type": "execute_result",
          "data": {
            "text/plain": [
              "0                CHIPS AND FRESH TOMATO SALSA\n",
              "1                                        IZZE\n",
              "2                            NANTUCKET NECTAR\n",
              "3       CHIPS AND TOMATILLO-GREEN CHILI SALSA\n",
              "4                                CHICKEN BOWL\n",
              "                        ...                  \n",
              "4617                            STEAK BURRITO\n",
              "4618                            STEAK BURRITO\n",
              "4619                       CHICKEN SALAD BOWL\n",
              "4620                       CHICKEN SALAD BOWL\n",
              "4621                       CHICKEN SALAD BOWL\n",
              "Name: item_name, Length: 4622, dtype: object"
            ]
          },
          "metadata": {},
          "execution_count": 6
        }
      ],
      "source": [
        "orders.item_name.str.upper()"
      ]
    },
    {
      "cell_type": "code",
      "execution_count": null,
      "id": "35506fa7",
      "metadata": {
        "colab": {
          "base_uri": "https://localhost:8080/"
        },
        "id": "35506fa7",
        "outputId": "0704c72e-2988-465c-8936-a1f6cfdad268"
      },
      "outputs": [
        {
          "output_type": "execute_result",
          "data": {
            "text/plain": [
              "0                chips and fresh tomato salsa\n",
              "1                                        izze\n",
              "2                            nantucket nectar\n",
              "3       chips and tomatillo-green chili salsa\n",
              "4                                chicken bowl\n",
              "                        ...                  \n",
              "4617                            steak burrito\n",
              "4618                            steak burrito\n",
              "4619                       chicken salad bowl\n",
              "4620                       chicken salad bowl\n",
              "4621                       chicken salad bowl\n",
              "Name: item_name, Length: 4622, dtype: object"
            ]
          },
          "metadata": {},
          "execution_count": 7
        }
      ],
      "source": [
        "orders.item_name.str.lower()"
      ]
    },
    {
      "cell_type": "code",
      "execution_count": null,
      "id": "c0b1f089",
      "metadata": {
        "colab": {
          "base_uri": "https://localhost:8080/"
        },
        "id": "c0b1f089",
        "outputId": "f9235ea3-9518-45e9-8db0-be9a41429e1a"
      },
      "outputs": [
        {
          "output_type": "execute_result",
          "data": {
            "text/plain": [
              "0       False\n",
              "1       False\n",
              "2       False\n",
              "3       False\n",
              "4       False\n",
              "        ...  \n",
              "4617    False\n",
              "4618    False\n",
              "4619    False\n",
              "4620    False\n",
              "4621    False\n",
              "Name: item_name, Length: 4622, dtype: bool"
            ]
          },
          "metadata": {},
          "execution_count": 8
        }
      ],
      "source": [
        "orders.item_name.str.isupper()"
      ]
    },
    {
      "cell_type": "code",
      "execution_count": null,
      "id": "de3bb30d",
      "metadata": {
        "scrolled": true,
        "colab": {
          "base_uri": "https://localhost:8080/",
          "height": 206
        },
        "id": "de3bb30d",
        "outputId": "6b5f8c15-f390-41b7-fd84-4f2ec937fad9"
      },
      "outputs": [
        {
          "output_type": "execute_result",
          "data": {
            "text/html": [
              "\n",
              "  <div id=\"df-c143b00b-0e8f-46f5-89ad-a13016fae15d\">\n",
              "    <div class=\"colab-df-container\">\n",
              "      <div>\n",
              "<style scoped>\n",
              "    .dataframe tbody tr th:only-of-type {\n",
              "        vertical-align: middle;\n",
              "    }\n",
              "\n",
              "    .dataframe tbody tr th {\n",
              "        vertical-align: top;\n",
              "    }\n",
              "\n",
              "    .dataframe thead th {\n",
              "        text-align: right;\n",
              "    }\n",
              "</style>\n",
              "<table border=\"1\" class=\"dataframe\">\n",
              "  <thead>\n",
              "    <tr style=\"text-align: right;\">\n",
              "      <th></th>\n",
              "      <th>order_id</th>\n",
              "      <th>quantity</th>\n",
              "      <th>item_name</th>\n",
              "      <th>choice_description</th>\n",
              "      <th>item_price</th>\n",
              "    </tr>\n",
              "  </thead>\n",
              "  <tbody>\n",
              "    <tr>\n",
              "      <th>0</th>\n",
              "      <td>1</td>\n",
              "      <td>1</td>\n",
              "      <td>Chips and Fresh Tomato Salsa</td>\n",
              "      <td>NaN</td>\n",
              "      <td>$2.39</td>\n",
              "    </tr>\n",
              "    <tr>\n",
              "      <th>1</th>\n",
              "      <td>1</td>\n",
              "      <td>1</td>\n",
              "      <td>Izze</td>\n",
              "      <td>[Clementine]</td>\n",
              "      <td>$3.39</td>\n",
              "    </tr>\n",
              "    <tr>\n",
              "      <th>2</th>\n",
              "      <td>1</td>\n",
              "      <td>1</td>\n",
              "      <td>Nantucket Nectar</td>\n",
              "      <td>[Apple]</td>\n",
              "      <td>$3.39</td>\n",
              "    </tr>\n",
              "    <tr>\n",
              "      <th>3</th>\n",
              "      <td>1</td>\n",
              "      <td>1</td>\n",
              "      <td>Chips and Tomatillo-Green Chili Salsa</td>\n",
              "      <td>NaN</td>\n",
              "      <td>$2.39</td>\n",
              "    </tr>\n",
              "    <tr>\n",
              "      <th>4</th>\n",
              "      <td>2</td>\n",
              "      <td>2</td>\n",
              "      <td>Chicken Bowl</td>\n",
              "      <td>[Tomatillo-Red Chili Salsa (Hot), [Black Beans...</td>\n",
              "      <td>$16.98</td>\n",
              "    </tr>\n",
              "  </tbody>\n",
              "</table>\n",
              "</div>\n",
              "      <button class=\"colab-df-convert\" onclick=\"convertToInteractive('df-c143b00b-0e8f-46f5-89ad-a13016fae15d')\"\n",
              "              title=\"Convert this dataframe to an interactive table.\"\n",
              "              style=\"display:none;\">\n",
              "        \n",
              "  <svg xmlns=\"http://www.w3.org/2000/svg\" height=\"24px\"viewBox=\"0 0 24 24\"\n",
              "       width=\"24px\">\n",
              "    <path d=\"M0 0h24v24H0V0z\" fill=\"none\"/>\n",
              "    <path d=\"M18.56 5.44l.94 2.06.94-2.06 2.06-.94-2.06-.94-.94-2.06-.94 2.06-2.06.94zm-11 1L8.5 8.5l.94-2.06 2.06-.94-2.06-.94L8.5 2.5l-.94 2.06-2.06.94zm10 10l.94 2.06.94-2.06 2.06-.94-2.06-.94-.94-2.06-.94 2.06-2.06.94z\"/><path d=\"M17.41 7.96l-1.37-1.37c-.4-.4-.92-.59-1.43-.59-.52 0-1.04.2-1.43.59L10.3 9.45l-7.72 7.72c-.78.78-.78 2.05 0 2.83L4 21.41c.39.39.9.59 1.41.59.51 0 1.02-.2 1.41-.59l7.78-7.78 2.81-2.81c.8-.78.8-2.07 0-2.86zM5.41 20L4 18.59l7.72-7.72 1.47 1.35L5.41 20z\"/>\n",
              "  </svg>\n",
              "      </button>\n",
              "      \n",
              "  <style>\n",
              "    .colab-df-container {\n",
              "      display:flex;\n",
              "      flex-wrap:wrap;\n",
              "      gap: 12px;\n",
              "    }\n",
              "\n",
              "    .colab-df-convert {\n",
              "      background-color: #E8F0FE;\n",
              "      border: none;\n",
              "      border-radius: 50%;\n",
              "      cursor: pointer;\n",
              "      display: none;\n",
              "      fill: #1967D2;\n",
              "      height: 32px;\n",
              "      padding: 0 0 0 0;\n",
              "      width: 32px;\n",
              "    }\n",
              "\n",
              "    .colab-df-convert:hover {\n",
              "      background-color: #E2EBFA;\n",
              "      box-shadow: 0px 1px 2px rgba(60, 64, 67, 0.3), 0px 1px 3px 1px rgba(60, 64, 67, 0.15);\n",
              "      fill: #174EA6;\n",
              "    }\n",
              "\n",
              "    [theme=dark] .colab-df-convert {\n",
              "      background-color: #3B4455;\n",
              "      fill: #D2E3FC;\n",
              "    }\n",
              "\n",
              "    [theme=dark] .colab-df-convert:hover {\n",
              "      background-color: #434B5C;\n",
              "      box-shadow: 0px 1px 3px 1px rgba(0, 0, 0, 0.15);\n",
              "      filter: drop-shadow(0px 1px 2px rgba(0, 0, 0, 0.3));\n",
              "      fill: #FFFFFF;\n",
              "    }\n",
              "  </style>\n",
              "\n",
              "      <script>\n",
              "        const buttonEl =\n",
              "          document.querySelector('#df-c143b00b-0e8f-46f5-89ad-a13016fae15d button.colab-df-convert');\n",
              "        buttonEl.style.display =\n",
              "          google.colab.kernel.accessAllowed ? 'block' : 'none';\n",
              "\n",
              "        async function convertToInteractive(key) {\n",
              "          const element = document.querySelector('#df-c143b00b-0e8f-46f5-89ad-a13016fae15d');\n",
              "          const dataTable =\n",
              "            await google.colab.kernel.invokeFunction('convertToInteractive',\n",
              "                                                     [key], {});\n",
              "          if (!dataTable) return;\n",
              "\n",
              "          const docLinkHtml = 'Like what you see? Visit the ' +\n",
              "            '<a target=\"_blank\" href=https://colab.research.google.com/notebooks/data_table.ipynb>data table notebook</a>'\n",
              "            + ' to learn more about interactive tables.';\n",
              "          element.innerHTML = '';\n",
              "          dataTable['output_type'] = 'display_data';\n",
              "          await google.colab.output.renderOutput(dataTable, element);\n",
              "          const docLink = document.createElement('div');\n",
              "          docLink.innerHTML = docLinkHtml;\n",
              "          element.appendChild(docLink);\n",
              "        }\n",
              "      </script>\n",
              "    </div>\n",
              "  </div>\n",
              "  "
            ],
            "text/plain": [
              "   order_id  ...  item_price\n",
              "0         1  ...      $2.39 \n",
              "1         1  ...      $3.39 \n",
              "2         1  ...      $3.39 \n",
              "3         1  ...      $2.39 \n",
              "4         2  ...     $16.98 \n",
              "\n",
              "[5 rows x 5 columns]"
            ]
          },
          "metadata": {},
          "execution_count": 9
        }
      ],
      "source": [
        "orders.head()"
      ]
    },
    {
      "cell_type": "code",
      "execution_count": null,
      "id": "4fc5ce43",
      "metadata": {
        "colab": {
          "base_uri": "https://localhost:8080/"
        },
        "id": "4fc5ce43",
        "outputId": "52326051-7483-4516-e451-def5af5bb8e9"
      },
      "outputs": [
        {
          "output_type": "execute_result",
          "data": {
            "text/plain": [
              "0       False\n",
              "1       False\n",
              "2       False\n",
              "3       False\n",
              "4       False\n",
              "        ...  \n",
              "4617    False\n",
              "4618    False\n",
              "4619    False\n",
              "4620    False\n",
              "4621    False\n",
              "Name: item_name, Length: 4622, dtype: bool"
            ]
          },
          "metadata": {},
          "execution_count": 10
        }
      ],
      "source": [
        "orders.item_name.str.islower()"
      ]
    },
    {
      "cell_type": "code",
      "execution_count": null,
      "id": "b68c1c74",
      "metadata": {
        "colab": {
          "base_uri": "https://localhost:8080/"
        },
        "id": "b68c1c74",
        "outputId": "69da7ff8-bc8f-4199-df28-9b9e4fa032bd"
      },
      "outputs": [
        {
          "output_type": "execute_result",
          "data": {
            "text/plain": [
              "0       False\n",
              "1       False\n",
              "2       False\n",
              "3       False\n",
              "4        True\n",
              "        ...  \n",
              "4617    False\n",
              "4618    False\n",
              "4619     True\n",
              "4620     True\n",
              "4621     True\n",
              "Name: item_name, Length: 4622, dtype: bool"
            ]
          },
          "metadata": {},
          "execution_count": 11
        }
      ],
      "source": [
        "orders.item_name.str.contains(\"Chicken\")"
      ]
    },
    {
      "cell_type": "code",
      "execution_count": null,
      "id": "dde1170b",
      "metadata": {
        "colab": {
          "base_uri": "https://localhost:8080/"
        },
        "id": "dde1170b",
        "outputId": "19751f1e-fc03-4d30-c62e-81fd5de94356"
      },
      "outputs": [
        {
          "output_type": "execute_result",
          "data": {
            "text/plain": [
              "0                                                     NaN\n",
              "1                                              Clementine\n",
              "2                                                   Apple\n",
              "3                                                     NaN\n",
              "4       Tomatillo-Red Chili Salsa (Hot), Black Beans, ...\n",
              "                              ...                        \n",
              "4617    Fresh Tomato Salsa, Rice, Black Beans, Sour Cr...\n",
              "4618    Fresh Tomato Salsa, Rice, Sour Cream, Cheese, ...\n",
              "4619    Fresh Tomato Salsa, Fajita Vegetables, Pinto B...\n",
              "4620       Fresh Tomato Salsa, Fajita Vegetables, Lettuce\n",
              "4621    Fresh Tomato Salsa, Fajita Vegetables, Pinto B...\n",
              "Name: choice_description, Length: 4622, dtype: object"
            ]
          },
          "metadata": {},
          "execution_count": 12
        }
      ],
      "source": [
        "orders.choice_description.str.replace(\"[\",\"\").str.replace(\"]\",\"\")"
      ]
    },
    {
      "cell_type": "code",
      "execution_count": null,
      "id": "12c221ba",
      "metadata": {
        "colab": {
          "base_uri": "https://localhost:8080/"
        },
        "id": "12c221ba",
        "outputId": "0b912301-e985-413f-b372-5ef04921edd1"
      },
      "outputs": [
        {
          "output_type": "execute_result",
          "data": {
            "text/plain": [
              "0                                                     NaN\n",
              "1                                              Clementine\n",
              "2                                                   Apple\n",
              "3                                                     NaN\n",
              "4       Tomatillo-Red Chili Salsa (Hot), Black Beans, ...\n",
              "                              ...                        \n",
              "4617    Fresh Tomato Salsa, Rice, Black Beans, Sour Cr...\n",
              "4618    Fresh Tomato Salsa, Rice, Sour Cream, Cheese, ...\n",
              "4619    Fresh Tomato Salsa, Fajita Vegetables, Pinto B...\n",
              "4620       Fresh Tomato Salsa, Fajita Vegetables, Lettuce\n",
              "4621    Fresh Tomato Salsa, Fajita Vegetables, Pinto B...\n",
              "Name: choice_description, Length: 4622, dtype: object"
            ]
          },
          "metadata": {},
          "execution_count": 13
        }
      ],
      "source": [
        "orders.choice_description.str.replace(\"[\\[\\]]\",\"\")"
      ]
    },
    {
      "cell_type": "code",
      "execution_count": null,
      "id": "c4fa035d",
      "metadata": {
        "colab": {
          "base_uri": "https://localhost:8080/"
        },
        "id": "c4fa035d",
        "outputId": "523665f4-b6d4-4a39-da2e-2578582c14be"
      },
      "outputs": [
        {
          "output_type": "execute_result",
          "data": {
            "text/plain": [
              "City 1    New_York\n",
              "City 2      Lisbon\n",
              "City 3       Tokyo\n",
              "City 4       Paris\n",
              "City 5      Munich\n",
              "dtype: object"
            ]
          },
          "metadata": {},
          "execution_count": 14
        }
      ],
      "source": [
        "sr = pd.Series(['New_York', 'Lisbon', 'Tokyo', 'Paris', 'Munich'])\n",
        "idx = ['City 1', 'City 2', 'City 3', 'City 4', 'City 5']\n",
        "sr.index = idx\n",
        "sr"
      ]
    },
    {
      "cell_type": "code",
      "execution_count": null,
      "id": "89383e6e",
      "metadata": {
        "scrolled": true,
        "id": "89383e6e",
        "outputId": "8d39c68c-a6d3-4332-9435-0dc9031e786c"
      },
      "outputs": [
        {
          "data": {
            "text/plain": [
              "City 1    False\n",
              "City 2     True\n",
              "City 3    False\n",
              "City 4     True\n",
              "City 5    False\n",
              "dtype: bool"
            ]
          },
          "execution_count": 191,
          "metadata": {},
          "output_type": "execute_result"
        }
      ],
      "source": [
        "result = sr.str.contains(pat = 'is')\n",
        "result"
      ]
    },
    {
      "cell_type": "code",
      "execution_count": null,
      "id": "9deeb59f",
      "metadata": {
        "id": "9deeb59f",
        "outputId": "720f0ef3-88b0-4789-bb2e-356ef7791a76"
      },
      "outputs": [
        {
          "data": {
            "text/plain": [
              "City 1    False\n",
              "City 2     True\n",
              "City 3    False\n",
              "City 4     True\n",
              "City 5    False\n",
              "dtype: bool"
            ]
          },
          "execution_count": 192,
          "metadata": {},
          "output_type": "execute_result"
        }
      ],
      "source": [
        "result = sr.str.contains(pat = 'IS', flags = re.IGNORECASE) # büyük küçük harflere duyarlılıgı kaldırır\n",
        "result"
      ]
    },
    {
      "cell_type": "markdown",
      "source": [
        "![29.01.2022_11.41.35_REC.png](data:image/png;base64,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)"
      ],
      "metadata": {
        "id": "_H-TA-gG_7bv"
      },
      "id": "_H-TA-gG_7bv"
    },
    {
      "cell_type": "markdown",
      "id": "45cc877d",
      "metadata": {
        "id": "45cc877d"
      },
      "source": [
        "to_datetime()\n",
        "strftime\n",
        "strptime\n",
        "timedelta"
      ]
    },
    {
      "cell_type": "code",
      "execution_count": null,
      "id": "50a13e78",
      "metadata": {
        "colab": {
          "base_uri": "https://localhost:8080/"
        },
        "id": "50a13e78",
        "outputId": "2289d90f-48e0-4c4a-8c8e-e18a15d625e2"
      },
      "outputs": [
        {
          "output_type": "execute_result",
          "data": {
            "text/plain": [
              "datetime.datetime(2022, 1, 29, 8, 20, 54, 200426)"
            ]
          },
          "metadata": {},
          "execution_count": 16
        }
      ],
      "source": [
        "from datetime import datetime\n",
        "current_date = datetime.now()\n",
        "current_date"
      ]
    },
    {
      "cell_type": "code",
      "execution_count": null,
      "id": "dcf0d194",
      "metadata": {
        "colab": {
          "base_uri": "https://localhost:8080/"
        },
        "id": "dcf0d194",
        "outputId": "c8cf6e3b-5b31-4303-d5ad-ef355aa543f0"
      },
      "outputs": [
        {
          "output_type": "stream",
          "name": "stdout",
          "text": [
            "2022-01-29 08:21:08.208457\n",
            "2022-01-29\n",
            "29\n",
            "1\n",
            "2022\n",
            "29\n",
            "January\n",
            "04\n"
          ]
        }
      ],
      "source": [
        "from datetime import datetime\n",
        "current_date = datetime.now()\n",
        "print(current_date)\n",
        "print(current_date.date())\n",
        "print(current_date.day)\n",
        "print(current_date.month)\n",
        "print(current_date.year)\n",
        "print(current_date.strftime(\"%d\"))\n",
        "print(current_date.strftime(\"%B\"))\n",
        "print(current_date.strftime(\"%W\"))  # yılın kacıncı haftsası\n"
      ]
    },
    {
      "cell_type": "code",
      "execution_count": null,
      "id": "5d560348",
      "metadata": {
        "id": "5d560348"
      },
      "outputs": [],
      "source": [
        "from datetime import datetime\n",
        "from datetime import date\n",
        "\n",
        "from datetime import timedelta\n",
        "import datetime"
      ]
    },
    {
      "cell_type": "code",
      "execution_count": null,
      "id": "48ed8ff8",
      "metadata": {
        "colab": {
          "base_uri": "https://localhost:8080/",
          "height": 200
        },
        "id": "48ed8ff8",
        "outputId": "0479c2a7-ecf2-47a6-823f-9d9e1ac5eed1"
      },
      "outputs": [
        {
          "output_type": "error",
          "ename": "AttributeError",
          "evalue": "ignored",
          "traceback": [
            "\u001b[0;31m---------------------------------------------------------------------------\u001b[0m",
            "\u001b[0;31mAttributeError\u001b[0m                            Traceback (most recent call last)",
            "\u001b[0;32m<ipython-input-26-d44e52097b12>\u001b[0m in \u001b[0;36m<module>\u001b[0;34m()\u001b[0m\n\u001b[1;32m      1\u001b[0m \u001b[0mstr1\u001b[0m \u001b[0;34m=\u001b[0m \u001b[0;34m\"2022-01-30\"\u001b[0m\u001b[0;34m\u001b[0m\u001b[0;34m\u001b[0m\u001b[0m\n\u001b[0;32m----> 2\u001b[0;31m \u001b[0mdate1\u001b[0m \u001b[0;34m=\u001b[0m \u001b[0mdatetime\u001b[0m\u001b[0;34m.\u001b[0m\u001b[0mstrptime\u001b[0m\u001b[0;34m(\u001b[0m\u001b[0mstr1\u001b[0m\u001b[0;34m,\u001b[0m \u001b[0;34m\"%Y-%m-%d\"\u001b[0m\u001b[0;34m)\u001b[0m\u001b[0;34m\u001b[0m\u001b[0;34m\u001b[0m\u001b[0m\n\u001b[0m\u001b[1;32m      3\u001b[0m \u001b[0mprint\u001b[0m\u001b[0;34m(\u001b[0m\u001b[0mdate1\u001b[0m\u001b[0;34m)\u001b[0m\u001b[0;34m\u001b[0m\u001b[0;34m\u001b[0m\u001b[0m\n",
            "\u001b[0;31mAttributeError\u001b[0m: module 'datetime' has no attribute 'strptime'"
          ]
        }
      ],
      "source": [
        "str1 = \"2022-01-30\"\n",
        "date1 = datetime.strptime(str1, \"%Y-%m-%d\")\n",
        "print(date1)\n"
      ]
    },
    {
      "cell_type": "code",
      "execution_count": null,
      "id": "8709e5ae",
      "metadata": {
        "colab": {
          "base_uri": "https://localhost:8080/"
        },
        "id": "8709e5ae",
        "outputId": "84371cae-d774-46f5-a8bc-1d771a6727c1"
      },
      "outputs": [
        {
          "output_type": "stream",
          "name": "stdout",
          "text": [
            "Today date:  2022-01-29 08:24:43.059794\n",
            "Date after 10 days :  2022-03-15 08:24:43.059794\n"
          ]
        }
      ],
      "source": [
        "current_date = datetime.datetime.now()\n",
        "date_after_10_days = current_date + timedelta(days = 10, weeks = 5)\n",
        "print(\"Today date: \", current_date)\n",
        "print(\"Date after 10 days : \", date_after_10_days)"
      ]
    },
    {
      "cell_type": "code",
      "execution_count": null,
      "id": "bf027802",
      "metadata": {
        "colab": {
          "base_uri": "https://localhost:8080/"
        },
        "id": "bf027802",
        "outputId": "1b7ad7df-c10d-4cee-aba6-48903e29001d"
      },
      "outputs": [
        {
          "output_type": "stream",
          "name": "stdout",
          "text": [
            "Today date:  2022-01-29\n",
            "Date after 10 days :  2022-03-15\n"
          ]
        }
      ],
      "source": [
        "print(\"Today date: \", current_date.date())\n",
        "print(\"Date after 10 days : \", date_after_10_days.date())"
      ]
    },
    {
      "cell_type": "markdown",
      "id": "b34b591c",
      "metadata": {
        "id": "b34b591c"
      },
      "source": [
        "# Get_Dummies Method"
      ]
    },
    {
      "cell_type": "code",
      "execution_count": null,
      "id": "48428895",
      "metadata": {
        "colab": {
          "base_uri": "https://localhost:8080/",
          "height": 174
        },
        "id": "48428895",
        "outputId": "136a4eec-e24e-4a1e-8997-3ca9a6199a27"
      },
      "outputs": [
        {
          "output_type": "execute_result",
          "data": {
            "text/html": [
              "\n",
              "  <div id=\"df-026973d1-b679-42cd-9329-7d160592f97d\">\n",
              "    <div class=\"colab-df-container\">\n",
              "      <div>\n",
              "<style scoped>\n",
              "    .dataframe tbody tr th:only-of-type {\n",
              "        vertical-align: middle;\n",
              "    }\n",
              "\n",
              "    .dataframe tbody tr th {\n",
              "        vertical-align: top;\n",
              "    }\n",
              "\n",
              "    .dataframe thead th {\n",
              "        text-align: right;\n",
              "    }\n",
              "</style>\n",
              "<table border=\"1\" class=\"dataframe\">\n",
              "  <thead>\n",
              "    <tr style=\"text-align: right;\">\n",
              "      <th></th>\n",
              "      <th>market_name</th>\n",
              "      <th>amount</th>\n",
              "    </tr>\n",
              "  </thead>\n",
              "  <tbody>\n",
              "    <tr>\n",
              "      <th>0</th>\n",
              "      <td>A101</td>\n",
              "      <td>184</td>\n",
              "    </tr>\n",
              "    <tr>\n",
              "      <th>1</th>\n",
              "      <td>ŞOK</td>\n",
              "      <td>188</td>\n",
              "    </tr>\n",
              "    <tr>\n",
              "      <th>2</th>\n",
              "      <td>Migros</td>\n",
              "      <td>195</td>\n",
              "    </tr>\n",
              "    <tr>\n",
              "      <th>3</th>\n",
              "      <td>BIM</td>\n",
              "      <td>186</td>\n",
              "    </tr>\n",
              "  </tbody>\n",
              "</table>\n",
              "</div>\n",
              "      <button class=\"colab-df-convert\" onclick=\"convertToInteractive('df-026973d1-b679-42cd-9329-7d160592f97d')\"\n",
              "              title=\"Convert this dataframe to an interactive table.\"\n",
              "              style=\"display:none;\">\n",
              "        \n",
              "  <svg xmlns=\"http://www.w3.org/2000/svg\" height=\"24px\"viewBox=\"0 0 24 24\"\n",
              "       width=\"24px\">\n",
              "    <path d=\"M0 0h24v24H0V0z\" fill=\"none\"/>\n",
              "    <path d=\"M18.56 5.44l.94 2.06.94-2.06 2.06-.94-2.06-.94-.94-2.06-.94 2.06-2.06.94zm-11 1L8.5 8.5l.94-2.06 2.06-.94-2.06-.94L8.5 2.5l-.94 2.06-2.06.94zm10 10l.94 2.06.94-2.06 2.06-.94-2.06-.94-.94-2.06-.94 2.06-2.06.94z\"/><path d=\"M17.41 7.96l-1.37-1.37c-.4-.4-.92-.59-1.43-.59-.52 0-1.04.2-1.43.59L10.3 9.45l-7.72 7.72c-.78.78-.78 2.05 0 2.83L4 21.41c.39.39.9.59 1.41.59.51 0 1.02-.2 1.41-.59l7.78-7.78 2.81-2.81c.8-.78.8-2.07 0-2.86zM5.41 20L4 18.59l7.72-7.72 1.47 1.35L5.41 20z\"/>\n",
              "  </svg>\n",
              "      </button>\n",
              "      \n",
              "  <style>\n",
              "    .colab-df-container {\n",
              "      display:flex;\n",
              "      flex-wrap:wrap;\n",
              "      gap: 12px;\n",
              "    }\n",
              "\n",
              "    .colab-df-convert {\n",
              "      background-color: #E8F0FE;\n",
              "      border: none;\n",
              "      border-radius: 50%;\n",
              "      cursor: pointer;\n",
              "      display: none;\n",
              "      fill: #1967D2;\n",
              "      height: 32px;\n",
              "      padding: 0 0 0 0;\n",
              "      width: 32px;\n",
              "    }\n",
              "\n",
              "    .colab-df-convert:hover {\n",
              "      background-color: #E2EBFA;\n",
              "      box-shadow: 0px 1px 2px rgba(60, 64, 67, 0.3), 0px 1px 3px 1px rgba(60, 64, 67, 0.15);\n",
              "      fill: #174EA6;\n",
              "    }\n",
              "\n",
              "    [theme=dark] .colab-df-convert {\n",
              "      background-color: #3B4455;\n",
              "      fill: #D2E3FC;\n",
              "    }\n",
              "\n",
              "    [theme=dark] .colab-df-convert:hover {\n",
              "      background-color: #434B5C;\n",
              "      box-shadow: 0px 1px 3px 1px rgba(0, 0, 0, 0.15);\n",
              "      filter: drop-shadow(0px 1px 2px rgba(0, 0, 0, 0.3));\n",
              "      fill: #FFFFFF;\n",
              "    }\n",
              "  </style>\n",
              "\n",
              "      <script>\n",
              "        const buttonEl =\n",
              "          document.querySelector('#df-026973d1-b679-42cd-9329-7d160592f97d button.colab-df-convert');\n",
              "        buttonEl.style.display =\n",
              "          google.colab.kernel.accessAllowed ? 'block' : 'none';\n",
              "\n",
              "        async function convertToInteractive(key) {\n",
              "          const element = document.querySelector('#df-026973d1-b679-42cd-9329-7d160592f97d');\n",
              "          const dataTable =\n",
              "            await google.colab.kernel.invokeFunction('convertToInteractive',\n",
              "                                                     [key], {});\n",
              "          if (!dataTable) return;\n",
              "\n",
              "          const docLinkHtml = 'Like what you see? Visit the ' +\n",
              "            '<a target=\"_blank\" href=https://colab.research.google.com/notebooks/data_table.ipynb>data table notebook</a>'\n",
              "            + ' to learn more about interactive tables.';\n",
              "          element.innerHTML = '';\n",
              "          dataTable['output_type'] = 'display_data';\n",
              "          await google.colab.output.renderOutput(dataTable, element);\n",
              "          const docLink = document.createElement('div');\n",
              "          docLink.innerHTML = docLinkHtml;\n",
              "          element.appendChild(docLink);\n",
              "        }\n",
              "      </script>\n",
              "    </div>\n",
              "  </div>\n",
              "  "
            ],
            "text/plain": [
              "  market_name  amount\n",
              "0        A101     184\n",
              "1         ŞOK     188\n",
              "2      Migros     195\n",
              "3         BIM     186"
            ]
          },
          "metadata": {},
          "execution_count": 29
        }
      ],
      "source": [
        "df2 = pd.DataFrame([(\"A101\", 184),\n",
        "                    (\"ŞOK\", 188),\n",
        "                    (\"Migros\", 195),\n",
        "                    (\"BIM\", 186)],\n",
        "            columns = (\"market_name\",\"amount\")\n",
        "                  )\n",
        "df2"
      ]
    },
    {
      "cell_type": "code",
      "execution_count": null,
      "id": "44e64224",
      "metadata": {
        "colab": {
          "base_uri": "https://localhost:8080/",
          "height": 174
        },
        "id": "44e64224",
        "outputId": "0cc23a62-621a-4588-84dd-bea163a4dec7"
      },
      "outputs": [
        {
          "output_type": "execute_result",
          "data": {
            "text/html": [
              "\n",
              "  <div id=\"df-f4e7f2d4-4db4-4e87-b03e-5a3bffa6ec07\">\n",
              "    <div class=\"colab-df-container\">\n",
              "      <div>\n",
              "<style scoped>\n",
              "    .dataframe tbody tr th:only-of-type {\n",
              "        vertical-align: middle;\n",
              "    }\n",
              "\n",
              "    .dataframe tbody tr th {\n",
              "        vertical-align: top;\n",
              "    }\n",
              "\n",
              "    .dataframe thead th {\n",
              "        text-align: right;\n",
              "    }\n",
              "</style>\n",
              "<table border=\"1\" class=\"dataframe\">\n",
              "  <thead>\n",
              "    <tr style=\"text-align: right;\">\n",
              "      <th></th>\n",
              "      <th>amount</th>\n",
              "      <th>market_name_A101</th>\n",
              "      <th>market_name_BIM</th>\n",
              "      <th>market_name_Migros</th>\n",
              "      <th>market_name_ŞOK</th>\n",
              "    </tr>\n",
              "  </thead>\n",
              "  <tbody>\n",
              "    <tr>\n",
              "      <th>0</th>\n",
              "      <td>184</td>\n",
              "      <td>1</td>\n",
              "      <td>0</td>\n",
              "      <td>0</td>\n",
              "      <td>0</td>\n",
              "    </tr>\n",
              "    <tr>\n",
              "      <th>1</th>\n",
              "      <td>188</td>\n",
              "      <td>0</td>\n",
              "      <td>0</td>\n",
              "      <td>0</td>\n",
              "      <td>1</td>\n",
              "    </tr>\n",
              "    <tr>\n",
              "      <th>2</th>\n",
              "      <td>195</td>\n",
              "      <td>0</td>\n",
              "      <td>0</td>\n",
              "      <td>1</td>\n",
              "      <td>0</td>\n",
              "    </tr>\n",
              "    <tr>\n",
              "      <th>3</th>\n",
              "      <td>186</td>\n",
              "      <td>0</td>\n",
              "      <td>1</td>\n",
              "      <td>0</td>\n",
              "      <td>0</td>\n",
              "    </tr>\n",
              "  </tbody>\n",
              "</table>\n",
              "</div>\n",
              "      <button class=\"colab-df-convert\" onclick=\"convertToInteractive('df-f4e7f2d4-4db4-4e87-b03e-5a3bffa6ec07')\"\n",
              "              title=\"Convert this dataframe to an interactive table.\"\n",
              "              style=\"display:none;\">\n",
              "        \n",
              "  <svg xmlns=\"http://www.w3.org/2000/svg\" height=\"24px\"viewBox=\"0 0 24 24\"\n",
              "       width=\"24px\">\n",
              "    <path d=\"M0 0h24v24H0V0z\" fill=\"none\"/>\n",
              "    <path d=\"M18.56 5.44l.94 2.06.94-2.06 2.06-.94-2.06-.94-.94-2.06-.94 2.06-2.06.94zm-11 1L8.5 8.5l.94-2.06 2.06-.94-2.06-.94L8.5 2.5l-.94 2.06-2.06.94zm10 10l.94 2.06.94-2.06 2.06-.94-2.06-.94-.94-2.06-.94 2.06-2.06.94z\"/><path d=\"M17.41 7.96l-1.37-1.37c-.4-.4-.92-.59-1.43-.59-.52 0-1.04.2-1.43.59L10.3 9.45l-7.72 7.72c-.78.78-.78 2.05 0 2.83L4 21.41c.39.39.9.59 1.41.59.51 0 1.02-.2 1.41-.59l7.78-7.78 2.81-2.81c.8-.78.8-2.07 0-2.86zM5.41 20L4 18.59l7.72-7.72 1.47 1.35L5.41 20z\"/>\n",
              "  </svg>\n",
              "      </button>\n",
              "      \n",
              "  <style>\n",
              "    .colab-df-container {\n",
              "      display:flex;\n",
              "      flex-wrap:wrap;\n",
              "      gap: 12px;\n",
              "    }\n",
              "\n",
              "    .colab-df-convert {\n",
              "      background-color: #E8F0FE;\n",
              "      border: none;\n",
              "      border-radius: 50%;\n",
              "      cursor: pointer;\n",
              "      display: none;\n",
              "      fill: #1967D2;\n",
              "      height: 32px;\n",
              "      padding: 0 0 0 0;\n",
              "      width: 32px;\n",
              "    }\n",
              "\n",
              "    .colab-df-convert:hover {\n",
              "      background-color: #E2EBFA;\n",
              "      box-shadow: 0px 1px 2px rgba(60, 64, 67, 0.3), 0px 1px 3px 1px rgba(60, 64, 67, 0.15);\n",
              "      fill: #174EA6;\n",
              "    }\n",
              "\n",
              "    [theme=dark] .colab-df-convert {\n",
              "      background-color: #3B4455;\n",
              "      fill: #D2E3FC;\n",
              "    }\n",
              "\n",
              "    [theme=dark] .colab-df-convert:hover {\n",
              "      background-color: #434B5C;\n",
              "      box-shadow: 0px 1px 3px 1px rgba(0, 0, 0, 0.15);\n",
              "      filter: drop-shadow(0px 1px 2px rgba(0, 0, 0, 0.3));\n",
              "      fill: #FFFFFF;\n",
              "    }\n",
              "  </style>\n",
              "\n",
              "      <script>\n",
              "        const buttonEl =\n",
              "          document.querySelector('#df-f4e7f2d4-4db4-4e87-b03e-5a3bffa6ec07 button.colab-df-convert');\n",
              "        buttonEl.style.display =\n",
              "          google.colab.kernel.accessAllowed ? 'block' : 'none';\n",
              "\n",
              "        async function convertToInteractive(key) {\n",
              "          const element = document.querySelector('#df-f4e7f2d4-4db4-4e87-b03e-5a3bffa6ec07');\n",
              "          const dataTable =\n",
              "            await google.colab.kernel.invokeFunction('convertToInteractive',\n",
              "                                                     [key], {});\n",
              "          if (!dataTable) return;\n",
              "\n",
              "          const docLinkHtml = 'Like what you see? Visit the ' +\n",
              "            '<a target=\"_blank\" href=https://colab.research.google.com/notebooks/data_table.ipynb>data table notebook</a>'\n",
              "            + ' to learn more about interactive tables.';\n",
              "          element.innerHTML = '';\n",
              "          dataTable['output_type'] = 'display_data';\n",
              "          await google.colab.output.renderOutput(dataTable, element);\n",
              "          const docLink = document.createElement('div');\n",
              "          docLink.innerHTML = docLinkHtml;\n",
              "          element.appendChild(docLink);\n",
              "        }\n",
              "      </script>\n",
              "    </div>\n",
              "  </div>\n",
              "  "
            ],
            "text/plain": [
              "   amount  market_name_A101  ...  market_name_Migros  market_name_ŞOK\n",
              "0     184                 1  ...                   0                0\n",
              "1     188                 0  ...                   0                1\n",
              "2     195                 0  ...                   1                0\n",
              "3     186                 0  ...                   0                0\n",
              "\n",
              "[4 rows x 5 columns]"
            ]
          },
          "metadata": {},
          "execution_count": 30
        }
      ],
      "source": [
        "pd.get_dummies(df2, columns = [\"market_name\"])"
      ]
    },
    {
      "cell_type": "code",
      "execution_count": null,
      "id": "f22201bc",
      "metadata": {
        "id": "f22201bc",
        "outputId": "f4f42701-f722-4766-f601-061df02c3d9a"
      },
      "outputs": [
        {
          "data": {
            "text/html": [
              "<div>\n",
              "<style scoped>\n",
              "    .dataframe tbody tr th:only-of-type {\n",
              "        vertical-align: middle;\n",
              "    }\n",
              "\n",
              "    .dataframe tbody tr th {\n",
              "        vertical-align: top;\n",
              "    }\n",
              "\n",
              "    .dataframe thead th {\n",
              "        text-align: right;\n",
              "    }\n",
              "</style>\n",
              "<table border=\"1\" class=\"dataframe\">\n",
              "  <thead>\n",
              "    <tr style=\"text-align: right;\">\n",
              "      <th></th>\n",
              "      <th>amount</th>\n",
              "      <th>Bakkal_A101</th>\n",
              "      <th>Bakkal_BIM</th>\n",
              "      <th>Bakkal_Migros</th>\n",
              "      <th>Bakkal_ŞOK</th>\n",
              "    </tr>\n",
              "  </thead>\n",
              "  <tbody>\n",
              "    <tr>\n",
              "      <th>0</th>\n",
              "      <td>184</td>\n",
              "      <td>1</td>\n",
              "      <td>0</td>\n",
              "      <td>0</td>\n",
              "      <td>0</td>\n",
              "    </tr>\n",
              "    <tr>\n",
              "      <th>1</th>\n",
              "      <td>188</td>\n",
              "      <td>0</td>\n",
              "      <td>0</td>\n",
              "      <td>0</td>\n",
              "      <td>1</td>\n",
              "    </tr>\n",
              "    <tr>\n",
              "      <th>2</th>\n",
              "      <td>195</td>\n",
              "      <td>0</td>\n",
              "      <td>0</td>\n",
              "      <td>1</td>\n",
              "      <td>0</td>\n",
              "    </tr>\n",
              "    <tr>\n",
              "      <th>3</th>\n",
              "      <td>186</td>\n",
              "      <td>0</td>\n",
              "      <td>1</td>\n",
              "      <td>0</td>\n",
              "      <td>0</td>\n",
              "    </tr>\n",
              "  </tbody>\n",
              "</table>\n",
              "</div>"
            ],
            "text/plain": [
              "   amount  Bakkal_A101  Bakkal_BIM  Bakkal_Migros  Bakkal_ŞOK\n",
              "0     184            1           0              0           0\n",
              "1     188            0           0              0           1\n",
              "2     195            0           0              1           0\n",
              "3     186            0           1              0           0"
            ]
          },
          "execution_count": 213,
          "metadata": {},
          "output_type": "execute_result"
        }
      ],
      "source": [
        "pd.get_dummies(df2, columns = [\"market_name\"], prefix = \"Bakkal\")"
      ]
    },
    {
      "cell_type": "code",
      "execution_count": null,
      "id": "54de3ff0",
      "metadata": {
        "colab": {
          "base_uri": "https://localhost:8080/",
          "height": 174
        },
        "id": "54de3ff0",
        "outputId": "d4cf4916-2bdd-47a5-dfb4-dec45cda8a74"
      },
      "outputs": [
        {
          "output_type": "execute_result",
          "data": {
            "text/html": [
              "\n",
              "  <div id=\"df-85cba1fa-7ff0-4fb9-af44-8051760f4e0c\">\n",
              "    <div class=\"colab-df-container\">\n",
              "      <div>\n",
              "<style scoped>\n",
              "    .dataframe tbody tr th:only-of-type {\n",
              "        vertical-align: middle;\n",
              "    }\n",
              "\n",
              "    .dataframe tbody tr th {\n",
              "        vertical-align: top;\n",
              "    }\n",
              "\n",
              "    .dataframe thead th {\n",
              "        text-align: right;\n",
              "    }\n",
              "</style>\n",
              "<table border=\"1\" class=\"dataframe\">\n",
              "  <thead>\n",
              "    <tr style=\"text-align: right;\">\n",
              "      <th></th>\n",
              "      <th>market_name</th>\n",
              "      <th>amount</th>\n",
              "    </tr>\n",
              "  </thead>\n",
              "  <tbody>\n",
              "    <tr>\n",
              "      <th>0</th>\n",
              "      <td>A101</td>\n",
              "      <td>184</td>\n",
              "    </tr>\n",
              "    <tr>\n",
              "      <th>1</th>\n",
              "      <td>ŞOK</td>\n",
              "      <td>188</td>\n",
              "    </tr>\n",
              "    <tr>\n",
              "      <th>2</th>\n",
              "      <td>Migros</td>\n",
              "      <td>195</td>\n",
              "    </tr>\n",
              "    <tr>\n",
              "      <th>3</th>\n",
              "      <td>Migros</td>\n",
              "      <td>186</td>\n",
              "    </tr>\n",
              "  </tbody>\n",
              "</table>\n",
              "</div>\n",
              "      <button class=\"colab-df-convert\" onclick=\"convertToInteractive('df-85cba1fa-7ff0-4fb9-af44-8051760f4e0c')\"\n",
              "              title=\"Convert this dataframe to an interactive table.\"\n",
              "              style=\"display:none;\">\n",
              "        \n",
              "  <svg xmlns=\"http://www.w3.org/2000/svg\" height=\"24px\"viewBox=\"0 0 24 24\"\n",
              "       width=\"24px\">\n",
              "    <path d=\"M0 0h24v24H0V0z\" fill=\"none\"/>\n",
              "    <path d=\"M18.56 5.44l.94 2.06.94-2.06 2.06-.94-2.06-.94-.94-2.06-.94 2.06-2.06.94zm-11 1L8.5 8.5l.94-2.06 2.06-.94-2.06-.94L8.5 2.5l-.94 2.06-2.06.94zm10 10l.94 2.06.94-2.06 2.06-.94-2.06-.94-.94-2.06-.94 2.06-2.06.94z\"/><path d=\"M17.41 7.96l-1.37-1.37c-.4-.4-.92-.59-1.43-.59-.52 0-1.04.2-1.43.59L10.3 9.45l-7.72 7.72c-.78.78-.78 2.05 0 2.83L4 21.41c.39.39.9.59 1.41.59.51 0 1.02-.2 1.41-.59l7.78-7.78 2.81-2.81c.8-.78.8-2.07 0-2.86zM5.41 20L4 18.59l7.72-7.72 1.47 1.35L5.41 20z\"/>\n",
              "  </svg>\n",
              "      </button>\n",
              "      \n",
              "  <style>\n",
              "    .colab-df-container {\n",
              "      display:flex;\n",
              "      flex-wrap:wrap;\n",
              "      gap: 12px;\n",
              "    }\n",
              "\n",
              "    .colab-df-convert {\n",
              "      background-color: #E8F0FE;\n",
              "      border: none;\n",
              "      border-radius: 50%;\n",
              "      cursor: pointer;\n",
              "      display: none;\n",
              "      fill: #1967D2;\n",
              "      height: 32px;\n",
              "      padding: 0 0 0 0;\n",
              "      width: 32px;\n",
              "    }\n",
              "\n",
              "    .colab-df-convert:hover {\n",
              "      background-color: #E2EBFA;\n",
              "      box-shadow: 0px 1px 2px rgba(60, 64, 67, 0.3), 0px 1px 3px 1px rgba(60, 64, 67, 0.15);\n",
              "      fill: #174EA6;\n",
              "    }\n",
              "\n",
              "    [theme=dark] .colab-df-convert {\n",
              "      background-color: #3B4455;\n",
              "      fill: #D2E3FC;\n",
              "    }\n",
              "\n",
              "    [theme=dark] .colab-df-convert:hover {\n",
              "      background-color: #434B5C;\n",
              "      box-shadow: 0px 1px 3px 1px rgba(0, 0, 0, 0.15);\n",
              "      filter: drop-shadow(0px 1px 2px rgba(0, 0, 0, 0.3));\n",
              "      fill: #FFFFFF;\n",
              "    }\n",
              "  </style>\n",
              "\n",
              "      <script>\n",
              "        const buttonEl =\n",
              "          document.querySelector('#df-85cba1fa-7ff0-4fb9-af44-8051760f4e0c button.colab-df-convert');\n",
              "        buttonEl.style.display =\n",
              "          google.colab.kernel.accessAllowed ? 'block' : 'none';\n",
              "\n",
              "        async function convertToInteractive(key) {\n",
              "          const element = document.querySelector('#df-85cba1fa-7ff0-4fb9-af44-8051760f4e0c');\n",
              "          const dataTable =\n",
              "            await google.colab.kernel.invokeFunction('convertToInteractive',\n",
              "                                                     [key], {});\n",
              "          if (!dataTable) return;\n",
              "\n",
              "          const docLinkHtml = 'Like what you see? Visit the ' +\n",
              "            '<a target=\"_blank\" href=https://colab.research.google.com/notebooks/data_table.ipynb>data table notebook</a>'\n",
              "            + ' to learn more about interactive tables.';\n",
              "          element.innerHTML = '';\n",
              "          dataTable['output_type'] = 'display_data';\n",
              "          await google.colab.output.renderOutput(dataTable, element);\n",
              "          const docLink = document.createElement('div');\n",
              "          docLink.innerHTML = docLinkHtml;\n",
              "          element.appendChild(docLink);\n",
              "        }\n",
              "      </script>\n",
              "    </div>\n",
              "  </div>\n",
              "  "
            ],
            "text/plain": [
              "  market_name  amount\n",
              "0        A101     184\n",
              "1         ŞOK     188\n",
              "2      Migros     195\n",
              "3      Migros     186"
            ]
          },
          "metadata": {},
          "execution_count": 33
        }
      ],
      "source": [
        "df2 = pd.DataFrame([(\"A101\", 184),\n",
        "                    (\"ŞOK\", 188),\n",
        "                    (\"Migros\", 195),\n",
        "                    (\"Migros\", 186)],\n",
        "            columns = (\"market_name\",\"amount\")\n",
        "                  )\n",
        "df2"
      ]
    },
    {
      "cell_type": "code",
      "execution_count": null,
      "id": "02fdba2e",
      "metadata": {
        "scrolled": true,
        "colab": {
          "base_uri": "https://localhost:8080/",
          "height": 174
        },
        "id": "02fdba2e",
        "outputId": "66a9d552-a0d2-4930-d726-10eb4a374a59"
      },
      "outputs": [
        {
          "output_type": "execute_result",
          "data": {
            "text/html": [
              "\n",
              "  <div id=\"df-f1edb7c1-b7c8-4a0b-b9f9-487bf030ab39\">\n",
              "    <div class=\"colab-df-container\">\n",
              "      <div>\n",
              "<style scoped>\n",
              "    .dataframe tbody tr th:only-of-type {\n",
              "        vertical-align: middle;\n",
              "    }\n",
              "\n",
              "    .dataframe tbody tr th {\n",
              "        vertical-align: top;\n",
              "    }\n",
              "\n",
              "    .dataframe thead th {\n",
              "        text-align: right;\n",
              "    }\n",
              "</style>\n",
              "<table border=\"1\" class=\"dataframe\">\n",
              "  <thead>\n",
              "    <tr style=\"text-align: right;\">\n",
              "      <th></th>\n",
              "      <th>amount</th>\n",
              "      <th>Super_market-*-A101</th>\n",
              "      <th>Super_market-*-Migros</th>\n",
              "      <th>Super_market-*-ŞOK</th>\n",
              "    </tr>\n",
              "  </thead>\n",
              "  <tbody>\n",
              "    <tr>\n",
              "      <th>0</th>\n",
              "      <td>184</td>\n",
              "      <td>1</td>\n",
              "      <td>0</td>\n",
              "      <td>0</td>\n",
              "    </tr>\n",
              "    <tr>\n",
              "      <th>1</th>\n",
              "      <td>188</td>\n",
              "      <td>0</td>\n",
              "      <td>0</td>\n",
              "      <td>1</td>\n",
              "    </tr>\n",
              "    <tr>\n",
              "      <th>2</th>\n",
              "      <td>195</td>\n",
              "      <td>0</td>\n",
              "      <td>1</td>\n",
              "      <td>0</td>\n",
              "    </tr>\n",
              "    <tr>\n",
              "      <th>3</th>\n",
              "      <td>186</td>\n",
              "      <td>0</td>\n",
              "      <td>1</td>\n",
              "      <td>0</td>\n",
              "    </tr>\n",
              "  </tbody>\n",
              "</table>\n",
              "</div>\n",
              "      <button class=\"colab-df-convert\" onclick=\"convertToInteractive('df-f1edb7c1-b7c8-4a0b-b9f9-487bf030ab39')\"\n",
              "              title=\"Convert this dataframe to an interactive table.\"\n",
              "              style=\"display:none;\">\n",
              "        \n",
              "  <svg xmlns=\"http://www.w3.org/2000/svg\" height=\"24px\"viewBox=\"0 0 24 24\"\n",
              "       width=\"24px\">\n",
              "    <path d=\"M0 0h24v24H0V0z\" fill=\"none\"/>\n",
              "    <path d=\"M18.56 5.44l.94 2.06.94-2.06 2.06-.94-2.06-.94-.94-2.06-.94 2.06-2.06.94zm-11 1L8.5 8.5l.94-2.06 2.06-.94-2.06-.94L8.5 2.5l-.94 2.06-2.06.94zm10 10l.94 2.06.94-2.06 2.06-.94-2.06-.94-.94-2.06-.94 2.06-2.06.94z\"/><path d=\"M17.41 7.96l-1.37-1.37c-.4-.4-.92-.59-1.43-.59-.52 0-1.04.2-1.43.59L10.3 9.45l-7.72 7.72c-.78.78-.78 2.05 0 2.83L4 21.41c.39.39.9.59 1.41.59.51 0 1.02-.2 1.41-.59l7.78-7.78 2.81-2.81c.8-.78.8-2.07 0-2.86zM5.41 20L4 18.59l7.72-7.72 1.47 1.35L5.41 20z\"/>\n",
              "  </svg>\n",
              "      </button>\n",
              "      \n",
              "  <style>\n",
              "    .colab-df-container {\n",
              "      display:flex;\n",
              "      flex-wrap:wrap;\n",
              "      gap: 12px;\n",
              "    }\n",
              "\n",
              "    .colab-df-convert {\n",
              "      background-color: #E8F0FE;\n",
              "      border: none;\n",
              "      border-radius: 50%;\n",
              "      cursor: pointer;\n",
              "      display: none;\n",
              "      fill: #1967D2;\n",
              "      height: 32px;\n",
              "      padding: 0 0 0 0;\n",
              "      width: 32px;\n",
              "    }\n",
              "\n",
              "    .colab-df-convert:hover {\n",
              "      background-color: #E2EBFA;\n",
              "      box-shadow: 0px 1px 2px rgba(60, 64, 67, 0.3), 0px 1px 3px 1px rgba(60, 64, 67, 0.15);\n",
              "      fill: #174EA6;\n",
              "    }\n",
              "\n",
              "    [theme=dark] .colab-df-convert {\n",
              "      background-color: #3B4455;\n",
              "      fill: #D2E3FC;\n",
              "    }\n",
              "\n",
              "    [theme=dark] .colab-df-convert:hover {\n",
              "      background-color: #434B5C;\n",
              "      box-shadow: 0px 1px 3px 1px rgba(0, 0, 0, 0.15);\n",
              "      filter: drop-shadow(0px 1px 2px rgba(0, 0, 0, 0.3));\n",
              "      fill: #FFFFFF;\n",
              "    }\n",
              "  </style>\n",
              "\n",
              "      <script>\n",
              "        const buttonEl =\n",
              "          document.querySelector('#df-f1edb7c1-b7c8-4a0b-b9f9-487bf030ab39 button.colab-df-convert');\n",
              "        buttonEl.style.display =\n",
              "          google.colab.kernel.accessAllowed ? 'block' : 'none';\n",
              "\n",
              "        async function convertToInteractive(key) {\n",
              "          const element = document.querySelector('#df-f1edb7c1-b7c8-4a0b-b9f9-487bf030ab39');\n",
              "          const dataTable =\n",
              "            await google.colab.kernel.invokeFunction('convertToInteractive',\n",
              "                                                     [key], {});\n",
              "          if (!dataTable) return;\n",
              "\n",
              "          const docLinkHtml = 'Like what you see? Visit the ' +\n",
              "            '<a target=\"_blank\" href=https://colab.research.google.com/notebooks/data_table.ipynb>data table notebook</a>'\n",
              "            + ' to learn more about interactive tables.';\n",
              "          element.innerHTML = '';\n",
              "          dataTable['output_type'] = 'display_data';\n",
              "          await google.colab.output.renderOutput(dataTable, element);\n",
              "          const docLink = document.createElement('div');\n",
              "          docLink.innerHTML = docLinkHtml;\n",
              "          element.appendChild(docLink);\n",
              "        }\n",
              "      </script>\n",
              "    </div>\n",
              "  </div>\n",
              "  "
            ],
            "text/plain": [
              "   amount  Super_market-*-A101  Super_market-*-Migros  Super_market-*-ŞOK\n",
              "0     184                    1                      0                   0\n",
              "1     188                    0                      0                   1\n",
              "2     195                    0                      1                   0\n",
              "3     186                    0                      1                   0"
            ]
          },
          "metadata": {},
          "execution_count": 34
        }
      ],
      "source": [
        "pd.get_dummies(df2, columns = [\"market_name\"], prefix = \"Super_market\", prefix_sep = \"-*-\")"
      ]
    },
    {
      "cell_type": "code",
      "execution_count": null,
      "id": "222ccf8f",
      "metadata": {
        "colab": {
          "base_uri": "https://localhost:8080/",
          "height": 174
        },
        "id": "222ccf8f",
        "outputId": "3b72c31e-fcb9-40b8-9bdf-1c07ffe067f5"
      },
      "outputs": [
        {
          "output_type": "execute_result",
          "data": {
            "text/html": [
              "\n",
              "  <div id=\"df-dfe822a4-608e-43b5-a32e-c8a9fff492b7\">\n",
              "    <div class=\"colab-df-container\">\n",
              "      <div>\n",
              "<style scoped>\n",
              "    .dataframe tbody tr th:only-of-type {\n",
              "        vertical-align: middle;\n",
              "    }\n",
              "\n",
              "    .dataframe tbody tr th {\n",
              "        vertical-align: top;\n",
              "    }\n",
              "\n",
              "    .dataframe thead th {\n",
              "        text-align: right;\n",
              "    }\n",
              "</style>\n",
              "<table border=\"1\" class=\"dataframe\">\n",
              "  <thead>\n",
              "    <tr style=\"text-align: right;\">\n",
              "      <th></th>\n",
              "      <th>market_name</th>\n",
              "      <th>amount</th>\n",
              "    </tr>\n",
              "  </thead>\n",
              "  <tbody>\n",
              "    <tr>\n",
              "      <th>0</th>\n",
              "      <td>A101</td>\n",
              "      <td>184</td>\n",
              "    </tr>\n",
              "    <tr>\n",
              "      <th>1</th>\n",
              "      <td>ŞOK</td>\n",
              "      <td>188</td>\n",
              "    </tr>\n",
              "    <tr>\n",
              "      <th>2</th>\n",
              "      <td>Migros</td>\n",
              "      <td>195</td>\n",
              "    </tr>\n",
              "    <tr>\n",
              "      <th>3</th>\n",
              "      <td>Migros</td>\n",
              "      <td>195</td>\n",
              "    </tr>\n",
              "  </tbody>\n",
              "</table>\n",
              "</div>\n",
              "      <button class=\"colab-df-convert\" onclick=\"convertToInteractive('df-dfe822a4-608e-43b5-a32e-c8a9fff492b7')\"\n",
              "              title=\"Convert this dataframe to an interactive table.\"\n",
              "              style=\"display:none;\">\n",
              "        \n",
              "  <svg xmlns=\"http://www.w3.org/2000/svg\" height=\"24px\"viewBox=\"0 0 24 24\"\n",
              "       width=\"24px\">\n",
              "    <path d=\"M0 0h24v24H0V0z\" fill=\"none\"/>\n",
              "    <path d=\"M18.56 5.44l.94 2.06.94-2.06 2.06-.94-2.06-.94-.94-2.06-.94 2.06-2.06.94zm-11 1L8.5 8.5l.94-2.06 2.06-.94-2.06-.94L8.5 2.5l-.94 2.06-2.06.94zm10 10l.94 2.06.94-2.06 2.06-.94-2.06-.94-.94-2.06-.94 2.06-2.06.94z\"/><path d=\"M17.41 7.96l-1.37-1.37c-.4-.4-.92-.59-1.43-.59-.52 0-1.04.2-1.43.59L10.3 9.45l-7.72 7.72c-.78.78-.78 2.05 0 2.83L4 21.41c.39.39.9.59 1.41.59.51 0 1.02-.2 1.41-.59l7.78-7.78 2.81-2.81c.8-.78.8-2.07 0-2.86zM5.41 20L4 18.59l7.72-7.72 1.47 1.35L5.41 20z\"/>\n",
              "  </svg>\n",
              "      </button>\n",
              "      \n",
              "  <style>\n",
              "    .colab-df-container {\n",
              "      display:flex;\n",
              "      flex-wrap:wrap;\n",
              "      gap: 12px;\n",
              "    }\n",
              "\n",
              "    .colab-df-convert {\n",
              "      background-color: #E8F0FE;\n",
              "      border: none;\n",
              "      border-radius: 50%;\n",
              "      cursor: pointer;\n",
              "      display: none;\n",
              "      fill: #1967D2;\n",
              "      height: 32px;\n",
              "      padding: 0 0 0 0;\n",
              "      width: 32px;\n",
              "    }\n",
              "\n",
              "    .colab-df-convert:hover {\n",
              "      background-color: #E2EBFA;\n",
              "      box-shadow: 0px 1px 2px rgba(60, 64, 67, 0.3), 0px 1px 3px 1px rgba(60, 64, 67, 0.15);\n",
              "      fill: #174EA6;\n",
              "    }\n",
              "\n",
              "    [theme=dark] .colab-df-convert {\n",
              "      background-color: #3B4455;\n",
              "      fill: #D2E3FC;\n",
              "    }\n",
              "\n",
              "    [theme=dark] .colab-df-convert:hover {\n",
              "      background-color: #434B5C;\n",
              "      box-shadow: 0px 1px 3px 1px rgba(0, 0, 0, 0.15);\n",
              "      filter: drop-shadow(0px 1px 2px rgba(0, 0, 0, 0.3));\n",
              "      fill: #FFFFFF;\n",
              "    }\n",
              "  </style>\n",
              "\n",
              "      <script>\n",
              "        const buttonEl =\n",
              "          document.querySelector('#df-dfe822a4-608e-43b5-a32e-c8a9fff492b7 button.colab-df-convert');\n",
              "        buttonEl.style.display =\n",
              "          google.colab.kernel.accessAllowed ? 'block' : 'none';\n",
              "\n",
              "        async function convertToInteractive(key) {\n",
              "          const element = document.querySelector('#df-dfe822a4-608e-43b5-a32e-c8a9fff492b7');\n",
              "          const dataTable =\n",
              "            await google.colab.kernel.invokeFunction('convertToInteractive',\n",
              "                                                     [key], {});\n",
              "          if (!dataTable) return;\n",
              "\n",
              "          const docLinkHtml = 'Like what you see? Visit the ' +\n",
              "            '<a target=\"_blank\" href=https://colab.research.google.com/notebooks/data_table.ipynb>data table notebook</a>'\n",
              "            + ' to learn more about interactive tables.';\n",
              "          element.innerHTML = '';\n",
              "          dataTable['output_type'] = 'display_data';\n",
              "          await google.colab.output.renderOutput(dataTable, element);\n",
              "          const docLink = document.createElement('div');\n",
              "          docLink.innerHTML = docLinkHtml;\n",
              "          element.appendChild(docLink);\n",
              "        }\n",
              "      </script>\n",
              "    </div>\n",
              "  </div>\n",
              "  "
            ],
            "text/plain": [
              "  market_name  amount\n",
              "0        A101     184\n",
              "1         ŞOK     188\n",
              "2      Migros     195\n",
              "3      Migros     195"
            ]
          },
          "metadata": {},
          "execution_count": 35
        }
      ],
      "source": [
        "df2 = pd.DataFrame([(\"A101\", 184),\n",
        "                    (\"ŞOK\", 188),\n",
        "                    (\"Migros\", 195),\n",
        "                    (\"Migros\", 195)],\n",
        "            columns = (\"market_name\",\"amount\")\n",
        "                  )\n",
        "df2"
      ]
    },
    {
      "cell_type": "code",
      "source": [
        "pd.get_dummies(df2, columns = [\"market_name\"], prefix = \"Super_market\", prefix_sep = \"-*-\")"
      ],
      "metadata": {
        "colab": {
          "base_uri": "https://localhost:8080/",
          "height": 174
        },
        "id": "sam9GL798Zxl",
        "outputId": "84238ef2-062f-44a8-a44e-1b6ce3a5da30"
      },
      "id": "sam9GL798Zxl",
      "execution_count": null,
      "outputs": [
        {
          "output_type": "execute_result",
          "data": {
            "text/html": [
              "\n",
              "  <div id=\"df-0af20b63-a6ee-4237-ab58-215bc621bf13\">\n",
              "    <div class=\"colab-df-container\">\n",
              "      <div>\n",
              "<style scoped>\n",
              "    .dataframe tbody tr th:only-of-type {\n",
              "        vertical-align: middle;\n",
              "    }\n",
              "\n",
              "    .dataframe tbody tr th {\n",
              "        vertical-align: top;\n",
              "    }\n",
              "\n",
              "    .dataframe thead th {\n",
              "        text-align: right;\n",
              "    }\n",
              "</style>\n",
              "<table border=\"1\" class=\"dataframe\">\n",
              "  <thead>\n",
              "    <tr style=\"text-align: right;\">\n",
              "      <th></th>\n",
              "      <th>amount</th>\n",
              "      <th>Super_market-*-A101</th>\n",
              "      <th>Super_market-*-Migros</th>\n",
              "      <th>Super_market-*-ŞOK</th>\n",
              "    </tr>\n",
              "  </thead>\n",
              "  <tbody>\n",
              "    <tr>\n",
              "      <th>0</th>\n",
              "      <td>184</td>\n",
              "      <td>1</td>\n",
              "      <td>0</td>\n",
              "      <td>0</td>\n",
              "    </tr>\n",
              "    <tr>\n",
              "      <th>1</th>\n",
              "      <td>188</td>\n",
              "      <td>0</td>\n",
              "      <td>0</td>\n",
              "      <td>1</td>\n",
              "    </tr>\n",
              "    <tr>\n",
              "      <th>2</th>\n",
              "      <td>195</td>\n",
              "      <td>0</td>\n",
              "      <td>1</td>\n",
              "      <td>0</td>\n",
              "    </tr>\n",
              "    <tr>\n",
              "      <th>3</th>\n",
              "      <td>195</td>\n",
              "      <td>0</td>\n",
              "      <td>1</td>\n",
              "      <td>0</td>\n",
              "    </tr>\n",
              "  </tbody>\n",
              "</table>\n",
              "</div>\n",
              "      <button class=\"colab-df-convert\" onclick=\"convertToInteractive('df-0af20b63-a6ee-4237-ab58-215bc621bf13')\"\n",
              "              title=\"Convert this dataframe to an interactive table.\"\n",
              "              style=\"display:none;\">\n",
              "        \n",
              "  <svg xmlns=\"http://www.w3.org/2000/svg\" height=\"24px\"viewBox=\"0 0 24 24\"\n",
              "       width=\"24px\">\n",
              "    <path d=\"M0 0h24v24H0V0z\" fill=\"none\"/>\n",
              "    <path d=\"M18.56 5.44l.94 2.06.94-2.06 2.06-.94-2.06-.94-.94-2.06-.94 2.06-2.06.94zm-11 1L8.5 8.5l.94-2.06 2.06-.94-2.06-.94L8.5 2.5l-.94 2.06-2.06.94zm10 10l.94 2.06.94-2.06 2.06-.94-2.06-.94-.94-2.06-.94 2.06-2.06.94z\"/><path d=\"M17.41 7.96l-1.37-1.37c-.4-.4-.92-.59-1.43-.59-.52 0-1.04.2-1.43.59L10.3 9.45l-7.72 7.72c-.78.78-.78 2.05 0 2.83L4 21.41c.39.39.9.59 1.41.59.51 0 1.02-.2 1.41-.59l7.78-7.78 2.81-2.81c.8-.78.8-2.07 0-2.86zM5.41 20L4 18.59l7.72-7.72 1.47 1.35L5.41 20z\"/>\n",
              "  </svg>\n",
              "      </button>\n",
              "      \n",
              "  <style>\n",
              "    .colab-df-container {\n",
              "      display:flex;\n",
              "      flex-wrap:wrap;\n",
              "      gap: 12px;\n",
              "    }\n",
              "\n",
              "    .colab-df-convert {\n",
              "      background-color: #E8F0FE;\n",
              "      border: none;\n",
              "      border-radius: 50%;\n",
              "      cursor: pointer;\n",
              "      display: none;\n",
              "      fill: #1967D2;\n",
              "      height: 32px;\n",
              "      padding: 0 0 0 0;\n",
              "      width: 32px;\n",
              "    }\n",
              "\n",
              "    .colab-df-convert:hover {\n",
              "      background-color: #E2EBFA;\n",
              "      box-shadow: 0px 1px 2px rgba(60, 64, 67, 0.3), 0px 1px 3px 1px rgba(60, 64, 67, 0.15);\n",
              "      fill: #174EA6;\n",
              "    }\n",
              "\n",
              "    [theme=dark] .colab-df-convert {\n",
              "      background-color: #3B4455;\n",
              "      fill: #D2E3FC;\n",
              "    }\n",
              "\n",
              "    [theme=dark] .colab-df-convert:hover {\n",
              "      background-color: #434B5C;\n",
              "      box-shadow: 0px 1px 3px 1px rgba(0, 0, 0, 0.15);\n",
              "      filter: drop-shadow(0px 1px 2px rgba(0, 0, 0, 0.3));\n",
              "      fill: #FFFFFF;\n",
              "    }\n",
              "  </style>\n",
              "\n",
              "      <script>\n",
              "        const buttonEl =\n",
              "          document.querySelector('#df-0af20b63-a6ee-4237-ab58-215bc621bf13 button.colab-df-convert');\n",
              "        buttonEl.style.display =\n",
              "          google.colab.kernel.accessAllowed ? 'block' : 'none';\n",
              "\n",
              "        async function convertToInteractive(key) {\n",
              "          const element = document.querySelector('#df-0af20b63-a6ee-4237-ab58-215bc621bf13');\n",
              "          const dataTable =\n",
              "            await google.colab.kernel.invokeFunction('convertToInteractive',\n",
              "                                                     [key], {});\n",
              "          if (!dataTable) return;\n",
              "\n",
              "          const docLinkHtml = 'Like what you see? Visit the ' +\n",
              "            '<a target=\"_blank\" href=https://colab.research.google.com/notebooks/data_table.ipynb>data table notebook</a>'\n",
              "            + ' to learn more about interactive tables.';\n",
              "          element.innerHTML = '';\n",
              "          dataTable['output_type'] = 'display_data';\n",
              "          await google.colab.output.renderOutput(dataTable, element);\n",
              "          const docLink = document.createElement('div');\n",
              "          docLink.innerHTML = docLinkHtml;\n",
              "          element.appendChild(docLink);\n",
              "        }\n",
              "      </script>\n",
              "    </div>\n",
              "  </div>\n",
              "  "
            ],
            "text/plain": [
              "   amount  Super_market-*-A101  Super_market-*-Migros  Super_market-*-ŞOK\n",
              "0     184                    1                      0                   0\n",
              "1     188                    0                      0                   1\n",
              "2     195                    0                      1                   0\n",
              "3     195                    0                      1                   0"
            ]
          },
          "metadata": {},
          "execution_count": 36
        }
      ]
    },
    {
      "cell_type": "code",
      "source": [
        ""
      ],
      "metadata": {
        "id": "iGG4uOsD8Z0W"
      },
      "id": "iGG4uOsD8Z0W",
      "execution_count": null,
      "outputs": []
    }
  ],
  "metadata": {
    "kernelspec": {
      "display_name": "Python 3 (ipykernel)",
      "language": "python",
      "name": "python3"
    },
    "language_info": {
      "codemirror_mode": {
        "name": "ipython",
        "version": 3
      },
      "file_extension": ".py",
      "mimetype": "text/x-python",
      "name": "python",
      "nbconvert_exporter": "python",
      "pygments_lexer": "ipython3",
      "version": "3.9.7"
    },
    "colab": {
      "name": "text-datetime.ipynb",
      "provenance": [],
      "collapsed_sections": [],
      "include_colab_link": true
    }
  },
  "nbformat": 4,
  "nbformat_minor": 5
}