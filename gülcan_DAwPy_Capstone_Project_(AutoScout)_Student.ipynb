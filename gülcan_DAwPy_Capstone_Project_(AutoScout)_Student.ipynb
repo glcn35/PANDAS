{
  "cells": [
    {
      "cell_type": "markdown",
      "metadata": {
        "id": "view-in-github",
        "colab_type": "text"
      },
      "source": [
        "<a href=\"https://colab.research.google.com/github/glcn35/PANDAS/blob/main/g%C3%BClcan_DAwPy_Capstone_Project_(AutoScout)_Student.ipynb\" target=\"_parent\"><img src=\"https://colab.research.google.com/assets/colab-badge.svg\" alt=\"Open In Colab\"/></a>"
      ]
    },
    {
      "cell_type": "markdown",
      "metadata": {
        "id": "Zs4XuRyQ4a1o"
      },
      "source": [
        "___\n",
        "\n",
        "<p style=\"text-align: center;\"><img src=\"https://docs.google.com/uc?id=1lY0Uj5R04yMY3-ZppPWxqCr5pvBLYPnV\" class=\"img-fluid\" \n",
        "alt=\"CLRSWY\"></p>\n",
        "\n",
        "## <p style=\"background-color:#FDFEFE; font-family:newtimeroman; color:#9d4f8c; font-size:100%; text-align:center; border-radius:10px 10px;\">WAY TO REINVENT YOURSELF</p>"
      ]
    },
    {
      "cell_type": "markdown",
      "metadata": {
        "id": "mkki0i-h4a1u"
      },
      "source": [
        "<img src=https://i.ibb.co/wJW61Y2/Used-cars.jpg width=\"700\" height=\"200\">\n",
        "\n",
        "## <p style=\"background-color:#FDFEFE; font-family:newtimeroman; color:#060108; font-size:200%; text-align:center; border-radius:10px 10px;\">The Capstone Project of Data Analytics Module</p>\n",
        "\n",
        "## <p style=\"background-color:#FDFEFE; font-family:newtimeroman; color:#060108; font-size:150%; text-align:center; border-radius:10px 10px;\">Car Price Prediction EDA</p>"
      ]
    },
    {
      "cell_type": "markdown",
      "metadata": {
        "id": "yWPLqXWk4a1w"
      },
      "source": [
        "# WELCOME!"
      ]
    },
    {
      "cell_type": "markdown",
      "metadata": {
        "id": "Q5g4_FRB4a1w"
      },
      "source": [
        "## Introduction\n",
        "Welcome to \"***AutoScout Data Analysis Project***\". This is the capstone project of ***Data Analysis*** Module. **Auto Scout** data which using for this project, scraped from the on-line car trading company in 2019, contains many features of 9 different car models. In this project, you will have the opportunity to apply many commonly used algorithms for Data Cleaning and Exploratory Data Analysis by using many Python libraries such as Numpy, Pandas, Matplotlib, Seaborn, Scipy you will analyze clean dataset.\n",
        "\n",
        "The project consists of 3 parts:\n",
        "* First part is related with 'data cleaning'. It deals with Incorrect Headers, Incorrect Format, Anomalies, Dropping useless columns.\n",
        "* Second part is related with 'filling data'. It deals with Missing Values. Categorical to numeric transformation is done.\n",
        "* Third part is related with 'handling outliers of data' via Visualisation libraries. Some insights are extracted.\n"
      ]
    },
    {
      "cell_type": "markdown",
      "metadata": {
        "id": "F15hgTnA4a1y"
      },
      "source": [
        "# PART- 1 `( Data Cleaning )`"
      ]
    },
    {
      "cell_type": "code",
      "source": [
        "import numpy as np\n",
        "import pandas as pd\n",
        "import re\n",
        "import seaborn as sns"
      ],
      "metadata": {
        "id": "yHdimDZm4iW4"
      },
      "execution_count": null,
      "outputs": []
    },
    {
      "cell_type": "code",
      "source": [
        "from google.colab import drive\n",
        "drive.mount('/content/drive')"
      ],
      "metadata": {
        "colab": {
          "base_uri": "https://localhost:8080/"
        },
        "id": "jCZZAxWw4iUe",
        "outputId": "565d2593-3336-4523-ea0c-8475c19a33c7"
      },
      "execution_count": null,
      "outputs": [
        {
          "output_type": "stream",
          "name": "stdout",
          "text": [
            "Mounted at /content/drive\n"
          ]
        }
      ]
    },
    {
      "cell_type": "code",
      "source": [
        "scout_car = pd.read_json (\"/content/drive/MyDrive/scout_car.json\", lines = True)"
      ],
      "metadata": {
        "id": "-1H4D-6s4iRe"
      },
      "execution_count": null,
      "outputs": []
    },
    {
      "cell_type": "code",
      "source": [
        "df = scout_car.copy()"
      ],
      "metadata": {
        "id": "pL-oYims4iK3"
      },
      "execution_count": null,
      "outputs": []
    },
    {
      "cell_type": "markdown",
      "source": [
        "#  1.prev_owner"
      ],
      "metadata": {
        "id": "idgqmAsBTMXG"
      }
    },
    {
      "cell_type": "code",
      "source": [
        "df.prev_owner.value_counts(dropna=False)"
      ],
      "metadata": {
        "id": "W53jutxgXeCT",
        "colab": {
          "base_uri": "https://localhost:8080/"
        },
        "outputId": "84356e18-7434-4a52-e1c3-48a908d81d0c"
      },
      "execution_count": null,
      "outputs": [
        {
          "output_type": "execute_result",
          "data": {
            "text/plain": [
              "1 previous owner     8294\n",
              "NaN                  6828\n",
              "2 previous owners     778\n",
              "3 previous owners      17\n",
              "4 previous owners       2\n",
              "Name: prev_owner, dtype: int64"
            ]
          },
          "metadata": {},
          "execution_count": 6
        }
      ]
    },
    {
      "cell_type": "code",
      "source": [
        "df.prev_owner=df.prev_owner.str.extract(\"(\\d)\")\n",
        "df.prev_owner"
      ],
      "metadata": {
        "id": "uQ1wU9rmbgRr",
        "colab": {
          "base_uri": "https://localhost:8080/"
        },
        "outputId": "6b0a1ad4-0feb-4e67-e7ed-2763d8967424"
      },
      "execution_count": null,
      "outputs": [
        {
          "output_type": "execute_result",
          "data": {
            "text/plain": [
              "0          2\n",
              "1        NaN\n",
              "2          1\n",
              "3          1\n",
              "4          1\n",
              "        ... \n",
              "15914    NaN\n",
              "15915      1\n",
              "15916      1\n",
              "15917    NaN\n",
              "15918      1\n",
              "Name: prev_owner, Length: 15919, dtype: object"
            ]
          },
          "metadata": {},
          "execution_count": 7
        }
      ]
    },
    {
      "cell_type": "code",
      "source": [
        "df.prev_owner.value_counts(dropna=False)"
      ],
      "metadata": {
        "colab": {
          "base_uri": "https://localhost:8080/"
        },
        "id": "1E6avwmOP0aE",
        "outputId": "b416b171-35d4-4337-ac5f-bb54dbc8f7ef"
      },
      "execution_count": null,
      "outputs": [
        {
          "output_type": "execute_result",
          "data": {
            "text/plain": [
              "1      8294\n",
              "NaN    6828\n",
              "2       778\n",
              "3        17\n",
              "4         2\n",
              "Name: prev_owner, dtype: int64"
            ]
          },
          "metadata": {},
          "execution_count": 9
        }
      ]
    },
    {
      "cell_type": "markdown",
      "source": [
        "#2.Previous Owners "
      ],
      "metadata": {
        "id": "wxFMC6lWP5rQ"
      }
    },
    {
      "cell_type": "code",
      "source": [
        "df[\"Previous Owners\"]"
      ],
      "metadata": {
        "colab": {
          "base_uri": "https://localhost:8080/"
        },
        "id": "mhoXXik5wjPd",
        "outputId": "6ad6f804-fe97-42ed-a066-fc735a407a88"
      },
      "execution_count": null,
      "outputs": [
        {
          "output_type": "execute_result",
          "data": {
            "text/plain": [
              "0                                                    \\n2\\n\n",
              "1                                                      NaN\n",
              "2                                                    \\n1\\n\n",
              "3                                                    \\n1\\n\n",
              "4                                                    \\n1\\n\n",
              "                               ...                        \n",
              "15914                                                  NaN\n",
              "15915    [\\n1\\n, \\n, 7.4 l/100 km (comb), \\n, 9.2 l/100...\n",
              "15916                     [\\n1\\n, \\n139 g CO2/km (comb)\\n]\n",
              "15917                                                  NaN\n",
              "15918                                                \\n1\\n\n",
              "Name: Previous Owners, Length: 15919, dtype: object"
            ]
          },
          "metadata": {},
          "execution_count": 10
        }
      ]
    },
    {
      "cell_type": "code",
      "source": [
        "df[\"Previous Owners\"]=[item[0] if type(item)==list else item for item in df[\"Previous Owners\"]]\n",
        "df[\"Previous Owners\"]"
      ],
      "metadata": {
        "colab": {
          "base_uri": "https://localhost:8080/"
        },
        "id": "N9JeKpaWYp-b",
        "outputId": "683cc042-3323-4f22-f866-2add7b7d5a4b"
      },
      "execution_count": null,
      "outputs": [
        {
          "output_type": "execute_result",
          "data": {
            "text/plain": [
              "0        \\n2\\n\n",
              "1          NaN\n",
              "2        \\n1\\n\n",
              "3        \\n1\\n\n",
              "4        \\n1\\n\n",
              "         ...  \n",
              "15914      NaN\n",
              "15915    \\n1\\n\n",
              "15916    \\n1\\n\n",
              "15917      NaN\n",
              "15918    \\n1\\n\n",
              "Name: Previous Owners, Length: 15919, dtype: object"
            ]
          },
          "metadata": {},
          "execution_count": 11
        }
      ]
    },
    {
      "cell_type": "code",
      "source": [
        "df[\"Previous Owners\"]=df[\"Previous Owners\"].str.extract(\"(\\d)\")\n",
        "df[\"Previous Owners\"]"
      ],
      "metadata": {
        "colab": {
          "base_uri": "https://localhost:8080/"
        },
        "id": "iQIcnkPVU8S9",
        "outputId": "425fe92f-9d55-4a18-d4ef-2232d9666107"
      },
      "execution_count": null,
      "outputs": [
        {
          "output_type": "execute_result",
          "data": {
            "text/plain": [
              "0          2\n",
              "1        NaN\n",
              "2          1\n",
              "3          1\n",
              "4          1\n",
              "        ... \n",
              "15914    NaN\n",
              "15915      1\n",
              "15916      1\n",
              "15917    NaN\n",
              "15918      1\n",
              "Name: Previous Owners, Length: 15919, dtype: object"
            ]
          },
          "metadata": {},
          "execution_count": 12
        }
      ]
    },
    {
      "cell_type": "code",
      "source": [
        "df[\"Previous Owners\"].value_counts(dropna=False)"
      ],
      "metadata": {
        "colab": {
          "base_uri": "https://localhost:8080/"
        },
        "id": "osDLMv2Ar-ON",
        "outputId": "9ee42ddb-bc3b-428a-d611-0161e036bc63"
      },
      "execution_count": null,
      "outputs": [
        {
          "output_type": "execute_result",
          "data": {
            "text/plain": [
              "1      8294\n",
              "NaN    6640\n",
              "2       778\n",
              "0       188\n",
              "3        17\n",
              "4         2\n",
              "Name: Previous Owners, dtype: int64"
            ]
          },
          "metadata": {},
          "execution_count": 13
        }
      ]
    },
    {
      "cell_type": "code",
      "source": [
        "df[[\"prev_owner\",\"Previous Owners\"]]"
      ],
      "metadata": {
        "colab": {
          "base_uri": "https://localhost:8080/",
          "height": 423
        },
        "id": "02qHT2UbZyzy",
        "outputId": "feaa0f23-341f-40ad-8566-0693e24f720d"
      },
      "execution_count": null,
      "outputs": [
        {
          "output_type": "execute_result",
          "data": {
            "text/plain": [
              "      prev_owner Previous Owners\n",
              "0              2               2\n",
              "1            NaN             NaN\n",
              "2              1               1\n",
              "3              1               1\n",
              "4              1               1\n",
              "...          ...             ...\n",
              "15914        NaN             NaN\n",
              "15915          1               1\n",
              "15916          1               1\n",
              "15917        NaN             NaN\n",
              "15918          1               1\n",
              "\n",
              "[15919 rows x 2 columns]"
            ],
            "text/html": [
              "\n",
              "  <div id=\"df-8f419353-727e-4747-9045-a8a41852e712\">\n",
              "    <div class=\"colab-df-container\">\n",
              "      <div>\n",
              "<style scoped>\n",
              "    .dataframe tbody tr th:only-of-type {\n",
              "        vertical-align: middle;\n",
              "    }\n",
              "\n",
              "    .dataframe tbody tr th {\n",
              "        vertical-align: top;\n",
              "    }\n",
              "\n",
              "    .dataframe thead th {\n",
              "        text-align: right;\n",
              "    }\n",
              "</style>\n",
              "<table border=\"1\" class=\"dataframe\">\n",
              "  <thead>\n",
              "    <tr style=\"text-align: right;\">\n",
              "      <th></th>\n",
              "      <th>prev_owner</th>\n",
              "      <th>Previous Owners</th>\n",
              "    </tr>\n",
              "  </thead>\n",
              "  <tbody>\n",
              "    <tr>\n",
              "      <th>0</th>\n",
              "      <td>2</td>\n",
              "      <td>2</td>\n",
              "    </tr>\n",
              "    <tr>\n",
              "      <th>1</th>\n",
              "      <td>NaN</td>\n",
              "      <td>NaN</td>\n",
              "    </tr>\n",
              "    <tr>\n",
              "      <th>2</th>\n",
              "      <td>1</td>\n",
              "      <td>1</td>\n",
              "    </tr>\n",
              "    <tr>\n",
              "      <th>3</th>\n",
              "      <td>1</td>\n",
              "      <td>1</td>\n",
              "    </tr>\n",
              "    <tr>\n",
              "      <th>4</th>\n",
              "      <td>1</td>\n",
              "      <td>1</td>\n",
              "    </tr>\n",
              "    <tr>\n",
              "      <th>...</th>\n",
              "      <td>...</td>\n",
              "      <td>...</td>\n",
              "    </tr>\n",
              "    <tr>\n",
              "      <th>15914</th>\n",
              "      <td>NaN</td>\n",
              "      <td>NaN</td>\n",
              "    </tr>\n",
              "    <tr>\n",
              "      <th>15915</th>\n",
              "      <td>1</td>\n",
              "      <td>1</td>\n",
              "    </tr>\n",
              "    <tr>\n",
              "      <th>15916</th>\n",
              "      <td>1</td>\n",
              "      <td>1</td>\n",
              "    </tr>\n",
              "    <tr>\n",
              "      <th>15917</th>\n",
              "      <td>NaN</td>\n",
              "      <td>NaN</td>\n",
              "    </tr>\n",
              "    <tr>\n",
              "      <th>15918</th>\n",
              "      <td>1</td>\n",
              "      <td>1</td>\n",
              "    </tr>\n",
              "  </tbody>\n",
              "</table>\n",
              "<p>15919 rows × 2 columns</p>\n",
              "</div>\n",
              "      <button class=\"colab-df-convert\" onclick=\"convertToInteractive('df-8f419353-727e-4747-9045-a8a41852e712')\"\n",
              "              title=\"Convert this dataframe to an interactive table.\"\n",
              "              style=\"display:none;\">\n",
              "        \n",
              "  <svg xmlns=\"http://www.w3.org/2000/svg\" height=\"24px\"viewBox=\"0 0 24 24\"\n",
              "       width=\"24px\">\n",
              "    <path d=\"M0 0h24v24H0V0z\" fill=\"none\"/>\n",
              "    <path d=\"M18.56 5.44l.94 2.06.94-2.06 2.06-.94-2.06-.94-.94-2.06-.94 2.06-2.06.94zm-11 1L8.5 8.5l.94-2.06 2.06-.94-2.06-.94L8.5 2.5l-.94 2.06-2.06.94zm10 10l.94 2.06.94-2.06 2.06-.94-2.06-.94-.94-2.06-.94 2.06-2.06.94z\"/><path d=\"M17.41 7.96l-1.37-1.37c-.4-.4-.92-.59-1.43-.59-.52 0-1.04.2-1.43.59L10.3 9.45l-7.72 7.72c-.78.78-.78 2.05 0 2.83L4 21.41c.39.39.9.59 1.41.59.51 0 1.02-.2 1.41-.59l7.78-7.78 2.81-2.81c.8-.78.8-2.07 0-2.86zM5.41 20L4 18.59l7.72-7.72 1.47 1.35L5.41 20z\"/>\n",
              "  </svg>\n",
              "      </button>\n",
              "      \n",
              "  <style>\n",
              "    .colab-df-container {\n",
              "      display:flex;\n",
              "      flex-wrap:wrap;\n",
              "      gap: 12px;\n",
              "    }\n",
              "\n",
              "    .colab-df-convert {\n",
              "      background-color: #E8F0FE;\n",
              "      border: none;\n",
              "      border-radius: 50%;\n",
              "      cursor: pointer;\n",
              "      display: none;\n",
              "      fill: #1967D2;\n",
              "      height: 32px;\n",
              "      padding: 0 0 0 0;\n",
              "      width: 32px;\n",
              "    }\n",
              "\n",
              "    .colab-df-convert:hover {\n",
              "      background-color: #E2EBFA;\n",
              "      box-shadow: 0px 1px 2px rgba(60, 64, 67, 0.3), 0px 1px 3px 1px rgba(60, 64, 67, 0.15);\n",
              "      fill: #174EA6;\n",
              "    }\n",
              "\n",
              "    [theme=dark] .colab-df-convert {\n",
              "      background-color: #3B4455;\n",
              "      fill: #D2E3FC;\n",
              "    }\n",
              "\n",
              "    [theme=dark] .colab-df-convert:hover {\n",
              "      background-color: #434B5C;\n",
              "      box-shadow: 0px 1px 3px 1px rgba(0, 0, 0, 0.15);\n",
              "      filter: drop-shadow(0px 1px 2px rgba(0, 0, 0, 0.3));\n",
              "      fill: #FFFFFF;\n",
              "    }\n",
              "  </style>\n",
              "\n",
              "      <script>\n",
              "        const buttonEl =\n",
              "          document.querySelector('#df-8f419353-727e-4747-9045-a8a41852e712 button.colab-df-convert');\n",
              "        buttonEl.style.display =\n",
              "          google.colab.kernel.accessAllowed ? 'block' : 'none';\n",
              "\n",
              "        async function convertToInteractive(key) {\n",
              "          const element = document.querySelector('#df-8f419353-727e-4747-9045-a8a41852e712');\n",
              "          const dataTable =\n",
              "            await google.colab.kernel.invokeFunction('convertToInteractive',\n",
              "                                                     [key], {});\n",
              "          if (!dataTable) return;\n",
              "\n",
              "          const docLinkHtml = 'Like what you see? Visit the ' +\n",
              "            '<a target=\"_blank\" href=https://colab.research.google.com/notebooks/data_table.ipynb>data table notebook</a>'\n",
              "            + ' to learn more about interactive tables.';\n",
              "          element.innerHTML = '';\n",
              "          dataTable['output_type'] = 'display_data';\n",
              "          await google.colab.output.renderOutput(dataTable, element);\n",
              "          const docLink = document.createElement('div');\n",
              "          docLink.innerHTML = docLinkHtml;\n",
              "          element.appendChild(docLink);\n",
              "        }\n",
              "      </script>\n",
              "    </div>\n",
              "  </div>\n",
              "  "
            ]
          },
          "metadata": {},
          "execution_count": 14
        }
      ]
    },
    {
      "cell_type": "markdown",
      "source": [
        "#3.Fuel "
      ],
      "metadata": {
        "id": "zYp_yiDBQHxI"
      }
    },
    {
      "cell_type": "code",
      "source": [
        "df[\"Fuel\"]"
      ],
      "metadata": {
        "colab": {
          "base_uri": "https://localhost:8080/"
        },
        "id": "AHlwmentwjSd",
        "outputId": "8b78c5b7-4ef5-4ebc-cb7e-3bb08410298f"
      },
      "execution_count": null,
      "outputs": [
        {
          "output_type": "execute_result",
          "data": {
            "text/plain": [
              "0                    [\\n, Diesel (Particulate Filter), \\n]\n",
              "1                                       [\\n, Gasoline, \\n]\n",
              "2                    [\\n, Diesel (Particulate Filter), \\n]\n",
              "3                    [\\n, Diesel (Particulate Filter), \\n]\n",
              "4                    [\\n, Diesel (Particulate Filter), \\n]\n",
              "                               ...                        \n",
              "15914                [\\n, Diesel (Particulate Filter), \\n]\n",
              "15915    [\\n, Super 95 / Super Plus 98 (Particulate Fil...\n",
              "15916                                     [\\n, Diesel, \\n]\n",
              "15917                                     [\\n, Diesel, \\n]\n",
              "15918                                   [\\n, Super 95, \\n]\n",
              "Name: Fuel, Length: 15919, dtype: object"
            ]
          },
          "metadata": {},
          "execution_count": 15
        }
      ]
    },
    {
      "cell_type": "code",
      "source": [
        "# df[\"Fuel\"]=df[\"Fuel\"].apply(str).str.split(\",\").str[1]\n",
        "# df[\"Fuel\"]"
      ],
      "metadata": {
        "id": "luY_wYw113ah"
      },
      "execution_count": null,
      "outputs": []
    },
    {
      "cell_type": "code",
      "source": [
        "df[\"Fuel\"]=[item[1] if type(item)==list else item for item in df[\"Fuel\"]]\n",
        "df[\"Fuel\"]"
      ],
      "metadata": {
        "id": "a_PiQx1XBL_7",
        "colab": {
          "base_uri": "https://localhost:8080/"
        },
        "outputId": "adc689e2-a8d7-44fc-d734-17293bcb4318"
      },
      "execution_count": null,
      "outputs": [
        {
          "output_type": "execute_result",
          "data": {
            "text/plain": [
              "0                          Diesel (Particulate Filter)\n",
              "1                                             Gasoline\n",
              "2                          Diesel (Particulate Filter)\n",
              "3                          Diesel (Particulate Filter)\n",
              "4                          Diesel (Particulate Filter)\n",
              "                             ...                      \n",
              "15914                      Diesel (Particulate Filter)\n",
              "15915    Super 95 / Super Plus 98 (Particulate Filter)\n",
              "15916                                           Diesel\n",
              "15917                                           Diesel\n",
              "15918                                         Super 95\n",
              "Name: Fuel, Length: 15919, dtype: object"
            ]
          },
          "metadata": {},
          "execution_count": 16
        }
      ]
    },
    {
      "cell_type": "code",
      "source": [
        "df[\"Fuel\"]=df[\"Fuel\"].str.split(\"/\")"
      ],
      "metadata": {
        "id": "Nb0RWZPKq42H"
      },
      "execution_count": null,
      "outputs": []
    },
    {
      "cell_type": "code",
      "source": [
        "df[\"Fuel\"]"
      ],
      "metadata": {
        "colab": {
          "base_uri": "https://localhost:8080/"
        },
        "id": "M1CrHMkbr0eP",
        "outputId": "46b2099d-ab5d-43c0-f653-e055abdbc596"
      },
      "execution_count": null,
      "outputs": [
        {
          "output_type": "execute_result",
          "data": {
            "text/plain": [
              "0                           [Diesel (Particulate Filter)]\n",
              "1                                              [Gasoline]\n",
              "2                           [Diesel (Particulate Filter)]\n",
              "3                           [Diesel (Particulate Filter)]\n",
              "4                           [Diesel (Particulate Filter)]\n",
              "                               ...                       \n",
              "15914                       [Diesel (Particulate Filter)]\n",
              "15915    [Super 95 ,  Super Plus 98 (Particulate Filter)]\n",
              "15916                                            [Diesel]\n",
              "15917                                            [Diesel]\n",
              "15918                                          [Super 95]\n",
              "Name: Fuel, Length: 15919, dtype: object"
            ]
          },
          "metadata": {},
          "execution_count": 19
        }
      ]
    },
    {
      "cell_type": "code",
      "source": [
        "df[\"Fuel\"]=[item[0] if type(item)==list else item for item in df[\"Fuel\"]]\n",
        "df[\"Fuel\"]"
      ],
      "metadata": {
        "colab": {
          "base_uri": "https://localhost:8080/"
        },
        "id": "y-R28-pEr9bY",
        "outputId": "275a1c08-2426-46f9-caf7-4fdef30e952a"
      },
      "execution_count": null,
      "outputs": [
        {
          "output_type": "execute_result",
          "data": {
            "text/plain": [
              "0        Diesel (Particulate Filter)\n",
              "1                           Gasoline\n",
              "2        Diesel (Particulate Filter)\n",
              "3        Diesel (Particulate Filter)\n",
              "4        Diesel (Particulate Filter)\n",
              "                    ...             \n",
              "15914    Diesel (Particulate Filter)\n",
              "15915                      Super 95 \n",
              "15916                         Diesel\n",
              "15917                         Diesel\n",
              "15918                       Super 95\n",
              "Name: Fuel, Length: 15919, dtype: object"
            ]
          },
          "metadata": {},
          "execution_count": 20
        }
      ]
    },
    {
      "cell_type": "code",
      "source": [
        "df[\"Fuel\"].unique()"
      ],
      "metadata": {
        "id": "W7s4vFIfsDXY",
        "colab": {
          "base_uri": "https://localhost:8080/"
        },
        "outputId": "74942522-af7e-4e92-c66e-d1fd0d11bf3b"
      },
      "execution_count": null,
      "outputs": [
        {
          "output_type": "execute_result",
          "data": {
            "text/plain": [
              "array(['Diesel (Particulate Filter)', 'Gasoline', 'Super 95', 'Regular',\n",
              "       'Diesel', 'Super E10 95', 'Super 95 (Particulate Filter)',\n",
              "       'Super 95 ', 'Super E10 95 ', 'Others',\n",
              "       'Gasoline (Particulate Filter)',\n",
              "       'Super E10 95 (Particulate Filter)', 'Super Plus 98', 'CNG',\n",
              "       'Electric', 'CNG (Particulate Filter)',\n",
              "       'Others (Particulate Filter)', 'Biogas', 'Domestic gas H',\n",
              "       'Super Plus E10 98 ', 'Super Plus 98 ', 'Super Plus E10 98', 'LPG',\n",
              "       'Liquid petroleum gas (LPG)'], dtype=object)"
            ]
          },
          "metadata": {},
          "execution_count": 21
        }
      ]
    },
    {
      "cell_type": "code",
      "source": [
        "lpg=['LPG','Gasoline',\"Gasoline (Particulate Filter)\",'Liquid petroleum gas (LPG)','CNG (Particulate Filter)',\"CNG\",\"Domestic gas H\", \"Biogas\" ]\n",
        "benzine=[\"Regular\",\"Benzine 91\" ,\"Super 95\" ,\"Benzine E10 91\",\"Super E10 95\", 'Super E10 95 ' ,\"Super Plus 98\" , 'Super Plus 98 ',\"Super Plus E10 98\", 'Super Plus E10 98 ',\"Super 95 (Particulate Filter)\",\"Super E10 95 (Particulate Filter)\",\"Super 95 \"]\n",
        "Diesel=[\"Diesel\",\"Diesel (Particulate Filter)\" ]\n",
        "\n",
        "def fueltype(x):\n",
        "  if x in benzine:\n",
        "    return \"Benzine\"\n",
        "  elif x in lpg:\n",
        "    return \"LPG/CNG\"\n",
        "  elif x in Diesel:\n",
        "    return \"Diesel\"\n",
        "  else:\n",
        "     return \"others\""
      ],
      "metadata": {
        "id": "o0fEHnUk13g3"
      },
      "execution_count": null,
      "outputs": []
    },
    {
      "cell_type": "code",
      "source": [
        "df[\"Fuel\"]=df[\"Fuel\"].apply(fueltype)\n",
        "df[\"Fuel\"]"
      ],
      "metadata": {
        "colab": {
          "base_uri": "https://localhost:8080/"
        },
        "id": "PneytYqXUzJd",
        "outputId": "2a239ae6-895e-4fc2-dc7f-98a6e5395176"
      },
      "execution_count": null,
      "outputs": [
        {
          "output_type": "execute_result",
          "data": {
            "text/plain": [
              "0         Diesel\n",
              "1        LPG/CNG\n",
              "2         Diesel\n",
              "3         Diesel\n",
              "4         Diesel\n",
              "          ...   \n",
              "15914     Diesel\n",
              "15915    Benzine\n",
              "15916     Diesel\n",
              "15917     Diesel\n",
              "15918    Benzine\n",
              "Name: Fuel, Length: 15919, dtype: object"
            ]
          },
          "metadata": {},
          "execution_count": 24
        }
      ]
    },
    {
      "cell_type": "code",
      "source": [
        "df[\"Fuel\"].value_counts(dropna=False)"
      ],
      "metadata": {
        "colab": {
          "base_uri": "https://localhost:8080/"
        },
        "id": "3MtisYZLUzMI",
        "outputId": "955df051-43d0-4a53-9dea-a04fd8fb0f1f"
      },
      "execution_count": null,
      "outputs": [
        {
          "output_type": "execute_result",
          "data": {
            "text/plain": [
              "Diesel     7299\n",
              "Benzine    5293\n",
              "LPG/CNG    3316\n",
              "others       11\n",
              "Name: Fuel, dtype: int64"
            ]
          },
          "metadata": {},
          "execution_count": 25
        }
      ]
    },
    {
      "cell_type": "markdown",
      "source": [
        "#4.Consumption "
      ],
      "metadata": {
        "id": "1IsyyZckQYpf"
      }
    },
    {
      "cell_type": "code",
      "source": [
        "df['Consumption']"
      ],
      "metadata": {
        "colab": {
          "base_uri": "https://localhost:8080/"
        },
        "id": "yaGPxSuHQH2-",
        "outputId": "deb82b94-6ec2-49a0-bc1c-cad212817ab0"
      },
      "execution_count": null,
      "outputs": [
        {
          "output_type": "execute_result",
          "data": {
            "text/plain": [
              "0        [[3.8 l/100 km (comb)], [4.3 l/100 km (city)],...\n",
              "1        [[5.6 l/100 km (comb)], [7.1 l/100 km (city)],...\n",
              "2        [[3.8 l/100 km (comb)], [4.4 l/100 km (city)],...\n",
              "3        [[3.8 l/100 km (comb)], [4.3 l/100 km (city)],...\n",
              "4        [[4.1 l/100 km (comb)], [4.6 l/100 km (city)],...\n",
              "                               ...                        \n",
              "15914    [[5.3 l/100 km (comb)], [6.2 l/100 km (city)],...\n",
              "15915    [\\n, 7.4 l/100 km (comb), \\n, 9.2 l/100 km (ci...\n",
              "15916    [[5.3 l/100 km (comb)], [6.2 l/100 km (city)],...\n",
              "15917    [[5.3 l/100 km (comb)], [6.2 l/100 km (city)],...\n",
              "15918    [[6.8 l/100 km (comb)], [8.7 l/100 km (city)],...\n",
              "Name: Consumption, Length: 15919, dtype: object"
            ]
          },
          "metadata": {},
          "execution_count": 63
        }
      ]
    },
    {
      "cell_type": "code",
      "source": [
        "df['Consumption_comb']=[item[0] if type(item)==list and type(item[0])==list   else item for item in df['Consumption']]"
      ],
      "metadata": {
        "id": "2p2M1yY3QH51"
      },
      "execution_count": null,
      "outputs": []
    },
    {
      "cell_type": "code",
      "source": [
        "df['Consumption_comb']"
      ],
      "metadata": {
        "colab": {
          "base_uri": "https://localhost:8080/"
        },
        "id": "pM4vBtQPywxy",
        "outputId": "26bd1075-51d2-49ee-a5c7-6aca5cce06c1"
      },
      "execution_count": null,
      "outputs": [
        {
          "output_type": "execute_result",
          "data": {
            "text/plain": [
              "0                                    [3.8 l/100 km (comb)]\n",
              "1                                    [5.6 l/100 km (comb)]\n",
              "2                                    [3.8 l/100 km (comb)]\n",
              "3                                    [3.8 l/100 km (comb)]\n",
              "4                                    [4.1 l/100 km (comb)]\n",
              "                               ...                        \n",
              "15914                                [5.3 l/100 km (comb)]\n",
              "15915    [\\n, 7.4 l/100 km (comb), \\n, 9.2 l/100 km (ci...\n",
              "15916                                [5.3 l/100 km (comb)]\n",
              "15917                                [5.3 l/100 km (comb)]\n",
              "15918                                [6.8 l/100 km (comb)]\n",
              "Name: Consumption_comb, Length: 15919, dtype: object"
            ]
          },
          "metadata": {},
          "execution_count": 65
        }
      ]
    },
    {
      "cell_type": "code",
      "source": [
        "df['Consumption_comb']=df['Consumption_comb'].apply(lambda item: \",\".join(item) if type(item) == list else item)"
      ],
      "metadata": {
        "id": "Qb2u-kltygKa"
      },
      "execution_count": null,
      "outputs": []
    },
    {
      "cell_type": "code",
      "source": [
        "df['Consumption_comb']"
      ],
      "metadata": {
        "colab": {
          "base_uri": "https://localhost:8080/"
        },
        "id": "XR9luBci0sDX",
        "outputId": "ccaa7b33-372a-4236-d8c3-79f2de59b12f"
      },
      "execution_count": null,
      "outputs": [
        {
          "output_type": "execute_result",
          "data": {
            "text/plain": [
              "0                                      3.8 l/100 km (comb)\n",
              "1                                      5.6 l/100 km (comb)\n",
              "2                                      3.8 l/100 km (comb)\n",
              "3                                      3.8 l/100 km (comb)\n",
              "4                                      4.1 l/100 km (comb)\n",
              "                               ...                        \n",
              "15914                                  5.3 l/100 km (comb)\n",
              "15915    \\n,7.4 l/100 km (comb),\\n,9.2 l/100 km (city),...\n",
              "15916                                  5.3 l/100 km (comb)\n",
              "15917                                  5.3 l/100 km (comb)\n",
              "15918                                  6.8 l/100 km (comb)\n",
              "Name: Consumption_comb, Length: 15919, dtype: object"
            ]
          },
          "metadata": {},
          "execution_count": 67
        }
      ]
    },
    {
      "cell_type": "code",
      "source": [
        "df['Consumption_comb']=df['Consumption_comb'].str.extract('(\\d.\\d l)')\n",
        "df['Consumption_comb']"
      ],
      "metadata": {
        "colab": {
          "base_uri": "https://localhost:8080/"
        },
        "id": "17e-yd7Qz_z_",
        "outputId": "b2c31f14-a421-480d-b3f0-c5804d148b1c"
      },
      "execution_count": null,
      "outputs": [
        {
          "output_type": "execute_result",
          "data": {
            "text/plain": [
              "0        3.8 l\n",
              "1        5.6 l\n",
              "2        3.8 l\n",
              "3        3.8 l\n",
              "4        4.1 l\n",
              "         ...  \n",
              "15914    5.3 l\n",
              "15915    7.4 l\n",
              "15916    5.3 l\n",
              "15917    5.3 l\n",
              "15918    6.8 l\n",
              "Name: Consumption_comb, Length: 15919, dtype: object"
            ]
          },
          "metadata": {},
          "execution_count": 68
        }
      ]
    },
    {
      "cell_type": "code",
      "source": [
        "df['Consumption_comb']=df['Consumption_comb'].str.replace(\"l\",\"\")"
      ],
      "metadata": {
        "id": "7HpU6C_qRfwl"
      },
      "execution_count": null,
      "outputs": []
    },
    {
      "cell_type": "code",
      "source": [
        "df['Consumption_comb']=df['Consumption_comb'].astype(float)\n",
        "df['Consumption_comb']"
      ],
      "metadata": {
        "colab": {
          "base_uri": "https://localhost:8080/"
        },
        "id": "UOaZ_XK2VUpO",
        "outputId": "7b39c8e0-66c7-4382-f79b-36af0f04fd7a"
      },
      "execution_count": null,
      "outputs": [
        {
          "output_type": "execute_result",
          "data": {
            "text/plain": [
              "0        3.8\n",
              "1        5.6\n",
              "2        3.8\n",
              "3        3.8\n",
              "4        4.1\n",
              "        ... \n",
              "15914    5.3\n",
              "15915    7.4\n",
              "15916    5.3\n",
              "15917    5.3\n",
              "15918    6.8\n",
              "Name: Consumption_comb, Length: 15919, dtype: float64"
            ]
          },
          "metadata": {},
          "execution_count": 71
        }
      ]
    },
    {
      "cell_type": "code",
      "source": [
        "df['Consumption']"
      ],
      "metadata": {
        "colab": {
          "base_uri": "https://localhost:8080/"
        },
        "id": "Canrp6Cm2tNP",
        "outputId": "4a665223-c8e5-46c0-8d10-6ab4702a16bd"
      },
      "execution_count": null,
      "outputs": [
        {
          "output_type": "execute_result",
          "data": {
            "text/plain": [
              "0        [[3.8 l/100 km (comb)], [4.3 l/100 km (city)],...\n",
              "1        [[5.6 l/100 km (comb)], [7.1 l/100 km (city)],...\n",
              "2        [[3.8 l/100 km (comb)], [4.4 l/100 km (city)],...\n",
              "3        [[3.8 l/100 km (comb)], [4.3 l/100 km (city)],...\n",
              "4        [[4.1 l/100 km (comb)], [4.6 l/100 km (city)],...\n",
              "                               ...                        \n",
              "15914    [[5.3 l/100 km (comb)], [6.2 l/100 km (city)],...\n",
              "15915    [\\n, 7.4 l/100 km (comb), \\n, 9.2 l/100 km (ci...\n",
              "15916    [[5.3 l/100 km (comb)], [6.2 l/100 km (city)],...\n",
              "15917    [[5.3 l/100 km (comb)], [6.2 l/100 km (city)],...\n",
              "15918    [[6.8 l/100 km (comb)], [8.7 l/100 km (city)],...\n",
              "Name: Consumption, Length: 15919, dtype: object"
            ]
          },
          "metadata": {},
          "execution_count": 50
        }
      ]
    },
    {
      "cell_type": "code",
      "source": [
        "df['Consumption_city']=[item[1] if type(item)==list and type(item[0])==list  else item for item in df['Consumption']]\n",
        "df['Consumption_city']"
      ],
      "metadata": {
        "colab": {
          "base_uri": "https://localhost:8080/"
        },
        "id": "MbMtR-sLR7Km",
        "outputId": "6078bf65-fa4b-4e81-cee7-9cb376912a64"
      },
      "execution_count": null,
      "outputs": [
        {
          "output_type": "execute_result",
          "data": {
            "text/plain": [
              "0                                    [4.3 l/100 km (city)]\n",
              "1                                    [7.1 l/100 km (city)]\n",
              "2                                    [4.4 l/100 km (city)]\n",
              "3                                    [4.3 l/100 km (city)]\n",
              "4                                    [4.6 l/100 km (city)]\n",
              "                               ...                        \n",
              "15914                                [6.2 l/100 km (city)]\n",
              "15915    [\\n, 7.4 l/100 km (comb), \\n, 9.2 l/100 km (ci...\n",
              "15916                                [6.2 l/100 km (city)]\n",
              "15917                                [6.2 l/100 km (city)]\n",
              "15918                                [8.7 l/100 km (city)]\n",
              "Name: Consumption_city, Length: 15919, dtype: object"
            ]
          },
          "metadata": {},
          "execution_count": 51
        }
      ]
    },
    {
      "cell_type": "code",
      "source": [
        "df['Consumption_city']=[item[1] if type(item)==list and type(item[0])==list  else item for item in df['Consumption']]\n",
        "df['Consumption_city']"
      ],
      "metadata": {
        "colab": {
          "base_uri": "https://localhost:8080/"
        },
        "id": "ljnQMFMw6-3N",
        "outputId": "479d1c85-8347-44d3-f2c1-3879a3e569ff"
      },
      "execution_count": null,
      "outputs": [
        {
          "output_type": "execute_result",
          "data": {
            "text/plain": [
              "0                                    [4.3 l/100 km (city)]\n",
              "1                                    [7.1 l/100 km (city)]\n",
              "2                                    [4.4 l/100 km (city)]\n",
              "3                                    [4.3 l/100 km (city)]\n",
              "4                                    [4.6 l/100 km (city)]\n",
              "                               ...                        \n",
              "15914                                [6.2 l/100 km (city)]\n",
              "15915    [\\n, 7.4 l/100 km (comb), \\n, 9.2 l/100 km (ci...\n",
              "15916                                [6.2 l/100 km (city)]\n",
              "15917                                [6.2 l/100 km (city)]\n",
              "15918                                [8.7 l/100 km (city)]\n",
              "Name: Consumption_city, Length: 15919, dtype: object"
            ]
          },
          "metadata": {},
          "execution_count": 52
        }
      ]
    },
    {
      "cell_type": "code",
      "source": [
        "df['Consumption_city']=df['Consumption_city'].apply(lambda item: \",\".join(item) if type(item) == list else item)"
      ],
      "metadata": {
        "id": "xe-VXhwW3khZ"
      },
      "execution_count": null,
      "outputs": []
    },
    {
      "cell_type": "code",
      "source": [
        "df['Consumption_city']"
      ],
      "metadata": {
        "colab": {
          "base_uri": "https://localhost:8080/"
        },
        "id": "_tDMULil3pCz",
        "outputId": "35bc60ba-11dd-4d90-af13-b2c73cb1a395"
      },
      "execution_count": null,
      "outputs": [
        {
          "output_type": "execute_result",
          "data": {
            "text/plain": [
              "0                                      4.3 l/100 km (city)\n",
              "1                                      7.1 l/100 km (city)\n",
              "2                                      4.4 l/100 km (city)\n",
              "3                                      4.3 l/100 km (city)\n",
              "4                                      4.6 l/100 km (city)\n",
              "                               ...                        \n",
              "15914                                  6.2 l/100 km (city)\n",
              "15915    \\n,7.4 l/100 km (comb),\\n,9.2 l/100 km (city),...\n",
              "15916                                  6.2 l/100 km (city)\n",
              "15917                                  6.2 l/100 km (city)\n",
              "15918                                  8.7 l/100 km (city)\n",
              "Name: Consumption_city, Length: 15919, dtype: object"
            ]
          },
          "metadata": {},
          "execution_count": 54
        }
      ]
    },
    {
      "cell_type": "code",
      "source": [
        "df['Consumption_city']=df['Consumption_city'].str.extract(\"(\\d.\\d l/100 km)\")\n",
        "df['Consumption_city']"
      ],
      "metadata": {
        "colab": {
          "base_uri": "https://localhost:8080/"
        },
        "id": "h9XML6VmVe1E",
        "outputId": "a0205db4-7182-429b-b5fe-da78afbc3c94"
      },
      "execution_count": null,
      "outputs": [
        {
          "output_type": "execute_result",
          "data": {
            "text/plain": [
              "0        4.3 l/100 km\n",
              "1        7.1 l/100 km\n",
              "2        4.4 l/100 km\n",
              "3        4.3 l/100 km\n",
              "4        4.6 l/100 km\n",
              "             ...     \n",
              "15914    6.2 l/100 km\n",
              "15915    7.4 l/100 km\n",
              "15916    6.2 l/100 km\n",
              "15917    6.2 l/100 km\n",
              "15918    8.7 l/100 km\n",
              "Name: Consumption_city, Length: 15919, dtype: object"
            ]
          },
          "metadata": {},
          "execution_count": 59
        }
      ]
    },
    {
      "cell_type": "code",
      "source": [
        "df['Consumption_country']=[item[2] if type(item)==list else item for item in df['Consumption']]\n",
        "df['Consumption_country']"
      ],
      "metadata": {
        "colab": {
          "base_uri": "https://localhost:8080/"
        },
        "id": "uhh9Ao0eTjCp",
        "outputId": "448e4f0d-6556-45d8-9836-e88fdefc60b9"
      },
      "execution_count": null,
      "outputs": [
        {
          "output_type": "execute_result",
          "data": {
            "text/plain": [
              "0        [3.5 l/100 km (country)]\n",
              "1        [4.7 l/100 km (country)]\n",
              "2        [3.4 l/100 km (country)]\n",
              "3        [3.5 l/100 km (country)]\n",
              "4        [3.8 l/100 km (country)]\n",
              "                   ...           \n",
              "15914    [4.7 l/100 km (country)]\n",
              "15915                          \\n\n",
              "15916    [4.7 l/100 km (country)]\n",
              "15917    [4.7 l/100 km (country)]\n",
              "15918    [5.7 l/100 km (country)]\n",
              "Name: Consumption_country, Length: 15919, dtype: object"
            ]
          },
          "metadata": {},
          "execution_count": 60
        }
      ]
    },
    {
      "cell_type": "code",
      "source": [
        "df['Consumption_country']=df['Consumption_country'].apply(str).str.extract(\"(\\d\\d|\\d.\\d|\\d)\")\n",
        "df['Consumption_country']"
      ],
      "metadata": {
        "colab": {
          "base_uri": "https://localhost:8080/"
        },
        "id": "74iYyRP9Ug3m",
        "outputId": "e656c50c-94d2-4914-bff4-6c130c0324bf"
      },
      "execution_count": null,
      "outputs": [
        {
          "output_type": "execute_result",
          "data": {
            "text/plain": [
              "0        3.5\n",
              "1        4.7\n",
              "2        3.4\n",
              "3        3.5\n",
              "4        3.8\n",
              "        ... \n",
              "15914    4.7\n",
              "15915    NaN\n",
              "15916    4.7\n",
              "15917    4.7\n",
              "15918    5.7\n",
              "Name: Consumption_country, Length: 15919, dtype: object"
            ]
          },
          "metadata": {},
          "execution_count": 61
        }
      ]
    },
    {
      "cell_type": "code",
      "source": [
        "df[['Consumption','Consumption_comb','Consumption_city','Consumption_country']]"
      ],
      "metadata": {
        "colab": {
          "base_uri": "https://localhost:8080/",
          "height": 423
        },
        "id": "qNICaKPsQb67",
        "outputId": "ba522792-f550-4222-b581-983e8009cd31"
      },
      "execution_count": null,
      "outputs": [
        {
          "output_type": "execute_result",
          "data": {
            "text/plain": [
              "                                             Consumption  Consumption_comb  \\\n",
              "0      [[3.8 l/100 km (comb)], [4.3 l/100 km (city)],...               3.8   \n",
              "1      [[5.6 l/100 km (comb)], [7.1 l/100 km (city)],...               5.6   \n",
              "2      [[3.8 l/100 km (comb)], [4.4 l/100 km (city)],...               3.8   \n",
              "3      [[3.8 l/100 km (comb)], [4.3 l/100 km (city)],...               3.8   \n",
              "4      [[4.1 l/100 km (comb)], [4.6 l/100 km (city)],...               4.1   \n",
              "...                                                  ...               ...   \n",
              "15914  [[5.3 l/100 km (comb)], [6.2 l/100 km (city)],...               5.3   \n",
              "15915  [\\n, 7.4 l/100 km (comb), \\n, 9.2 l/100 km (ci...               7.4   \n",
              "15916  [[5.3 l/100 km (comb)], [6.2 l/100 km (city)],...               5.3   \n",
              "15917  [[5.3 l/100 km (comb)], [6.2 l/100 km (city)],...               5.3   \n",
              "15918  [[6.8 l/100 km (comb)], [8.7 l/100 km (city)],...               6.8   \n",
              "\n",
              "      Consumption_city Consumption_country  \n",
              "0         4.3 l/100 km                 3.5  \n",
              "1         7.1 l/100 km                 4.7  \n",
              "2         4.4 l/100 km                 3.4  \n",
              "3         4.3 l/100 km                 3.5  \n",
              "4         4.6 l/100 km                 3.8  \n",
              "...                ...                 ...  \n",
              "15914     6.2 l/100 km                 4.7  \n",
              "15915     7.4 l/100 km                 NaN  \n",
              "15916     6.2 l/100 km                 4.7  \n",
              "15917     6.2 l/100 km                 4.7  \n",
              "15918     8.7 l/100 km                 5.7  \n",
              "\n",
              "[15919 rows x 4 columns]"
            ],
            "text/html": [
              "\n",
              "  <div id=\"df-506818bc-993d-46ca-9d01-4cad5a02efb5\">\n",
              "    <div class=\"colab-df-container\">\n",
              "      <div>\n",
              "<style scoped>\n",
              "    .dataframe tbody tr th:only-of-type {\n",
              "        vertical-align: middle;\n",
              "    }\n",
              "\n",
              "    .dataframe tbody tr th {\n",
              "        vertical-align: top;\n",
              "    }\n",
              "\n",
              "    .dataframe thead th {\n",
              "        text-align: right;\n",
              "    }\n",
              "</style>\n",
              "<table border=\"1\" class=\"dataframe\">\n",
              "  <thead>\n",
              "    <tr style=\"text-align: right;\">\n",
              "      <th></th>\n",
              "      <th>Consumption</th>\n",
              "      <th>Consumption_comb</th>\n",
              "      <th>Consumption_city</th>\n",
              "      <th>Consumption_country</th>\n",
              "    </tr>\n",
              "  </thead>\n",
              "  <tbody>\n",
              "    <tr>\n",
              "      <th>0</th>\n",
              "      <td>[[3.8 l/100 km (comb)], [4.3 l/100 km (city)],...</td>\n",
              "      <td>3.8</td>\n",
              "      <td>4.3 l/100 km</td>\n",
              "      <td>3.5</td>\n",
              "    </tr>\n",
              "    <tr>\n",
              "      <th>1</th>\n",
              "      <td>[[5.6 l/100 km (comb)], [7.1 l/100 km (city)],...</td>\n",
              "      <td>5.6</td>\n",
              "      <td>7.1 l/100 km</td>\n",
              "      <td>4.7</td>\n",
              "    </tr>\n",
              "    <tr>\n",
              "      <th>2</th>\n",
              "      <td>[[3.8 l/100 km (comb)], [4.4 l/100 km (city)],...</td>\n",
              "      <td>3.8</td>\n",
              "      <td>4.4 l/100 km</td>\n",
              "      <td>3.4</td>\n",
              "    </tr>\n",
              "    <tr>\n",
              "      <th>3</th>\n",
              "      <td>[[3.8 l/100 km (comb)], [4.3 l/100 km (city)],...</td>\n",
              "      <td>3.8</td>\n",
              "      <td>4.3 l/100 km</td>\n",
              "      <td>3.5</td>\n",
              "    </tr>\n",
              "    <tr>\n",
              "      <th>4</th>\n",
              "      <td>[[4.1 l/100 km (comb)], [4.6 l/100 km (city)],...</td>\n",
              "      <td>4.1</td>\n",
              "      <td>4.6 l/100 km</td>\n",
              "      <td>3.8</td>\n",
              "    </tr>\n",
              "    <tr>\n",
              "      <th>...</th>\n",
              "      <td>...</td>\n",
              "      <td>...</td>\n",
              "      <td>...</td>\n",
              "      <td>...</td>\n",
              "    </tr>\n",
              "    <tr>\n",
              "      <th>15914</th>\n",
              "      <td>[[5.3 l/100 km (comb)], [6.2 l/100 km (city)],...</td>\n",
              "      <td>5.3</td>\n",
              "      <td>6.2 l/100 km</td>\n",
              "      <td>4.7</td>\n",
              "    </tr>\n",
              "    <tr>\n",
              "      <th>15915</th>\n",
              "      <td>[\\n, 7.4 l/100 km (comb), \\n, 9.2 l/100 km (ci...</td>\n",
              "      <td>7.4</td>\n",
              "      <td>7.4 l/100 km</td>\n",
              "      <td>NaN</td>\n",
              "    </tr>\n",
              "    <tr>\n",
              "      <th>15916</th>\n",
              "      <td>[[5.3 l/100 km (comb)], [6.2 l/100 km (city)],...</td>\n",
              "      <td>5.3</td>\n",
              "      <td>6.2 l/100 km</td>\n",
              "      <td>4.7</td>\n",
              "    </tr>\n",
              "    <tr>\n",
              "      <th>15917</th>\n",
              "      <td>[[5.3 l/100 km (comb)], [6.2 l/100 km (city)],...</td>\n",
              "      <td>5.3</td>\n",
              "      <td>6.2 l/100 km</td>\n",
              "      <td>4.7</td>\n",
              "    </tr>\n",
              "    <tr>\n",
              "      <th>15918</th>\n",
              "      <td>[[6.8 l/100 km (comb)], [8.7 l/100 km (city)],...</td>\n",
              "      <td>6.8</td>\n",
              "      <td>8.7 l/100 km</td>\n",
              "      <td>5.7</td>\n",
              "    </tr>\n",
              "  </tbody>\n",
              "</table>\n",
              "<p>15919 rows × 4 columns</p>\n",
              "</div>\n",
              "      <button class=\"colab-df-convert\" onclick=\"convertToInteractive('df-506818bc-993d-46ca-9d01-4cad5a02efb5')\"\n",
              "              title=\"Convert this dataframe to an interactive table.\"\n",
              "              style=\"display:none;\">\n",
              "        \n",
              "  <svg xmlns=\"http://www.w3.org/2000/svg\" height=\"24px\"viewBox=\"0 0 24 24\"\n",
              "       width=\"24px\">\n",
              "    <path d=\"M0 0h24v24H0V0z\" fill=\"none\"/>\n",
              "    <path d=\"M18.56 5.44l.94 2.06.94-2.06 2.06-.94-2.06-.94-.94-2.06-.94 2.06-2.06.94zm-11 1L8.5 8.5l.94-2.06 2.06-.94-2.06-.94L8.5 2.5l-.94 2.06-2.06.94zm10 10l.94 2.06.94-2.06 2.06-.94-2.06-.94-.94-2.06-.94 2.06-2.06.94z\"/><path d=\"M17.41 7.96l-1.37-1.37c-.4-.4-.92-.59-1.43-.59-.52 0-1.04.2-1.43.59L10.3 9.45l-7.72 7.72c-.78.78-.78 2.05 0 2.83L4 21.41c.39.39.9.59 1.41.59.51 0 1.02-.2 1.41-.59l7.78-7.78 2.81-2.81c.8-.78.8-2.07 0-2.86zM5.41 20L4 18.59l7.72-7.72 1.47 1.35L5.41 20z\"/>\n",
              "  </svg>\n",
              "      </button>\n",
              "      \n",
              "  <style>\n",
              "    .colab-df-container {\n",
              "      display:flex;\n",
              "      flex-wrap:wrap;\n",
              "      gap: 12px;\n",
              "    }\n",
              "\n",
              "    .colab-df-convert {\n",
              "      background-color: #E8F0FE;\n",
              "      border: none;\n",
              "      border-radius: 50%;\n",
              "      cursor: pointer;\n",
              "      display: none;\n",
              "      fill: #1967D2;\n",
              "      height: 32px;\n",
              "      padding: 0 0 0 0;\n",
              "      width: 32px;\n",
              "    }\n",
              "\n",
              "    .colab-df-convert:hover {\n",
              "      background-color: #E2EBFA;\n",
              "      box-shadow: 0px 1px 2px rgba(60, 64, 67, 0.3), 0px 1px 3px 1px rgba(60, 64, 67, 0.15);\n",
              "      fill: #174EA6;\n",
              "    }\n",
              "\n",
              "    [theme=dark] .colab-df-convert {\n",
              "      background-color: #3B4455;\n",
              "      fill: #D2E3FC;\n",
              "    }\n",
              "\n",
              "    [theme=dark] .colab-df-convert:hover {\n",
              "      background-color: #434B5C;\n",
              "      box-shadow: 0px 1px 3px 1px rgba(0, 0, 0, 0.15);\n",
              "      filter: drop-shadow(0px 1px 2px rgba(0, 0, 0, 0.3));\n",
              "      fill: #FFFFFF;\n",
              "    }\n",
              "  </style>\n",
              "\n",
              "      <script>\n",
              "        const buttonEl =\n",
              "          document.querySelector('#df-506818bc-993d-46ca-9d01-4cad5a02efb5 button.colab-df-convert');\n",
              "        buttonEl.style.display =\n",
              "          google.colab.kernel.accessAllowed ? 'block' : 'none';\n",
              "\n",
              "        async function convertToInteractive(key) {\n",
              "          const element = document.querySelector('#df-506818bc-993d-46ca-9d01-4cad5a02efb5');\n",
              "          const dataTable =\n",
              "            await google.colab.kernel.invokeFunction('convertToInteractive',\n",
              "                                                     [key], {});\n",
              "          if (!dataTable) return;\n",
              "\n",
              "          const docLinkHtml = 'Like what you see? Visit the ' +\n",
              "            '<a target=\"_blank\" href=https://colab.research.google.com/notebooks/data_table.ipynb>data table notebook</a>'\n",
              "            + ' to learn more about interactive tables.';\n",
              "          element.innerHTML = '';\n",
              "          dataTable['output_type'] = 'display_data';\n",
              "          await google.colab.output.renderOutput(dataTable, element);\n",
              "          const docLink = document.createElement('div');\n",
              "          docLink.innerHTML = docLinkHtml;\n",
              "          element.appendChild(docLink);\n",
              "        }\n",
              "      </script>\n",
              "    </div>\n",
              "  </div>\n",
              "  "
            ]
          },
          "metadata": {},
          "execution_count": 72
        }
      ]
    },
    {
      "cell_type": "markdown",
      "source": [
        "#5.CO2 Emission\n",
        " \n",
        "\n"
      ],
      "metadata": {
        "id": "NaJ0uX8XR-Oa"
      }
    },
    {
      "cell_type": "code",
      "source": [
        "df['CO2 Emission']"
      ],
      "metadata": {
        "colab": {
          "base_uri": "https://localhost:8080/"
        },
        "id": "Y-_hlufgb_oT",
        "outputId": "7ef799c6-5b6c-4af5-b208-167ebd283816"
      },
      "execution_count": null,
      "outputs": [
        {
          "output_type": "execute_result",
          "data": {
            "text/plain": [
              "0         [\\n99 g CO2/km (comb)\\n]\n",
              "1        [\\n129 g CO2/km (comb)\\n]\n",
              "2         [\\n99 g CO2/km (comb)\\n]\n",
              "3         [\\n99 g CO2/km (comb)\\n]\n",
              "4        [\\n109 g CO2/km (comb)\\n]\n",
              "                   ...            \n",
              "15914    [\\n139 g CO2/km (comb)\\n]\n",
              "15915    [\\n168 g CO2/km (comb)\\n]\n",
              "15916    [\\n139 g CO2/km (comb)\\n]\n",
              "15917    [\\n139 g CO2/km (comb)\\n]\n",
              "15918    [\\n153 g CO2/km (comb)\\n]\n",
              "Name: CO2 Emission, Length: 15919, dtype: object"
            ]
          },
          "metadata": {},
          "execution_count": 73
        }
      ]
    },
    {
      "cell_type": "code",
      "source": [
        "df['CO2 Emission']=df['CO2 Emission'].apply(str).str.extract(\"(\\d+)\")"
      ],
      "metadata": {
        "id": "9rIUdZY9b_v5"
      },
      "execution_count": null,
      "outputs": []
    },
    {
      "cell_type": "code",
      "source": [
        "df['CO2 Emission']"
      ],
      "metadata": {
        "colab": {
          "base_uri": "https://localhost:8080/"
        },
        "id": "VRBceG-_3bsE",
        "outputId": "bde0c03e-e5f1-4c34-b12a-225e897a0e0b"
      },
      "execution_count": null,
      "outputs": [
        {
          "output_type": "execute_result",
          "data": {
            "text/plain": [
              "0         99\n",
              "1        129\n",
              "2         99\n",
              "3         99\n",
              "4        109\n",
              "        ... \n",
              "15914    139\n",
              "15915    168\n",
              "15916    139\n",
              "15917    139\n",
              "15918    153\n",
              "Name: CO2 Emission, Length: 15919, dtype: object"
            ]
          },
          "metadata": {},
          "execution_count": 75
        }
      ]
    },
    {
      "cell_type": "markdown",
      "source": [
        "#6.Emission Class"
      ],
      "metadata": {
        "id": "zuPMCaiOSQCd"
      }
    },
    {
      "cell_type": "code",
      "source": [
        "df['Emission Class']"
      ],
      "metadata": {
        "id": "mns08nOxwjVj",
        "colab": {
          "base_uri": "https://localhost:8080/"
        },
        "outputId": "78892e10-3f50-40bd-9995-93281379a91d"
      },
      "execution_count": null,
      "outputs": [
        {
          "output_type": "execute_result",
          "data": {
            "text/plain": [
              "0              [\\nEuro 6\\n]\n",
              "1              [\\nEuro 6\\n]\n",
              "2              [\\nEuro 6\\n]\n",
              "3              [\\nEuro 6\\n]\n",
              "4              [\\nEuro 6\\n]\n",
              "                ...        \n",
              "15914                   NaN\n",
              "15915                   NaN\n",
              "15916    [\\nEuro 6d-TEMP\\n]\n",
              "15917          [\\nEuro 6\\n]\n",
              "15918          [\\nEuro 6\\n]\n",
              "Name: Emission Class, Length: 15919, dtype: object"
            ]
          },
          "metadata": {},
          "execution_count": 76
        }
      ]
    },
    {
      "cell_type": "code",
      "source": [
        "df['Emission Class']=[item[0] if type(item)==list else item for item in df['Emission Class']]"
      ],
      "metadata": {
        "id": "sSJO8RrzKA0z"
      },
      "execution_count": null,
      "outputs": []
    },
    {
      "cell_type": "code",
      "source": [
        "df['Emission Class']"
      ],
      "metadata": {
        "colab": {
          "base_uri": "https://localhost:8080/"
        },
        "id": "OpzviXEEKcwY",
        "outputId": "1ecba9fd-6486-488f-ae83-58dbe9d38a5d"
      },
      "execution_count": null,
      "outputs": [
        {
          "output_type": "execute_result",
          "data": {
            "text/plain": [
              "0              \\nEuro 6\\n\n",
              "1              \\nEuro 6\\n\n",
              "2              \\nEuro 6\\n\n",
              "3              \\nEuro 6\\n\n",
              "4              \\nEuro 6\\n\n",
              "               ...       \n",
              "15914                 NaN\n",
              "15915                 NaN\n",
              "15916    \\nEuro 6d-TEMP\\n\n",
              "15917          \\nEuro 6\\n\n",
              "15918          \\nEuro 6\\n\n",
              "Name: Emission Class, Length: 15919, dtype: object"
            ]
          },
          "metadata": {},
          "execution_count": 78
        }
      ]
    },
    {
      "cell_type": "code",
      "source": [
        "df['Emission Class']=df['Emission Class'].apply(str).str.strip(\"\\n\")"
      ],
      "metadata": {
        "id": "sy3WTI2dKc2Y"
      },
      "execution_count": null,
      "outputs": []
    },
    {
      "cell_type": "code",
      "source": [
        "df['Emission Class']"
      ],
      "metadata": {
        "colab": {
          "base_uri": "https://localhost:8080/"
        },
        "id": "y565xSg0JpYo",
        "outputId": "25d54015-6920-491a-bbd9-cc5c082f0c37"
      },
      "execution_count": null,
      "outputs": [
        {
          "output_type": "execute_result",
          "data": {
            "text/plain": [
              "0              Euro 6\n",
              "1              Euro 6\n",
              "2              Euro 6\n",
              "3              Euro 6\n",
              "4              Euro 6\n",
              "             ...     \n",
              "15914             nan\n",
              "15915             nan\n",
              "15916    Euro 6d-TEMP\n",
              "15917          Euro 6\n",
              "15918          Euro 6\n",
              "Name: Emission Class, Length: 15919, dtype: object"
            ]
          },
          "metadata": {},
          "execution_count": 80
        }
      ]
    },
    {
      "cell_type": "code",
      "source": [
        "df['Emission Class'].value_counts()"
      ],
      "metadata": {
        "colab": {
          "base_uri": "https://localhost:8080/"
        },
        "id": "8STzp03-Kxyr",
        "outputId": "9e9c90d3-5ab3-4626-f6b3-a143e7582684"
      },
      "execution_count": null,
      "outputs": [
        {
          "output_type": "execute_result",
          "data": {
            "text/plain": [
              "Euro 6          10139\n",
              "nan              3021\n",
              "Euro 6d-TEMP     1845\n",
              "[]                607\n",
              "Euro 6c           127\n",
              "Euro 5             78\n",
              "Euro 6d            62\n",
              "Euro 4             40\n",
              "Name: Emission Class, dtype: int64"
            ]
          },
          "metadata": {},
          "execution_count": 81
        }
      ]
    },
    {
      "cell_type": "code",
      "source": [
        "#df[df['Emission Class']==\"nan\"].T"
      ],
      "metadata": {
        "id": "2slo_aMzK6yS"
      },
      "execution_count": null,
      "outputs": []
    },
    {
      "cell_type": "code",
      "source": [
        "df[['Emission Label','Emission Class','CO2 Emission']]"
      ],
      "metadata": {
        "colab": {
          "base_uri": "https://localhost:8080/",
          "height": 423
        },
        "id": "0qGtnBDlC71P",
        "outputId": "538da8f3-09f3-4418-b8f7-2a29528874f7"
      },
      "execution_count": null,
      "outputs": [
        {
          "output_type": "execute_result",
          "data": {
            "text/plain": [
              "        Emission Label Emission Class CO2 Emission\n",
              "0                  NaN         Euro 6           99\n",
              "1      [\\n4 (Green)\\n]         Euro 6          129\n",
              "2      [\\n4 (Green)\\n]         Euro 6           99\n",
              "3                  NaN         Euro 6           99\n",
              "4                  NaN         Euro 6          109\n",
              "...                ...            ...          ...\n",
              "15914              NaN            nan          139\n",
              "15915              NaN            nan          168\n",
              "15916              NaN   Euro 6d-TEMP          139\n",
              "15917              NaN         Euro 6          139\n",
              "15918  [\\n4 (Green)\\n]         Euro 6          153\n",
              "\n",
              "[15919 rows x 3 columns]"
            ],
            "text/html": [
              "\n",
              "  <div id=\"df-01e41eed-1e3f-44ad-80ac-e545557fa5f3\">\n",
              "    <div class=\"colab-df-container\">\n",
              "      <div>\n",
              "<style scoped>\n",
              "    .dataframe tbody tr th:only-of-type {\n",
              "        vertical-align: middle;\n",
              "    }\n",
              "\n",
              "    .dataframe tbody tr th {\n",
              "        vertical-align: top;\n",
              "    }\n",
              "\n",
              "    .dataframe thead th {\n",
              "        text-align: right;\n",
              "    }\n",
              "</style>\n",
              "<table border=\"1\" class=\"dataframe\">\n",
              "  <thead>\n",
              "    <tr style=\"text-align: right;\">\n",
              "      <th></th>\n",
              "      <th>Emission Label</th>\n",
              "      <th>Emission Class</th>\n",
              "      <th>CO2 Emission</th>\n",
              "    </tr>\n",
              "  </thead>\n",
              "  <tbody>\n",
              "    <tr>\n",
              "      <th>0</th>\n",
              "      <td>NaN</td>\n",
              "      <td>Euro 6</td>\n",
              "      <td>99</td>\n",
              "    </tr>\n",
              "    <tr>\n",
              "      <th>1</th>\n",
              "      <td>[\\n4 (Green)\\n]</td>\n",
              "      <td>Euro 6</td>\n",
              "      <td>129</td>\n",
              "    </tr>\n",
              "    <tr>\n",
              "      <th>2</th>\n",
              "      <td>[\\n4 (Green)\\n]</td>\n",
              "      <td>Euro 6</td>\n",
              "      <td>99</td>\n",
              "    </tr>\n",
              "    <tr>\n",
              "      <th>3</th>\n",
              "      <td>NaN</td>\n",
              "      <td>Euro 6</td>\n",
              "      <td>99</td>\n",
              "    </tr>\n",
              "    <tr>\n",
              "      <th>4</th>\n",
              "      <td>NaN</td>\n",
              "      <td>Euro 6</td>\n",
              "      <td>109</td>\n",
              "    </tr>\n",
              "    <tr>\n",
              "      <th>...</th>\n",
              "      <td>...</td>\n",
              "      <td>...</td>\n",
              "      <td>...</td>\n",
              "    </tr>\n",
              "    <tr>\n",
              "      <th>15914</th>\n",
              "      <td>NaN</td>\n",
              "      <td>nan</td>\n",
              "      <td>139</td>\n",
              "    </tr>\n",
              "    <tr>\n",
              "      <th>15915</th>\n",
              "      <td>NaN</td>\n",
              "      <td>nan</td>\n",
              "      <td>168</td>\n",
              "    </tr>\n",
              "    <tr>\n",
              "      <th>15916</th>\n",
              "      <td>NaN</td>\n",
              "      <td>Euro 6d-TEMP</td>\n",
              "      <td>139</td>\n",
              "    </tr>\n",
              "    <tr>\n",
              "      <th>15917</th>\n",
              "      <td>NaN</td>\n",
              "      <td>Euro 6</td>\n",
              "      <td>139</td>\n",
              "    </tr>\n",
              "    <tr>\n",
              "      <th>15918</th>\n",
              "      <td>[\\n4 (Green)\\n]</td>\n",
              "      <td>Euro 6</td>\n",
              "      <td>153</td>\n",
              "    </tr>\n",
              "  </tbody>\n",
              "</table>\n",
              "<p>15919 rows × 3 columns</p>\n",
              "</div>\n",
              "      <button class=\"colab-df-convert\" onclick=\"convertToInteractive('df-01e41eed-1e3f-44ad-80ac-e545557fa5f3')\"\n",
              "              title=\"Convert this dataframe to an interactive table.\"\n",
              "              style=\"display:none;\">\n",
              "        \n",
              "  <svg xmlns=\"http://www.w3.org/2000/svg\" height=\"24px\"viewBox=\"0 0 24 24\"\n",
              "       width=\"24px\">\n",
              "    <path d=\"M0 0h24v24H0V0z\" fill=\"none\"/>\n",
              "    <path d=\"M18.56 5.44l.94 2.06.94-2.06 2.06-.94-2.06-.94-.94-2.06-.94 2.06-2.06.94zm-11 1L8.5 8.5l.94-2.06 2.06-.94-2.06-.94L8.5 2.5l-.94 2.06-2.06.94zm10 10l.94 2.06.94-2.06 2.06-.94-2.06-.94-.94-2.06-.94 2.06-2.06.94z\"/><path d=\"M17.41 7.96l-1.37-1.37c-.4-.4-.92-.59-1.43-.59-.52 0-1.04.2-1.43.59L10.3 9.45l-7.72 7.72c-.78.78-.78 2.05 0 2.83L4 21.41c.39.39.9.59 1.41.59.51 0 1.02-.2 1.41-.59l7.78-7.78 2.81-2.81c.8-.78.8-2.07 0-2.86zM5.41 20L4 18.59l7.72-7.72 1.47 1.35L5.41 20z\"/>\n",
              "  </svg>\n",
              "      </button>\n",
              "      \n",
              "  <style>\n",
              "    .colab-df-container {\n",
              "      display:flex;\n",
              "      flex-wrap:wrap;\n",
              "      gap: 12px;\n",
              "    }\n",
              "\n",
              "    .colab-df-convert {\n",
              "      background-color: #E8F0FE;\n",
              "      border: none;\n",
              "      border-radius: 50%;\n",
              "      cursor: pointer;\n",
              "      display: none;\n",
              "      fill: #1967D2;\n",
              "      height: 32px;\n",
              "      padding: 0 0 0 0;\n",
              "      width: 32px;\n",
              "    }\n",
              "\n",
              "    .colab-df-convert:hover {\n",
              "      background-color: #E2EBFA;\n",
              "      box-shadow: 0px 1px 2px rgba(60, 64, 67, 0.3), 0px 1px 3px 1px rgba(60, 64, 67, 0.15);\n",
              "      fill: #174EA6;\n",
              "    }\n",
              "\n",
              "    [theme=dark] .colab-df-convert {\n",
              "      background-color: #3B4455;\n",
              "      fill: #D2E3FC;\n",
              "    }\n",
              "\n",
              "    [theme=dark] .colab-df-convert:hover {\n",
              "      background-color: #434B5C;\n",
              "      box-shadow: 0px 1px 3px 1px rgba(0, 0, 0, 0.15);\n",
              "      filter: drop-shadow(0px 1px 2px rgba(0, 0, 0, 0.3));\n",
              "      fill: #FFFFFF;\n",
              "    }\n",
              "  </style>\n",
              "\n",
              "      <script>\n",
              "        const buttonEl =\n",
              "          document.querySelector('#df-01e41eed-1e3f-44ad-80ac-e545557fa5f3 button.colab-df-convert');\n",
              "        buttonEl.style.display =\n",
              "          google.colab.kernel.accessAllowed ? 'block' : 'none';\n",
              "\n",
              "        async function convertToInteractive(key) {\n",
              "          const element = document.querySelector('#df-01e41eed-1e3f-44ad-80ac-e545557fa5f3');\n",
              "          const dataTable =\n",
              "            await google.colab.kernel.invokeFunction('convertToInteractive',\n",
              "                                                     [key], {});\n",
              "          if (!dataTable) return;\n",
              "\n",
              "          const docLinkHtml = 'Like what you see? Visit the ' +\n",
              "            '<a target=\"_blank\" href=https://colab.research.google.com/notebooks/data_table.ipynb>data table notebook</a>'\n",
              "            + ' to learn more about interactive tables.';\n",
              "          element.innerHTML = '';\n",
              "          dataTable['output_type'] = 'display_data';\n",
              "          await google.colab.output.renderOutput(dataTable, element);\n",
              "          const docLink = document.createElement('div');\n",
              "          docLink.innerHTML = docLinkHtml;\n",
              "          element.appendChild(docLink);\n",
              "        }\n",
              "      </script>\n",
              "    </div>\n",
              "  </div>\n",
              "  "
            ]
          },
          "metadata": {},
          "execution_count": 83
        }
      ]
    },
    {
      "cell_type": "markdown",
      "source": [
        "#7.EmissionLabel\n"
      ],
      "metadata": {
        "id": "D6J5ViH2SiLI"
      }
    },
    {
      "cell_type": "code",
      "source": [
        "df['Emission Label']=[item[0] if type(item)==list else item for item in df['Emission Label']]"
      ],
      "metadata": {
        "id": "JusbMBPBC76d"
      },
      "execution_count": null,
      "outputs": []
    },
    {
      "cell_type": "code",
      "source": [
        "df['Emission Label']"
      ],
      "metadata": {
        "colab": {
          "base_uri": "https://localhost:8080/"
        },
        "id": "D_Nv7QTlMPIT",
        "outputId": "7881b22e-906c-49ad-b2ec-c15a0d925971"
      },
      "execution_count": null,
      "outputs": [
        {
          "output_type": "execute_result",
          "data": {
            "text/plain": [
              "0                  NaN\n",
              "1        \\n4 (Green)\\n\n",
              "2        \\n4 (Green)\\n\n",
              "3                  NaN\n",
              "4                  NaN\n",
              "             ...      \n",
              "15914              NaN\n",
              "15915              NaN\n",
              "15916              NaN\n",
              "15917              NaN\n",
              "15918    \\n4 (Green)\\n\n",
              "Name: Emission Label, Length: 15919, dtype: object"
            ]
          },
          "metadata": {},
          "execution_count": 85
        }
      ]
    },
    {
      "cell_type": "code",
      "source": [
        "df['Emission Label']=df['Emission Label'].apply(str).str.strip(\"\\n\")\n",
        "df['Emission Label']"
      ],
      "metadata": {
        "colab": {
          "base_uri": "https://localhost:8080/"
        },
        "id": "_nd652plMTbt",
        "outputId": "b8f63dcf-540f-4678-ae0b-9b6c8d8bc164"
      },
      "execution_count": null,
      "outputs": [
        {
          "output_type": "execute_result",
          "data": {
            "text/plain": [
              "0              nan\n",
              "1        4 (Green)\n",
              "2        4 (Green)\n",
              "3              nan\n",
              "4              nan\n",
              "           ...    \n",
              "15914          nan\n",
              "15915          nan\n",
              "15916          nan\n",
              "15917          nan\n",
              "15918    4 (Green)\n",
              "Name: Emission Label, Length: 15919, dtype: object"
            ]
          },
          "metadata": {},
          "execution_count": 86
        }
      ]
    },
    {
      "cell_type": "code",
      "source": [
        "df['Emission Label'].value_counts()"
      ],
      "metadata": {
        "colab": {
          "base_uri": "https://localhost:8080/"
        },
        "id": "DreytYK7MPK8",
        "outputId": "8fbef4c9-076a-4527-b99a-04735a11ac69"
      },
      "execution_count": null,
      "outputs": [
        {
          "output_type": "execute_result",
          "data": {
            "text/plain": [
              "nan               11934\n",
              "4 (Green)          3553\n",
              "1 (No sticker)      381\n",
              "[]                   40\n",
              "5 (Blue)              8\n",
              "3 (Yellow)            2\n",
              "2 (Red)               1\n",
              "Name: Emission Label, dtype: int64"
            ]
          },
          "metadata": {},
          "execution_count": 87
        }
      ]
    },
    {
      "cell_type": "markdown",
      "source": [
        "#8.Electricity consumption"
      ],
      "metadata": {
        "id": "_W1u9xF2SzbL"
      }
    },
    {
      "cell_type": "code",
      "source": [
        "df['Electricity consumption']"
      ],
      "metadata": {
        "colab": {
          "base_uri": "https://localhost:8080/"
        },
        "id": "SjwtWcOBTNhF",
        "outputId": "be68b4eb-cbc1-4a32-82c1-e76101411d62"
      },
      "execution_count": null,
      "outputs": [
        {
          "output_type": "execute_result",
          "data": {
            "text/plain": [
              "0        NaN\n",
              "1        NaN\n",
              "2        NaN\n",
              "3        NaN\n",
              "4        NaN\n",
              "        ... \n",
              "15914    NaN\n",
              "15915    NaN\n",
              "15916    NaN\n",
              "15917    NaN\n",
              "15918    NaN\n",
              "Name: Electricity consumption, Length: 15919, dtype: object"
            ]
          },
          "metadata": {},
          "execution_count": 89
        }
      ]
    },
    {
      "cell_type": "code",
      "source": [
        "df['Electricity consumption'].isnull().sum()"
      ],
      "metadata": {
        "colab": {
          "base_uri": "https://localhost:8080/"
        },
        "id": "KdMuDgnrMfRY",
        "outputId": "bd5176d7-b8cc-4e99-b169-d4aca29fd96f"
      },
      "execution_count": null,
      "outputs": [
        {
          "output_type": "execute_result",
          "data": {
            "text/plain": [
              "15782"
            ]
          },
          "metadata": {},
          "execution_count": 88
        }
      ]
    },
    {
      "cell_type": "markdown",
      "source": [
        "#9.Other Fuel Types"
      ],
      "metadata": {
        "id": "lQcwLhx9S8tw"
      }
    },
    {
      "cell_type": "code",
      "source": [
        "df['Other Fuel Types'].isnull().sum()"
      ],
      "metadata": {
        "colab": {
          "base_uri": "https://localhost:8080/"
        },
        "id": "-1KNtoEYC8B7",
        "outputId": "e54a1326-286c-45b2-c2d5-fc3f33798b6f"
      },
      "execution_count": null,
      "outputs": [
        {
          "output_type": "execute_result",
          "data": {
            "text/plain": [
              "15039"
            ]
          },
          "metadata": {},
          "execution_count": 180
        }
      ]
    },
    {
      "cell_type": "markdown",
      "source": [
        "#rename columns"
      ],
      "metadata": {
        "id": "9b4vxI2ATB9_"
      }
    },
    {
      "cell_type": "code",
      "source": [
        "df.rename(columns = {'Previous Owners':'previous_owners',\n",
        "                    'Consumption':'consumption',\n",
        "                    'CO2 Emission':'CO2_emission_gCO2/km',\n",
        "                    'Emission Class':'emission_class',\n",
        "                    'Emission Label':'emission_label',\n",
        "                    'Electricity consumption':'electricity_consumption',\n",
        "                    'Other Fuel Types':'other_fuel_types'}, inplace = True)"
      ],
      "metadata": {
        "id": "n3bSDHtNC8Fl"
      },
      "execution_count": null,
      "outputs": []
    },
    {
      "cell_type": "markdown",
      "metadata": {
        "id": "59ko4m6l4a10"
      },
      "source": [
        "# PART- 2 `( Handling With Missing Vales )`"
      ]
    },
    {
      "cell_type": "code",
      "execution_count": null,
      "metadata": {
        "id": "LpsS9dcl4a2E"
      },
      "outputs": [],
      "source": [
        ""
      ]
    },
    {
      "cell_type": "markdown",
      "metadata": {
        "id": "BQanOONl4a2F"
      },
      "source": [
        "# PART- 3 `( Handling With Outliers )`"
      ]
    },
    {
      "cell_type": "code",
      "execution_count": null,
      "metadata": {
        "id": "_r3RNnuH4a2F"
      },
      "outputs": [],
      "source": [
        ""
      ]
    },
    {
      "cell_type": "markdown",
      "metadata": {
        "id": "0agM5zyW4a2G"
      },
      "source": [
        "# Final Step (Checking final situation of data via graphs)"
      ]
    },
    {
      "cell_type": "code",
      "execution_count": null,
      "metadata": {
        "id": "9ivkoGfF4a2H"
      },
      "outputs": [],
      "source": [
        ""
      ]
    },
    {
      "cell_type": "markdown",
      "metadata": {
        "id": "qeZLOSMk4a2I"
      },
      "source": [
        "## Export dataframe to csv file (without dummy)"
      ]
    },
    {
      "cell_type": "code",
      "execution_count": null,
      "metadata": {
        "id": "LXMIuuJB4a2J"
      },
      "outputs": [],
      "source": [
        "df.to_csv(\"final_scout_not_dummy.csv\", index=False)"
      ]
    },
    {
      "cell_type": "markdown",
      "metadata": {
        "id": "RjBmOyD14a2K"
      },
      "source": [
        "# Dummy Operation"
      ]
    },
    {
      "cell_type": "code",
      "execution_count": null,
      "metadata": {
        "id": "zpKSU5DI4a2L"
      },
      "outputs": [],
      "source": [
        ""
      ]
    },
    {
      "cell_type": "markdown",
      "metadata": {
        "id": "A53TW8_E4a2L"
      },
      "source": [
        "## Export dataframe to csv file (dummy)"
      ]
    },
    {
      "cell_type": "code",
      "execution_count": null,
      "metadata": {
        "id": "PsTOMWWB4a2M"
      },
      "outputs": [],
      "source": [
        "df_dummied.to_csv(\"final_scout_dummy.csv\", index=False)"
      ]
    }
  ],
  "metadata": {
    "kernelspec": {
      "display_name": "Python 3",
      "language": "python",
      "name": "python3"
    },
    "language_info": {
      "codemirror_mode": {
        "name": "ipython",
        "version": 3
      },
      "file_extension": ".py",
      "mimetype": "text/x-python",
      "name": "python",
      "nbconvert_exporter": "python",
      "pygments_lexer": "ipython3",
      "version": "3.7.6"
    },
    "colab": {
      "name": "gülcan_DAwPy_Capstone_Project_(AutoScout)_Student.ipynb",
      "provenance": [],
      "collapsed_sections": [],
      "toc_visible": true,
      "include_colab_link": true
    }
  },
  "nbformat": 4,
  "nbformat_minor": 0
}