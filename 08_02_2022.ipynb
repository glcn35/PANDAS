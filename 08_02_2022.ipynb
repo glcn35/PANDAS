{
  "nbformat": 4,
  "nbformat_minor": 0,
  "metadata": {
    "colab": {
      "name": "08.02.2022.ipynb",
      "provenance": [],
      "collapsed_sections": [],
      "authorship_tag": "ABX9TyOMPIQPCEBdiyPDT31ACnjk",
      "include_colab_link": true
    },
    "kernelspec": {
      "name": "python3",
      "display_name": "Python 3"
    },
    "language_info": {
      "name": "python"
    }
  },
  "cells": [
    {
      "cell_type": "markdown",
      "metadata": {
        "id": "view-in-github",
        "colab_type": "text"
      },
      "source": [
        "<a href=\"https://colab.research.google.com/github/glcn35/PANDAS/blob/main/08_02_2022.ipynb\" target=\"_parent\"><img src=\"https://colab.research.google.com/assets/colab-badge.svg\" alt=\"Open In Colab\"/></a>"
      ]
    },
    {
      "cell_type": "code",
      "execution_count": 32,
      "metadata": {
        "id": "eFLwsWfVDyfY"
      },
      "outputs": [],
      "source": [
        "import numpy as np\n",
        "import pandas as pd\n",
        "import seaborn as sns"
      ]
    },
    {
      "cell_type": "code",
      "source": [
        "df = pd.read_csv(\"/content/sample_data/sales_082020.csv\")\n",
        "df"
      ],
      "metadata": {
        "colab": {
          "base_uri": "https://localhost:8080/",
          "height": 423
        },
        "id": "NFD4zaiND3pA",
        "outputId": "4cc7b199-c10b-4385-ce72-847a4b7f5316"
      },
      "execution_count": 83,
      "outputs": [
        {
          "output_type": "execute_result",
          "data": {
            "text/html": [
              "\n",
              "  <div id=\"df-cddfe1c9-4cd8-48e5-85a2-79c9d80dd09b\">\n",
              "    <div class=\"colab-df-container\">\n",
              "      <div>\n",
              "<style scoped>\n",
              "    .dataframe tbody tr th:only-of-type {\n",
              "        vertical-align: middle;\n",
              "    }\n",
              "\n",
              "    .dataframe tbody tr th {\n",
              "        vertical-align: top;\n",
              "    }\n",
              "\n",
              "    .dataframe thead th {\n",
              "        text-align: right;\n",
              "    }\n",
              "</style>\n",
              "<table border=\"1\" class=\"dataframe\">\n",
              "  <thead>\n",
              "    <tr style=\"text-align: right;\">\n",
              "      <th></th>\n",
              "      <th>buyer_id</th>\n",
              "      <th>buyer_country</th>\n",
              "      <th>seller_id</th>\n",
              "      <th>seller_country</th>\n",
              "      <th>product_code</th>\n",
              "      <th>category</th>\n",
              "      <th>brand</th>\n",
              "      <th>currency</th>\n",
              "      <th>price</th>\n",
              "      <th>date</th>\n",
              "    </tr>\n",
              "  </thead>\n",
              "  <tbody>\n",
              "    <tr>\n",
              "      <th>0</th>\n",
              "      <td>qzpjsi9t0o</td>\n",
              "      <td>GB</td>\n",
              "      <td>6oufpaot</td>\n",
              "      <td>GB</td>\n",
              "      <td>ydecnydr6obf</td>\n",
              "      <td>Dresses</td>\n",
              "      <td>NaN</td>\n",
              "      <td>GBP</td>\n",
              "      <td>19.11</td>\n",
              "      <td>2020-08-03</td>\n",
              "    </tr>\n",
              "    <tr>\n",
              "      <th>1</th>\n",
              "      <td>o79pns1qwo</td>\n",
              "      <td>GB</td>\n",
              "      <td>50xki2yg</td>\n",
              "      <td>GB</td>\n",
              "      <td>38chj507o6h2</td>\n",
              "      <td>Outerwear</td>\n",
              "      <td>Adidas Originals</td>\n",
              "      <td>GBP</td>\n",
              "      <td>15.92</td>\n",
              "      <td>2020-08-09</td>\n",
              "    </tr>\n",
              "    <tr>\n",
              "      <th>2</th>\n",
              "      <td>sjgbjdkhqx</td>\n",
              "      <td>GB</td>\n",
              "      <td>50xki2yg</td>\n",
              "      <td>GB</td>\n",
              "      <td>i9ynyxj5tdp8</td>\n",
              "      <td>Tops - Mens</td>\n",
              "      <td>NaN</td>\n",
              "      <td>GBP</td>\n",
              "      <td>6.37</td>\n",
              "      <td>2020-08-07</td>\n",
              "    </tr>\n",
              "    <tr>\n",
              "      <th>3</th>\n",
              "      <td>o79pns1qwo</td>\n",
              "      <td>GB</td>\n",
              "      <td>s0p322hh</td>\n",
              "      <td>GB</td>\n",
              "      <td>t50xe7moye8v</td>\n",
              "      <td>Tops - Mens</td>\n",
              "      <td>Berghaus</td>\n",
              "      <td>GBP</td>\n",
              "      <td>25.27</td>\n",
              "      <td>2020-08-09</td>\n",
              "    </tr>\n",
              "    <tr>\n",
              "      <th>4</th>\n",
              "      <td>o79pns1qwo</td>\n",
              "      <td>GB</td>\n",
              "      <td>dpkx192v</td>\n",
              "      <td>GB</td>\n",
              "      <td>hp4r9bjq68af</td>\n",
              "      <td>Bottoms - Womens</td>\n",
              "      <td>NaN</td>\n",
              "      <td>GBP</td>\n",
              "      <td>8.90</td>\n",
              "      <td>2020-08-09</td>\n",
              "    </tr>\n",
              "    <tr>\n",
              "      <th>...</th>\n",
              "      <td>...</td>\n",
              "      <td>...</td>\n",
              "      <td>...</td>\n",
              "      <td>...</td>\n",
              "      <td>...</td>\n",
              "      <td>...</td>\n",
              "      <td>...</td>\n",
              "      <td>...</td>\n",
              "      <td>...</td>\n",
              "      <td>...</td>\n",
              "    </tr>\n",
              "    <tr>\n",
              "      <th>237666</th>\n",
              "      <td>p7ibf7soot</td>\n",
              "      <td>GB</td>\n",
              "      <td>ss7jy9ks</td>\n",
              "      <td>GB</td>\n",
              "      <td>hzc7pmjxmsb6</td>\n",
              "      <td>Bottoms - Womens</td>\n",
              "      <td>NaN</td>\n",
              "      <td>GBP</td>\n",
              "      <td>17.11</td>\n",
              "      <td>2020-08-06</td>\n",
              "    </tr>\n",
              "    <tr>\n",
              "      <th>237667</th>\n",
              "      <td>2hg8zirueq</td>\n",
              "      <td>US</td>\n",
              "      <td>bk6apusi</td>\n",
              "      <td>US</td>\n",
              "      <td>fskn84lfyrvz</td>\n",
              "      <td>Home</td>\n",
              "      <td>NaN</td>\n",
              "      <td>USD</td>\n",
              "      <td>69.00</td>\n",
              "      <td>2020-08-05</td>\n",
              "    </tr>\n",
              "    <tr>\n",
              "      <th>237668</th>\n",
              "      <td>k5hmcfxcs6</td>\n",
              "      <td>GB</td>\n",
              "      <td>n2ez0xph</td>\n",
              "      <td>GB</td>\n",
              "      <td>5afe7yhdpcmz</td>\n",
              "      <td>Other</td>\n",
              "      <td>NaN</td>\n",
              "      <td>GBP</td>\n",
              "      <td>58.28</td>\n",
              "      <td>2020-08-05</td>\n",
              "    </tr>\n",
              "    <tr>\n",
              "      <th>237669</th>\n",
              "      <td>ca8nc8qv1x</td>\n",
              "      <td>GB</td>\n",
              "      <td>j1s4nqxb</td>\n",
              "      <td>GB</td>\n",
              "      <td>ktdrjbrq0fo2</td>\n",
              "      <td>Shoes</td>\n",
              "      <td>NaN</td>\n",
              "      <td>GBP</td>\n",
              "      <td>9.46</td>\n",
              "      <td>2020-08-05</td>\n",
              "    </tr>\n",
              "    <tr>\n",
              "      <th>237670</th>\n",
              "      <td>z09h7w9zcd</td>\n",
              "      <td>US</td>\n",
              "      <td>0au7baxi</td>\n",
              "      <td>US</td>\n",
              "      <td>0r1qni2g1zi4</td>\n",
              "      <td>Other</td>\n",
              "      <td>NaN</td>\n",
              "      <td>USD</td>\n",
              "      <td>160.76</td>\n",
              "      <td>2020-08-06</td>\n",
              "    </tr>\n",
              "  </tbody>\n",
              "</table>\n",
              "<p>237671 rows × 10 columns</p>\n",
              "</div>\n",
              "      <button class=\"colab-df-convert\" onclick=\"convertToInteractive('df-cddfe1c9-4cd8-48e5-85a2-79c9d80dd09b')\"\n",
              "              title=\"Convert this dataframe to an interactive table.\"\n",
              "              style=\"display:none;\">\n",
              "        \n",
              "  <svg xmlns=\"http://www.w3.org/2000/svg\" height=\"24px\"viewBox=\"0 0 24 24\"\n",
              "       width=\"24px\">\n",
              "    <path d=\"M0 0h24v24H0V0z\" fill=\"none\"/>\n",
              "    <path d=\"M18.56 5.44l.94 2.06.94-2.06 2.06-.94-2.06-.94-.94-2.06-.94 2.06-2.06.94zm-11 1L8.5 8.5l.94-2.06 2.06-.94-2.06-.94L8.5 2.5l-.94 2.06-2.06.94zm10 10l.94 2.06.94-2.06 2.06-.94-2.06-.94-.94-2.06-.94 2.06-2.06.94z\"/><path d=\"M17.41 7.96l-1.37-1.37c-.4-.4-.92-.59-1.43-.59-.52 0-1.04.2-1.43.59L10.3 9.45l-7.72 7.72c-.78.78-.78 2.05 0 2.83L4 21.41c.39.39.9.59 1.41.59.51 0 1.02-.2 1.41-.59l7.78-7.78 2.81-2.81c.8-.78.8-2.07 0-2.86zM5.41 20L4 18.59l7.72-7.72 1.47 1.35L5.41 20z\"/>\n",
              "  </svg>\n",
              "      </button>\n",
              "      \n",
              "  <style>\n",
              "    .colab-df-container {\n",
              "      display:flex;\n",
              "      flex-wrap:wrap;\n",
              "      gap: 12px;\n",
              "    }\n",
              "\n",
              "    .colab-df-convert {\n",
              "      background-color: #E8F0FE;\n",
              "      border: none;\n",
              "      border-radius: 50%;\n",
              "      cursor: pointer;\n",
              "      display: none;\n",
              "      fill: #1967D2;\n",
              "      height: 32px;\n",
              "      padding: 0 0 0 0;\n",
              "      width: 32px;\n",
              "    }\n",
              "\n",
              "    .colab-df-convert:hover {\n",
              "      background-color: #E2EBFA;\n",
              "      box-shadow: 0px 1px 2px rgba(60, 64, 67, 0.3), 0px 1px 3px 1px rgba(60, 64, 67, 0.15);\n",
              "      fill: #174EA6;\n",
              "    }\n",
              "\n",
              "    [theme=dark] .colab-df-convert {\n",
              "      background-color: #3B4455;\n",
              "      fill: #D2E3FC;\n",
              "    }\n",
              "\n",
              "    [theme=dark] .colab-df-convert:hover {\n",
              "      background-color: #434B5C;\n",
              "      box-shadow: 0px 1px 3px 1px rgba(0, 0, 0, 0.15);\n",
              "      filter: drop-shadow(0px 1px 2px rgba(0, 0, 0, 0.3));\n",
              "      fill: #FFFFFF;\n",
              "    }\n",
              "  </style>\n",
              "\n",
              "      <script>\n",
              "        const buttonEl =\n",
              "          document.querySelector('#df-cddfe1c9-4cd8-48e5-85a2-79c9d80dd09b button.colab-df-convert');\n",
              "        buttonEl.style.display =\n",
              "          google.colab.kernel.accessAllowed ? 'block' : 'none';\n",
              "\n",
              "        async function convertToInteractive(key) {\n",
              "          const element = document.querySelector('#df-cddfe1c9-4cd8-48e5-85a2-79c9d80dd09b');\n",
              "          const dataTable =\n",
              "            await google.colab.kernel.invokeFunction('convertToInteractive',\n",
              "                                                     [key], {});\n",
              "          if (!dataTable) return;\n",
              "\n",
              "          const docLinkHtml = 'Like what you see? Visit the ' +\n",
              "            '<a target=\"_blank\" href=https://colab.research.google.com/notebooks/data_table.ipynb>data table notebook</a>'\n",
              "            + ' to learn more about interactive tables.';\n",
              "          element.innerHTML = '';\n",
              "          dataTable['output_type'] = 'display_data';\n",
              "          await google.colab.output.renderOutput(dataTable, element);\n",
              "          const docLink = document.createElement('div');\n",
              "          docLink.innerHTML = docLinkHtml;\n",
              "          element.appendChild(docLink);\n",
              "        }\n",
              "      </script>\n",
              "    </div>\n",
              "  </div>\n",
              "  "
            ],
            "text/plain": [
              "          buyer_id buyer_country seller_id  ... currency   price        date\n",
              "0       qzpjsi9t0o            GB  6oufpaot  ...      GBP   19.11  2020-08-03\n",
              "1       o79pns1qwo            GB  50xki2yg  ...      GBP   15.92  2020-08-09\n",
              "2       sjgbjdkhqx            GB  50xki2yg  ...      GBP    6.37  2020-08-07\n",
              "3       o79pns1qwo            GB  s0p322hh  ...      GBP   25.27  2020-08-09\n",
              "4       o79pns1qwo            GB  dpkx192v  ...      GBP    8.90  2020-08-09\n",
              "...            ...           ...       ...  ...      ...     ...         ...\n",
              "237666  p7ibf7soot            GB  ss7jy9ks  ...      GBP   17.11  2020-08-06\n",
              "237667  2hg8zirueq            US  bk6apusi  ...      USD   69.00  2020-08-05\n",
              "237668  k5hmcfxcs6            GB  n2ez0xph  ...      GBP   58.28  2020-08-05\n",
              "237669  ca8nc8qv1x            GB  j1s4nqxb  ...      GBP    9.46  2020-08-05\n",
              "237670  z09h7w9zcd            US  0au7baxi  ...      USD  160.76  2020-08-06\n",
              "\n",
              "[237671 rows x 10 columns]"
            ]
          },
          "metadata": {},
          "execution_count": 83
        }
      ]
    },
    {
      "cell_type": "markdown",
      "source": [
        ". How many rows in the sales dataset?(Just write numbers) *\n",
        "1. Satış veri setinde kaç satır var?(Sadece rakam yazın) *\n",
        "\n",
        "2. How many columns in the sales dataset?(Just write numbers) *"
      ],
      "metadata": {
        "id": "AICvZjmNeaGN"
      }
    },
    {
      "cell_type": "code",
      "source": [
        "df.shape"
      ],
      "metadata": {
        "colab": {
          "base_uri": "https://localhost:8080/"
        },
        "id": "yNryh7yyD3rs",
        "outputId": "402632c1-b13d-4334-f342-fe17f055dea3"
      },
      "execution_count": 34,
      "outputs": [
        {
          "output_type": "execute_result",
          "data": {
            "text/plain": [
              "(237671, 10)"
            ]
          },
          "metadata": {},
          "execution_count": 34
        }
      ]
    },
    {
      "cell_type": "code",
      "source": [
        "df.info()"
      ],
      "metadata": {
        "colab": {
          "base_uri": "https://localhost:8080/"
        },
        "id": "SeCt0ORKD3ui",
        "outputId": "1589bf20-9c51-410a-e1f7-d3b42e58f666"
      },
      "execution_count": 35,
      "outputs": [
        {
          "output_type": "stream",
          "name": "stdout",
          "text": [
            "<class 'pandas.core.frame.DataFrame'>\n",
            "RangeIndex: 237671 entries, 0 to 237670\n",
            "Data columns (total 10 columns):\n",
            " #   Column          Non-Null Count   Dtype  \n",
            "---  ------          --------------   -----  \n",
            " 0   buyer_id        237671 non-null  object \n",
            " 1   buyer_country   237671 non-null  object \n",
            " 2   seller_id       237671 non-null  object \n",
            " 3   seller_country  237671 non-null  object \n",
            " 4   product_code    237671 non-null  object \n",
            " 5   category        237655 non-null  object \n",
            " 6   brand           119330 non-null  object \n",
            " 7   currency        237671 non-null  object \n",
            " 8   price           237671 non-null  float64\n",
            " 9   date            237671 non-null  object \n",
            "dtypes: float64(1), object(9)\n",
            "memory usage: 18.1+ MB\n"
          ]
        }
      ]
    },
    {
      "cell_type": "markdown",
      "source": [
        "3. What is the total number of sellers?(Just write numbers) *\n",
        "3. Toplam satıcı sayısı nedir?(Sadece rakam yazınız) *"
      ],
      "metadata": {
        "id": "zUPIkZ1re4gj"
      }
    },
    {
      "cell_type": "code",
      "source": [
        "df[\"seller_id\"].value_counts(dropna=False)"
      ],
      "metadata": {
        "colab": {
          "base_uri": "https://localhost:8080/"
        },
        "id": "B2VWZOFSD3xC",
        "outputId": "7364fe41-0a1b-403b-8f30-ec56331dedcb"
      },
      "execution_count": 36,
      "outputs": [
        {
          "output_type": "execute_result",
          "data": {
            "text/plain": [
              "pzsiehl0    703\n",
              "wd3rgi3q    525\n",
              "j21w87xy    500\n",
              "dbm0o9qu    436\n",
              "hbtm3tdy    316\n",
              "           ... \n",
              "b79drc4f      1\n",
              "ivtfeqcd      1\n",
              "uvfzdgb4      1\n",
              "pbrox97s      1\n",
              "0au7baxi      1\n",
              "Name: seller_id, Length: 114227, dtype: int64"
            ]
          },
          "metadata": {},
          "execution_count": 36
        }
      ]
    },
    {
      "cell_type": "code",
      "source": [
        "df[\"seller_id\"].unique()"
      ],
      "metadata": {
        "colab": {
          "base_uri": "https://localhost:8080/"
        },
        "id": "JM3BoGYFD3zg",
        "outputId": "44da7080-fd37-4373-b03a-0e8af104f33f"
      },
      "execution_count": 37,
      "outputs": [
        {
          "output_type": "execute_result",
          "data": {
            "text/plain": [
              "array(['6oufpaot', '50xki2yg', 's0p322hh', ..., 'n2ez0xph', 'j1s4nqxb',\n",
              "       '0au7baxi'], dtype=object)"
            ]
          },
          "metadata": {},
          "execution_count": 37
        }
      ]
    },
    {
      "cell_type": "code",
      "source": [
        "df[\"seller_id\"].nunique()"
      ],
      "metadata": {
        "colab": {
          "base_uri": "https://localhost:8080/"
        },
        "id": "CngsVynHD32P",
        "outputId": "2a33b21b-1bed-4f4b-bee9-0e8b4fa66555"
      },
      "execution_count": 38,
      "outputs": [
        {
          "output_type": "execute_result",
          "data": {
            "text/plain": [
              "114227"
            ]
          },
          "metadata": {},
          "execution_count": 38
        }
      ]
    },
    {
      "cell_type": "code",
      "source": [
        "df[\"price\"].isnull().sum()"
      ],
      "metadata": {
        "colab": {
          "base_uri": "https://localhost:8080/"
        },
        "id": "tt203NkvD35W",
        "outputId": "3b5ef584-ffc6-4cee-a74d-be064d919321"
      },
      "execution_count": 39,
      "outputs": [
        {
          "output_type": "execute_result",
          "data": {
            "text/plain": [
              "0"
            ]
          },
          "metadata": {},
          "execution_count": 39
        }
      ]
    },
    {
      "cell_type": "code",
      "source": [
        "df[\"price\"].sum()"
      ],
      "metadata": {
        "colab": {
          "base_uri": "https://localhost:8080/"
        },
        "id": "RG13MCumD38e",
        "outputId": "f323b93d-e87d-4a6a-fc0c-a13877df6b80"
      },
      "execution_count": 40,
      "outputs": [
        {
          "output_type": "execute_result",
          "data": {
            "text/plain": [
              "6739727.730000001"
            ]
          },
          "metadata": {},
          "execution_count": 40
        }
      ]
    },
    {
      "cell_type": "code",
      "source": [
        "df[\"currency\"].value_counts()"
      ],
      "metadata": {
        "colab": {
          "base_uri": "https://localhost:8080/"
        },
        "id": "QVpYN_HdD3_L",
        "outputId": "93f36576-e152-486a-988d-20261585cf93"
      },
      "execution_count": 41,
      "outputs": [
        {
          "output_type": "execute_result",
          "data": {
            "text/plain": [
              "GBP    139478\n",
              "USD     82558\n",
              "AUD      7580\n",
              "EUR      5934\n",
              "CAD      1651\n",
              "NZD       306\n",
              "CHF        95\n",
              "SEK        25\n",
              "DKK        16\n",
              "JPY         6\n",
              "SGD         5\n",
              "PLN         5\n",
              "MXN         2\n",
              "NOK         2\n",
              "THB         1\n",
              "ILS         1\n",
              "HKD         1\n",
              "MYR         1\n",
              "TWD         1\n",
              "HUF         1\n",
              "CZK         1\n",
              "BRL         1\n",
              "Name: currency, dtype: int64"
            ]
          },
          "metadata": {},
          "execution_count": 41
        }
      ]
    },
    {
      "cell_type": "markdown",
      "source": [
        "4. What is the total value of sales in EUR?(Just write numbers) *\n",
        " Satışların EUR cinsinden toplam değeri nedir?(Sadece rakam yazınız) *"
      ],
      "metadata": {
        "id": "qDFpGqqOftQ5"
      }
    },
    {
      "cell_type": "code",
      "source": [
        "df[df[\"currency\"]==\"EUR\"][\"price\"].sum()"
      ],
      "metadata": {
        "colab": {
          "base_uri": "https://localhost:8080/"
        },
        "id": "h9OHlrDgNR-y",
        "outputId": "6b6c50ba-218e-4354-f1af-1d74e80c118f"
      },
      "execution_count": 42,
      "outputs": [
        {
          "output_type": "execute_result",
          "data": {
            "text/plain": [
              "275837.69"
            ]
          },
          "metadata": {},
          "execution_count": 42
        }
      ]
    },
    {
      "cell_type": "code",
      "source": [
        "df1= pd.read_csv(\"/content/sample_data/currency_rates_082020_EUR.csv\")\n",
        "df1.head(1)"
      ],
      "metadata": {
        "colab": {
          "base_uri": "https://localhost:8080/",
          "height": 81
        },
        "id": "KRR0IxZew2cG",
        "outputId": "ede72dc6-88e2-41b0-f0c4-1a7937987a08"
      },
      "execution_count": 124,
      "outputs": [
        {
          "output_type": "execute_result",
          "data": {
            "text/html": [
              "\n",
              "  <div id=\"df-9c57cf9e-bb3e-47d4-bbad-8bc5b3c82d32\">\n",
              "    <div class=\"colab-df-container\">\n",
              "      <div>\n",
              "<style scoped>\n",
              "    .dataframe tbody tr th:only-of-type {\n",
              "        vertical-align: middle;\n",
              "    }\n",
              "\n",
              "    .dataframe tbody tr th {\n",
              "        vertical-align: top;\n",
              "    }\n",
              "\n",
              "    .dataframe thead th {\n",
              "        text-align: right;\n",
              "    }\n",
              "</style>\n",
              "<table border=\"1\" class=\"dataframe\">\n",
              "  <thead>\n",
              "    <tr style=\"text-align: right;\">\n",
              "      <th></th>\n",
              "      <th>currency</th>\n",
              "      <th>date</th>\n",
              "      <th>rate</th>\n",
              "    </tr>\n",
              "  </thead>\n",
              "  <tbody>\n",
              "    <tr>\n",
              "      <th>0</th>\n",
              "      <td>EUR</td>\n",
              "      <td>8/1/2020</td>\n",
              "      <td>1.0</td>\n",
              "    </tr>\n",
              "  </tbody>\n",
              "</table>\n",
              "</div>\n",
              "      <button class=\"colab-df-convert\" onclick=\"convertToInteractive('df-9c57cf9e-bb3e-47d4-bbad-8bc5b3c82d32')\"\n",
              "              title=\"Convert this dataframe to an interactive table.\"\n",
              "              style=\"display:none;\">\n",
              "        \n",
              "  <svg xmlns=\"http://www.w3.org/2000/svg\" height=\"24px\"viewBox=\"0 0 24 24\"\n",
              "       width=\"24px\">\n",
              "    <path d=\"M0 0h24v24H0V0z\" fill=\"none\"/>\n",
              "    <path d=\"M18.56 5.44l.94 2.06.94-2.06 2.06-.94-2.06-.94-.94-2.06-.94 2.06-2.06.94zm-11 1L8.5 8.5l.94-2.06 2.06-.94-2.06-.94L8.5 2.5l-.94 2.06-2.06.94zm10 10l.94 2.06.94-2.06 2.06-.94-2.06-.94-.94-2.06-.94 2.06-2.06.94z\"/><path d=\"M17.41 7.96l-1.37-1.37c-.4-.4-.92-.59-1.43-.59-.52 0-1.04.2-1.43.59L10.3 9.45l-7.72 7.72c-.78.78-.78 2.05 0 2.83L4 21.41c.39.39.9.59 1.41.59.51 0 1.02-.2 1.41-.59l7.78-7.78 2.81-2.81c.8-.78.8-2.07 0-2.86zM5.41 20L4 18.59l7.72-7.72 1.47 1.35L5.41 20z\"/>\n",
              "  </svg>\n",
              "      </button>\n",
              "      \n",
              "  <style>\n",
              "    .colab-df-container {\n",
              "      display:flex;\n",
              "      flex-wrap:wrap;\n",
              "      gap: 12px;\n",
              "    }\n",
              "\n",
              "    .colab-df-convert {\n",
              "      background-color: #E8F0FE;\n",
              "      border: none;\n",
              "      border-radius: 50%;\n",
              "      cursor: pointer;\n",
              "      display: none;\n",
              "      fill: #1967D2;\n",
              "      height: 32px;\n",
              "      padding: 0 0 0 0;\n",
              "      width: 32px;\n",
              "    }\n",
              "\n",
              "    .colab-df-convert:hover {\n",
              "      background-color: #E2EBFA;\n",
              "      box-shadow: 0px 1px 2px rgba(60, 64, 67, 0.3), 0px 1px 3px 1px rgba(60, 64, 67, 0.15);\n",
              "      fill: #174EA6;\n",
              "    }\n",
              "\n",
              "    [theme=dark] .colab-df-convert {\n",
              "      background-color: #3B4455;\n",
              "      fill: #D2E3FC;\n",
              "    }\n",
              "\n",
              "    [theme=dark] .colab-df-convert:hover {\n",
              "      background-color: #434B5C;\n",
              "      box-shadow: 0px 1px 3px 1px rgba(0, 0, 0, 0.15);\n",
              "      filter: drop-shadow(0px 1px 2px rgba(0, 0, 0, 0.3));\n",
              "      fill: #FFFFFF;\n",
              "    }\n",
              "  </style>\n",
              "\n",
              "      <script>\n",
              "        const buttonEl =\n",
              "          document.querySelector('#df-9c57cf9e-bb3e-47d4-bbad-8bc5b3c82d32 button.colab-df-convert');\n",
              "        buttonEl.style.display =\n",
              "          google.colab.kernel.accessAllowed ? 'block' : 'none';\n",
              "\n",
              "        async function convertToInteractive(key) {\n",
              "          const element = document.querySelector('#df-9c57cf9e-bb3e-47d4-bbad-8bc5b3c82d32');\n",
              "          const dataTable =\n",
              "            await google.colab.kernel.invokeFunction('convertToInteractive',\n",
              "                                                     [key], {});\n",
              "          if (!dataTable) return;\n",
              "\n",
              "          const docLinkHtml = 'Like what you see? Visit the ' +\n",
              "            '<a target=\"_blank\" href=https://colab.research.google.com/notebooks/data_table.ipynb>data table notebook</a>'\n",
              "            + ' to learn more about interactive tables.';\n",
              "          element.innerHTML = '';\n",
              "          dataTable['output_type'] = 'display_data';\n",
              "          await google.colab.output.renderOutput(dataTable, element);\n",
              "          const docLink = document.createElement('div');\n",
              "          docLink.innerHTML = docLinkHtml;\n",
              "          element.appendChild(docLink);\n",
              "        }\n",
              "      </script>\n",
              "    </div>\n",
              "  </div>\n",
              "  "
            ],
            "text/plain": [
              "  currency      date  rate\n",
              "0      EUR  8/1/2020   1.0"
            ]
          },
          "metadata": {},
          "execution_count": 124
        }
      ]
    },
    {
      "cell_type": "code",
      "source": [
        "df.head(1)"
      ],
      "metadata": {
        "colab": {
          "base_uri": "https://localhost:8080/",
          "height": 81
        },
        "id": "RnnRRQp76ZVS",
        "outputId": "2ba7beaa-2ef8-44e8-d9a4-132c5a8c4a11"
      },
      "execution_count": 123,
      "outputs": [
        {
          "output_type": "execute_result",
          "data": {
            "text/html": [
              "\n",
              "  <div id=\"df-ebde36f7-1fbe-40f0-8969-684ec4aa76b2\">\n",
              "    <div class=\"colab-df-container\">\n",
              "      <div>\n",
              "<style scoped>\n",
              "    .dataframe tbody tr th:only-of-type {\n",
              "        vertical-align: middle;\n",
              "    }\n",
              "\n",
              "    .dataframe tbody tr th {\n",
              "        vertical-align: top;\n",
              "    }\n",
              "\n",
              "    .dataframe thead th {\n",
              "        text-align: right;\n",
              "    }\n",
              "</style>\n",
              "<table border=\"1\" class=\"dataframe\">\n",
              "  <thead>\n",
              "    <tr style=\"text-align: right;\">\n",
              "      <th></th>\n",
              "      <th>buyer_id</th>\n",
              "      <th>buyer_country</th>\n",
              "      <th>seller_id</th>\n",
              "      <th>seller_country</th>\n",
              "      <th>product_code</th>\n",
              "      <th>category</th>\n",
              "      <th>brand</th>\n",
              "      <th>currency</th>\n",
              "      <th>price</th>\n",
              "      <th>date</th>\n",
              "    </tr>\n",
              "  </thead>\n",
              "  <tbody>\n",
              "    <tr>\n",
              "      <th>0</th>\n",
              "      <td>qzpjsi9t0o</td>\n",
              "      <td>GB</td>\n",
              "      <td>6oufpaot</td>\n",
              "      <td>GB</td>\n",
              "      <td>ydecnydr6obf</td>\n",
              "      <td>Dresses</td>\n",
              "      <td>NaN</td>\n",
              "      <td>GBP</td>\n",
              "      <td>19.11</td>\n",
              "      <td>2020-08-03</td>\n",
              "    </tr>\n",
              "  </tbody>\n",
              "</table>\n",
              "</div>\n",
              "      <button class=\"colab-df-convert\" onclick=\"convertToInteractive('df-ebde36f7-1fbe-40f0-8969-684ec4aa76b2')\"\n",
              "              title=\"Convert this dataframe to an interactive table.\"\n",
              "              style=\"display:none;\">\n",
              "        \n",
              "  <svg xmlns=\"http://www.w3.org/2000/svg\" height=\"24px\"viewBox=\"0 0 24 24\"\n",
              "       width=\"24px\">\n",
              "    <path d=\"M0 0h24v24H0V0z\" fill=\"none\"/>\n",
              "    <path d=\"M18.56 5.44l.94 2.06.94-2.06 2.06-.94-2.06-.94-.94-2.06-.94 2.06-2.06.94zm-11 1L8.5 8.5l.94-2.06 2.06-.94-2.06-.94L8.5 2.5l-.94 2.06-2.06.94zm10 10l.94 2.06.94-2.06 2.06-.94-2.06-.94-.94-2.06-.94 2.06-2.06.94z\"/><path d=\"M17.41 7.96l-1.37-1.37c-.4-.4-.92-.59-1.43-.59-.52 0-1.04.2-1.43.59L10.3 9.45l-7.72 7.72c-.78.78-.78 2.05 0 2.83L4 21.41c.39.39.9.59 1.41.59.51 0 1.02-.2 1.41-.59l7.78-7.78 2.81-2.81c.8-.78.8-2.07 0-2.86zM5.41 20L4 18.59l7.72-7.72 1.47 1.35L5.41 20z\"/>\n",
              "  </svg>\n",
              "      </button>\n",
              "      \n",
              "  <style>\n",
              "    .colab-df-container {\n",
              "      display:flex;\n",
              "      flex-wrap:wrap;\n",
              "      gap: 12px;\n",
              "    }\n",
              "\n",
              "    .colab-df-convert {\n",
              "      background-color: #E8F0FE;\n",
              "      border: none;\n",
              "      border-radius: 50%;\n",
              "      cursor: pointer;\n",
              "      display: none;\n",
              "      fill: #1967D2;\n",
              "      height: 32px;\n",
              "      padding: 0 0 0 0;\n",
              "      width: 32px;\n",
              "    }\n",
              "\n",
              "    .colab-df-convert:hover {\n",
              "      background-color: #E2EBFA;\n",
              "      box-shadow: 0px 1px 2px rgba(60, 64, 67, 0.3), 0px 1px 3px 1px rgba(60, 64, 67, 0.15);\n",
              "      fill: #174EA6;\n",
              "    }\n",
              "\n",
              "    [theme=dark] .colab-df-convert {\n",
              "      background-color: #3B4455;\n",
              "      fill: #D2E3FC;\n",
              "    }\n",
              "\n",
              "    [theme=dark] .colab-df-convert:hover {\n",
              "      background-color: #434B5C;\n",
              "      box-shadow: 0px 1px 3px 1px rgba(0, 0, 0, 0.15);\n",
              "      filter: drop-shadow(0px 1px 2px rgba(0, 0, 0, 0.3));\n",
              "      fill: #FFFFFF;\n",
              "    }\n",
              "  </style>\n",
              "\n",
              "      <script>\n",
              "        const buttonEl =\n",
              "          document.querySelector('#df-ebde36f7-1fbe-40f0-8969-684ec4aa76b2 button.colab-df-convert');\n",
              "        buttonEl.style.display =\n",
              "          google.colab.kernel.accessAllowed ? 'block' : 'none';\n",
              "\n",
              "        async function convertToInteractive(key) {\n",
              "          const element = document.querySelector('#df-ebde36f7-1fbe-40f0-8969-684ec4aa76b2');\n",
              "          const dataTable =\n",
              "            await google.colab.kernel.invokeFunction('convertToInteractive',\n",
              "                                                     [key], {});\n",
              "          if (!dataTable) return;\n",
              "\n",
              "          const docLinkHtml = 'Like what you see? Visit the ' +\n",
              "            '<a target=\"_blank\" href=https://colab.research.google.com/notebooks/data_table.ipynb>data table notebook</a>'\n",
              "            + ' to learn more about interactive tables.';\n",
              "          element.innerHTML = '';\n",
              "          dataTable['output_type'] = 'display_data';\n",
              "          await google.colab.output.renderOutput(dataTable, element);\n",
              "          const docLink = document.createElement('div');\n",
              "          docLink.innerHTML = docLinkHtml;\n",
              "          element.appendChild(docLink);\n",
              "        }\n",
              "      </script>\n",
              "    </div>\n",
              "  </div>\n",
              "  "
            ],
            "text/plain": [
              "     buyer_id buyer_country seller_id  ... currency  price        date\n",
              "0  qzpjsi9t0o            GB  6oufpaot  ...      GBP  19.11  2020-08-03\n",
              "\n",
              "[1 rows x 10 columns]"
            ]
          },
          "metadata": {},
          "execution_count": 123
        }
      ]
    },
    {
      "cell_type": "code",
      "source": [
        "df1.info()"
      ],
      "metadata": {
        "colab": {
          "base_uri": "https://localhost:8080/"
        },
        "id": "zynYUmuP6lvh",
        "outputId": "3909a170-cb7f-4274-9fc6-f7b20f4c9e34"
      },
      "execution_count": 125,
      "outputs": [
        {
          "output_type": "stream",
          "name": "stdout",
          "text": [
            "<class 'pandas.core.frame.DataFrame'>\n",
            "RangeIndex: 220 entries, 0 to 219\n",
            "Data columns (total 3 columns):\n",
            " #   Column    Non-Null Count  Dtype  \n",
            "---  ------    --------------  -----  \n",
            " 0   currency  220 non-null    object \n",
            " 1   date      220 non-null    object \n",
            " 2   rate      220 non-null    float64\n",
            "dtypes: float64(1), object(2)\n",
            "memory usage: 5.3+ KB\n"
          ]
        }
      ]
    },
    {
      "cell_type": "code",
      "source": [
        "df.info()"
      ],
      "metadata": {
        "colab": {
          "base_uri": "https://localhost:8080/"
        },
        "id": "4nI_5ev46ly9",
        "outputId": "1dfbedbe-593b-4558-bc95-49424bfcb44d"
      },
      "execution_count": 126,
      "outputs": [
        {
          "output_type": "stream",
          "name": "stdout",
          "text": [
            "<class 'pandas.core.frame.DataFrame'>\n",
            "RangeIndex: 237671 entries, 0 to 237670\n",
            "Data columns (total 10 columns):\n",
            " #   Column          Non-Null Count   Dtype  \n",
            "---  ------          --------------   -----  \n",
            " 0   buyer_id        237671 non-null  object \n",
            " 1   buyer_country   237671 non-null  object \n",
            " 2   seller_id       237671 non-null  object \n",
            " 3   seller_country  237671 non-null  object \n",
            " 4   product_code    237671 non-null  object \n",
            " 5   category        237655 non-null  object \n",
            " 6   brand           119330 non-null  object \n",
            " 7   currency        237671 non-null  object \n",
            " 8   price           237671 non-null  float64\n",
            " 9   date            237671 non-null  object \n",
            "dtypes: float64(1), object(9)\n",
            "memory usage: 18.1+ MB\n"
          ]
        }
      ]
    },
    {
      "cell_type": "code",
      "source": [
        "df1.date=pd.to_datetime(df1.date)\n",
        "df1.date"
      ],
      "metadata": {
        "colab": {
          "base_uri": "https://localhost:8080/"
        },
        "id": "bWt4i8tc64O2",
        "outputId": "fdb75f7c-344a-4dd9-c4d6-9b099fbf1084"
      },
      "execution_count": 129,
      "outputs": [
        {
          "output_type": "execute_result",
          "data": {
            "text/plain": [
              "0     2020-08-01\n",
              "1     2020-08-02\n",
              "2     2020-08-03\n",
              "3     2020-08-04\n",
              "4     2020-08-05\n",
              "         ...    \n",
              "215   2020-08-06\n",
              "216   2020-08-07\n",
              "217   2020-08-08\n",
              "218   2020-08-09\n",
              "219   2020-08-10\n",
              "Name: date, Length: 220, dtype: datetime64[ns]"
            ]
          },
          "metadata": {},
          "execution_count": 129
        }
      ]
    },
    {
      "cell_type": "code",
      "source": [
        "df.date=pd.to_datetime(df.date)\n",
        "df.date"
      ],
      "metadata": {
        "colab": {
          "base_uri": "https://localhost:8080/"
        },
        "id": "7uVexnLO7Lwa",
        "outputId": "27717e32-bc87-4198-c137-3cecc59b8469"
      },
      "execution_count": 130,
      "outputs": [
        {
          "output_type": "execute_result",
          "data": {
            "text/plain": [
              "0        2020-08-03\n",
              "1        2020-08-09\n",
              "2        2020-08-07\n",
              "3        2020-08-09\n",
              "4        2020-08-09\n",
              "            ...    \n",
              "237666   2020-08-06\n",
              "237667   2020-08-05\n",
              "237668   2020-08-05\n",
              "237669   2020-08-05\n",
              "237670   2020-08-06\n",
              "Name: date, Length: 237671, dtype: datetime64[ns]"
            ]
          },
          "metadata": {},
          "execution_count": 130
        }
      ]
    },
    {
      "cell_type": "code",
      "source": [
        "df2=df.merge(df1,how=\"left\",on=[\"currency\",\"date\"])\n",
        "df2"
      ],
      "metadata": {
        "id": "qIo0gAWR7Sfu"
      },
      "execution_count": null,
      "outputs": []
    },
    {
      "cell_type": "code",
      "source": [
        "df2[\"total_price\"]=df2.price/df2.rate\n",
        "df2"
      ],
      "metadata": {
        "id": "aHti7ETm7y7b"
      },
      "execution_count": null,
      "outputs": []
    },
    {
      "cell_type": "code",
      "source": [
        "df2[\"total_price\"].sum()"
      ],
      "metadata": {
        "colab": {
          "base_uri": "https://localhost:8080/"
        },
        "id": "N4lkNzs287rl",
        "outputId": "4338672c-5b65-43e4-99b1-403e8d3452c2"
      },
      "execution_count": 139,
      "outputs": [
        {
          "output_type": "execute_result",
          "data": {
            "text/plain": [
              "6471510.8224988775"
            ]
          },
          "metadata": {},
          "execution_count": 139
        }
      ]
    },
    {
      "cell_type": "markdown",
      "source": [
        " 5. Which brand has the highest number of purchases?(Write down brand as in dataset, answer is case sensitive) *\n",
        " Hangi markanın en fazla satın alma işlemi var?(Markayı veri setindeki gibi yazın, cevap büyük/küçük harf duyarlıdır) *"
      ],
      "metadata": {
        "id": "SFuzo72kgTG7"
      }
    },
    {
      "cell_type": "code",
      "source": [
        "df[\"brand\"].value_counts(dropna=False)"
      ],
      "metadata": {
        "colab": {
          "base_uri": "https://localhost:8080/"
        },
        "id": "NI8NOh6eD4By",
        "outputId": "f4038309-a479-4aa1-83ee-31aacd9d4781"
      },
      "execution_count": 43,
      "outputs": [
        {
          "output_type": "execute_result",
          "data": {
            "text/plain": [
              "NaN                   118341\n",
              "Nike                    9575\n",
              "Brandy Melville         5065\n",
              "Topshop                 4561\n",
              "PrettyLittle Thing      4136\n",
              "                       ...  \n",
              "kensie                     1\n",
              "Rachel Comey               1\n",
              "C/meo Collective           1\n",
              "Preen                      1\n",
              "Vita Fede                  1\n",
              "Name: brand, Length: 1135, dtype: int64"
            ]
          },
          "metadata": {},
          "execution_count": 43
        }
      ]
    },
    {
      "cell_type": "code",
      "source": [
        "df[\"brand\"].str.contains(\"nike\",case=False).sum()"
      ],
      "metadata": {
        "colab": {
          "base_uri": "https://localhost:8080/"
        },
        "id": "d7No8HCoD4Ej",
        "outputId": "0d91e832-4050-4837-a47a-e6d9cb738e2d"
      },
      "execution_count": 85,
      "outputs": [
        {
          "output_type": "execute_result",
          "data": {
            "text/plain": [
              "9575"
            ]
          },
          "metadata": {},
          "execution_count": 85
        }
      ]
    },
    {
      "cell_type": "code",
      "source": [
        "df.columns"
      ],
      "metadata": {
        "colab": {
          "base_uri": "https://localhost:8080/"
        },
        "id": "dL_RdaF8SENc",
        "outputId": "7ec35d44-f479-4c8b-9457-56afe7849030"
      },
      "execution_count": 45,
      "outputs": [
        {
          "output_type": "execute_result",
          "data": {
            "text/plain": [
              "Index(['buyer_id', 'buyer_country', 'seller_id', 'seller_country',\n",
              "       'product_code', 'category', 'brand', 'currency', 'price', 'date'],\n",
              "      dtype='object')"
            ]
          },
          "metadata": {},
          "execution_count": 45
        }
      ]
    },
    {
      "cell_type": "code",
      "source": [
        ""
      ],
      "metadata": {
        "id": "KdOnpZnMOfPK"
      },
      "execution_count": 45,
      "outputs": []
    },
    {
      "cell_type": "markdown",
      "source": [
        "6. How many items in the “Jewelry” category have no brand?(Just write numbers) *\n",
        "6. “Mücevher” kategorisindeki kaç parçanın markası yok?(Sayı yazmanız yeterli) *"
      ],
      "metadata": {
        "id": "ONfJT1iPgf1M"
      }
    },
    {
      "cell_type": "code",
      "source": [
        "df['category'].unique()"
      ],
      "metadata": {
        "colab": {
          "base_uri": "https://localhost:8080/"
        },
        "id": "UGYKwYv0OfR9",
        "outputId": "8a474a32-8cdf-4edd-a871-8eadfe258962"
      },
      "execution_count": 46,
      "outputs": [
        {
          "output_type": "execute_result",
          "data": {
            "text/plain": [
              "array(['Dresses', 'Outerwear', 'Tops - Mens', 'Bottoms - Womens',\n",
              "       'Tops - Womens', 'Outerwear - Mens', 'Accessories', 'Jewellery',\n",
              "       'Other', 'Film', 'Art', 'Music', 'Shoes', 'Lingerie',\n",
              "       'Bottoms - Mens', 'Home', 'Tech', 'Beauty', 'Sports equipment',\n",
              "       'Kids', 'Transportation', 'Books & magazines', 'Underwear',\n",
              "       'UNSPECIFIED', nan], dtype=object)"
            ]
          },
          "metadata": {},
          "execution_count": 46
        }
      ]
    },
    {
      "cell_type": "code",
      "source": [
        "df[df['category']=='Jewellery'].sample(20)"
      ],
      "metadata": {
        "colab": {
          "base_uri": "https://localhost:8080/",
          "height": 677
        },
        "id": "GUfocsoEOfVT",
        "outputId": "bfca1409-9f89-4e91-ee11-35f9e7047cd2"
      },
      "execution_count": 86,
      "outputs": [
        {
          "output_type": "execute_result",
          "data": {
            "text/html": [
              "\n",
              "  <div id=\"df-7547ba12-b9d7-49c9-b2c2-a58c3ffe484d\">\n",
              "    <div class=\"colab-df-container\">\n",
              "      <div>\n",
              "<style scoped>\n",
              "    .dataframe tbody tr th:only-of-type {\n",
              "        vertical-align: middle;\n",
              "    }\n",
              "\n",
              "    .dataframe tbody tr th {\n",
              "        vertical-align: top;\n",
              "    }\n",
              "\n",
              "    .dataframe thead th {\n",
              "        text-align: right;\n",
              "    }\n",
              "</style>\n",
              "<table border=\"1\" class=\"dataframe\">\n",
              "  <thead>\n",
              "    <tr style=\"text-align: right;\">\n",
              "      <th></th>\n",
              "      <th>buyer_id</th>\n",
              "      <th>buyer_country</th>\n",
              "      <th>seller_id</th>\n",
              "      <th>seller_country</th>\n",
              "      <th>product_code</th>\n",
              "      <th>category</th>\n",
              "      <th>brand</th>\n",
              "      <th>currency</th>\n",
              "      <th>price</th>\n",
              "      <th>date</th>\n",
              "    </tr>\n",
              "  </thead>\n",
              "  <tbody>\n",
              "    <tr>\n",
              "      <th>13840</th>\n",
              "      <td>l8bep2g57p</td>\n",
              "      <td>GB</td>\n",
              "      <td>o5ivgdpb</td>\n",
              "      <td>GB</td>\n",
              "      <td>kuxzyfnctk7o</td>\n",
              "      <td>Jewellery</td>\n",
              "      <td>NaN</td>\n",
              "      <td>GBP</td>\n",
              "      <td>15.86</td>\n",
              "      <td>2020-08-06</td>\n",
              "    </tr>\n",
              "    <tr>\n",
              "      <th>11028</th>\n",
              "      <td>7oa7161url</td>\n",
              "      <td>US</td>\n",
              "      <td>0vuvnib0</td>\n",
              "      <td>US</td>\n",
              "      <td>layd8w6yczit</td>\n",
              "      <td>Jewellery</td>\n",
              "      <td>NaN</td>\n",
              "      <td>USD</td>\n",
              "      <td>10.68</td>\n",
              "      <td>2020-08-03</td>\n",
              "    </tr>\n",
              "    <tr>\n",
              "      <th>8708</th>\n",
              "      <td>e1mfsvwvmo</td>\n",
              "      <td>US</td>\n",
              "      <td>j21w87xy</td>\n",
              "      <td>US</td>\n",
              "      <td>vjho5qqyrjjo</td>\n",
              "      <td>Jewellery</td>\n",
              "      <td>NaN</td>\n",
              "      <td>USD</td>\n",
              "      <td>7.36</td>\n",
              "      <td>2020-08-06</td>\n",
              "    </tr>\n",
              "    <tr>\n",
              "      <th>149409</th>\n",
              "      <td>ddcppdtx1n</td>\n",
              "      <td>US</td>\n",
              "      <td>qcy5k20t</td>\n",
              "      <td>US</td>\n",
              "      <td>rt7y4p7m45xg</td>\n",
              "      <td>Jewellery</td>\n",
              "      <td>NaN</td>\n",
              "      <td>USD</td>\n",
              "      <td>8.75</td>\n",
              "      <td>2020-08-05</td>\n",
              "    </tr>\n",
              "    <tr>\n",
              "      <th>46900</th>\n",
              "      <td>fcjmao9j2b</td>\n",
              "      <td>GB</td>\n",
              "      <td>5700jhwk</td>\n",
              "      <td>GB</td>\n",
              "      <td>jxxgs77qqzvp</td>\n",
              "      <td>Jewellery</td>\n",
              "      <td>NaN</td>\n",
              "      <td>GBP</td>\n",
              "      <td>5.31</td>\n",
              "      <td>2020-08-07</td>\n",
              "    </tr>\n",
              "    <tr>\n",
              "      <th>56469</th>\n",
              "      <td>n0f4ec7lc5</td>\n",
              "      <td>GB</td>\n",
              "      <td>htpv78vs</td>\n",
              "      <td>GB</td>\n",
              "      <td>nulpx5ng35yr</td>\n",
              "      <td>Jewellery</td>\n",
              "      <td>NaN</td>\n",
              "      <td>GBP</td>\n",
              "      <td>4.14</td>\n",
              "      <td>2020-08-07</td>\n",
              "    </tr>\n",
              "    <tr>\n",
              "      <th>70390</th>\n",
              "      <td>x7wrgm94p1</td>\n",
              "      <td>GB</td>\n",
              "      <td>u6pmezfo</td>\n",
              "      <td>GB</td>\n",
              "      <td>b30s1ib7n80s</td>\n",
              "      <td>Jewellery</td>\n",
              "      <td>NaN</td>\n",
              "      <td>GBP</td>\n",
              "      <td>6.48</td>\n",
              "      <td>2020-08-08</td>\n",
              "    </tr>\n",
              "    <tr>\n",
              "      <th>145122</th>\n",
              "      <td>elvp5aqzqa</td>\n",
              "      <td>GB</td>\n",
              "      <td>6zba0bac</td>\n",
              "      <td>GB</td>\n",
              "      <td>veci9ixj5cll</td>\n",
              "      <td>Jewellery</td>\n",
              "      <td>NaN</td>\n",
              "      <td>GBP</td>\n",
              "      <td>3.27</td>\n",
              "      <td>2020-08-08</td>\n",
              "    </tr>\n",
              "    <tr>\n",
              "      <th>83477</th>\n",
              "      <td>1andaxa1h3</td>\n",
              "      <td>US</td>\n",
              "      <td>6i7cz5ad</td>\n",
              "      <td>US</td>\n",
              "      <td>9yli0czvctxk</td>\n",
              "      <td>Jewellery</td>\n",
              "      <td>Brandy Melville</td>\n",
              "      <td>USD</td>\n",
              "      <td>10.72</td>\n",
              "      <td>2020-08-08</td>\n",
              "    </tr>\n",
              "    <tr>\n",
              "      <th>68927</th>\n",
              "      <td>irmp54d70t</td>\n",
              "      <td>GB</td>\n",
              "      <td>01q70n4r</td>\n",
              "      <td>GB</td>\n",
              "      <td>gqn2dy9lhrpi</td>\n",
              "      <td>Jewellery</td>\n",
              "      <td>NaN</td>\n",
              "      <td>GBP</td>\n",
              "      <td>10.14</td>\n",
              "      <td>2020-08-03</td>\n",
              "    </tr>\n",
              "    <tr>\n",
              "      <th>123279</th>\n",
              "      <td>vbe48842wd</td>\n",
              "      <td>GB</td>\n",
              "      <td>zpv1nnx4</td>\n",
              "      <td>GB</td>\n",
              "      <td>zh4y5umugly1</td>\n",
              "      <td>Jewellery</td>\n",
              "      <td>NaN</td>\n",
              "      <td>GBP</td>\n",
              "      <td>5.72</td>\n",
              "      <td>2020-08-09</td>\n",
              "    </tr>\n",
              "    <tr>\n",
              "      <th>14266</th>\n",
              "      <td>uuj85si7jx</td>\n",
              "      <td>US</td>\n",
              "      <td>2qi7miij</td>\n",
              "      <td>US</td>\n",
              "      <td>5yo2hjr547hw</td>\n",
              "      <td>Jewellery</td>\n",
              "      <td>NaN</td>\n",
              "      <td>USD</td>\n",
              "      <td>26.31</td>\n",
              "      <td>2020-08-04</td>\n",
              "    </tr>\n",
              "    <tr>\n",
              "      <th>124711</th>\n",
              "      <td>5zjoublqxv</td>\n",
              "      <td>GB</td>\n",
              "      <td>cxiib1sk</td>\n",
              "      <td>GB</td>\n",
              "      <td>b0hguuinfu1u</td>\n",
              "      <td>Jewellery</td>\n",
              "      <td>NaN</td>\n",
              "      <td>GBP</td>\n",
              "      <td>6.51</td>\n",
              "      <td>2020-08-08</td>\n",
              "    </tr>\n",
              "    <tr>\n",
              "      <th>43785</th>\n",
              "      <td>by2nmpzoa9</td>\n",
              "      <td>GB</td>\n",
              "      <td>bmv57edx</td>\n",
              "      <td>GB</td>\n",
              "      <td>ymezyytg3kzt</td>\n",
              "      <td>Jewellery</td>\n",
              "      <td>NaN</td>\n",
              "      <td>GBP</td>\n",
              "      <td>2.64</td>\n",
              "      <td>2020-08-06</td>\n",
              "    </tr>\n",
              "    <tr>\n",
              "      <th>91201</th>\n",
              "      <td>775wbzfab1</td>\n",
              "      <td>GB</td>\n",
              "      <td>gmkk40yg</td>\n",
              "      <td>GB</td>\n",
              "      <td>5ml7738a8zlz</td>\n",
              "      <td>Jewellery</td>\n",
              "      <td>NaN</td>\n",
              "      <td>GBP</td>\n",
              "      <td>20.46</td>\n",
              "      <td>2020-08-08</td>\n",
              "    </tr>\n",
              "    <tr>\n",
              "      <th>199775</th>\n",
              "      <td>xdck9t923k</td>\n",
              "      <td>GB</td>\n",
              "      <td>14jy7wjw</td>\n",
              "      <td>GB</td>\n",
              "      <td>sicdrsvkrh8l</td>\n",
              "      <td>Jewellery</td>\n",
              "      <td>NaN</td>\n",
              "      <td>GBP</td>\n",
              "      <td>8.75</td>\n",
              "      <td>2020-08-05</td>\n",
              "    </tr>\n",
              "    <tr>\n",
              "      <th>51187</th>\n",
              "      <td>3pjhvf2sxs</td>\n",
              "      <td>US</td>\n",
              "      <td>lag4xmdc</td>\n",
              "      <td>US</td>\n",
              "      <td>63rv0zrggujd</td>\n",
              "      <td>Jewellery</td>\n",
              "      <td>NaN</td>\n",
              "      <td>USD</td>\n",
              "      <td>10.73</td>\n",
              "      <td>2020-08-09</td>\n",
              "    </tr>\n",
              "    <tr>\n",
              "      <th>134000</th>\n",
              "      <td>06rwvlk2gf</td>\n",
              "      <td>US</td>\n",
              "      <td>azu0k21k</td>\n",
              "      <td>US</td>\n",
              "      <td>b6jesrzyjbkg</td>\n",
              "      <td>Jewellery</td>\n",
              "      <td>NaN</td>\n",
              "      <td>USD</td>\n",
              "      <td>31.68</td>\n",
              "      <td>2020-08-08</td>\n",
              "    </tr>\n",
              "    <tr>\n",
              "      <th>81859</th>\n",
              "      <td>44svhxfikp</td>\n",
              "      <td>US</td>\n",
              "      <td>6qdxkca0</td>\n",
              "      <td>US</td>\n",
              "      <td>npjsa89mwy3p</td>\n",
              "      <td>Jewellery</td>\n",
              "      <td>NaN</td>\n",
              "      <td>USD</td>\n",
              "      <td>48.23</td>\n",
              "      <td>2020-08-09</td>\n",
              "    </tr>\n",
              "    <tr>\n",
              "      <th>11987</th>\n",
              "      <td>9iyqcejlff</td>\n",
              "      <td>GB</td>\n",
              "      <td>1ai4wp1d</td>\n",
              "      <td>GB</td>\n",
              "      <td>sqgfzc6bpmbt</td>\n",
              "      <td>Jewellery</td>\n",
              "      <td>NaN</td>\n",
              "      <td>GBP</td>\n",
              "      <td>6.51</td>\n",
              "      <td>2020-08-03</td>\n",
              "    </tr>\n",
              "  </tbody>\n",
              "</table>\n",
              "</div>\n",
              "      <button class=\"colab-df-convert\" onclick=\"convertToInteractive('df-7547ba12-b9d7-49c9-b2c2-a58c3ffe484d')\"\n",
              "              title=\"Convert this dataframe to an interactive table.\"\n",
              "              style=\"display:none;\">\n",
              "        \n",
              "  <svg xmlns=\"http://www.w3.org/2000/svg\" height=\"24px\"viewBox=\"0 0 24 24\"\n",
              "       width=\"24px\">\n",
              "    <path d=\"M0 0h24v24H0V0z\" fill=\"none\"/>\n",
              "    <path d=\"M18.56 5.44l.94 2.06.94-2.06 2.06-.94-2.06-.94-.94-2.06-.94 2.06-2.06.94zm-11 1L8.5 8.5l.94-2.06 2.06-.94-2.06-.94L8.5 2.5l-.94 2.06-2.06.94zm10 10l.94 2.06.94-2.06 2.06-.94-2.06-.94-.94-2.06-.94 2.06-2.06.94z\"/><path d=\"M17.41 7.96l-1.37-1.37c-.4-.4-.92-.59-1.43-.59-.52 0-1.04.2-1.43.59L10.3 9.45l-7.72 7.72c-.78.78-.78 2.05 0 2.83L4 21.41c.39.39.9.59 1.41.59.51 0 1.02-.2 1.41-.59l7.78-7.78 2.81-2.81c.8-.78.8-2.07 0-2.86zM5.41 20L4 18.59l7.72-7.72 1.47 1.35L5.41 20z\"/>\n",
              "  </svg>\n",
              "      </button>\n",
              "      \n",
              "  <style>\n",
              "    .colab-df-container {\n",
              "      display:flex;\n",
              "      flex-wrap:wrap;\n",
              "      gap: 12px;\n",
              "    }\n",
              "\n",
              "    .colab-df-convert {\n",
              "      background-color: #E8F0FE;\n",
              "      border: none;\n",
              "      border-radius: 50%;\n",
              "      cursor: pointer;\n",
              "      display: none;\n",
              "      fill: #1967D2;\n",
              "      height: 32px;\n",
              "      padding: 0 0 0 0;\n",
              "      width: 32px;\n",
              "    }\n",
              "\n",
              "    .colab-df-convert:hover {\n",
              "      background-color: #E2EBFA;\n",
              "      box-shadow: 0px 1px 2px rgba(60, 64, 67, 0.3), 0px 1px 3px 1px rgba(60, 64, 67, 0.15);\n",
              "      fill: #174EA6;\n",
              "    }\n",
              "\n",
              "    [theme=dark] .colab-df-convert {\n",
              "      background-color: #3B4455;\n",
              "      fill: #D2E3FC;\n",
              "    }\n",
              "\n",
              "    [theme=dark] .colab-df-convert:hover {\n",
              "      background-color: #434B5C;\n",
              "      box-shadow: 0px 1px 3px 1px rgba(0, 0, 0, 0.15);\n",
              "      filter: drop-shadow(0px 1px 2px rgba(0, 0, 0, 0.3));\n",
              "      fill: #FFFFFF;\n",
              "    }\n",
              "  </style>\n",
              "\n",
              "      <script>\n",
              "        const buttonEl =\n",
              "          document.querySelector('#df-7547ba12-b9d7-49c9-b2c2-a58c3ffe484d button.colab-df-convert');\n",
              "        buttonEl.style.display =\n",
              "          google.colab.kernel.accessAllowed ? 'block' : 'none';\n",
              "\n",
              "        async function convertToInteractive(key) {\n",
              "          const element = document.querySelector('#df-7547ba12-b9d7-49c9-b2c2-a58c3ffe484d');\n",
              "          const dataTable =\n",
              "            await google.colab.kernel.invokeFunction('convertToInteractive',\n",
              "                                                     [key], {});\n",
              "          if (!dataTable) return;\n",
              "\n",
              "          const docLinkHtml = 'Like what you see? Visit the ' +\n",
              "            '<a target=\"_blank\" href=https://colab.research.google.com/notebooks/data_table.ipynb>data table notebook</a>'\n",
              "            + ' to learn more about interactive tables.';\n",
              "          element.innerHTML = '';\n",
              "          dataTable['output_type'] = 'display_data';\n",
              "          await google.colab.output.renderOutput(dataTable, element);\n",
              "          const docLink = document.createElement('div');\n",
              "          docLink.innerHTML = docLinkHtml;\n",
              "          element.appendChild(docLink);\n",
              "        }\n",
              "      </script>\n",
              "    </div>\n",
              "  </div>\n",
              "  "
            ],
            "text/plain": [
              "          buyer_id buyer_country seller_id  ... currency  price        date\n",
              "13840   l8bep2g57p            GB  o5ivgdpb  ...      GBP  15.86  2020-08-06\n",
              "11028   7oa7161url            US  0vuvnib0  ...      USD  10.68  2020-08-03\n",
              "8708    e1mfsvwvmo            US  j21w87xy  ...      USD   7.36  2020-08-06\n",
              "149409  ddcppdtx1n            US  qcy5k20t  ...      USD   8.75  2020-08-05\n",
              "46900   fcjmao9j2b            GB  5700jhwk  ...      GBP   5.31  2020-08-07\n",
              "56469   n0f4ec7lc5            GB  htpv78vs  ...      GBP   4.14  2020-08-07\n",
              "70390   x7wrgm94p1            GB  u6pmezfo  ...      GBP   6.48  2020-08-08\n",
              "145122  elvp5aqzqa            GB  6zba0bac  ...      GBP   3.27  2020-08-08\n",
              "83477   1andaxa1h3            US  6i7cz5ad  ...      USD  10.72  2020-08-08\n",
              "68927   irmp54d70t            GB  01q70n4r  ...      GBP  10.14  2020-08-03\n",
              "123279  vbe48842wd            GB  zpv1nnx4  ...      GBP   5.72  2020-08-09\n",
              "14266   uuj85si7jx            US  2qi7miij  ...      USD  26.31  2020-08-04\n",
              "124711  5zjoublqxv            GB  cxiib1sk  ...      GBP   6.51  2020-08-08\n",
              "43785   by2nmpzoa9            GB  bmv57edx  ...      GBP   2.64  2020-08-06\n",
              "91201   775wbzfab1            GB  gmkk40yg  ...      GBP  20.46  2020-08-08\n",
              "199775  xdck9t923k            GB  14jy7wjw  ...      GBP   8.75  2020-08-05\n",
              "51187   3pjhvf2sxs            US  lag4xmdc  ...      USD  10.73  2020-08-09\n",
              "134000  06rwvlk2gf            US  azu0k21k  ...      USD  31.68  2020-08-08\n",
              "81859   44svhxfikp            US  6qdxkca0  ...      USD  48.23  2020-08-09\n",
              "11987   9iyqcejlff            GB  1ai4wp1d  ...      GBP   6.51  2020-08-03\n",
              "\n",
              "[20 rows x 10 columns]"
            ]
          },
          "metadata": {},
          "execution_count": 86
        }
      ]
    },
    {
      "cell_type": "code",
      "source": [
        "df[(df[\"category\"]==\"Jewellery\")&(df[\"brand\"].isnull())][\"product_code\"].nunique()"
      ],
      "metadata": {
        "colab": {
          "base_uri": "https://localhost:8080/"
        },
        "id": "4cwHB2GjOfYt",
        "outputId": "0df98009-db91-42e0-c61a-581755b788ab"
      },
      "execution_count": 92,
      "outputs": [
        {
          "output_type": "execute_result",
          "data": {
            "text/plain": [
              "10931"
            ]
          },
          "metadata": {},
          "execution_count": 92
        }
      ]
    },
    {
      "cell_type": "code",
      "source": [
        "np.nan==np.nan"
      ],
      "metadata": {
        "colab": {
          "base_uri": "https://localhost:8080/"
        },
        "id": "bVrD9uZ9y_WS",
        "outputId": "5e3532a5-83a8-47dd-dafb-dd7d63042325"
      },
      "execution_count": 90,
      "outputs": [
        {
          "output_type": "execute_result",
          "data": {
            "text/plain": [
              "False"
            ]
          },
          "metadata": {},
          "execution_count": 90
        }
      ]
    },
    {
      "cell_type": "code",
      "source": [
        "df[\"brand\"].value_counts(dropna=False)"
      ],
      "metadata": {
        "colab": {
          "base_uri": "https://localhost:8080/"
        },
        "id": "MCm_9x07S4he",
        "outputId": "15dc60dd-83ac-46e8-be83-299dcce6e496"
      },
      "execution_count": 59,
      "outputs": [
        {
          "output_type": "execute_result",
          "data": {
            "text/plain": [
              "NaN                   118341\n",
              "Nike                    9575\n",
              "Brandy Melville         5065\n",
              "Topshop                 4561\n",
              "PrettyLittle Thing      4136\n",
              "                       ...  \n",
              "kensie                     1\n",
              "Rachel Comey               1\n",
              "C/meo Collective           1\n",
              "Preen                      1\n",
              "Vita Fede                  1\n",
              "Name: brand, Length: 1135, dtype: int64"
            ]
          },
          "metadata": {},
          "execution_count": 59
        }
      ]
    },
    {
      "cell_type": "code",
      "source": [
        "df.loc[df['category']=='Jewellery'][\"brand\"].value_counts(dropna=False)"
      ],
      "metadata": {
        "colab": {
          "base_uri": "https://localhost:8080/"
        },
        "id": "hEGJ5MbuS4kA",
        "outputId": "89e57203-bda7-4746-efbb-fc072b1c28c2"
      },
      "execution_count": 96,
      "outputs": [
        {
          "output_type": "execute_result",
          "data": {
            "text/plain": [
              "NaN                  13525\n",
              "PANDORA                493\n",
              "Brandy Melville        190\n",
              "Vivienne Westwood       94\n",
              "Tiffany & Co.           56\n",
              "                     ...  \n",
              "Chloé                    1\n",
              "SKAGEN                   1\n",
              "Valentino                1\n",
              "Tissot                   1\n",
              "Vita Fede                1\n",
              "Name: brand, Length: 83, dtype: int64"
            ]
          },
          "metadata": {},
          "execution_count": 96
        }
      ]
    },
    {
      "cell_type": "code",
      "source": [
        "df.loc[df['category']=='Jewellery'].sample(20)"
      ],
      "metadata": {
        "colab": {
          "base_uri": "https://localhost:8080/",
          "height": 677
        },
        "id": "_4_x8O1lS4mY",
        "outputId": "ce800ac4-9264-4c4b-f7ac-322a45028820"
      },
      "execution_count": 51,
      "outputs": [
        {
          "output_type": "execute_result",
          "data": {
            "text/html": [
              "\n",
              "  <div id=\"df-d9c99767-4f31-49c3-8d3f-5be64a658eab\">\n",
              "    <div class=\"colab-df-container\">\n",
              "      <div>\n",
              "<style scoped>\n",
              "    .dataframe tbody tr th:only-of-type {\n",
              "        vertical-align: middle;\n",
              "    }\n",
              "\n",
              "    .dataframe tbody tr th {\n",
              "        vertical-align: top;\n",
              "    }\n",
              "\n",
              "    .dataframe thead th {\n",
              "        text-align: right;\n",
              "    }\n",
              "</style>\n",
              "<table border=\"1\" class=\"dataframe\">\n",
              "  <thead>\n",
              "    <tr style=\"text-align: right;\">\n",
              "      <th></th>\n",
              "      <th>buyer_id</th>\n",
              "      <th>buyer_country</th>\n",
              "      <th>seller_id</th>\n",
              "      <th>seller_country</th>\n",
              "      <th>product_code</th>\n",
              "      <th>category</th>\n",
              "      <th>brand</th>\n",
              "      <th>currency</th>\n",
              "      <th>price</th>\n",
              "      <th>date</th>\n",
              "    </tr>\n",
              "  </thead>\n",
              "  <tbody>\n",
              "    <tr>\n",
              "      <th>148961</th>\n",
              "      <td>kxvxwwgd7r</td>\n",
              "      <td>GB</td>\n",
              "      <td>3d25fmn7</td>\n",
              "      <td>GB</td>\n",
              "      <td>35l0qkxlymos</td>\n",
              "      <td>Jewellery</td>\n",
              "      <td>Thomas Sabo</td>\n",
              "      <td>GBP</td>\n",
              "      <td>3.20</td>\n",
              "      <td>2020-08-05</td>\n",
              "    </tr>\n",
              "    <tr>\n",
              "      <th>184935</th>\n",
              "      <td>nkgrbplgoc</td>\n",
              "      <td>GB</td>\n",
              "      <td>8bn9ijb7</td>\n",
              "      <td>GB</td>\n",
              "      <td>v6e1lkwdlkq8</td>\n",
              "      <td>Jewellery</td>\n",
              "      <td>NaN</td>\n",
              "      <td>GBP</td>\n",
              "      <td>4.42</td>\n",
              "      <td>2020-08-09</td>\n",
              "    </tr>\n",
              "    <tr>\n",
              "      <th>58909</th>\n",
              "      <td>yzq9n6qhr9</td>\n",
              "      <td>GB</td>\n",
              "      <td>86omh859</td>\n",
              "      <td>GB</td>\n",
              "      <td>86qxznp04gr4</td>\n",
              "      <td>Jewellery</td>\n",
              "      <td>PANDORA</td>\n",
              "      <td>GBP</td>\n",
              "      <td>24.63</td>\n",
              "      <td>2020-08-07</td>\n",
              "    </tr>\n",
              "    <tr>\n",
              "      <th>41263</th>\n",
              "      <td>rwmytc8ho2</td>\n",
              "      <td>GB</td>\n",
              "      <td>izyms06l</td>\n",
              "      <td>GB</td>\n",
              "      <td>s6j7dwuh2mr0</td>\n",
              "      <td>Jewellery</td>\n",
              "      <td>PANDORA</td>\n",
              "      <td>GBP</td>\n",
              "      <td>15.41</td>\n",
              "      <td>2020-08-04</td>\n",
              "    </tr>\n",
              "    <tr>\n",
              "      <th>35623</th>\n",
              "      <td>k8ek78199y</td>\n",
              "      <td>RoW</td>\n",
              "      <td>g62xk7dr</td>\n",
              "      <td>RoW</td>\n",
              "      <td>fq6snc6uygmz</td>\n",
              "      <td>Jewellery</td>\n",
              "      <td>NaN</td>\n",
              "      <td>NZD</td>\n",
              "      <td>20.01</td>\n",
              "      <td>2020-08-08</td>\n",
              "    </tr>\n",
              "    <tr>\n",
              "      <th>4159</th>\n",
              "      <td>juwz454s4y</td>\n",
              "      <td>US</td>\n",
              "      <td>2anj0jwq</td>\n",
              "      <td>US</td>\n",
              "      <td>p9lawnj1xcsr</td>\n",
              "      <td>Jewellery</td>\n",
              "      <td>NaN</td>\n",
              "      <td>USD</td>\n",
              "      <td>19.82</td>\n",
              "      <td>2020-08-03</td>\n",
              "    </tr>\n",
              "    <tr>\n",
              "      <th>67884</th>\n",
              "      <td>p69oo5f7q5</td>\n",
              "      <td>US</td>\n",
              "      <td>9efhqhdn</td>\n",
              "      <td>US</td>\n",
              "      <td>8v0dhyrwkiig</td>\n",
              "      <td>Jewellery</td>\n",
              "      <td>NaN</td>\n",
              "      <td>USD</td>\n",
              "      <td>10.01</td>\n",
              "      <td>2020-08-03</td>\n",
              "    </tr>\n",
              "    <tr>\n",
              "      <th>190357</th>\n",
              "      <td>lsmdotl5qx</td>\n",
              "      <td>US</td>\n",
              "      <td>mvnm7tgd</td>\n",
              "      <td>US</td>\n",
              "      <td>jt53xebk56d2</td>\n",
              "      <td>Jewellery</td>\n",
              "      <td>NaN</td>\n",
              "      <td>USD</td>\n",
              "      <td>7.37</td>\n",
              "      <td>2020-08-03</td>\n",
              "    </tr>\n",
              "    <tr>\n",
              "      <th>72815</th>\n",
              "      <td>9bvtas3gu7</td>\n",
              "      <td>US</td>\n",
              "      <td>1gdl4ipu</td>\n",
              "      <td>US</td>\n",
              "      <td>ilfy5dxtwogk</td>\n",
              "      <td>Jewellery</td>\n",
              "      <td>NaN</td>\n",
              "      <td>USD</td>\n",
              "      <td>21.89</td>\n",
              "      <td>2020-08-05</td>\n",
              "    </tr>\n",
              "    <tr>\n",
              "      <th>66425</th>\n",
              "      <td>0d018v8n70</td>\n",
              "      <td>GB</td>\n",
              "      <td>uv4ihu0p</td>\n",
              "      <td>GB</td>\n",
              "      <td>nj9msi1vkr2k</td>\n",
              "      <td>Jewellery</td>\n",
              "      <td>NaN</td>\n",
              "      <td>GBP</td>\n",
              "      <td>5.53</td>\n",
              "      <td>2020-08-07</td>\n",
              "    </tr>\n",
              "    <tr>\n",
              "      <th>8748</th>\n",
              "      <td>smauorald5</td>\n",
              "      <td>US</td>\n",
              "      <td>j21w87xy</td>\n",
              "      <td>US</td>\n",
              "      <td>nuk7zsir11ly</td>\n",
              "      <td>Jewellery</td>\n",
              "      <td>NaN</td>\n",
              "      <td>USD</td>\n",
              "      <td>21.39</td>\n",
              "      <td>2020-08-09</td>\n",
              "    </tr>\n",
              "    <tr>\n",
              "      <th>194203</th>\n",
              "      <td>f0hdcfvory</td>\n",
              "      <td>GB</td>\n",
              "      <td>wzeccdpt</td>\n",
              "      <td>GB</td>\n",
              "      <td>guargo2bmflo</td>\n",
              "      <td>Jewellery</td>\n",
              "      <td>NaN</td>\n",
              "      <td>GBP</td>\n",
              "      <td>15.00</td>\n",
              "      <td>2020-08-08</td>\n",
              "    </tr>\n",
              "    <tr>\n",
              "      <th>185875</th>\n",
              "      <td>qt1scq03w7</td>\n",
              "      <td>GB</td>\n",
              "      <td>eyrwthpt</td>\n",
              "      <td>GB</td>\n",
              "      <td>qu0r8xwo1aad</td>\n",
              "      <td>Jewellery</td>\n",
              "      <td>NaN</td>\n",
              "      <td>GBP</td>\n",
              "      <td>6.65</td>\n",
              "      <td>2020-08-04</td>\n",
              "    </tr>\n",
              "    <tr>\n",
              "      <th>140985</th>\n",
              "      <td>if3n6qb294</td>\n",
              "      <td>GB</td>\n",
              "      <td>15nmqn58</td>\n",
              "      <td>GB</td>\n",
              "      <td>sowiy8m5a2t3</td>\n",
              "      <td>Jewellery</td>\n",
              "      <td>Guess</td>\n",
              "      <td>GBP</td>\n",
              "      <td>38.22</td>\n",
              "      <td>2020-08-08</td>\n",
              "    </tr>\n",
              "    <tr>\n",
              "      <th>217816</th>\n",
              "      <td>mvml3jlu9n</td>\n",
              "      <td>US</td>\n",
              "      <td>clb5h2ln</td>\n",
              "      <td>US</td>\n",
              "      <td>h6oew7ofp58u</td>\n",
              "      <td>Jewellery</td>\n",
              "      <td>NaN</td>\n",
              "      <td>USD</td>\n",
              "      <td>6.88</td>\n",
              "      <td>2020-08-09</td>\n",
              "    </tr>\n",
              "    <tr>\n",
              "      <th>46729</th>\n",
              "      <td>rq6qaebq6a</td>\n",
              "      <td>US</td>\n",
              "      <td>m52hmhan</td>\n",
              "      <td>US</td>\n",
              "      <td>5iyfqvbcgasy</td>\n",
              "      <td>Jewellery</td>\n",
              "      <td>NaN</td>\n",
              "      <td>USD</td>\n",
              "      <td>18.21</td>\n",
              "      <td>2020-08-06</td>\n",
              "    </tr>\n",
              "    <tr>\n",
              "      <th>229950</th>\n",
              "      <td>baikhbeuv5</td>\n",
              "      <td>RoW</td>\n",
              "      <td>pwx2w5ah</td>\n",
              "      <td>GB</td>\n",
              "      <td>efg32yts2228</td>\n",
              "      <td>Jewellery</td>\n",
              "      <td>NaN</td>\n",
              "      <td>GBP</td>\n",
              "      <td>16.83</td>\n",
              "      <td>2020-08-09</td>\n",
              "    </tr>\n",
              "    <tr>\n",
              "      <th>4216</th>\n",
              "      <td>6tvzeohebl</td>\n",
              "      <td>US</td>\n",
              "      <td>2anj0jwq</td>\n",
              "      <td>US</td>\n",
              "      <td>w4dqh80yk31u</td>\n",
              "      <td>Jewellery</td>\n",
              "      <td>NaN</td>\n",
              "      <td>USD</td>\n",
              "      <td>20.33</td>\n",
              "      <td>2020-08-06</td>\n",
              "    </tr>\n",
              "    <tr>\n",
              "      <th>225243</th>\n",
              "      <td>6srxkr3yo8</td>\n",
              "      <td>GB</td>\n",
              "      <td>hmifsvdt</td>\n",
              "      <td>GB</td>\n",
              "      <td>2ehs5xpndwo8</td>\n",
              "      <td>Jewellery</td>\n",
              "      <td>NaN</td>\n",
              "      <td>GBP</td>\n",
              "      <td>6.83</td>\n",
              "      <td>2020-08-04</td>\n",
              "    </tr>\n",
              "    <tr>\n",
              "      <th>73716</th>\n",
              "      <td>tui9bw8uki</td>\n",
              "      <td>US</td>\n",
              "      <td>szyffs3n</td>\n",
              "      <td>US</td>\n",
              "      <td>wd83ue5ql8l6</td>\n",
              "      <td>Jewellery</td>\n",
              "      <td>NaN</td>\n",
              "      <td>USD</td>\n",
              "      <td>19.64</td>\n",
              "      <td>2020-08-05</td>\n",
              "    </tr>\n",
              "  </tbody>\n",
              "</table>\n",
              "</div>\n",
              "      <button class=\"colab-df-convert\" onclick=\"convertToInteractive('df-d9c99767-4f31-49c3-8d3f-5be64a658eab')\"\n",
              "              title=\"Convert this dataframe to an interactive table.\"\n",
              "              style=\"display:none;\">\n",
              "        \n",
              "  <svg xmlns=\"http://www.w3.org/2000/svg\" height=\"24px\"viewBox=\"0 0 24 24\"\n",
              "       width=\"24px\">\n",
              "    <path d=\"M0 0h24v24H0V0z\" fill=\"none\"/>\n",
              "    <path d=\"M18.56 5.44l.94 2.06.94-2.06 2.06-.94-2.06-.94-.94-2.06-.94 2.06-2.06.94zm-11 1L8.5 8.5l.94-2.06 2.06-.94-2.06-.94L8.5 2.5l-.94 2.06-2.06.94zm10 10l.94 2.06.94-2.06 2.06-.94-2.06-.94-.94-2.06-.94 2.06-2.06.94z\"/><path d=\"M17.41 7.96l-1.37-1.37c-.4-.4-.92-.59-1.43-.59-.52 0-1.04.2-1.43.59L10.3 9.45l-7.72 7.72c-.78.78-.78 2.05 0 2.83L4 21.41c.39.39.9.59 1.41.59.51 0 1.02-.2 1.41-.59l7.78-7.78 2.81-2.81c.8-.78.8-2.07 0-2.86zM5.41 20L4 18.59l7.72-7.72 1.47 1.35L5.41 20z\"/>\n",
              "  </svg>\n",
              "      </button>\n",
              "      \n",
              "  <style>\n",
              "    .colab-df-container {\n",
              "      display:flex;\n",
              "      flex-wrap:wrap;\n",
              "      gap: 12px;\n",
              "    }\n",
              "\n",
              "    .colab-df-convert {\n",
              "      background-color: #E8F0FE;\n",
              "      border: none;\n",
              "      border-radius: 50%;\n",
              "      cursor: pointer;\n",
              "      display: none;\n",
              "      fill: #1967D2;\n",
              "      height: 32px;\n",
              "      padding: 0 0 0 0;\n",
              "      width: 32px;\n",
              "    }\n",
              "\n",
              "    .colab-df-convert:hover {\n",
              "      background-color: #E2EBFA;\n",
              "      box-shadow: 0px 1px 2px rgba(60, 64, 67, 0.3), 0px 1px 3px 1px rgba(60, 64, 67, 0.15);\n",
              "      fill: #174EA6;\n",
              "    }\n",
              "\n",
              "    [theme=dark] .colab-df-convert {\n",
              "      background-color: #3B4455;\n",
              "      fill: #D2E3FC;\n",
              "    }\n",
              "\n",
              "    [theme=dark] .colab-df-convert:hover {\n",
              "      background-color: #434B5C;\n",
              "      box-shadow: 0px 1px 3px 1px rgba(0, 0, 0, 0.15);\n",
              "      filter: drop-shadow(0px 1px 2px rgba(0, 0, 0, 0.3));\n",
              "      fill: #FFFFFF;\n",
              "    }\n",
              "  </style>\n",
              "\n",
              "      <script>\n",
              "        const buttonEl =\n",
              "          document.querySelector('#df-d9c99767-4f31-49c3-8d3f-5be64a658eab button.colab-df-convert');\n",
              "        buttonEl.style.display =\n",
              "          google.colab.kernel.accessAllowed ? 'block' : 'none';\n",
              "\n",
              "        async function convertToInteractive(key) {\n",
              "          const element = document.querySelector('#df-d9c99767-4f31-49c3-8d3f-5be64a658eab');\n",
              "          const dataTable =\n",
              "            await google.colab.kernel.invokeFunction('convertToInteractive',\n",
              "                                                     [key], {});\n",
              "          if (!dataTable) return;\n",
              "\n",
              "          const docLinkHtml = 'Like what you see? Visit the ' +\n",
              "            '<a target=\"_blank\" href=https://colab.research.google.com/notebooks/data_table.ipynb>data table notebook</a>'\n",
              "            + ' to learn more about interactive tables.';\n",
              "          element.innerHTML = '';\n",
              "          dataTable['output_type'] = 'display_data';\n",
              "          await google.colab.output.renderOutput(dataTable, element);\n",
              "          const docLink = document.createElement('div');\n",
              "          docLink.innerHTML = docLinkHtml;\n",
              "          element.appendChild(docLink);\n",
              "        }\n",
              "      </script>\n",
              "    </div>\n",
              "  </div>\n",
              "  "
            ],
            "text/plain": [
              "          buyer_id buyer_country seller_id  ... currency  price        date\n",
              "148961  kxvxwwgd7r            GB  3d25fmn7  ...      GBP   3.20  2020-08-05\n",
              "184935  nkgrbplgoc            GB  8bn9ijb7  ...      GBP   4.42  2020-08-09\n",
              "58909   yzq9n6qhr9            GB  86omh859  ...      GBP  24.63  2020-08-07\n",
              "41263   rwmytc8ho2            GB  izyms06l  ...      GBP  15.41  2020-08-04\n",
              "35623   k8ek78199y           RoW  g62xk7dr  ...      NZD  20.01  2020-08-08\n",
              "4159    juwz454s4y            US  2anj0jwq  ...      USD  19.82  2020-08-03\n",
              "67884   p69oo5f7q5            US  9efhqhdn  ...      USD  10.01  2020-08-03\n",
              "190357  lsmdotl5qx            US  mvnm7tgd  ...      USD   7.37  2020-08-03\n",
              "72815   9bvtas3gu7            US  1gdl4ipu  ...      USD  21.89  2020-08-05\n",
              "66425   0d018v8n70            GB  uv4ihu0p  ...      GBP   5.53  2020-08-07\n",
              "8748    smauorald5            US  j21w87xy  ...      USD  21.39  2020-08-09\n",
              "194203  f0hdcfvory            GB  wzeccdpt  ...      GBP  15.00  2020-08-08\n",
              "185875  qt1scq03w7            GB  eyrwthpt  ...      GBP   6.65  2020-08-04\n",
              "140985  if3n6qb294            GB  15nmqn58  ...      GBP  38.22  2020-08-08\n",
              "217816  mvml3jlu9n            US  clb5h2ln  ...      USD   6.88  2020-08-09\n",
              "46729   rq6qaebq6a            US  m52hmhan  ...      USD  18.21  2020-08-06\n",
              "229950  baikhbeuv5           RoW  pwx2w5ah  ...      GBP  16.83  2020-08-09\n",
              "4216    6tvzeohebl            US  2anj0jwq  ...      USD  20.33  2020-08-06\n",
              "225243  6srxkr3yo8            GB  hmifsvdt  ...      GBP   6.83  2020-08-04\n",
              "73716   tui9bw8uki            US  szyffs3n  ...      USD  19.64  2020-08-05\n",
              "\n",
              "[20 rows x 10 columns]"
            ]
          },
          "metadata": {},
          "execution_count": 51
        }
      ]
    },
    {
      "cell_type": "code",
      "source": [
        "df['brand'].value_counts(dropna=False)"
      ],
      "metadata": {
        "colab": {
          "base_uri": "https://localhost:8080/"
        },
        "id": "ZenRTmOzS4oj",
        "outputId": "a2c4b38c-217a-4482-ae25-4deee572c06d"
      },
      "execution_count": 52,
      "outputs": [
        {
          "output_type": "execute_result",
          "data": {
            "text/plain": [
              "NaN                   118341\n",
              "Nike                    9575\n",
              "Brandy Melville         5065\n",
              "Topshop                 4561\n",
              "PrettyLittle Thing      4136\n",
              "                       ...  \n",
              "kensie                     1\n",
              "Rachel Comey               1\n",
              "C/meo Collective           1\n",
              "Preen                      1\n",
              "Vita Fede                  1\n",
              "Name: brand, Length: 1135, dtype: int64"
            ]
          },
          "metadata": {},
          "execution_count": 52
        }
      ]
    },
    {
      "cell_type": "markdown",
      "source": [
        "8. How many pairs of shoes were purchased by Australian (AU) buyers?(Just write numbers)\n",
        "8. Avustralyalı (AU) alıcılar kaç çift ayakkabı satın aldı? (Sadece rakam yazın)"
      ],
      "metadata": {
        "id": "ZWcf3lbfjTNZ"
      }
    },
    {
      "cell_type": "code",
      "source": [
        "df[(df.buyer_country==\"AU\")&(df.category==\"Shoes\")]"
      ],
      "metadata": {
        "colab": {
          "base_uri": "https://localhost:8080/",
          "height": 423
        },
        "id": "hNTlDq7mS4q2",
        "outputId": "df00ba6d-155d-4463-d886-174eec53330c"
      },
      "execution_count": 107,
      "outputs": [
        {
          "output_type": "execute_result",
          "data": {
            "text/html": [
              "\n",
              "  <div id=\"df-84812ddf-9be2-4ec4-94dc-3f8f94fc42cc\">\n",
              "    <div class=\"colab-df-container\">\n",
              "      <div>\n",
              "<style scoped>\n",
              "    .dataframe tbody tr th:only-of-type {\n",
              "        vertical-align: middle;\n",
              "    }\n",
              "\n",
              "    .dataframe tbody tr th {\n",
              "        vertical-align: top;\n",
              "    }\n",
              "\n",
              "    .dataframe thead th {\n",
              "        text-align: right;\n",
              "    }\n",
              "</style>\n",
              "<table border=\"1\" class=\"dataframe\">\n",
              "  <thead>\n",
              "    <tr style=\"text-align: right;\">\n",
              "      <th></th>\n",
              "      <th>buyer_id</th>\n",
              "      <th>buyer_country</th>\n",
              "      <th>seller_id</th>\n",
              "      <th>seller_country</th>\n",
              "      <th>product_code</th>\n",
              "      <th>category</th>\n",
              "      <th>brand</th>\n",
              "      <th>currency</th>\n",
              "      <th>price</th>\n",
              "      <th>date</th>\n",
              "    </tr>\n",
              "  </thead>\n",
              "  <tbody>\n",
              "    <tr>\n",
              "      <th>139</th>\n",
              "      <td>ex9bpqq8w6</td>\n",
              "      <td>AU</td>\n",
              "      <td>j3pkou10</td>\n",
              "      <td>US</td>\n",
              "      <td>2tzszjhssh03</td>\n",
              "      <td>Shoes</td>\n",
              "      <td>Skechers</td>\n",
              "      <td>USD</td>\n",
              "      <td>52.24</td>\n",
              "      <td>2020-08-08</td>\n",
              "    </tr>\n",
              "    <tr>\n",
              "      <th>539</th>\n",
              "      <td>uru4etz7e5</td>\n",
              "      <td>AU</td>\n",
              "      <td>1i84ez1k</td>\n",
              "      <td>AU</td>\n",
              "      <td>zzu9hpjsjx6o</td>\n",
              "      <td>Shoes</td>\n",
              "      <td>NaN</td>\n",
              "      <td>AUD</td>\n",
              "      <td>73.73</td>\n",
              "      <td>2020-08-09</td>\n",
              "    </tr>\n",
              "    <tr>\n",
              "      <th>5639</th>\n",
              "      <td>9fn32ae6a9</td>\n",
              "      <td>AU</td>\n",
              "      <td>arloo1le</td>\n",
              "      <td>GB</td>\n",
              "      <td>a2gdza98bia7</td>\n",
              "      <td>Shoes</td>\n",
              "      <td>Nike</td>\n",
              "      <td>GBP</td>\n",
              "      <td>75.27</td>\n",
              "      <td>2020-08-09</td>\n",
              "    </tr>\n",
              "    <tr>\n",
              "      <th>7117</th>\n",
              "      <td>40jm2mgsri</td>\n",
              "      <td>AU</td>\n",
              "      <td>toud3ymd</td>\n",
              "      <td>AU</td>\n",
              "      <td>so29y8tl6rvs</td>\n",
              "      <td>Shoes</td>\n",
              "      <td>Nike</td>\n",
              "      <td>AUD</td>\n",
              "      <td>55.03</td>\n",
              "      <td>2020-08-09</td>\n",
              "    </tr>\n",
              "    <tr>\n",
              "      <th>7118</th>\n",
              "      <td>ncxx01xn4j</td>\n",
              "      <td>AU</td>\n",
              "      <td>toud3ymd</td>\n",
              "      <td>AU</td>\n",
              "      <td>utn7clcp7j3n</td>\n",
              "      <td>Shoes</td>\n",
              "      <td>NaN</td>\n",
              "      <td>AUD</td>\n",
              "      <td>211.76</td>\n",
              "      <td>2020-08-03</td>\n",
              "    </tr>\n",
              "    <tr>\n",
              "      <th>...</th>\n",
              "      <td>...</td>\n",
              "      <td>...</td>\n",
              "      <td>...</td>\n",
              "      <td>...</td>\n",
              "      <td>...</td>\n",
              "      <td>...</td>\n",
              "      <td>...</td>\n",
              "      <td>...</td>\n",
              "      <td>...</td>\n",
              "      <td>...</td>\n",
              "    </tr>\n",
              "    <tr>\n",
              "      <th>236930</th>\n",
              "      <td>azmnowovd7</td>\n",
              "      <td>AU</td>\n",
              "      <td>xgse9ed3</td>\n",
              "      <td>AU</td>\n",
              "      <td>1xzq0f7a31bi</td>\n",
              "      <td>Shoes</td>\n",
              "      <td>NaN</td>\n",
              "      <td>AUD</td>\n",
              "      <td>85.48</td>\n",
              "      <td>2020-08-05</td>\n",
              "    </tr>\n",
              "    <tr>\n",
              "      <th>237075</th>\n",
              "      <td>i0loqi83nv</td>\n",
              "      <td>AU</td>\n",
              "      <td>f8ts15sr</td>\n",
              "      <td>AU</td>\n",
              "      <td>zvrlgzyse7j6</td>\n",
              "      <td>Shoes</td>\n",
              "      <td>NaN</td>\n",
              "      <td>AUD</td>\n",
              "      <td>34.01</td>\n",
              "      <td>2020-08-05</td>\n",
              "    </tr>\n",
              "    <tr>\n",
              "      <th>237495</th>\n",
              "      <td>86aw49gm0m</td>\n",
              "      <td>AU</td>\n",
              "      <td>seb5z7bo</td>\n",
              "      <td>AU</td>\n",
              "      <td>xeebt9i4gyo3</td>\n",
              "      <td>Shoes</td>\n",
              "      <td>NaN</td>\n",
              "      <td>AUD</td>\n",
              "      <td>85.69</td>\n",
              "      <td>2020-08-05</td>\n",
              "    </tr>\n",
              "    <tr>\n",
              "      <th>237497</th>\n",
              "      <td>pcd2mdsr3n</td>\n",
              "      <td>AU</td>\n",
              "      <td>agzes91a</td>\n",
              "      <td>AU</td>\n",
              "      <td>bvqweclvm8tx</td>\n",
              "      <td>Shoes</td>\n",
              "      <td>NaN</td>\n",
              "      <td>AUD</td>\n",
              "      <td>95.27</td>\n",
              "      <td>2020-08-06</td>\n",
              "    </tr>\n",
              "    <tr>\n",
              "      <th>237575</th>\n",
              "      <td>0s9ms8inq0</td>\n",
              "      <td>AU</td>\n",
              "      <td>zkon4br2</td>\n",
              "      <td>AU</td>\n",
              "      <td>srw1zpebx9zo</td>\n",
              "      <td>Shoes</td>\n",
              "      <td>Nike</td>\n",
              "      <td>AUD</td>\n",
              "      <td>180.12</td>\n",
              "      <td>2020-08-05</td>\n",
              "    </tr>\n",
              "  </tbody>\n",
              "</table>\n",
              "<p>658 rows × 10 columns</p>\n",
              "</div>\n",
              "      <button class=\"colab-df-convert\" onclick=\"convertToInteractive('df-84812ddf-9be2-4ec4-94dc-3f8f94fc42cc')\"\n",
              "              title=\"Convert this dataframe to an interactive table.\"\n",
              "              style=\"display:none;\">\n",
              "        \n",
              "  <svg xmlns=\"http://www.w3.org/2000/svg\" height=\"24px\"viewBox=\"0 0 24 24\"\n",
              "       width=\"24px\">\n",
              "    <path d=\"M0 0h24v24H0V0z\" fill=\"none\"/>\n",
              "    <path d=\"M18.56 5.44l.94 2.06.94-2.06 2.06-.94-2.06-.94-.94-2.06-.94 2.06-2.06.94zm-11 1L8.5 8.5l.94-2.06 2.06-.94-2.06-.94L8.5 2.5l-.94 2.06-2.06.94zm10 10l.94 2.06.94-2.06 2.06-.94-2.06-.94-.94-2.06-.94 2.06-2.06.94z\"/><path d=\"M17.41 7.96l-1.37-1.37c-.4-.4-.92-.59-1.43-.59-.52 0-1.04.2-1.43.59L10.3 9.45l-7.72 7.72c-.78.78-.78 2.05 0 2.83L4 21.41c.39.39.9.59 1.41.59.51 0 1.02-.2 1.41-.59l7.78-7.78 2.81-2.81c.8-.78.8-2.07 0-2.86zM5.41 20L4 18.59l7.72-7.72 1.47 1.35L5.41 20z\"/>\n",
              "  </svg>\n",
              "      </button>\n",
              "      \n",
              "  <style>\n",
              "    .colab-df-container {\n",
              "      display:flex;\n",
              "      flex-wrap:wrap;\n",
              "      gap: 12px;\n",
              "    }\n",
              "\n",
              "    .colab-df-convert {\n",
              "      background-color: #E8F0FE;\n",
              "      border: none;\n",
              "      border-radius: 50%;\n",
              "      cursor: pointer;\n",
              "      display: none;\n",
              "      fill: #1967D2;\n",
              "      height: 32px;\n",
              "      padding: 0 0 0 0;\n",
              "      width: 32px;\n",
              "    }\n",
              "\n",
              "    .colab-df-convert:hover {\n",
              "      background-color: #E2EBFA;\n",
              "      box-shadow: 0px 1px 2px rgba(60, 64, 67, 0.3), 0px 1px 3px 1px rgba(60, 64, 67, 0.15);\n",
              "      fill: #174EA6;\n",
              "    }\n",
              "\n",
              "    [theme=dark] .colab-df-convert {\n",
              "      background-color: #3B4455;\n",
              "      fill: #D2E3FC;\n",
              "    }\n",
              "\n",
              "    [theme=dark] .colab-df-convert:hover {\n",
              "      background-color: #434B5C;\n",
              "      box-shadow: 0px 1px 3px 1px rgba(0, 0, 0, 0.15);\n",
              "      filter: drop-shadow(0px 1px 2px rgba(0, 0, 0, 0.3));\n",
              "      fill: #FFFFFF;\n",
              "    }\n",
              "  </style>\n",
              "\n",
              "      <script>\n",
              "        const buttonEl =\n",
              "          document.querySelector('#df-84812ddf-9be2-4ec4-94dc-3f8f94fc42cc button.colab-df-convert');\n",
              "        buttonEl.style.display =\n",
              "          google.colab.kernel.accessAllowed ? 'block' : 'none';\n",
              "\n",
              "        async function convertToInteractive(key) {\n",
              "          const element = document.querySelector('#df-84812ddf-9be2-4ec4-94dc-3f8f94fc42cc');\n",
              "          const dataTable =\n",
              "            await google.colab.kernel.invokeFunction('convertToInteractive',\n",
              "                                                     [key], {});\n",
              "          if (!dataTable) return;\n",
              "\n",
              "          const docLinkHtml = 'Like what you see? Visit the ' +\n",
              "            '<a target=\"_blank\" href=https://colab.research.google.com/notebooks/data_table.ipynb>data table notebook</a>'\n",
              "            + ' to learn more about interactive tables.';\n",
              "          element.innerHTML = '';\n",
              "          dataTable['output_type'] = 'display_data';\n",
              "          await google.colab.output.renderOutput(dataTable, element);\n",
              "          const docLink = document.createElement('div');\n",
              "          docLink.innerHTML = docLinkHtml;\n",
              "          element.appendChild(docLink);\n",
              "        }\n",
              "      </script>\n",
              "    </div>\n",
              "  </div>\n",
              "  "
            ],
            "text/plain": [
              "          buyer_id buyer_country seller_id  ... currency   price        date\n",
              "139     ex9bpqq8w6            AU  j3pkou10  ...      USD   52.24  2020-08-08\n",
              "539     uru4etz7e5            AU  1i84ez1k  ...      AUD   73.73  2020-08-09\n",
              "5639    9fn32ae6a9            AU  arloo1le  ...      GBP   75.27  2020-08-09\n",
              "7117    40jm2mgsri            AU  toud3ymd  ...      AUD   55.03  2020-08-09\n",
              "7118    ncxx01xn4j            AU  toud3ymd  ...      AUD  211.76  2020-08-03\n",
              "...            ...           ...       ...  ...      ...     ...         ...\n",
              "236930  azmnowovd7            AU  xgse9ed3  ...      AUD   85.48  2020-08-05\n",
              "237075  i0loqi83nv            AU  f8ts15sr  ...      AUD   34.01  2020-08-05\n",
              "237495  86aw49gm0m            AU  seb5z7bo  ...      AUD   85.69  2020-08-05\n",
              "237497  pcd2mdsr3n            AU  agzes91a  ...      AUD   95.27  2020-08-06\n",
              "237575  0s9ms8inq0            AU  zkon4br2  ...      AUD  180.12  2020-08-05\n",
              "\n",
              "[658 rows x 10 columns]"
            ]
          },
          "metadata": {},
          "execution_count": 107
        }
      ]
    },
    {
      "cell_type": "code",
      "source": [
        "df.category.value_counts()"
      ],
      "metadata": {
        "colab": {
          "base_uri": "https://localhost:8080/"
        },
        "id": "6Xs1XFAwYWWq",
        "outputId": "a79805e4-2782-454c-8071-5e9b086b0a42"
      },
      "execution_count": 72,
      "outputs": [
        {
          "output_type": "execute_result",
          "data": {
            "text/plain": [
              "Tops - Womens        45450\n",
              "Tops - Mens          32611\n",
              "Bottoms - Womens     30001\n",
              "Shoes                21764\n",
              "Accessories          21153\n",
              "Dresses              19238\n",
              "Jewellery            14923\n",
              "Beauty                8746\n",
              "Other                 6599\n",
              "Outerwear             6321\n",
              "Bottoms - Mens        5763\n",
              "Lingerie              5301\n",
              "Outerwear - Mens      4156\n",
              "Tech                  3496\n",
              "Home                  3477\n",
              "Music                 2510\n",
              "Kids                  2135\n",
              "Art                   1777\n",
              "Books & magazines     1081\n",
              "Film                   466\n",
              "Sports equipment       413\n",
              "Underwear              177\n",
              "Transportation          90\n",
              "UNSPECIFIED              7\n",
              "Name: category, dtype: int64"
            ]
          },
          "metadata": {},
          "execution_count": 72
        }
      ]
    },
    {
      "cell_type": "code",
      "source": [
        "df['brand'].value_counts()"
      ],
      "metadata": {
        "colab": {
          "base_uri": "https://localhost:8080/"
        },
        "id": "qPfcU8GUYWZE",
        "outputId": "54962c27-89ea-4504-943c-7f8e61b6c726"
      },
      "execution_count": 71,
      "outputs": [
        {
          "output_type": "execute_result",
          "data": {
            "text/plain": [
              "Nike                  9575\n",
              "Brandy Melville       5065\n",
              "Topshop               4561\n",
              "PrettyLittle Thing    4136\n",
              "Adidas                3905\n",
              "                      ... \n",
              "Preen                    1\n",
              "Wacoal                   1\n",
              "Shu Uemura               1\n",
              "Parker                   1\n",
              "Vita Fede                1\n",
              "Name: brand, Length: 1134, dtype: int64"
            ]
          },
          "metadata": {},
          "execution_count": 71
        }
      ]
    },
    {
      "cell_type": "code",
      "source": [
        "df.groupby(\"brand\")[\"price\"].sum()"
      ],
      "metadata": {
        "colab": {
          "base_uri": "https://localhost:8080/"
        },
        "id": "TfujneCwYWbb",
        "outputId": "7ea6dae8-8c3f-4e6c-a6ce-38bb8cac3737"
      },
      "execution_count": 108,
      "outputs": [
        {
          "output_type": "execute_result",
          "data": {
            "text/plain": [
              "brand\n",
              "& Other Stories    4615.52\n",
              "032c                376.78\n",
              "11 Degrees          432.76\n",
              "1822 Denim          150.78\n",
              "3.1 Phillip Lim     356.16\n",
              "                    ...   \n",
              "ghd                1965.11\n",
              "kensie               23.45\n",
              "liquid blue        2396.47\n",
              "mixxmix             225.45\n",
              "philosophy          106.34\n",
              "Name: price, Length: 1134, dtype: float64"
            ]
          },
          "metadata": {},
          "execution_count": 108
        }
      ]
    },
    {
      "cell_type": "code",
      "source": [
        "a=df.groupby(\"brand\")[\"price\"].sum()/df['brand'].value_counts()\n",
        "a"
      ],
      "metadata": {
        "colab": {
          "base_uri": "https://localhost:8080/"
        },
        "id": "SO0Dp7lBYWdZ",
        "outputId": "25d5a408-9149-4268-bda9-a1f9d7b978f9"
      },
      "execution_count": 109,
      "outputs": [
        {
          "output_type": "execute_result",
          "data": {
            "text/plain": [
              "& Other Stories    30.566358\n",
              "032c               34.252727\n",
              "11 Degrees         13.113939\n",
              "1822 Denim         18.847500\n",
              "3.1 Phillip Lim    35.616000\n",
              "                     ...    \n",
              "ghd                56.146000\n",
              "kensie             23.450000\n",
              "liquid blue        46.085962\n",
              "mixxmix            18.787500\n",
              "philosophy         26.585000\n",
              "Length: 1134, dtype: float64"
            ]
          },
          "metadata": {},
          "execution_count": 109
        }
      ]
    },
    {
      "cell_type": "code",
      "source": [
        "a.sort_values()"
      ],
      "metadata": {
        "colab": {
          "base_uri": "https://localhost:8080/"
        },
        "id": "jYTEXxnIYWfp",
        "outputId": "7a45b04d-1f15-4220-bb3d-93934c75439b"
      },
      "execution_count": 110,
      "outputs": [
        {
          "output_type": "execute_result",
          "data": {
            "text/plain": [
              "360 Cashmere                1.120000\n",
              "36572                       1.120000\n",
              "Bronica                     3.786000\n",
              "Max Factor                  3.911667\n",
              "MUA                         4.686667\n",
              "                             ...    \n",
              "Walter Van Beirendonck    216.180000\n",
              "Craig Green               239.940000\n",
              "Loeffler Randall          244.840000\n",
              "Loewe                     302.043333\n",
              "Goyard                    339.363333\n",
              "Length: 1134, dtype: float64"
            ]
          },
          "metadata": {},
          "execution_count": 110
        }
      ]
    },
    {
      "cell_type": "code",
      "source": [
        "df.groupby(\"brand\")[\"price\"].mean().idxmax()\n"
      ],
      "metadata": {
        "colab": {
          "base_uri": "https://localhost:8080/",
          "height": 35
        },
        "id": "feNYGIwc2uhX",
        "outputId": "5453ee9e-af84-4bb5-f1fd-6116fba955f6"
      },
      "execution_count": 111,
      "outputs": [
        {
          "output_type": "execute_result",
          "data": {
            "application/vnd.google.colaboratory.intrinsic+json": {
              "type": "string"
            },
            "text/plain": [
              "'Goyard'"
            ]
          },
          "metadata": {},
          "execution_count": 111
        }
      ]
    },
    {
      "cell_type": "code",
      "source": [
        ""
      ],
      "metadata": {
        "id": "DlMB4IO8gx8N"
      },
      "execution_count": null,
      "outputs": []
    },
    {
      "cell_type": "markdown",
      "source": [
        "7. How many brands have number of transactions between 35 and 55 (inclusive)?(Just write numbers)\n",
        "7. 35 ile 55 (dahil) arasında kaç markanın işlem sayısı var?(Rakamları yazmanız yeterli)"
      ],
      "metadata": {
        "id": "s52KfNEsgyhl"
      }
    },
    {
      "cell_type": "code",
      "source": [
        "df['brand'].value_counts().shape"
      ],
      "metadata": {
        "colab": {
          "base_uri": "https://localhost:8080/"
        },
        "id": "E2E8Rh-aihPz",
        "outputId": "3ef5dba0-896c-4069-f536-b44c7d6ad59d"
      },
      "execution_count": 99,
      "outputs": [
        {
          "output_type": "execute_result",
          "data": {
            "text/plain": [
              "(1134,)"
            ]
          },
          "metadata": {},
          "execution_count": 99
        }
      ]
    },
    {
      "cell_type": "code",
      "source": [
        "(df['brand'].value_counts().values<=55).sum()"
      ],
      "metadata": {
        "colab": {
          "base_uri": "https://localhost:8080/"
        },
        "id": "MCH8tinIYWh3",
        "outputId": "5733321e-873d-4764-e324-a82056ed6fd7"
      },
      "execution_count": 62,
      "outputs": [
        {
          "output_type": "execute_result",
          "data": {
            "text/plain": [
              "895"
            ]
          },
          "metadata": {},
          "execution_count": 62
        }
      ]
    },
    {
      "cell_type": "code",
      "source": [
        "(df['brand'].value_counts()>=35).sum()"
      ],
      "metadata": {
        "colab": {
          "base_uri": "https://localhost:8080/"
        },
        "id": "QLOPM1njan56",
        "outputId": "ac961223-646d-4ad4-98f1-04f08411281c"
      },
      "execution_count": 63,
      "outputs": [
        {
          "output_type": "execute_result",
          "data": {
            "text/plain": [
              "320"
            ]
          },
          "metadata": {},
          "execution_count": 63
        }
      ]
    },
    {
      "cell_type": "code",
      "source": [
        "a=((df['brand'].value_counts()>=35)&(df['brand'].value_counts()<=55)).sum()\n",
        "a"
      ],
      "metadata": {
        "colab": {
          "base_uri": "https://localhost:8080/"
        },
        "id": "Mgt36x01an8b",
        "outputId": "3db2655c-7137-4442-b8dc-94822145d440"
      },
      "execution_count": 102,
      "outputs": [
        {
          "output_type": "execute_result",
          "data": {
            "text/plain": [
              "81"
            ]
          },
          "metadata": {},
          "execution_count": 102
        }
      ]
    },
    {
      "cell_type": "code",
      "source": [
        "df[\"brand\"].value_counts().between(35,55).sum()"
      ],
      "metadata": {
        "colab": {
          "base_uri": "https://localhost:8080/"
        },
        "id": "MjjIEnft0_Mb",
        "outputId": "137d5be3-0e52-4c45-a2c5-43f381e4c1ae"
      },
      "execution_count": 105,
      "outputs": [
        {
          "output_type": "execute_result",
          "data": {
            "text/plain": [
              "81"
            ]
          },
          "metadata": {},
          "execution_count": 105
        }
      ]
    },
    {
      "cell_type": "markdown",
      "source": [
        "10. What is the total value of items purchased by GB buyers from GB sellers? (Just write numbers)\n",
        "\n",
        "10. GB alıcılar tarafından GB satıcılarından satın alınan ürünlerin toplam değeri nedir? (Sadece sayıları yazın)"
      ],
      "metadata": {
        "id": "Ef-0Iy7Db-EN"
      }
    },
    {
      "cell_type": "code",
      "source": [
        "df.info()"
      ],
      "metadata": {
        "colab": {
          "base_uri": "https://localhost:8080/"
        },
        "id": "11pqH7Neb7Qi",
        "outputId": "4a9a84e2-d740-46a8-a1d2-837d1f6a7c30"
      },
      "execution_count": 67,
      "outputs": [
        {
          "output_type": "stream",
          "name": "stdout",
          "text": [
            "<class 'pandas.core.frame.DataFrame'>\n",
            "RangeIndex: 237671 entries, 0 to 237670\n",
            "Data columns (total 10 columns):\n",
            " #   Column          Non-Null Count   Dtype  \n",
            "---  ------          --------------   -----  \n",
            " 0   buyer_id        237671 non-null  object \n",
            " 1   buyer_country   237671 non-null  object \n",
            " 2   seller_id       237671 non-null  object \n",
            " 3   seller_country  237671 non-null  object \n",
            " 4   product_code    237671 non-null  object \n",
            " 5   category        237655 non-null  object \n",
            " 6   brand           119330 non-null  object \n",
            " 7   currency        237671 non-null  object \n",
            " 8   price           237671 non-null  float64\n",
            " 9   date            237671 non-null  object \n",
            "dtypes: float64(1), object(9)\n",
            "memory usage: 18.1+ MB\n"
          ]
        }
      ]
    },
    {
      "cell_type": "code",
      "source": [
        "df[(df[\"buyer_country\"]==\"GB\")&(df[\"seller_country\"]==\"GB\")][\"price\"]"
      ],
      "metadata": {
        "colab": {
          "base_uri": "https://localhost:8080/"
        },
        "id": "6P3vqVfEb7TV",
        "outputId": "5d9f07de-ec56-40ba-a91d-e76c3b0ca774"
      },
      "execution_count": 77,
      "outputs": [
        {
          "output_type": "execute_result",
          "data": {
            "text/plain": [
              "0         19.11\n",
              "1         15.92\n",
              "2          6.37\n",
              "3         25.27\n",
              "4          8.90\n",
              "          ...  \n",
              "237661    31.77\n",
              "237665    33.85\n",
              "237666    17.11\n",
              "237668    58.28\n",
              "237669     9.46\n",
              "Name: price, Length: 133876, dtype: float64"
            ]
          },
          "metadata": {},
          "execution_count": 77
        }
      ]
    },
    {
      "cell_type": "code",
      "source": [
        "df[(df[\"buyer_country\"]==\"GB\")&(df[\"seller_country\"]==\"GB\")][\"price\"]"
      ],
      "metadata": {
        "colab": {
          "base_uri": "https://localhost:8080/"
        },
        "id": "Skbtk07kb7Xu",
        "outputId": "7dca938f-bf1f-43d9-99e7-f266267044ff"
      },
      "execution_count": 79,
      "outputs": [
        {
          "output_type": "execute_result",
          "data": {
            "text/plain": [
              "0         19.11\n",
              "1         15.92\n",
              "2          6.37\n",
              "3         25.27\n",
              "4          8.90\n",
              "          ...  \n",
              "237661    31.77\n",
              "237665    33.85\n",
              "237666    17.11\n",
              "237668    58.28\n",
              "237669     9.46\n",
              "Name: price, Length: 133876, dtype: float64"
            ]
          },
          "metadata": {},
          "execution_count": 79
        }
      ]
    },
    {
      "cell_type": "markdown",
      "source": [
        "11. What percentage of US sellers' transactions were purchased by US buyers? (Just write percentage)\n",
        "\n",
        "\n",
        "11. ABD'li satıcıların işlemlerinin yüzde kaçı ABD'li alıcılar tarafından satın alındı? (Yüzdeyi yazmanız yeterli)"
      ],
      "metadata": {
        "id": "kA6BXwHZc0sh"
      }
    },
    {
      "cell_type": "code",
      "source": [
        "from numpy.core.numeric import normalize_axis_tuple\n",
        "df[df[\"seller_country\"]==\"US\"][\"buyer_country\"].value_counts(dropna=False,normalize=True)"
      ],
      "metadata": {
        "colab": {
          "base_uri": "https://localhost:8080/"
        },
        "id": "lQNt1zH6b7cK",
        "outputId": "a52fe46a-e8f8-4fef-c99e-cdbab460b64d"
      },
      "execution_count": 118,
      "outputs": [
        {
          "output_type": "execute_result",
          "data": {
            "text/plain": [
              "US     0.982304\n",
              "CA     0.004762\n",
              "RoW    0.004652\n",
              "GB     0.003666\n",
              "AU     0.002789\n",
              "DE     0.000804\n",
              "FR     0.000548\n",
              "IE     0.000341\n",
              "IT     0.000134\n",
              "Name: buyer_country, dtype: float64"
            ]
          },
          "metadata": {},
          "execution_count": 118
        }
      ]
    },
    {
      "cell_type": "code",
      "source": [
        "df[df.seller_country=='US'].groupby('buyer_country').sum().sum\n"
      ],
      "metadata": {
        "colab": {
          "base_uri": "https://localhost:8080/",
          "height": 363
        },
        "id": "v6HGzwi5b7ex",
        "outputId": "6b064004-ae92-4279-fad8-b42c025935fe"
      },
      "execution_count": 114,
      "outputs": [
        {
          "output_type": "execute_result",
          "data": {
            "text/html": [
              "\n",
              "  <div id=\"df-55ac2618-5033-4b80-8a26-09257cb2151f\">\n",
              "    <div class=\"colab-df-container\">\n",
              "      <div>\n",
              "<style scoped>\n",
              "    .dataframe tbody tr th:only-of-type {\n",
              "        vertical-align: middle;\n",
              "    }\n",
              "\n",
              "    .dataframe tbody tr th {\n",
              "        vertical-align: top;\n",
              "    }\n",
              "\n",
              "    .dataframe thead th {\n",
              "        text-align: right;\n",
              "    }\n",
              "</style>\n",
              "<table border=\"1\" class=\"dataframe\">\n",
              "  <thead>\n",
              "    <tr style=\"text-align: right;\">\n",
              "      <th></th>\n",
              "      <th>price</th>\n",
              "    </tr>\n",
              "    <tr>\n",
              "      <th>buyer_country</th>\n",
              "      <th></th>\n",
              "    </tr>\n",
              "  </thead>\n",
              "  <tbody>\n",
              "    <tr>\n",
              "      <th>AU</th>\n",
              "      <td>16658.36</td>\n",
              "    </tr>\n",
              "    <tr>\n",
              "      <th>CA</th>\n",
              "      <td>21096.80</td>\n",
              "    </tr>\n",
              "    <tr>\n",
              "      <th>DE</th>\n",
              "      <td>4789.52</td>\n",
              "    </tr>\n",
              "    <tr>\n",
              "      <th>FR</th>\n",
              "      <td>4815.18</td>\n",
              "    </tr>\n",
              "    <tr>\n",
              "      <th>GB</th>\n",
              "      <td>22230.41</td>\n",
              "    </tr>\n",
              "    <tr>\n",
              "      <th>IE</th>\n",
              "      <td>1249.18</td>\n",
              "    </tr>\n",
              "    <tr>\n",
              "      <th>IT</th>\n",
              "      <td>1946.05</td>\n",
              "    </tr>\n",
              "    <tr>\n",
              "      <th>RoW</th>\n",
              "      <td>27302.41</td>\n",
              "    </tr>\n",
              "    <tr>\n",
              "      <th>US</th>\n",
              "      <td>2391002.92</td>\n",
              "    </tr>\n",
              "  </tbody>\n",
              "</table>\n",
              "</div>\n",
              "      <button class=\"colab-df-convert\" onclick=\"convertToInteractive('df-55ac2618-5033-4b80-8a26-09257cb2151f')\"\n",
              "              title=\"Convert this dataframe to an interactive table.\"\n",
              "              style=\"display:none;\">\n",
              "        \n",
              "  <svg xmlns=\"http://www.w3.org/2000/svg\" height=\"24px\"viewBox=\"0 0 24 24\"\n",
              "       width=\"24px\">\n",
              "    <path d=\"M0 0h24v24H0V0z\" fill=\"none\"/>\n",
              "    <path d=\"M18.56 5.44l.94 2.06.94-2.06 2.06-.94-2.06-.94-.94-2.06-.94 2.06-2.06.94zm-11 1L8.5 8.5l.94-2.06 2.06-.94-2.06-.94L8.5 2.5l-.94 2.06-2.06.94zm10 10l.94 2.06.94-2.06 2.06-.94-2.06-.94-.94-2.06-.94 2.06-2.06.94z\"/><path d=\"M17.41 7.96l-1.37-1.37c-.4-.4-.92-.59-1.43-.59-.52 0-1.04.2-1.43.59L10.3 9.45l-7.72 7.72c-.78.78-.78 2.05 0 2.83L4 21.41c.39.39.9.59 1.41.59.51 0 1.02-.2 1.41-.59l7.78-7.78 2.81-2.81c.8-.78.8-2.07 0-2.86zM5.41 20L4 18.59l7.72-7.72 1.47 1.35L5.41 20z\"/>\n",
              "  </svg>\n",
              "      </button>\n",
              "      \n",
              "  <style>\n",
              "    .colab-df-container {\n",
              "      display:flex;\n",
              "      flex-wrap:wrap;\n",
              "      gap: 12px;\n",
              "    }\n",
              "\n",
              "    .colab-df-convert {\n",
              "      background-color: #E8F0FE;\n",
              "      border: none;\n",
              "      border-radius: 50%;\n",
              "      cursor: pointer;\n",
              "      display: none;\n",
              "      fill: #1967D2;\n",
              "      height: 32px;\n",
              "      padding: 0 0 0 0;\n",
              "      width: 32px;\n",
              "    }\n",
              "\n",
              "    .colab-df-convert:hover {\n",
              "      background-color: #E2EBFA;\n",
              "      box-shadow: 0px 1px 2px rgba(60, 64, 67, 0.3), 0px 1px 3px 1px rgba(60, 64, 67, 0.15);\n",
              "      fill: #174EA6;\n",
              "    }\n",
              "\n",
              "    [theme=dark] .colab-df-convert {\n",
              "      background-color: #3B4455;\n",
              "      fill: #D2E3FC;\n",
              "    }\n",
              "\n",
              "    [theme=dark] .colab-df-convert:hover {\n",
              "      background-color: #434B5C;\n",
              "      box-shadow: 0px 1px 3px 1px rgba(0, 0, 0, 0.15);\n",
              "      filter: drop-shadow(0px 1px 2px rgba(0, 0, 0, 0.3));\n",
              "      fill: #FFFFFF;\n",
              "    }\n",
              "  </style>\n",
              "\n",
              "      <script>\n",
              "        const buttonEl =\n",
              "          document.querySelector('#df-55ac2618-5033-4b80-8a26-09257cb2151f button.colab-df-convert');\n",
              "        buttonEl.style.display =\n",
              "          google.colab.kernel.accessAllowed ? 'block' : 'none';\n",
              "\n",
              "        async function convertToInteractive(key) {\n",
              "          const element = document.querySelector('#df-55ac2618-5033-4b80-8a26-09257cb2151f');\n",
              "          const dataTable =\n",
              "            await google.colab.kernel.invokeFunction('convertToInteractive',\n",
              "                                                     [key], {});\n",
              "          if (!dataTable) return;\n",
              "\n",
              "          const docLinkHtml = 'Like what you see? Visit the ' +\n",
              "            '<a target=\"_blank\" href=https://colab.research.google.com/notebooks/data_table.ipynb>data table notebook</a>'\n",
              "            + ' to learn more about interactive tables.';\n",
              "          element.innerHTML = '';\n",
              "          dataTable['output_type'] = 'display_data';\n",
              "          await google.colab.output.renderOutput(dataTable, element);\n",
              "          const docLink = document.createElement('div');\n",
              "          docLink.innerHTML = docLinkHtml;\n",
              "          element.appendChild(docLink);\n",
              "        }\n",
              "      </script>\n",
              "    </div>\n",
              "  </div>\n",
              "  "
            ],
            "text/plain": [
              "                    price\n",
              "buyer_country            \n",
              "AU               16658.36\n",
              "CA               21096.80\n",
              "DE                4789.52\n",
              "FR                4815.18\n",
              "GB               22230.41\n",
              "IE                1249.18\n",
              "IT                1946.05\n",
              "RoW              27302.41\n",
              "US             2391002.92"
            ]
          },
          "metadata": {},
          "execution_count": 114
        }
      ]
    },
    {
      "cell_type": "code",
      "source": [
        "df[df.seller_country=='US'].groupby('buyer_country').sum().sum()"
      ],
      "metadata": {
        "colab": {
          "base_uri": "https://localhost:8080/"
        },
        "id": "vQ9AUWz545Ad",
        "outputId": "84a1626a-ca3c-4a7d-bedd-134fc312ac23"
      },
      "execution_count": 115,
      "outputs": [
        {
          "output_type": "execute_result",
          "data": {
            "text/plain": [
              "price    2491090.83\n",
              "dtype: float64"
            ]
          },
          "metadata": {},
          "execution_count": 115
        }
      ]
    },
    {
      "cell_type": "code",
      "source": [
        "df[df.seller_country=='US'].groupby('buyer_country').sum()/df[df.seller_country=='US'].groupby('buyer_country').sum().sum()"
      ],
      "metadata": {
        "colab": {
          "base_uri": "https://localhost:8080/",
          "height": 363
        },
        "id": "r3UXfm7w47p8",
        "outputId": "05714035-ac79-4ee2-c470-2a462c53aef9"
      },
      "execution_count": 116,
      "outputs": [
        {
          "output_type": "execute_result",
          "data": {
            "text/html": [
              "\n",
              "  <div id=\"df-9ebd36ca-cb1c-4736-968d-4ff00fe10ea1\">\n",
              "    <div class=\"colab-df-container\">\n",
              "      <div>\n",
              "<style scoped>\n",
              "    .dataframe tbody tr th:only-of-type {\n",
              "        vertical-align: middle;\n",
              "    }\n",
              "\n",
              "    .dataframe tbody tr th {\n",
              "        vertical-align: top;\n",
              "    }\n",
              "\n",
              "    .dataframe thead th {\n",
              "        text-align: right;\n",
              "    }\n",
              "</style>\n",
              "<table border=\"1\" class=\"dataframe\">\n",
              "  <thead>\n",
              "    <tr style=\"text-align: right;\">\n",
              "      <th></th>\n",
              "      <th>price</th>\n",
              "    </tr>\n",
              "    <tr>\n",
              "      <th>buyer_country</th>\n",
              "      <th></th>\n",
              "    </tr>\n",
              "  </thead>\n",
              "  <tbody>\n",
              "    <tr>\n",
              "      <th>AU</th>\n",
              "      <td>0.006687</td>\n",
              "    </tr>\n",
              "    <tr>\n",
              "      <th>CA</th>\n",
              "      <td>0.008469</td>\n",
              "    </tr>\n",
              "    <tr>\n",
              "      <th>DE</th>\n",
              "      <td>0.001923</td>\n",
              "    </tr>\n",
              "    <tr>\n",
              "      <th>FR</th>\n",
              "      <td>0.001933</td>\n",
              "    </tr>\n",
              "    <tr>\n",
              "      <th>GB</th>\n",
              "      <td>0.008924</td>\n",
              "    </tr>\n",
              "    <tr>\n",
              "      <th>IE</th>\n",
              "      <td>0.000501</td>\n",
              "    </tr>\n",
              "    <tr>\n",
              "      <th>IT</th>\n",
              "      <td>0.000781</td>\n",
              "    </tr>\n",
              "    <tr>\n",
              "      <th>RoW</th>\n",
              "      <td>0.010960</td>\n",
              "    </tr>\n",
              "    <tr>\n",
              "      <th>US</th>\n",
              "      <td>0.959822</td>\n",
              "    </tr>\n",
              "  </tbody>\n",
              "</table>\n",
              "</div>\n",
              "      <button class=\"colab-df-convert\" onclick=\"convertToInteractive('df-9ebd36ca-cb1c-4736-968d-4ff00fe10ea1')\"\n",
              "              title=\"Convert this dataframe to an interactive table.\"\n",
              "              style=\"display:none;\">\n",
              "        \n",
              "  <svg xmlns=\"http://www.w3.org/2000/svg\" height=\"24px\"viewBox=\"0 0 24 24\"\n",
              "       width=\"24px\">\n",
              "    <path d=\"M0 0h24v24H0V0z\" fill=\"none\"/>\n",
              "    <path d=\"M18.56 5.44l.94 2.06.94-2.06 2.06-.94-2.06-.94-.94-2.06-.94 2.06-2.06.94zm-11 1L8.5 8.5l.94-2.06 2.06-.94-2.06-.94L8.5 2.5l-.94 2.06-2.06.94zm10 10l.94 2.06.94-2.06 2.06-.94-2.06-.94-.94-2.06-.94 2.06-2.06.94z\"/><path d=\"M17.41 7.96l-1.37-1.37c-.4-.4-.92-.59-1.43-.59-.52 0-1.04.2-1.43.59L10.3 9.45l-7.72 7.72c-.78.78-.78 2.05 0 2.83L4 21.41c.39.39.9.59 1.41.59.51 0 1.02-.2 1.41-.59l7.78-7.78 2.81-2.81c.8-.78.8-2.07 0-2.86zM5.41 20L4 18.59l7.72-7.72 1.47 1.35L5.41 20z\"/>\n",
              "  </svg>\n",
              "      </button>\n",
              "      \n",
              "  <style>\n",
              "    .colab-df-container {\n",
              "      display:flex;\n",
              "      flex-wrap:wrap;\n",
              "      gap: 12px;\n",
              "    }\n",
              "\n",
              "    .colab-df-convert {\n",
              "      background-color: #E8F0FE;\n",
              "      border: none;\n",
              "      border-radius: 50%;\n",
              "      cursor: pointer;\n",
              "      display: none;\n",
              "      fill: #1967D2;\n",
              "      height: 32px;\n",
              "      padding: 0 0 0 0;\n",
              "      width: 32px;\n",
              "    }\n",
              "\n",
              "    .colab-df-convert:hover {\n",
              "      background-color: #E2EBFA;\n",
              "      box-shadow: 0px 1px 2px rgba(60, 64, 67, 0.3), 0px 1px 3px 1px rgba(60, 64, 67, 0.15);\n",
              "      fill: #174EA6;\n",
              "    }\n",
              "\n",
              "    [theme=dark] .colab-df-convert {\n",
              "      background-color: #3B4455;\n",
              "      fill: #D2E3FC;\n",
              "    }\n",
              "\n",
              "    [theme=dark] .colab-df-convert:hover {\n",
              "      background-color: #434B5C;\n",
              "      box-shadow: 0px 1px 3px 1px rgba(0, 0, 0, 0.15);\n",
              "      filter: drop-shadow(0px 1px 2px rgba(0, 0, 0, 0.3));\n",
              "      fill: #FFFFFF;\n",
              "    }\n",
              "  </style>\n",
              "\n",
              "      <script>\n",
              "        const buttonEl =\n",
              "          document.querySelector('#df-9ebd36ca-cb1c-4736-968d-4ff00fe10ea1 button.colab-df-convert');\n",
              "        buttonEl.style.display =\n",
              "          google.colab.kernel.accessAllowed ? 'block' : 'none';\n",
              "\n",
              "        async function convertToInteractive(key) {\n",
              "          const element = document.querySelector('#df-9ebd36ca-cb1c-4736-968d-4ff00fe10ea1');\n",
              "          const dataTable =\n",
              "            await google.colab.kernel.invokeFunction('convertToInteractive',\n",
              "                                                     [key], {});\n",
              "          if (!dataTable) return;\n",
              "\n",
              "          const docLinkHtml = 'Like what you see? Visit the ' +\n",
              "            '<a target=\"_blank\" href=https://colab.research.google.com/notebooks/data_table.ipynb>data table notebook</a>'\n",
              "            + ' to learn more about interactive tables.';\n",
              "          element.innerHTML = '';\n",
              "          dataTable['output_type'] = 'display_data';\n",
              "          await google.colab.output.renderOutput(dataTable, element);\n",
              "          const docLink = document.createElement('div');\n",
              "          docLink.innerHTML = docLinkHtml;\n",
              "          element.appendChild(docLink);\n",
              "        }\n",
              "      </script>\n",
              "    </div>\n",
              "  </div>\n",
              "  "
            ],
            "text/plain": [
              "                  price\n",
              "buyer_country          \n",
              "AU             0.006687\n",
              "CA             0.008469\n",
              "DE             0.001923\n",
              "FR             0.001933\n",
              "GB             0.008924\n",
              "IE             0.000501\n",
              "IT             0.000781\n",
              "RoW            0.010960\n",
              "US             0.959822"
            ]
          },
          "metadata": {},
          "execution_count": 116
        }
      ]
    }
  ]
}