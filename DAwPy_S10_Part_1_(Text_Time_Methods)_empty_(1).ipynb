{
  "cells": [
    {
      "cell_type": "markdown",
      "metadata": {
        "id": "view-in-github",
        "colab_type": "text"
      },
      "source": [
        "<a href=\"https://colab.research.google.com/github/glcn35/PANDAS/blob/main/DAwPy_S10_Part_1_(Text_Time_Methods)_empty_(1).ipynb\" target=\"_parent\"><img src=\"https://colab.research.google.com/assets/colab-badge.svg\" alt=\"Open In Colab\"/></a>"
      ]
    },
    {
      "cell_type": "markdown",
      "metadata": {
        "id": "0Lb22s2VhqDn"
      },
      "source": [
        "___\n",
        "\n",
        "<p style=\"text-align: center;\"><img src=\"https://docs.google.com/uc?id=1lY0Uj5R04yMY3-ZppPWxqCr5pvBLYPnV\" class=\"img-fluid\" alt=\"CLRSWY\"></p>\n",
        "\n",
        "___"
      ]
    },
    {
      "cell_type": "markdown",
      "metadata": {
        "id": "Xl9VLrgchqDp"
      },
      "source": [
        "<h1><p style=\"text-align: center;\">Pandas Lesson, Session - 10</p><h1>"
      ]
    },
    {
      "cell_type": "markdown",
      "metadata": {
        "id": "ssGqIke7hqDq"
      },
      "source": [
        "<h1><p style=\"text-align: center;\">Working with Text and Time Data</p><h1>"
      ]
    },
    {
      "cell_type": "markdown",
      "metadata": {
        "id": "QNACYl2uhqDq"
      },
      "source": [
        "# Working with Text Data\n",
        "\n",
        "## String Methods\n",
        "https://pandas.pydata.org/pandas-docs/stable/user_guide/text.html\n",
        "\n",
        "https://www.w3schools.com/python/python_ref_string.asp"
      ]
    },
    {
      "cell_type": "code",
      "execution_count": null,
      "metadata": {
        "id": "4EjYagsxhqDr"
      },
      "outputs": [],
      "source": [
        "import numpy as np\n",
        "import pandas as pd\n",
        "import seaborn as sns"
      ]
    },
    {
      "cell_type": "code",
      "source": [
        "!pip install pandas"
      ],
      "metadata": {
        "colab": {
          "base_uri": "https://localhost:8080/"
        },
        "id": "rd99evZPkpKZ",
        "outputId": "4a5d9854-34dd-4e95-9a64-b64b45b9ffd7"
      },
      "execution_count": null,
      "outputs": [
        {
          "output_type": "stream",
          "name": "stdout",
          "text": [
            "Requirement already satisfied: pandas in /usr/local/lib/python3.7/dist-packages (1.3.5)\n",
            "Requirement already satisfied: numpy>=1.17.3 in /usr/local/lib/python3.7/dist-packages (from pandas) (1.19.5)\n",
            "Requirement already satisfied: python-dateutil>=2.7.3 in /usr/local/lib/python3.7/dist-packages (from pandas) (2.8.2)\n",
            "Requirement already satisfied: pytz>=2017.3 in /usr/local/lib/python3.7/dist-packages (from pandas) (2018.9)\n",
            "Requirement already satisfied: six>=1.5 in /usr/local/lib/python3.7/dist-packages (from python-dateutil>=2.7.3->pandas) (1.15.0)\n"
          ]
        }
      ]
    },
    {
      "cell_type": "code",
      "source": [
        "!pip3 install --upgrade openpyxl"
      ],
      "metadata": {
        "colab": {
          "base_uri": "https://localhost:8080/"
        },
        "id": "tKPZ-KeUkpZq",
        "outputId": "7dfcd03d-0958-4e87-b476-877b1fa92580"
      },
      "execution_count": null,
      "outputs": [
        {
          "output_type": "stream",
          "name": "stdout",
          "text": [
            "Requirement already satisfied: openpyxl in /usr/local/lib/python3.7/dist-packages (3.0.9)\n",
            "Requirement already satisfied: et-xmlfile in /usr/local/lib/python3.7/dist-packages (from openpyxl) (1.1.0)\n"
          ]
        }
      ]
    },
    {
      "cell_type": "code",
      "execution_count": null,
      "metadata": {
        "colab": {
          "base_uri": "https://localhost:8080/",
          "height": 300
        },
        "id": "Z9G0kG7whqDs",
        "outputId": "2666c22e-c751-497d-abf2-5c94cbb42b54"
      },
      "outputs": [
        {
          "output_type": "execute_result",
          "data": {
            "text/html": [
              "\n",
              "  <div id=\"df-7911b997-63c6-4fdc-b4d4-2eb8692d1463\">\n",
              "    <div class=\"colab-df-container\">\n",
              "      <div>\n",
              "<style scoped>\n",
              "    .dataframe tbody tr th:only-of-type {\n",
              "        vertical-align: middle;\n",
              "    }\n",
              "\n",
              "    .dataframe tbody tr th {\n",
              "        vertical-align: top;\n",
              "    }\n",
              "\n",
              "    .dataframe thead th {\n",
              "        text-align: right;\n",
              "    }\n",
              "</style>\n",
              "<table border=\"1\" class=\"dataframe\">\n",
              "  <thead>\n",
              "    <tr style=\"text-align: right;\">\n",
              "      <th></th>\n",
              "      <th>id</th>\n",
              "      <th>staff</th>\n",
              "      <th>department</th>\n",
              "      <th>job</th>\n",
              "      <th>salary</th>\n",
              "      <th>age</th>\n",
              "    </tr>\n",
              "  </thead>\n",
              "  <tbody>\n",
              "    <tr>\n",
              "      <th>0</th>\n",
              "      <td>M0001</td>\n",
              "      <td>Tom BLUE</td>\n",
              "      <td>HR</td>\n",
              "      <td>manager</td>\n",
              "      <td>\"$150,000\"</td>\n",
              "      <td>52</td>\n",
              "    </tr>\n",
              "    <tr>\n",
              "      <th>1</th>\n",
              "      <td>M0002</td>\n",
              "      <td>JOHN BLACK</td>\n",
              "      <td>IT</td>\n",
              "      <td>manager</td>\n",
              "      <td>\"$180,000\"</td>\n",
              "      <td>48</td>\n",
              "    </tr>\n",
              "    <tr>\n",
              "      <th>2</th>\n",
              "      <td>E0001</td>\n",
              "      <td>Micheal Brown</td>\n",
              "      <td>IT</td>\n",
              "      <td>data scientist</td>\n",
              "      <td>\"$150,000\"</td>\n",
              "      <td>35</td>\n",
              "    </tr>\n",
              "    <tr>\n",
              "      <th>3</th>\n",
              "      <td>E0002</td>\n",
              "      <td>jason walker</td>\n",
              "      <td>HR</td>\n",
              "      <td>recruiter</td>\n",
              "      <td>130000dolar</td>\n",
              "      <td>38</td>\n",
              "    </tr>\n",
              "    <tr>\n",
              "      <th>4</th>\n",
              "      <td>E0003</td>\n",
              "      <td>Alex Green</td>\n",
              "      <td>IT</td>\n",
              "      <td>backend developer</td>\n",
              "      <td>\"$110,000\"</td>\n",
              "      <td>-</td>\n",
              "    </tr>\n",
              "    <tr>\n",
              "      <th>5</th>\n",
              "      <td>E0004</td>\n",
              "      <td>OSCAR SMİTH</td>\n",
              "      <td>IT</td>\n",
              "      <td>frontend developer</td>\n",
              "      <td>\"$120,000\"</td>\n",
              "      <td>32</td>\n",
              "    </tr>\n",
              "    <tr>\n",
              "      <th>6</th>\n",
              "      <td>E0005</td>\n",
              "      <td>Adrian STAR</td>\n",
              "      <td>IT</td>\n",
              "      <td>data scientist</td>\n",
              "      <td>\"$135,000\"</td>\n",
              "      <td>40</td>\n",
              "    </tr>\n",
              "    <tr>\n",
              "      <th>7</th>\n",
              "      <td>E0006</td>\n",
              "      <td>Albert simon</td>\n",
              "      <td>IT</td>\n",
              "      <td>data scientist</td>\n",
              "      <td>125000dolar</td>\n",
              "      <td>35</td>\n",
              "    </tr>\n",
              "  </tbody>\n",
              "</table>\n",
              "</div>\n",
              "      <button class=\"colab-df-convert\" onclick=\"convertToInteractive('df-7911b997-63c6-4fdc-b4d4-2eb8692d1463')\"\n",
              "              title=\"Convert this dataframe to an interactive table.\"\n",
              "              style=\"display:none;\">\n",
              "        \n",
              "  <svg xmlns=\"http://www.w3.org/2000/svg\" height=\"24px\"viewBox=\"0 0 24 24\"\n",
              "       width=\"24px\">\n",
              "    <path d=\"M0 0h24v24H0V0z\" fill=\"none\"/>\n",
              "    <path d=\"M18.56 5.44l.94 2.06.94-2.06 2.06-.94-2.06-.94-.94-2.06-.94 2.06-2.06.94zm-11 1L8.5 8.5l.94-2.06 2.06-.94-2.06-.94L8.5 2.5l-.94 2.06-2.06.94zm10 10l.94 2.06.94-2.06 2.06-.94-2.06-.94-.94-2.06-.94 2.06-2.06.94z\"/><path d=\"M17.41 7.96l-1.37-1.37c-.4-.4-.92-.59-1.43-.59-.52 0-1.04.2-1.43.59L10.3 9.45l-7.72 7.72c-.78.78-.78 2.05 0 2.83L4 21.41c.39.39.9.59 1.41.59.51 0 1.02-.2 1.41-.59l7.78-7.78 2.81-2.81c.8-.78.8-2.07 0-2.86zM5.41 20L4 18.59l7.72-7.72 1.47 1.35L5.41 20z\"/>\n",
              "  </svg>\n",
              "      </button>\n",
              "      \n",
              "  <style>\n",
              "    .colab-df-container {\n",
              "      display:flex;\n",
              "      flex-wrap:wrap;\n",
              "      gap: 12px;\n",
              "    }\n",
              "\n",
              "    .colab-df-convert {\n",
              "      background-color: #E8F0FE;\n",
              "      border: none;\n",
              "      border-radius: 50%;\n",
              "      cursor: pointer;\n",
              "      display: none;\n",
              "      fill: #1967D2;\n",
              "      height: 32px;\n",
              "      padding: 0 0 0 0;\n",
              "      width: 32px;\n",
              "    }\n",
              "\n",
              "    .colab-df-convert:hover {\n",
              "      background-color: #E2EBFA;\n",
              "      box-shadow: 0px 1px 2px rgba(60, 64, 67, 0.3), 0px 1px 3px 1px rgba(60, 64, 67, 0.15);\n",
              "      fill: #174EA6;\n",
              "    }\n",
              "\n",
              "    [theme=dark] .colab-df-convert {\n",
              "      background-color: #3B4455;\n",
              "      fill: #D2E3FC;\n",
              "    }\n",
              "\n",
              "    [theme=dark] .colab-df-convert:hover {\n",
              "      background-color: #434B5C;\n",
              "      box-shadow: 0px 1px 3px 1px rgba(0, 0, 0, 0.15);\n",
              "      filter: drop-shadow(0px 1px 2px rgba(0, 0, 0, 0.3));\n",
              "      fill: #FFFFFF;\n",
              "    }\n",
              "  </style>\n",
              "\n",
              "      <script>\n",
              "        const buttonEl =\n",
              "          document.querySelector('#df-7911b997-63c6-4fdc-b4d4-2eb8692d1463 button.colab-df-convert');\n",
              "        buttonEl.style.display =\n",
              "          google.colab.kernel.accessAllowed ? 'block' : 'none';\n",
              "\n",
              "        async function convertToInteractive(key) {\n",
              "          const element = document.querySelector('#df-7911b997-63c6-4fdc-b4d4-2eb8692d1463');\n",
              "          const dataTable =\n",
              "            await google.colab.kernel.invokeFunction('convertToInteractive',\n",
              "                                                     [key], {});\n",
              "          if (!dataTable) return;\n",
              "\n",
              "          const docLinkHtml = 'Like what you see? Visit the ' +\n",
              "            '<a target=\"_blank\" href=https://colab.research.google.com/notebooks/data_table.ipynb>data table notebook</a>'\n",
              "            + ' to learn more about interactive tables.';\n",
              "          element.innerHTML = '';\n",
              "          dataTable['output_type'] = 'display_data';\n",
              "          await google.colab.output.renderOutput(dataTable, element);\n",
              "          const docLink = document.createElement('div');\n",
              "          docLink.innerHTML = docLinkHtml;\n",
              "          element.appendChild(docLink);\n",
              "        }\n",
              "      </script>\n",
              "    </div>\n",
              "  </div>\n",
              "  "
            ],
            "text/plain": [
              "      id          staff department                 job       salary age\n",
              "0  M0001       Tom BLUE         HR             manager   \"$150,000\"  52\n",
              "1  M0002     JOHN BLACK         IT             manager   \"$180,000\"  48\n",
              "2  E0001  Micheal Brown         IT      data scientist   \"$150,000\"  35\n",
              "3  E0002   jason walker         HR           recruiter  130000dolar  38\n",
              "4  E0003     Alex Green         IT   backend developer   \"$110,000\"   -\n",
              "5  E0004    OSCAR SMİTH         IT  frontend developer   \"$120,000\"  32\n",
              "6  E0005    Adrian STAR         IT      data scientist   \"$135,000\"  40\n",
              "7  E0006   Albert simon         IT      data scientist  125000dolar  35"
            ]
          },
          "metadata": {},
          "execution_count": 4
        }
      ],
      "source": [
        "df = pd.read_excel(\"/content/sample_data/text_exercise.XLSX\")\n",
        "df"
      ]
    },
    {
      "cell_type": "code",
      "execution_count": null,
      "metadata": {
        "id": "evRHuGbXhqDt",
        "outputId": "61f9f6cf-9f8e-4bed-eaf4-33dc3c24c0f5"
      },
      "outputs": [
        {
          "name": "stdout",
          "output_type": "stream",
          "text": [
            "<class 'pandas.core.frame.DataFrame'>\n",
            "RangeIndex: 8 entries, 0 to 7\n",
            "Data columns (total 6 columns):\n",
            " #   Column      Non-Null Count  Dtype \n",
            "---  ------      --------------  ----- \n",
            " 0   id          8 non-null      object\n",
            " 1   staff       8 non-null      object\n",
            " 2   department  8 non-null      object\n",
            " 3   job         8 non-null      object\n",
            " 4   salary      8 non-null      object\n",
            " 5   age         8 non-null      object\n",
            "dtypes: object(6)\n",
            "memory usage: 512.0+ bytes\n"
          ]
        }
      ],
      "source": [
        "df.info()"
      ]
    },
    {
      "cell_type": "markdown",
      "metadata": {
        "id": "kWsh2YgjhqDt"
      },
      "source": [
        "___"
      ]
    },
    {
      "cell_type": "markdown",
      "metadata": {
        "id": "zf6K4POQhqDu"
      },
      "source": [
        "- **lower()\t\t  =>** Converts a string into lower case\n",
        "- **upper()\t\t  =>** Converts a string into upper case\n",
        "- **capitalize()  =>** Converts the first character to upper case\n",
        "- **title()\t\t  =>** Converts the first character of each word to upper case\n",
        "- **swapcase()    =>** Swaps the case lower/upper"
      ]
    },
    {
      "cell_type": "markdown",
      "metadata": {
        "id": "VaqkjJxMhqDv"
      },
      "source": [
        "___"
      ]
    },
    {
      "cell_type": "code",
      "execution_count": null,
      "metadata": {
        "id": "Xrv0-mgbhqDv",
        "outputId": "ff566fc3-1b3a-44c6-80a8-2db0649bfe0f"
      },
      "outputs": [
        {
          "data": {
            "text/plain": [
              "'steve'"
            ]
          },
          "execution_count": 6,
          "metadata": {},
          "output_type": "execute_result"
        }
      ],
      "source": [
        "\"Steve\".lower()"
      ]
    },
    {
      "cell_type": "code",
      "execution_count": null,
      "metadata": {
        "id": "loKN1lF4hqDw",
        "outputId": "d87a68eb-6489-4162-ae55-f3012995cbc8"
      },
      "outputs": [
        {
          "data": {
            "text/plain": [
              "0         tom blue\n",
              "1       john black\n",
              "2    micheal brown\n",
              "3     jason walker\n",
              "4       alex green\n",
              "5     oscar smi̇th\n",
              "6      adrian star\n",
              "7     albert simon\n",
              "Name: staff, dtype: object"
            ]
          },
          "execution_count": 7,
          "metadata": {},
          "output_type": "execute_result"
        }
      ],
      "source": [
        "df.staff.str.lower()"
      ]
    },
    {
      "cell_type": "code",
      "execution_count": null,
      "metadata": {
        "id": "IArKEZGohqDw",
        "outputId": "930525f9-1a9d-4590-fb75-2499eba37bed"
      },
      "outputs": [
        {
          "data": {
            "text/plain": [
              "0         TOM BLUE\n",
              "1       JOHN BLACK\n",
              "2    MICHEAL BROWN\n",
              "3     JASON WALKER\n",
              "4       ALEX GREEN\n",
              "5      OSCAR SMİTH\n",
              "6      ADRIAN STAR\n",
              "7     ALBERT SIMON\n",
              "Name: staff, dtype: object"
            ]
          },
          "execution_count": 8,
          "metadata": {},
          "output_type": "execute_result"
        }
      ],
      "source": [
        "df.staff.str.upper()"
      ]
    },
    {
      "cell_type": "code",
      "execution_count": null,
      "metadata": {
        "id": "zHMsx1yThqDw",
        "outputId": "1b3b98a6-d5cb-4fea-ae22-888f34b16952"
      },
      "outputs": [
        {
          "data": {
            "text/plain": [
              "0         Tom Blue\n",
              "1       John Black\n",
              "2    Micheal Brown\n",
              "3     Jason Walker\n",
              "4       Alex Green\n",
              "5     Oscar Smi̇th\n",
              "6      Adrian Star\n",
              "7     Albert Simon\n",
              "Name: staff, dtype: object"
            ]
          },
          "execution_count": 9,
          "metadata": {},
          "output_type": "execute_result"
        }
      ],
      "source": [
        "df.staff.str.title()"
      ]
    },
    {
      "cell_type": "code",
      "execution_count": null,
      "metadata": {
        "id": "riEqeVPehqDx",
        "outputId": "35b1cbf8-f9e4-476d-e298-7a700fbe0067"
      },
      "outputs": [
        {
          "data": {
            "text/plain": [
              "0         Tom blue\n",
              "1       John black\n",
              "2    Micheal brown\n",
              "3     Jason walker\n",
              "4       Alex green\n",
              "5     Oscar smi̇th\n",
              "6      Adrian star\n",
              "7     Albert simon\n",
              "Name: staff, dtype: object"
            ]
          },
          "execution_count": 10,
          "metadata": {},
          "output_type": "execute_result"
        }
      ],
      "source": [
        "df.staff.str.capitalize()"
      ]
    },
    {
      "cell_type": "code",
      "execution_count": null,
      "metadata": {
        "id": "724XgXfThqDx",
        "outputId": "baf0b43e-78b5-4b42-dd04-f3675a3163a9"
      },
      "outputs": [
        {
          "data": {
            "text/plain": [
              "0         tOM blue\n",
              "1       john black\n",
              "2    mICHEAL bROWN\n",
              "3     JASON WALKER\n",
              "4       aLEX gREEN\n",
              "5     oscar smi̇th\n",
              "6      aDRIAN star\n",
              "7     aLBERT SIMON\n",
              "Name: staff, dtype: object"
            ]
          },
          "execution_count": 11,
          "metadata": {},
          "output_type": "execute_result"
        }
      ],
      "source": [
        "df.staff.str.swapcase()"
      ]
    },
    {
      "cell_type": "markdown",
      "metadata": {
        "id": "4Uda4zJYhqDy"
      },
      "source": [
        "___"
      ]
    },
    {
      "cell_type": "markdown",
      "metadata": {
        "id": "c5s9655AhqDy"
      },
      "source": [
        "- **isalpha()     =>** Returns True if all characters in the string are in the alphabet\n",
        "- **isnumeric()   =>** Returns True if all characters in the string are numeric\n",
        "- **isalnum()     =>** Returns True if all characters in the string are alphanumeric\n",
        "- **endswith()\t=>** Returns true if the string ends with the specified value\n",
        "- **startswith()\t=>** Returns true if the string starts with the specified value\n",
        "- **contains()\t=>** Returns a Boolean value True for each element if the substring contains in the element, else False."
      ]
    },
    {
      "cell_type": "markdown",
      "metadata": {
        "id": "DzyJozA5hqDy"
      },
      "source": [
        "___"
      ]
    },
    {
      "cell_type": "code",
      "execution_count": null,
      "metadata": {
        "id": "53pela39hqDy",
        "outputId": "0170e00a-2fdb-4d4f-827f-3fdd9867db92"
      },
      "outputs": [
        {
          "data": {
            "text/html": [
              "<div>\n",
              "<style scoped>\n",
              "    .dataframe tbody tr th:only-of-type {\n",
              "        vertical-align: middle;\n",
              "    }\n",
              "\n",
              "    .dataframe tbody tr th {\n",
              "        vertical-align: top;\n",
              "    }\n",
              "\n",
              "    .dataframe thead th {\n",
              "        text-align: right;\n",
              "    }\n",
              "</style>\n",
              "<table border=\"1\" class=\"dataframe\">\n",
              "  <thead>\n",
              "    <tr style=\"text-align: right;\">\n",
              "      <th></th>\n",
              "      <th>id</th>\n",
              "      <th>staff</th>\n",
              "      <th>department</th>\n",
              "      <th>job</th>\n",
              "      <th>salary</th>\n",
              "      <th>age</th>\n",
              "    </tr>\n",
              "  </thead>\n",
              "  <tbody>\n",
              "    <tr>\n",
              "      <th>0</th>\n",
              "      <td>M0001</td>\n",
              "      <td>Tom BLUE</td>\n",
              "      <td>HR</td>\n",
              "      <td>manager</td>\n",
              "      <td>\"$150,000\"</td>\n",
              "      <td>52</td>\n",
              "    </tr>\n",
              "    <tr>\n",
              "      <th>1</th>\n",
              "      <td>M0002</td>\n",
              "      <td>JOHN BLACK</td>\n",
              "      <td>IT</td>\n",
              "      <td>manager</td>\n",
              "      <td>\"$180,000\"</td>\n",
              "      <td>48</td>\n",
              "    </tr>\n",
              "    <tr>\n",
              "      <th>2</th>\n",
              "      <td>E0001</td>\n",
              "      <td>Micheal Brown</td>\n",
              "      <td>IT</td>\n",
              "      <td>data scientist</td>\n",
              "      <td>\"$150,000\"</td>\n",
              "      <td>35</td>\n",
              "    </tr>\n",
              "    <tr>\n",
              "      <th>3</th>\n",
              "      <td>E0002</td>\n",
              "      <td>jason walker</td>\n",
              "      <td>HR</td>\n",
              "      <td>recruiter</td>\n",
              "      <td>130000dolar</td>\n",
              "      <td>38</td>\n",
              "    </tr>\n",
              "    <tr>\n",
              "      <th>4</th>\n",
              "      <td>E0003</td>\n",
              "      <td>Alex Green</td>\n",
              "      <td>IT</td>\n",
              "      <td>backend developer</td>\n",
              "      <td>\"$110,000\"</td>\n",
              "      <td>-</td>\n",
              "    </tr>\n",
              "    <tr>\n",
              "      <th>5</th>\n",
              "      <td>E0004</td>\n",
              "      <td>OSCAR SMİTH</td>\n",
              "      <td>IT</td>\n",
              "      <td>frontend developer</td>\n",
              "      <td>\"$120,000\"</td>\n",
              "      <td>32</td>\n",
              "    </tr>\n",
              "    <tr>\n",
              "      <th>6</th>\n",
              "      <td>E0005</td>\n",
              "      <td>Adrian STAR</td>\n",
              "      <td>IT</td>\n",
              "      <td>data scientist</td>\n",
              "      <td>\"$135,000\"</td>\n",
              "      <td>40</td>\n",
              "    </tr>\n",
              "    <tr>\n",
              "      <th>7</th>\n",
              "      <td>E0006</td>\n",
              "      <td>Albert simon</td>\n",
              "      <td>IT</td>\n",
              "      <td>data scientist</td>\n",
              "      <td>125000dolar</td>\n",
              "      <td>35</td>\n",
              "    </tr>\n",
              "  </tbody>\n",
              "</table>\n",
              "</div>"
            ],
            "text/plain": [
              "      id          staff department                 job       salary age\n",
              "0  M0001       Tom BLUE         HR             manager   \"$150,000\"  52\n",
              "1  M0002     JOHN BLACK         IT             manager   \"$180,000\"  48\n",
              "2  E0001  Micheal Brown         IT      data scientist   \"$150,000\"  35\n",
              "3  E0002   jason walker         HR           recruiter  130000dolar  38\n",
              "4  E0003     Alex Green         IT   backend developer   \"$110,000\"   -\n",
              "5  E0004    OSCAR SMİTH         IT  frontend developer   \"$120,000\"  32\n",
              "6  E0005    Adrian STAR         IT      data scientist   \"$135,000\"  40\n",
              "7  E0006   Albert simon         IT      data scientist  125000dolar  35"
            ]
          },
          "execution_count": 12,
          "metadata": {},
          "output_type": "execute_result"
        }
      ],
      "source": [
        "df"
      ]
    },
    {
      "cell_type": "code",
      "execution_count": null,
      "metadata": {
        "id": "w55lXHA3hqDz",
        "outputId": "db772677-072a-44f2-cb85-d22dd603b715"
      },
      "outputs": [
        {
          "data": {
            "text/plain": [
              "0     True\n",
              "1     True\n",
              "2    False\n",
              "3     True\n",
              "4    False\n",
              "5    False\n",
              "6    False\n",
              "7    False\n",
              "Name: job, dtype: bool"
            ]
          },
          "execution_count": 13,
          "metadata": {},
          "output_type": "execute_result"
        }
      ],
      "source": [
        "df.job.str.isalpha() #boşluk olanlardan dolYI FALSE verdi"
      ]
    },
    {
      "cell_type": "code",
      "execution_count": null,
      "metadata": {
        "id": "1kjzxzDLhqD0",
        "outputId": "4c2a5129-de39-42fa-9483-5d1591726807"
      },
      "outputs": [
        {
          "data": {
            "text/plain": [
              "0      NaN\n",
              "1      NaN\n",
              "2      NaN\n",
              "3      NaN\n",
              "4    False\n",
              "5      NaN\n",
              "6      NaN\n",
              "7      NaN\n",
              "Name: age, dtype: object"
            ]
          },
          "execution_count": 14,
          "metadata": {},
          "output_type": "execute_result"
        }
      ],
      "source": [
        "df.age.str.isnumeric()    #age object ama aslonda nümeric değerler  o yüzden böyle bir durum nan oluştu"
      ]
    },
    {
      "cell_type": "code",
      "execution_count": null,
      "metadata": {
        "id": "6vVcHrochqD1",
        "outputId": "3b35ef96-6633-40b0-d7c4-5d19dd745947"
      },
      "outputs": [
        {
          "data": {
            "text/plain": [
              "0     True\n",
              "1     True\n",
              "2     True\n",
              "3     True\n",
              "4    False\n",
              "5     True\n",
              "6     True\n",
              "7     True\n",
              "Name: age, dtype: bool"
            ]
          },
          "execution_count": 15,
          "metadata": {},
          "output_type": "execute_result"
        }
      ],
      "source": [
        "df.age.astype(str).str.isnumeric()   #str fonkdiyonunu kullanabilmek için astype yaptık"
      ]
    },
    {
      "cell_type": "code",
      "execution_count": null,
      "metadata": {
        "id": "059C9pKMhqD1",
        "outputId": "3dbf3bf7-6d26-4c59-f661-952b217d1afd"
      },
      "outputs": [
        {
          "data": {
            "text/plain": [
              "0     \"$150,000\"\n",
              "1     \"$180,000\"\n",
              "2     \"$150,000\"\n",
              "3    130000dolar\n",
              "4     \"$110,000\"\n",
              "5     \"$120,000\"\n",
              "6     \"$135,000\"\n",
              "7    125000dolar\n",
              "Name: salary, dtype: object"
            ]
          },
          "execution_count": 17,
          "metadata": {},
          "output_type": "execute_result"
        }
      ],
      "source": [
        "df.salary"
      ]
    },
    {
      "cell_type": "code",
      "execution_count": null,
      "metadata": {
        "id": "RM7zx36RhqD1",
        "outputId": "710355b8-7829-4539-e2dc-5f47a2f884af"
      },
      "outputs": [
        {
          "data": {
            "text/plain": [
              "0    False\n",
              "1    False\n",
              "2    False\n",
              "3     True\n",
              "4    False\n",
              "5    False\n",
              "6    False\n",
              "7     True\n",
              "Name: salary, dtype: bool"
            ]
          },
          "execution_count": 16,
          "metadata": {},
          "output_type": "execute_result"
        }
      ],
      "source": [
        "df.salary.str.isalnum()  #alfabe ve numaralr için isalnum tırnak virgül olanlardan dolayı false verdi"
      ]
    },
    {
      "cell_type": "code",
      "execution_count": null,
      "metadata": {
        "id": "OF3xzZBchqD1",
        "outputId": "89c72686-f909-495f-f3dc-251703f9a282"
      },
      "outputs": [
        {
          "data": {
            "text/plain": [
              "0               manager\n",
              "1               manager\n",
              "2        data scientist\n",
              "3             recruiter\n",
              "4     backend developer\n",
              "5    frontend developer\n",
              "6        data scientist\n",
              "7        data scientist\n",
              "Name: job, dtype: object"
            ]
          },
          "execution_count": 18,
          "metadata": {},
          "output_type": "execute_result"
        }
      ],
      "source": [
        "df.job"
      ]
    },
    {
      "cell_type": "code",
      "execution_count": null,
      "metadata": {
        "id": "qIg-1ZXohqD1",
        "outputId": "3da0f1a9-0007-4498-9de7-6b5e6bd59e2f"
      },
      "outputs": [
        {
          "data": {
            "text/plain": [
              "0    False\n",
              "1    False\n",
              "2     True\n",
              "3    False\n",
              "4    False\n",
              "5    False\n",
              "6     True\n",
              "7     True\n",
              "Name: job, dtype: bool"
            ]
          },
          "execution_count": 22,
          "metadata": {},
          "output_type": "execute_result"
        }
      ],
      "source": [
        "df.job.str.startswith(\"data\")"
      ]
    },
    {
      "cell_type": "code",
      "execution_count": null,
      "metadata": {
        "id": "rhfbp6KkhqD2",
        "outputId": "9716f412-33e9-484e-f3e8-2a51bdbd88ab"
      },
      "outputs": [
        {
          "data": {
            "text/plain": [
              "0    False\n",
              "1    False\n",
              "2    False\n",
              "3    False\n",
              "4     True\n",
              "5     True\n",
              "6    False\n",
              "7    False\n",
              "Name: job, dtype: bool"
            ]
          },
          "execution_count": 23,
          "metadata": {},
          "output_type": "execute_result"
        }
      ],
      "source": [
        "df.job.str.endswith(\"per\")"
      ]
    },
    {
      "cell_type": "code",
      "execution_count": null,
      "metadata": {
        "id": "sMBI0LtohqD2",
        "outputId": "703c767d-2802-43e8-8ad4-11d8afa1122a"
      },
      "outputs": [
        {
          "data": {
            "text/plain": [
              "0    False\n",
              "1    False\n",
              "2     True\n",
              "3    False\n",
              "4    False\n",
              "5    False\n",
              "6     True\n",
              "7     True\n",
              "Name: job, dtype: bool"
            ]
          },
          "execution_count": 27,
          "metadata": {},
          "output_type": "execute_result"
        }
      ],
      "source": [
        "df.job.str.contains(\"data\")  #içinde data olanları döndürürtor"
      ]
    },
    {
      "cell_type": "code",
      "execution_count": null,
      "metadata": {
        "id": "jlQym5-0hqD2",
        "outputId": "3ff8ce69-cafd-48a0-e7c9-1a6ca44b6d25"
      },
      "outputs": [
        {
          "data": {
            "text/plain": [
              "0     \"$150,000\"\n",
              "1     \"$180,000\"\n",
              "2     \"$150,000\"\n",
              "3    130000dolar\n",
              "4     \"$110,000\"\n",
              "5     \"$120,000\"\n",
              "6     \"$135,000\"\n",
              "7    125000dolar\n",
              "Name: salary, dtype: object"
            ]
          },
          "execution_count": 26,
          "metadata": {},
          "output_type": "execute_result"
        }
      ],
      "source": [
        "df.salary"
      ]
    },
    {
      "cell_type": "code",
      "execution_count": null,
      "metadata": {
        "id": "_EyRE6KfhqD2",
        "outputId": "1b26d095-c860-48a0-bfee-3116e5069a30"
      },
      "outputs": [
        {
          "data": {
            "text/plain": [
              "0    False\n",
              "1    False\n",
              "2    False\n",
              "3     True\n",
              "4    False\n",
              "5    False\n",
              "6    False\n",
              "7     True\n",
              "Name: salary, dtype: bool"
            ]
          },
          "execution_count": 28,
          "metadata": {},
          "output_type": "execute_result"
        }
      ],
      "source": [
        "df.salary.str.contains(r\"[a-z]\")"
      ]
    },
    {
      "cell_type": "markdown",
      "metadata": {
        "id": "gNNeNNI4hqD2"
      },
      "source": [
        "we can use these string methods which returning boolean expression for creating condition and so selecting relative rows"
      ]
    },
    {
      "cell_type": "code",
      "execution_count": null,
      "metadata": {
        "id": "5-ScNPbEhqD2",
        "outputId": "2f8af2dc-eb46-4a87-d359-e3d48f8d8864"
      },
      "outputs": [
        {
          "data": {
            "text/html": [
              "<div>\n",
              "<style scoped>\n",
              "    .dataframe tbody tr th:only-of-type {\n",
              "        vertical-align: middle;\n",
              "    }\n",
              "\n",
              "    .dataframe tbody tr th {\n",
              "        vertical-align: top;\n",
              "    }\n",
              "\n",
              "    .dataframe thead th {\n",
              "        text-align: right;\n",
              "    }\n",
              "</style>\n",
              "<table border=\"1\" class=\"dataframe\">\n",
              "  <thead>\n",
              "    <tr style=\"text-align: right;\">\n",
              "      <th></th>\n",
              "      <th>id</th>\n",
              "      <th>staff</th>\n",
              "      <th>department</th>\n",
              "      <th>job</th>\n",
              "      <th>salary</th>\n",
              "      <th>age</th>\n",
              "    </tr>\n",
              "  </thead>\n",
              "  <tbody>\n",
              "    <tr>\n",
              "      <th>2</th>\n",
              "      <td>E0001</td>\n",
              "      <td>Micheal Brown</td>\n",
              "      <td>IT</td>\n",
              "      <td>data scientist</td>\n",
              "      <td>\"$150,000\"</td>\n",
              "      <td>35</td>\n",
              "    </tr>\n",
              "    <tr>\n",
              "      <th>6</th>\n",
              "      <td>E0005</td>\n",
              "      <td>Adrian STAR</td>\n",
              "      <td>IT</td>\n",
              "      <td>data scientist</td>\n",
              "      <td>\"$135,000\"</td>\n",
              "      <td>40</td>\n",
              "    </tr>\n",
              "    <tr>\n",
              "      <th>7</th>\n",
              "      <td>E0006</td>\n",
              "      <td>Albert simon</td>\n",
              "      <td>IT</td>\n",
              "      <td>data scientist</td>\n",
              "      <td>125000dolar</td>\n",
              "      <td>35</td>\n",
              "    </tr>\n",
              "  </tbody>\n",
              "</table>\n",
              "</div>"
            ],
            "text/plain": [
              "      id          staff department             job       salary age\n",
              "2  E0001  Micheal Brown         IT  data scientist   \"$150,000\"  35\n",
              "6  E0005    Adrian STAR         IT  data scientist   \"$135,000\"  40\n",
              "7  E0006   Albert simon         IT  data scientist  125000dolar  35"
            ]
          },
          "execution_count": 29,
          "metadata": {},
          "output_type": "execute_result"
        }
      ],
      "source": [
        "df[df.job.str.contains(\"data\")]"
      ]
    },
    {
      "cell_type": "code",
      "execution_count": null,
      "metadata": {
        "id": "RMPEmVsghqD3",
        "outputId": "c934ba84-941a-4376-c4bc-4a6cc55e0d38"
      },
      "outputs": [
        {
          "data": {
            "text/html": [
              "<div>\n",
              "<style scoped>\n",
              "    .dataframe tbody tr th:only-of-type {\n",
              "        vertical-align: middle;\n",
              "    }\n",
              "\n",
              "    .dataframe tbody tr th {\n",
              "        vertical-align: top;\n",
              "    }\n",
              "\n",
              "    .dataframe thead th {\n",
              "        text-align: right;\n",
              "    }\n",
              "</style>\n",
              "<table border=\"1\" class=\"dataframe\">\n",
              "  <thead>\n",
              "    <tr style=\"text-align: right;\">\n",
              "      <th></th>\n",
              "      <th>id</th>\n",
              "      <th>staff</th>\n",
              "      <th>department</th>\n",
              "      <th>job</th>\n",
              "      <th>salary</th>\n",
              "      <th>age</th>\n",
              "    </tr>\n",
              "  </thead>\n",
              "  <tbody>\n",
              "    <tr>\n",
              "      <th>0</th>\n",
              "      <td>M0001</td>\n",
              "      <td>Tom BLUE</td>\n",
              "      <td>HR</td>\n",
              "      <td>manager</td>\n",
              "      <td>\"$150,000\"</td>\n",
              "      <td>52</td>\n",
              "    </tr>\n",
              "    <tr>\n",
              "      <th>1</th>\n",
              "      <td>M0002</td>\n",
              "      <td>JOHN BLACK</td>\n",
              "      <td>IT</td>\n",
              "      <td>manager</td>\n",
              "      <td>\"$180,000\"</td>\n",
              "      <td>48</td>\n",
              "    </tr>\n",
              "    <tr>\n",
              "      <th>2</th>\n",
              "      <td>E0001</td>\n",
              "      <td>Micheal Brown</td>\n",
              "      <td>DS</td>\n",
              "      <td>data scientist</td>\n",
              "      <td>\"$150,000\"</td>\n",
              "      <td>35</td>\n",
              "    </tr>\n",
              "    <tr>\n",
              "      <th>3</th>\n",
              "      <td>E0002</td>\n",
              "      <td>jason walker</td>\n",
              "      <td>HR</td>\n",
              "      <td>recruiter</td>\n",
              "      <td>130000dolar</td>\n",
              "      <td>38</td>\n",
              "    </tr>\n",
              "    <tr>\n",
              "      <th>4</th>\n",
              "      <td>E0003</td>\n",
              "      <td>Alex Green</td>\n",
              "      <td>IT</td>\n",
              "      <td>backend developer</td>\n",
              "      <td>\"$110,000\"</td>\n",
              "      <td>-</td>\n",
              "    </tr>\n",
              "    <tr>\n",
              "      <th>5</th>\n",
              "      <td>E0004</td>\n",
              "      <td>OSCAR SMİTH</td>\n",
              "      <td>IT</td>\n",
              "      <td>frontend developer</td>\n",
              "      <td>\"$120,000\"</td>\n",
              "      <td>32</td>\n",
              "    </tr>\n",
              "    <tr>\n",
              "      <th>6</th>\n",
              "      <td>E0005</td>\n",
              "      <td>Adrian STAR</td>\n",
              "      <td>DS</td>\n",
              "      <td>data scientist</td>\n",
              "      <td>\"$135,000\"</td>\n",
              "      <td>40</td>\n",
              "    </tr>\n",
              "    <tr>\n",
              "      <th>7</th>\n",
              "      <td>E0006</td>\n",
              "      <td>Albert simon</td>\n",
              "      <td>DS</td>\n",
              "      <td>data scientist</td>\n",
              "      <td>125000dolar</td>\n",
              "      <td>35</td>\n",
              "    </tr>\n",
              "  </tbody>\n",
              "</table>\n",
              "</div>"
            ],
            "text/plain": [
              "      id          staff department                 job       salary age\n",
              "0  M0001       Tom BLUE         HR             manager   \"$150,000\"  52\n",
              "1  M0002     JOHN BLACK         IT             manager   \"$180,000\"  48\n",
              "2  E0001  Micheal Brown         DS      data scientist   \"$150,000\"  35\n",
              "3  E0002   jason walker         HR           recruiter  130000dolar  38\n",
              "4  E0003     Alex Green         IT   backend developer   \"$110,000\"   -\n",
              "5  E0004    OSCAR SMİTH         IT  frontend developer   \"$120,000\"  32\n",
              "6  E0005    Adrian STAR         DS      data scientist   \"$135,000\"  40\n",
              "7  E0006   Albert simon         DS      data scientist  125000dolar  35"
            ]
          },
          "execution_count": 31,
          "metadata": {},
          "output_type": "execute_result"
        }
      ],
      "source": [
        "df.loc[df.job.str.contains(\"data\"), \"department\"] = \"DS\"\n",
        "df"
      ]
    },
    {
      "cell_type": "code",
      "execution_count": null,
      "metadata": {
        "id": "1p2ijBV9hqD3",
        "outputId": "ef490175-f1c8-41dd-b92f-312813bd2608"
      },
      "outputs": [
        {
          "data": {
            "text/html": [
              "<div>\n",
              "<style scoped>\n",
              "    .dataframe tbody tr th:only-of-type {\n",
              "        vertical-align: middle;\n",
              "    }\n",
              "\n",
              "    .dataframe tbody tr th {\n",
              "        vertical-align: top;\n",
              "    }\n",
              "\n",
              "    .dataframe thead th {\n",
              "        text-align: right;\n",
              "    }\n",
              "</style>\n",
              "<table border=\"1\" class=\"dataframe\">\n",
              "  <thead>\n",
              "    <tr style=\"text-align: right;\">\n",
              "      <th></th>\n",
              "      <th>id</th>\n",
              "      <th>staff</th>\n",
              "      <th>department</th>\n",
              "      <th>job</th>\n",
              "      <th>salary</th>\n",
              "      <th>age</th>\n",
              "    </tr>\n",
              "  </thead>\n",
              "  <tbody>\n",
              "    <tr>\n",
              "      <th>0</th>\n",
              "      <td>M0001</td>\n",
              "      <td>Tom BLUE</td>\n",
              "      <td>HR</td>\n",
              "      <td>manager</td>\n",
              "      <td>\"$150,000\"</td>\n",
              "      <td>52</td>\n",
              "    </tr>\n",
              "    <tr>\n",
              "      <th>1</th>\n",
              "      <td>M0002</td>\n",
              "      <td>JOHN BLACK</td>\n",
              "      <td>IT</td>\n",
              "      <td>manager</td>\n",
              "      <td>\"$180,000\"</td>\n",
              "      <td>48</td>\n",
              "    </tr>\n",
              "    <tr>\n",
              "      <th>2</th>\n",
              "      <td>E0001</td>\n",
              "      <td>Micheal Brown</td>\n",
              "      <td>IT</td>\n",
              "      <td>data scientist</td>\n",
              "      <td>\"$150,000\"</td>\n",
              "      <td>35</td>\n",
              "    </tr>\n",
              "    <tr>\n",
              "      <th>3</th>\n",
              "      <td>E0002</td>\n",
              "      <td>jason walker</td>\n",
              "      <td>HR</td>\n",
              "      <td>recruiter</td>\n",
              "      <td>130000dolar</td>\n",
              "      <td>38</td>\n",
              "    </tr>\n",
              "    <tr>\n",
              "      <th>4</th>\n",
              "      <td>E0003</td>\n",
              "      <td>Alex Green</td>\n",
              "      <td>IT</td>\n",
              "      <td>backend developer</td>\n",
              "      <td>\"$110,000\"</td>\n",
              "      <td>-</td>\n",
              "    </tr>\n",
              "    <tr>\n",
              "      <th>5</th>\n",
              "      <td>E0004</td>\n",
              "      <td>OSCAR SMİTH</td>\n",
              "      <td>IT</td>\n",
              "      <td>frontend developer</td>\n",
              "      <td>\"$120,000\"</td>\n",
              "      <td>32</td>\n",
              "    </tr>\n",
              "    <tr>\n",
              "      <th>6</th>\n",
              "      <td>E0005</td>\n",
              "      <td>Adrian STAR</td>\n",
              "      <td>IT</td>\n",
              "      <td>data scientist</td>\n",
              "      <td>\"$135,000\"</td>\n",
              "      <td>40</td>\n",
              "    </tr>\n",
              "    <tr>\n",
              "      <th>7</th>\n",
              "      <td>E0006</td>\n",
              "      <td>Albert simon</td>\n",
              "      <td>IT</td>\n",
              "      <td>data scientist</td>\n",
              "      <td>125000dolar</td>\n",
              "      <td>35</td>\n",
              "    </tr>\n",
              "  </tbody>\n",
              "</table>\n",
              "</div>"
            ],
            "text/plain": [
              "      id          staff department                 job       salary age\n",
              "0  M0001       Tom BLUE         HR             manager   \"$150,000\"  52\n",
              "1  M0002     JOHN BLACK         IT             manager   \"$180,000\"  48\n",
              "2  E0001  Micheal Brown         IT      data scientist   \"$150,000\"  35\n",
              "3  E0002   jason walker         HR           recruiter  130000dolar  38\n",
              "4  E0003     Alex Green         IT   backend developer   \"$110,000\"   -\n",
              "5  E0004    OSCAR SMİTH         IT  frontend developer   \"$120,000\"  32\n",
              "6  E0005    Adrian STAR         IT      data scientist   \"$135,000\"  40\n",
              "7  E0006   Albert simon         IT      data scientist  125000dolar  35"
            ]
          },
          "execution_count": 32,
          "metadata": {},
          "output_type": "execute_result"
        }
      ],
      "source": [
        "df.loc[df.job.str.contains(\"data\"), \"department\"] = \"IT\"\n",
        "df"
      ]
    },
    {
      "cell_type": "markdown",
      "metadata": {
        "id": "qcXrVXGyhqD3"
      },
      "source": [
        "___"
      ]
    },
    {
      "cell_type": "markdown",
      "metadata": {
        "id": "LHTWs9W6hqD3"
      },
      "source": [
        "- **replace() =>** Returns a string where a specified value is replaced with a specified value\n",
        "\n",
        "- **split()\t=>** Splits the string at the specified separator, and returns a list\n",
        "\n",
        "- **strip()\t=>** Returns a trimmed version of the string\n",
        "\n",
        "- **find()\t=>** Searches the string for a specified value and returns the position of where it was found\n",
        "\n",
        "- **findall()\t=>** Returns a list of all occurrence of the pattern.\n",
        "\n",
        "- **join()\t=>** Converts the elements of an iterable into a string"
      ]
    },
    {
      "cell_type": "markdown",
      "metadata": {
        "id": "Obh8dZyQhqD3"
      },
      "source": [
        "___"
      ]
    },
    {
      "cell_type": "code",
      "execution_count": null,
      "metadata": {
        "id": "FWJv-Ux6hqD3",
        "outputId": "05fd854e-6c0f-4e9b-83a3-f6feed010c52"
      },
      "outputs": [
        {
          "data": {
            "text/html": [
              "<div>\n",
              "<style scoped>\n",
              "    .dataframe tbody tr th:only-of-type {\n",
              "        vertical-align: middle;\n",
              "    }\n",
              "\n",
              "    .dataframe tbody tr th {\n",
              "        vertical-align: top;\n",
              "    }\n",
              "\n",
              "    .dataframe thead th {\n",
              "        text-align: right;\n",
              "    }\n",
              "</style>\n",
              "<table border=\"1\" class=\"dataframe\">\n",
              "  <thead>\n",
              "    <tr style=\"text-align: right;\">\n",
              "      <th></th>\n",
              "      <th>id</th>\n",
              "      <th>staff</th>\n",
              "      <th>department</th>\n",
              "      <th>job</th>\n",
              "      <th>salary</th>\n",
              "      <th>age</th>\n",
              "    </tr>\n",
              "  </thead>\n",
              "  <tbody>\n",
              "    <tr>\n",
              "      <th>0</th>\n",
              "      <td>M0001</td>\n",
              "      <td>Tom BLUE</td>\n",
              "      <td>HR</td>\n",
              "      <td>manager</td>\n",
              "      <td>\"$150,000\"</td>\n",
              "      <td>52</td>\n",
              "    </tr>\n",
              "    <tr>\n",
              "      <th>1</th>\n",
              "      <td>M0002</td>\n",
              "      <td>JOHN BLACK</td>\n",
              "      <td>IT</td>\n",
              "      <td>manager</td>\n",
              "      <td>\"$180,000\"</td>\n",
              "      <td>48</td>\n",
              "    </tr>\n",
              "    <tr>\n",
              "      <th>2</th>\n",
              "      <td>E0001</td>\n",
              "      <td>Micheal Brown</td>\n",
              "      <td>IT</td>\n",
              "      <td>data scientist</td>\n",
              "      <td>\"$150,000\"</td>\n",
              "      <td>35</td>\n",
              "    </tr>\n",
              "    <tr>\n",
              "      <th>3</th>\n",
              "      <td>E0002</td>\n",
              "      <td>jason walker</td>\n",
              "      <td>HR</td>\n",
              "      <td>recruiter</td>\n",
              "      <td>130000dolar</td>\n",
              "      <td>38</td>\n",
              "    </tr>\n",
              "    <tr>\n",
              "      <th>4</th>\n",
              "      <td>E0003</td>\n",
              "      <td>Alex Green</td>\n",
              "      <td>IT</td>\n",
              "      <td>backend developer</td>\n",
              "      <td>\"$110,000\"</td>\n",
              "      <td>-</td>\n",
              "    </tr>\n",
              "    <tr>\n",
              "      <th>5</th>\n",
              "      <td>E0004</td>\n",
              "      <td>OSCAR SMİTH</td>\n",
              "      <td>IT</td>\n",
              "      <td>frontend developer</td>\n",
              "      <td>\"$120,000\"</td>\n",
              "      <td>32</td>\n",
              "    </tr>\n",
              "    <tr>\n",
              "      <th>6</th>\n",
              "      <td>E0005</td>\n",
              "      <td>Adrian STAR</td>\n",
              "      <td>IT</td>\n",
              "      <td>data scientist</td>\n",
              "      <td>\"$135,000\"</td>\n",
              "      <td>40</td>\n",
              "    </tr>\n",
              "    <tr>\n",
              "      <th>7</th>\n",
              "      <td>E0006</td>\n",
              "      <td>Albert simon</td>\n",
              "      <td>IT</td>\n",
              "      <td>data scientist</td>\n",
              "      <td>125000dolar</td>\n",
              "      <td>35</td>\n",
              "    </tr>\n",
              "  </tbody>\n",
              "</table>\n",
              "</div>"
            ],
            "text/plain": [
              "      id          staff department                 job       salary age\n",
              "0  M0001       Tom BLUE         HR             manager   \"$150,000\"  52\n",
              "1  M0002     JOHN BLACK         IT             manager   \"$180,000\"  48\n",
              "2  E0001  Micheal Brown         IT      data scientist   \"$150,000\"  35\n",
              "3  E0002   jason walker         HR           recruiter  130000dolar  38\n",
              "4  E0003     Alex Green         IT   backend developer   \"$110,000\"   -\n",
              "5  E0004    OSCAR SMİTH         IT  frontend developer   \"$120,000\"  32\n",
              "6  E0005    Adrian STAR         IT      data scientist   \"$135,000\"  40\n",
              "7  E0006   Albert simon         IT      data scientist  125000dolar  35"
            ]
          },
          "execution_count": 33,
          "metadata": {},
          "output_type": "execute_result"
        }
      ],
      "source": [
        "df"
      ]
    },
    {
      "cell_type": "code",
      "execution_count": null,
      "metadata": {
        "id": "Mul6dva_hqD4",
        "outputId": "47819588-5518-4d8c-a0a9-0dac90e1568a"
      },
      "outputs": [
        {
          "data": {
            "text/plain": [
              "0       $150,000\n",
              "1       $180,000\n",
              "2       $150,000\n",
              "3    130000dolar\n",
              "4       $110,000\n",
              "5       $120,000\n",
              "6       $135,000\n",
              "7    125000dolar\n",
              "Name: salary, dtype: object"
            ]
          },
          "execution_count": 34,
          "metadata": {},
          "output_type": "execute_result"
        }
      ],
      "source": [
        "df.salary.str.strip(\"\\\"\")"
      ]
    },
    {
      "cell_type": "code",
      "execution_count": null,
      "metadata": {
        "id": "K2HfZ0OLhqD4",
        "outputId": "948ee0e6-3f2b-4eda-bcb0-4a47bbd17e0c"
      },
      "outputs": [
        {
          "data": {
            "text/plain": [
              "0    $150,000\n",
              "1    $180,000\n",
              "2    $150,000\n",
              "3      130000\n",
              "4    $110,000\n",
              "5    $120,000\n",
              "6    $135,000\n",
              "7      125000\n",
              "Name: salary, dtype: object"
            ]
          },
          "execution_count": 35,
          "metadata": {},
          "output_type": "execute_result"
        }
      ],
      "source": [
        "df.salary.str.strip(\"\\\"\").str.rstrip(\"dolar\")"
      ]
    },
    {
      "cell_type": "code",
      "execution_count": null,
      "metadata": {
        "id": "oLgkG-5JhqD4",
        "outputId": "cfa1a1f0-414f-48ea-a087-1c8a66bb13a5"
      },
      "outputs": [
        {
          "data": {
            "text/plain": [
              "0    150,000\n",
              "1    180,000\n",
              "2    150,000\n",
              "3     130000\n",
              "4    110,000\n",
              "5    120,000\n",
              "6    135,000\n",
              "7     125000\n",
              "Name: salary, dtype: object"
            ]
          },
          "execution_count": 36,
          "metadata": {},
          "output_type": "execute_result"
        }
      ],
      "source": [
        "df.salary.str.strip(\"\\\"\").str.rstrip(\"dolar\").str.lstrip(\"$\")"
      ]
    },
    {
      "cell_type": "code",
      "execution_count": null,
      "metadata": {
        "id": "6TFeCJ-MhqD4",
        "outputId": "84fc5101-8737-4efc-fca7-1cd47cc2b4b5"
      },
      "outputs": [
        {
          "data": {
            "text/plain": [
              "0    150,000\n",
              "1    180,000\n",
              "2    150,000\n",
              "3     130000\n",
              "4    110,000\n",
              "5    120,000\n",
              "6    135,000\n",
              "7     125000\n",
              "Name: salary, dtype: object"
            ]
          },
          "execution_count": 37,
          "metadata": {},
          "output_type": "execute_result"
        }
      ],
      "source": [
        "df.salary.str.strip(\"\\\"$dolar\")"
      ]
    },
    {
      "cell_type": "code",
      "execution_count": null,
      "metadata": {
        "id": "NEypipahhqD4",
        "outputId": "6f419d76-ec25-40fc-e828-965d4ea340ee"
      },
      "outputs": [
        {
          "data": {
            "text/plain": [
              "0    150000\n",
              "1    180000\n",
              "2    150000\n",
              "3    130000\n",
              "4    110000\n",
              "5    120000\n",
              "6    135000\n",
              "7    125000\n",
              "Name: salary, dtype: object"
            ]
          },
          "execution_count": 39,
          "metadata": {},
          "output_type": "execute_result"
        }
      ],
      "source": [
        "df.salary.str.strip(\"\\\"$dolar\").str.replace(\",\", \"\")"
      ]
    },
    {
      "cell_type": "code",
      "execution_count": null,
      "metadata": {
        "id": "dvvZhrVfhqD4",
        "outputId": "d1f8643c-c9e1-4f11-a0dd-5ce48d5c2df8"
      },
      "outputs": [
        {
          "data": {
            "text/plain": [
              "0    150000.0\n",
              "1    180000.0\n",
              "2    150000.0\n",
              "3    130000.0\n",
              "4    110000.0\n",
              "5    120000.0\n",
              "6    135000.0\n",
              "7    125000.0\n",
              "Name: salary, dtype: float64"
            ]
          },
          "execution_count": 40,
          "metadata": {},
          "output_type": "execute_result"
        }
      ],
      "source": [
        "df.salary.str.strip(\"\\\"$dolar\").str.replace(\",\", \"\").astype(\"float\")"
      ]
    },
    {
      "cell_type": "code",
      "execution_count": null,
      "metadata": {
        "id": "-mjRKP_7hqD5",
        "outputId": "646e278e-590c-4630-e4c8-eaf0c3751de6"
      },
      "outputs": [
        {
          "data": {
            "text/plain": [
              "0    150000.0\n",
              "1    180000.0\n",
              "2    150000.0\n",
              "3    130000.0\n",
              "4    110000.0\n",
              "5    120000.0\n",
              "6    135000.0\n",
              "7    125000.0\n",
              "Name: salary, dtype: float64"
            ]
          },
          "execution_count": 41,
          "metadata": {},
          "output_type": "execute_result"
        }
      ],
      "source": [
        "df[\"salary\"] = df.salary.str.strip(\"\\\"$dolar\").str.replace(\",\", \"\").astype(\"float\")\n",
        "df.salary"
      ]
    },
    {
      "cell_type": "code",
      "execution_count": null,
      "metadata": {
        "id": "Dy3jfj_hhqD5",
        "outputId": "49afb05e-b2fb-472c-f1d2-2d4cb8645787"
      },
      "outputs": [
        {
          "data": {
            "text/plain": [
              "0    52\n",
              "1    48\n",
              "2    35\n",
              "3    38\n",
              "4     -\n",
              "5    32\n",
              "6    40\n",
              "7    35\n",
              "Name: age, dtype: object"
            ]
          },
          "execution_count": 42,
          "metadata": {},
          "output_type": "execute_result"
        }
      ],
      "source": [
        "df.age"
      ]
    },
    {
      "cell_type": "code",
      "execution_count": null,
      "metadata": {
        "id": "m9VS-WSAhqD5",
        "outputId": "7e936fb8-524c-422c-d4c2-5f94b266b6d9"
      },
      "outputs": [
        {
          "data": {
            "text/plain": [
              "0    52.0\n",
              "1    48.0\n",
              "2    35.0\n",
              "3    38.0\n",
              "4     NaN\n",
              "5    32.0\n",
              "6    40.0\n",
              "7    35.0\n",
              "Name: age, dtype: float64"
            ]
          },
          "execution_count": 43,
          "metadata": {},
          "output_type": "execute_result"
        }
      ],
      "source": [
        "df.age.replace(\"-\", np.nan)"
      ]
    },
    {
      "cell_type": "code",
      "execution_count": null,
      "metadata": {
        "id": "w7quTa3ChqD5"
      },
      "outputs": [],
      "source": [
        "#df.age.str.replace(\"-\", np.nan) # gives an error hatanın sebebi str olan bir yere nan float yazmaya çalışmamız"
      ]
    },
    {
      "cell_type": "code",
      "execution_count": null,
      "metadata": {
        "id": "kXKR5O4thqD5",
        "outputId": "1b3f1892-0d1a-42b3-f2db-1dfec8c45d1a"
      },
      "outputs": [
        {
          "data": {
            "text/plain": [
              "0    52.0\n",
              "1    48.0\n",
              "2    35.0\n",
              "3    38.0\n",
              "4     NaN\n",
              "5    32.0\n",
              "6    40.0\n",
              "7    35.0\n",
              "Name: age, dtype: float64"
            ]
          },
          "execution_count": 46,
          "metadata": {},
          "output_type": "execute_result"
        }
      ],
      "source": [
        "df[\"age\"] = df.age.replace(\"-\", np.nan)\n",
        "df.age"
      ]
    },
    {
      "cell_type": "markdown",
      "metadata": {
        "id": "oPqz7qF4hqD5"
      },
      "source": [
        "**str.replace() vs .replace()**\n",
        "\n",
        "- **Purpose:** Use **str.replace** for substring replacements on a single string column, and **replace** for any general replacement on one or more columns.\n",
        "\n",
        "- **Usage:** **str.replace** can replace one thing at a time. **replace** lets you perform multiple independent replacements, i.e., replace many things at once.\n",
        "\n",
        "- **Default behavior:** **str.replace** enables regex replacement by default. **replace** only performs a full match unless the regex=True switch is used.\n",
        "\n",
        "- **Amaç:** Tek bir dize sütunundaki alt dize değiştirmeler için **str.replace** ve bir veya daha fazla sütundaki herhangi bir genel değiştirme için **replace** kullanın.\n",
        "\n",
        "- **Kullanım:** **str.replace** her seferinde bir şeyi değiştirebilir. **değiştir**, birden çok bağımsız değiştirme gerçekleştirmenize, yani birçok şeyi aynı anda değiştirmenize olanak tanır.\n",
        "\n",
        "- **Varsayılan davranış:** **str.replace** varsayılan olarak normal ifade değiştirmeyi etkinleştirir. **değiştir**, regex=True anahtarı kullanılmadığı sürece yalnızca tam eşleşme gerçekleştirir"
      ]
    },
    {
      "cell_type": "code",
      "execution_count": null,
      "metadata": {
        "id": "B6-ZBx5ehqD6",
        "outputId": "9367f391-f3dd-479f-894a-f6445ab582a0"
      },
      "outputs": [
        {
          "data": {
            "text/plain": [
              "0         Tom BLUE\n",
              "1       JOHN BLACK\n",
              "2    Micheal Brown\n",
              "3     jason walker\n",
              "4       Alex Green\n",
              "5      OSCAR SMİTH\n",
              "6      Adrian STAR\n",
              "7     Albert simon\n",
              "Name: staff, dtype: object"
            ]
          },
          "execution_count": 47,
          "metadata": {},
          "output_type": "execute_result"
        }
      ],
      "source": [
        "df.staff"
      ]
    },
    {
      "cell_type": "code",
      "execution_count": null,
      "metadata": {
        "id": "unl5w4BghqD6",
        "outputId": "bfdd263b-8b0b-4e39-be3a-87396bb177a3"
      },
      "outputs": [
        {
          "data": {
            "text/plain": [
              "0         [Tom, Blue]\n",
              "1       [John, Black]\n",
              "2    [Micheal, Brown]\n",
              "3     [Jason, Walker]\n",
              "4       [Alex, Green]\n",
              "5     [Oscar, Smi̇th]\n",
              "6      [Adrian, Star]\n",
              "7     [Albert, Simon]\n",
              "Name: staff, dtype: object"
            ]
          },
          "execution_count": 48,
          "metadata": {},
          "output_type": "execute_result"
        }
      ],
      "source": [
        "df.staff.str.title().str.split()"
      ]
    },
    {
      "cell_type": "code",
      "execution_count": null,
      "metadata": {
        "id": "Wr-_ePhHhqD6",
        "outputId": "2e99e291-9acf-4441-d4d7-de8e8a6f669f"
      },
      "outputs": [
        {
          "data": {
            "text/plain": [
              "0        Tom\n",
              "1       John\n",
              "2    Micheal\n",
              "3      Jason\n",
              "4       Alex\n",
              "5      Oscar\n",
              "6     Adrian\n",
              "7     Albert\n",
              "Name: staff, dtype: object"
            ]
          },
          "execution_count": 49,
          "metadata": {},
          "output_type": "execute_result"
        }
      ],
      "source": [
        "df.staff.str.title().str.split().str[0]"
      ]
    },
    {
      "cell_type": "code",
      "execution_count": null,
      "metadata": {
        "id": "V7s-MLEnhqD6"
      },
      "outputs": [],
      "source": [
        "df[\"name\"] = df.staff.str.title().str.split().str[0]\n",
        "df[\"last_name\"] = df.staff.str.title().str.split().str[1]\n",
        "df.drop(\"staff\", axis=1, inplace=True)"
      ]
    },
    {
      "cell_type": "code",
      "execution_count": null,
      "metadata": {
        "id": "BpTuFEUXhqD6",
        "outputId": "e4d71983-4508-41e9-8d41-c33110af1e17"
      },
      "outputs": [
        {
          "data": {
            "text/html": [
              "<div>\n",
              "<style scoped>\n",
              "    .dataframe tbody tr th:only-of-type {\n",
              "        vertical-align: middle;\n",
              "    }\n",
              "\n",
              "    .dataframe tbody tr th {\n",
              "        vertical-align: top;\n",
              "    }\n",
              "\n",
              "    .dataframe thead th {\n",
              "        text-align: right;\n",
              "    }\n",
              "</style>\n",
              "<table border=\"1\" class=\"dataframe\">\n",
              "  <thead>\n",
              "    <tr style=\"text-align: right;\">\n",
              "      <th></th>\n",
              "      <th>id</th>\n",
              "      <th>department</th>\n",
              "      <th>job</th>\n",
              "      <th>salary</th>\n",
              "      <th>age</th>\n",
              "      <th>name</th>\n",
              "      <th>last_name</th>\n",
              "    </tr>\n",
              "  </thead>\n",
              "  <tbody>\n",
              "    <tr>\n",
              "      <th>0</th>\n",
              "      <td>M0001</td>\n",
              "      <td>HR</td>\n",
              "      <td>manager</td>\n",
              "      <td>150000.0</td>\n",
              "      <td>52.0</td>\n",
              "      <td>Tom</td>\n",
              "      <td>Blue</td>\n",
              "    </tr>\n",
              "    <tr>\n",
              "      <th>1</th>\n",
              "      <td>M0002</td>\n",
              "      <td>IT</td>\n",
              "      <td>manager</td>\n",
              "      <td>180000.0</td>\n",
              "      <td>48.0</td>\n",
              "      <td>John</td>\n",
              "      <td>Black</td>\n",
              "    </tr>\n",
              "    <tr>\n",
              "      <th>2</th>\n",
              "      <td>E0001</td>\n",
              "      <td>IT</td>\n",
              "      <td>data scientist</td>\n",
              "      <td>150000.0</td>\n",
              "      <td>35.0</td>\n",
              "      <td>Micheal</td>\n",
              "      <td>Brown</td>\n",
              "    </tr>\n",
              "    <tr>\n",
              "      <th>3</th>\n",
              "      <td>E0002</td>\n",
              "      <td>HR</td>\n",
              "      <td>recruiter</td>\n",
              "      <td>130000.0</td>\n",
              "      <td>38.0</td>\n",
              "      <td>Jason</td>\n",
              "      <td>Walker</td>\n",
              "    </tr>\n",
              "    <tr>\n",
              "      <th>4</th>\n",
              "      <td>E0003</td>\n",
              "      <td>IT</td>\n",
              "      <td>backend developer</td>\n",
              "      <td>110000.0</td>\n",
              "      <td>NaN</td>\n",
              "      <td>Alex</td>\n",
              "      <td>Green</td>\n",
              "    </tr>\n",
              "    <tr>\n",
              "      <th>5</th>\n",
              "      <td>E0004</td>\n",
              "      <td>IT</td>\n",
              "      <td>frontend developer</td>\n",
              "      <td>120000.0</td>\n",
              "      <td>32.0</td>\n",
              "      <td>Oscar</td>\n",
              "      <td>Smi̇th</td>\n",
              "    </tr>\n",
              "    <tr>\n",
              "      <th>6</th>\n",
              "      <td>E0005</td>\n",
              "      <td>IT</td>\n",
              "      <td>data scientist</td>\n",
              "      <td>135000.0</td>\n",
              "      <td>40.0</td>\n",
              "      <td>Adrian</td>\n",
              "      <td>Star</td>\n",
              "    </tr>\n",
              "    <tr>\n",
              "      <th>7</th>\n",
              "      <td>E0006</td>\n",
              "      <td>IT</td>\n",
              "      <td>data scientist</td>\n",
              "      <td>125000.0</td>\n",
              "      <td>35.0</td>\n",
              "      <td>Albert</td>\n",
              "      <td>Simon</td>\n",
              "    </tr>\n",
              "  </tbody>\n",
              "</table>\n",
              "</div>"
            ],
            "text/plain": [
              "      id department                 job    salary   age     name last_name\n",
              "0  M0001         HR             manager  150000.0  52.0      Tom      Blue\n",
              "1  M0002         IT             manager  180000.0  48.0     John     Black\n",
              "2  E0001         IT      data scientist  150000.0  35.0  Micheal     Brown\n",
              "3  E0002         HR           recruiter  130000.0  38.0    Jason    Walker\n",
              "4  E0003         IT   backend developer  110000.0   NaN     Alex     Green\n",
              "5  E0004         IT  frontend developer  120000.0  32.0    Oscar    Smi̇th\n",
              "6  E0005         IT      data scientist  135000.0  40.0   Adrian      Star\n",
              "7  E0006         IT      data scientist  125000.0  35.0   Albert     Simon"
            ]
          },
          "execution_count": 51,
          "metadata": {},
          "output_type": "execute_result"
        }
      ],
      "source": [
        "df"
      ]
    },
    {
      "cell_type": "code",
      "execution_count": null,
      "metadata": {
        "id": "Q0An15j2hqD6",
        "outputId": "0642674c-399b-4349-e163-c7d5c1e0dfda"
      },
      "outputs": [
        {
          "data": {
            "text/plain": [
              "0               manager\n",
              "1               manager\n",
              "2        data scientist\n",
              "3             recruiter\n",
              "4     backend developer\n",
              "5    frontend developer\n",
              "6        data scientist\n",
              "7        data scientist\n",
              "Name: job, dtype: object"
            ]
          },
          "execution_count": 52,
          "metadata": {},
          "output_type": "execute_result"
        }
      ],
      "source": [
        "df.job"
      ]
    },
    {
      "cell_type": "code",
      "execution_count": null,
      "metadata": {
        "id": "fac6kLGrhqD7",
        "outputId": "89369d55-25e7-4926-8b30-da0c521cb9f0"
      },
      "outputs": [
        {
          "data": {
            "text/plain": [
              "0   -1\n",
              "1   -1\n",
              "2    5\n",
              "3   -1\n",
              "4   -1\n",
              "5   -1\n",
              "6    5\n",
              "7    5\n",
              "Name: job, dtype: int64"
            ]
          },
          "execution_count": 53,
          "metadata": {},
          "output_type": "execute_result"
        }
      ],
      "source": [
        "df.job.str.find(\"s\")"
      ]
    },
    {
      "cell_type": "code",
      "execution_count": null,
      "metadata": {
        "id": "1_tnrf2phqD7",
        "outputId": "a947fac2-0ceb-456f-fc58-cd85ef3a8406"
      },
      "outputs": [
        {
          "data": {
            "text/plain": [
              "0        []\n",
              "1        []\n",
              "2    [s, s]\n",
              "3        []\n",
              "4        []\n",
              "5        []\n",
              "6    [s, s]\n",
              "7    [s, s]\n",
              "Name: job, dtype: object"
            ]
          },
          "execution_count": 56,
          "metadata": {},
          "output_type": "execute_result"
        }
      ],
      "source": [
        "df.job.str.findall(\"s\")"
      ]
    },
    {
      "cell_type": "code",
      "execution_count": null,
      "metadata": {
        "id": "XUmfArquhqD7",
        "outputId": "931bff88-b384-483c-c239-11dd8e6f6ad8"
      },
      "outputs": [
        {
          "data": {
            "text/plain": [
              "0    0\n",
              "1    0\n",
              "2    2\n",
              "3    0\n",
              "4    0\n",
              "5    0\n",
              "6    2\n",
              "7    2\n",
              "Name: job, dtype: int64"
            ]
          },
          "execution_count": 59,
          "metadata": {},
          "output_type": "execute_result"
        }
      ],
      "source": [
        "df.job.str.findall(\"s\").apply(len)"
      ]
    },
    {
      "cell_type": "code",
      "execution_count": null,
      "metadata": {
        "id": "vz6uU1l2hqD7",
        "outputId": "c8d0d47d-453b-45ee-8c54-31cd5d68c0b1"
      },
      "outputs": [
        {
          "data": {
            "text/html": [
              "<div>\n",
              "<style scoped>\n",
              "    .dataframe tbody tr th:only-of-type {\n",
              "        vertical-align: middle;\n",
              "    }\n",
              "\n",
              "    .dataframe tbody tr th {\n",
              "        vertical-align: top;\n",
              "    }\n",
              "\n",
              "    .dataframe thead th {\n",
              "        text-align: right;\n",
              "    }\n",
              "</style>\n",
              "<table border=\"1\" class=\"dataframe\">\n",
              "  <thead>\n",
              "    <tr style=\"text-align: right;\">\n",
              "      <th></th>\n",
              "      <th>id</th>\n",
              "      <th>department</th>\n",
              "      <th>job</th>\n",
              "      <th>salary</th>\n",
              "      <th>age</th>\n",
              "      <th>name</th>\n",
              "      <th>last_name</th>\n",
              "      <th>skills</th>\n",
              "      <th>Skills</th>\n",
              "    </tr>\n",
              "  </thead>\n",
              "  <tbody>\n",
              "    <tr>\n",
              "      <th>0</th>\n",
              "      <td>M0001</td>\n",
              "      <td>HR</td>\n",
              "      <td>manager</td>\n",
              "      <td>150000.0</td>\n",
              "      <td>52.0</td>\n",
              "      <td>Tom</td>\n",
              "      <td>Blue</td>\n",
              "      <td>[]</td>\n",
              "      <td>[]</td>\n",
              "    </tr>\n",
              "    <tr>\n",
              "      <th>1</th>\n",
              "      <td>M0002</td>\n",
              "      <td>IT</td>\n",
              "      <td>manager</td>\n",
              "      <td>180000.0</td>\n",
              "      <td>48.0</td>\n",
              "      <td>John</td>\n",
              "      <td>Black</td>\n",
              "      <td>[Java, C++]</td>\n",
              "      <td>Java,C++</td>\n",
              "    </tr>\n",
              "    <tr>\n",
              "      <th>2</th>\n",
              "      <td>E0001</td>\n",
              "      <td>IT</td>\n",
              "      <td>data scientist</td>\n",
              "      <td>150000.0</td>\n",
              "      <td>35.0</td>\n",
              "      <td>Micheal</td>\n",
              "      <td>Brown</td>\n",
              "      <td>[Python, Tableau, SQL]</td>\n",
              "      <td>[Python, Tableau, SQL]</td>\n",
              "    </tr>\n",
              "    <tr>\n",
              "      <th>3</th>\n",
              "      <td>E0002</td>\n",
              "      <td>HR</td>\n",
              "      <td>recruiter</td>\n",
              "      <td>130000.0</td>\n",
              "      <td>38.0</td>\n",
              "      <td>Jason</td>\n",
              "      <td>Walker</td>\n",
              "      <td>[]</td>\n",
              "      <td>[]</td>\n",
              "    </tr>\n",
              "    <tr>\n",
              "      <th>4</th>\n",
              "      <td>E0003</td>\n",
              "      <td>IT</td>\n",
              "      <td>backend developer</td>\n",
              "      <td>110000.0</td>\n",
              "      <td>NaN</td>\n",
              "      <td>Alex</td>\n",
              "      <td>Green</td>\n",
              "      <td>[React, Django]</td>\n",
              "      <td>[React, Django]</td>\n",
              "    </tr>\n",
              "    <tr>\n",
              "      <th>5</th>\n",
              "      <td>E0004</td>\n",
              "      <td>IT</td>\n",
              "      <td>frontend developer</td>\n",
              "      <td>120000.0</td>\n",
              "      <td>32.0</td>\n",
              "      <td>Oscar</td>\n",
              "      <td>Smi̇th</td>\n",
              "      <td>[JavaScript, Python]</td>\n",
              "      <td>[JavaScript, Python]</td>\n",
              "    </tr>\n",
              "    <tr>\n",
              "      <th>6</th>\n",
              "      <td>E0005</td>\n",
              "      <td>IT</td>\n",
              "      <td>data scientist</td>\n",
              "      <td>135000.0</td>\n",
              "      <td>40.0</td>\n",
              "      <td>Adrian</td>\n",
              "      <td>Star</td>\n",
              "      <td>[R, SQL]</td>\n",
              "      <td>[R, SQL]</td>\n",
              "    </tr>\n",
              "    <tr>\n",
              "      <th>7</th>\n",
              "      <td>E0006</td>\n",
              "      <td>IT</td>\n",
              "      <td>data scientist</td>\n",
              "      <td>125000.0</td>\n",
              "      <td>35.0</td>\n",
              "      <td>Albert</td>\n",
              "      <td>Simon</td>\n",
              "      <td>[SQL, Python]</td>\n",
              "      <td>[SQL, Python]</td>\n",
              "    </tr>\n",
              "  </tbody>\n",
              "</table>\n",
              "</div>"
            ],
            "text/plain": [
              "      id department                 job    salary   age     name last_name  \\\n",
              "0  M0001         HR             manager  150000.0  52.0      Tom      Blue   \n",
              "1  M0002         IT             manager  180000.0  48.0     John     Black   \n",
              "2  E0001         IT      data scientist  150000.0  35.0  Micheal     Brown   \n",
              "3  E0002         HR           recruiter  130000.0  38.0    Jason    Walker   \n",
              "4  E0003         IT   backend developer  110000.0   NaN     Alex     Green   \n",
              "5  E0004         IT  frontend developer  120000.0  32.0    Oscar    Smi̇th   \n",
              "6  E0005         IT      data scientist  135000.0  40.0   Adrian      Star   \n",
              "7  E0006         IT      data scientist  125000.0  35.0   Albert     Simon   \n",
              "\n",
              "                   skills                  Skills  \n",
              "0                      []                      []  \n",
              "1             [Java, C++]                Java,C++  \n",
              "2  [Python, Tableau, SQL]  [Python, Tableau, SQL]  \n",
              "3                      []                      []  \n",
              "4         [React, Django]         [React, Django]  \n",
              "5    [JavaScript, Python]    [JavaScript, Python]  \n",
              "6                [R, SQL]                [R, SQL]  \n",
              "7           [SQL, Python]           [SQL, Python]  "
            ]
          },
          "execution_count": 60,
          "metadata": {},
          "output_type": "execute_result"
        }
      ],
      "source": [
        "df[\"skills\"] = [[],[\"Java\",\"C++\"],[\"Python\",\"Tableau\",\"SQL\"],[],[\"React\",\"Django\"],[\"JavaScript\",\"Python\"],[\"R\",\"SQL\"],[\"SQL\",\"Python\"]]\n",
        "df[\"Skills\"] = [[],[],[\"Python\",\"Tableau\",\"SQL\"],[],[\"React\",\"Django\"],[\"JavaScript\",\"Python\"],[\"R\",\"SQL\"],[\"SQL\",\"Python\"]]\n",
        "df.loc[1, \"Skills\"] = \"Java,C++\"\n",
        "df"
      ]
    },
    {
      "cell_type": "code",
      "execution_count": null,
      "metadata": {
        "id": "WJFh2p_ihqD7",
        "outputId": "7a33aeca-3fdc-415b-882b-a0b4ad1c27cf"
      },
      "outputs": [
        {
          "data": {
            "text/plain": [
              "0                      \n",
              "1              Java,C++\n",
              "2    Python,Tableau,SQL\n",
              "3                      \n",
              "4          React,Django\n",
              "5     JavaScript,Python\n",
              "6                 R,SQL\n",
              "7            SQL,Python\n",
              "Name: skills, dtype: object"
            ]
          },
          "execution_count": 61,
          "metadata": {},
          "output_type": "execute_result"
        }
      ],
      "source": [
        "df.skills.str.join(\",\")"
      ]
    },
    {
      "cell_type": "code",
      "execution_count": null,
      "metadata": {
        "id": "pmG4qFlahqD7",
        "outputId": "bc4cde4a-3525-46d1-9ef4-757ae84f0a7e"
      },
      "outputs": [
        {
          "data": {
            "text/plain": [
              "0                      \n",
              "1       J,a,v,a,,,C,+,+\n",
              "2    Python,Tableau,SQL\n",
              "3                      \n",
              "4          React,Django\n",
              "5     JavaScript,Python\n",
              "6                 R,SQL\n",
              "7            SQL,Python\n",
              "Name: Skills, dtype: object"
            ]
          },
          "execution_count": 62,
          "metadata": {},
          "output_type": "execute_result"
        }
      ],
      "source": [
        "df.Skills.str.join(\",\")"
      ]
    },
    {
      "cell_type": "code",
      "execution_count": null,
      "metadata": {
        "id": "xCXp7uv8hqD7",
        "outputId": "b1f4075c-b992-4a33-f311-10bacbe5f155"
      },
      "outputs": [
        {
          "data": {
            "text/plain": [
              "0                      \n",
              "1              Java,C++\n",
              "2    Python,Tableau,SQL\n",
              "3                      \n",
              "4          React,Django\n",
              "5     JavaScript,Python\n",
              "6                 R,SQL\n",
              "7            SQL,Python\n",
              "Name: Skills, dtype: object"
            ]
          },
          "execution_count": 64,
          "metadata": {},
          "output_type": "execute_result"
        }
      ],
      "source": [
        "df.Skills.apply(lambda x: \",\".join(x) if type(x) == list else x)"
      ]
    },
    {
      "cell_type": "code",
      "execution_count": null,
      "metadata": {
        "id": "GLpB37wIhqD8",
        "outputId": "feefe00c-b58e-4952-be0c-9445625d47e6"
      },
      "outputs": [
        {
          "data": {
            "text/plain": [
              "['',\n",
              " 'Java,C++',\n",
              " 'Python,Tableau,SQL',\n",
              " '',\n",
              " 'React,Django',\n",
              " 'JavaScript,Python',\n",
              " 'R,SQL',\n",
              " 'SQL,Python']"
            ]
          },
          "execution_count": 65,
          "metadata": {},
          "output_type": "execute_result"
        }
      ],
      "source": [
        "[\",\".join(x) if type(x) == list else x for x in df.Skills]"
      ]
    },
    {
      "cell_type": "code",
      "execution_count": null,
      "metadata": {
        "id": "twxVMDFChqD8",
        "outputId": "93667c3d-b64e-40f8-b511-7679729efa5a"
      },
      "outputs": [
        {
          "data": {
            "text/plain": [
              "0                      \n",
              "1              Java,C++\n",
              "2    Python,Tableau,SQL\n",
              "3                      \n",
              "4          React,Django\n",
              "5     JavaScript,Python\n",
              "6                 R,SQL\n",
              "7            SQL,Python\n",
              "Name: Skills, dtype: object"
            ]
          },
          "execution_count": 66,
          "metadata": {},
          "output_type": "execute_result"
        }
      ],
      "source": [
        "df[\"Skills\"] = [\",\".join(x) if type(x) == list else x for x in df.Skills]\n",
        "df.Skills"
      ]
    },
    {
      "cell_type": "code",
      "execution_count": null,
      "metadata": {
        "id": "YzV1yu6VhqD8",
        "outputId": "b63ab2d3-b0df-4b1c-eb4c-32b5dbd0bd50"
      },
      "outputs": [
        {
          "data": {
            "text/html": [
              "<div>\n",
              "<style scoped>\n",
              "    .dataframe tbody tr th:only-of-type {\n",
              "        vertical-align: middle;\n",
              "    }\n",
              "\n",
              "    .dataframe tbody tr th {\n",
              "        vertical-align: top;\n",
              "    }\n",
              "\n",
              "    .dataframe thead th {\n",
              "        text-align: right;\n",
              "    }\n",
              "</style>\n",
              "<table border=\"1\" class=\"dataframe\">\n",
              "  <thead>\n",
              "    <tr style=\"text-align: right;\">\n",
              "      <th></th>\n",
              "      <th>id</th>\n",
              "      <th>department</th>\n",
              "      <th>job</th>\n",
              "      <th>salary</th>\n",
              "      <th>age</th>\n",
              "      <th>name</th>\n",
              "      <th>last_name</th>\n",
              "      <th>skills</th>\n",
              "      <th>Skills</th>\n",
              "    </tr>\n",
              "  </thead>\n",
              "  <tbody>\n",
              "    <tr>\n",
              "      <th>0</th>\n",
              "      <td>M0001</td>\n",
              "      <td>HR</td>\n",
              "      <td>manager</td>\n",
              "      <td>150000.0</td>\n",
              "      <td>52.0</td>\n",
              "      <td>Tom</td>\n",
              "      <td>Blue</td>\n",
              "      <td>[]</td>\n",
              "      <td></td>\n",
              "    </tr>\n",
              "    <tr>\n",
              "      <th>1</th>\n",
              "      <td>M0002</td>\n",
              "      <td>IT</td>\n",
              "      <td>manager</td>\n",
              "      <td>180000.0</td>\n",
              "      <td>48.0</td>\n",
              "      <td>John</td>\n",
              "      <td>Black</td>\n",
              "      <td>[Java, C++]</td>\n",
              "      <td>Java,C++</td>\n",
              "    </tr>\n",
              "    <tr>\n",
              "      <th>2</th>\n",
              "      <td>E0001</td>\n",
              "      <td>IT</td>\n",
              "      <td>data scientist</td>\n",
              "      <td>150000.0</td>\n",
              "      <td>35.0</td>\n",
              "      <td>Micheal</td>\n",
              "      <td>Brown</td>\n",
              "      <td>[Python, Tableau, SQL]</td>\n",
              "      <td>Python,Tableau,SQL</td>\n",
              "    </tr>\n",
              "    <tr>\n",
              "      <th>3</th>\n",
              "      <td>E0002</td>\n",
              "      <td>HR</td>\n",
              "      <td>recruiter</td>\n",
              "      <td>130000.0</td>\n",
              "      <td>38.0</td>\n",
              "      <td>Jason</td>\n",
              "      <td>Walker</td>\n",
              "      <td>[]</td>\n",
              "      <td></td>\n",
              "    </tr>\n",
              "    <tr>\n",
              "      <th>4</th>\n",
              "      <td>E0003</td>\n",
              "      <td>IT</td>\n",
              "      <td>backend developer</td>\n",
              "      <td>110000.0</td>\n",
              "      <td>NaN</td>\n",
              "      <td>Alex</td>\n",
              "      <td>Green</td>\n",
              "      <td>[React, Django]</td>\n",
              "      <td>React,Django</td>\n",
              "    </tr>\n",
              "    <tr>\n",
              "      <th>5</th>\n",
              "      <td>E0004</td>\n",
              "      <td>IT</td>\n",
              "      <td>frontend developer</td>\n",
              "      <td>120000.0</td>\n",
              "      <td>32.0</td>\n",
              "      <td>Oscar</td>\n",
              "      <td>Smi̇th</td>\n",
              "      <td>[JavaScript, Python]</td>\n",
              "      <td>JavaScript,Python</td>\n",
              "    </tr>\n",
              "    <tr>\n",
              "      <th>6</th>\n",
              "      <td>E0005</td>\n",
              "      <td>IT</td>\n",
              "      <td>data scientist</td>\n",
              "      <td>135000.0</td>\n",
              "      <td>40.0</td>\n",
              "      <td>Adrian</td>\n",
              "      <td>Star</td>\n",
              "      <td>[R, SQL]</td>\n",
              "      <td>R,SQL</td>\n",
              "    </tr>\n",
              "    <tr>\n",
              "      <th>7</th>\n",
              "      <td>E0006</td>\n",
              "      <td>IT</td>\n",
              "      <td>data scientist</td>\n",
              "      <td>125000.0</td>\n",
              "      <td>35.0</td>\n",
              "      <td>Albert</td>\n",
              "      <td>Simon</td>\n",
              "      <td>[SQL, Python]</td>\n",
              "      <td>SQL,Python</td>\n",
              "    </tr>\n",
              "  </tbody>\n",
              "</table>\n",
              "</div>"
            ],
            "text/plain": [
              "      id department                 job    salary   age     name last_name  \\\n",
              "0  M0001         HR             manager  150000.0  52.0      Tom      Blue   \n",
              "1  M0002         IT             manager  180000.0  48.0     John     Black   \n",
              "2  E0001         IT      data scientist  150000.0  35.0  Micheal     Brown   \n",
              "3  E0002         HR           recruiter  130000.0  38.0    Jason    Walker   \n",
              "4  E0003         IT   backend developer  110000.0   NaN     Alex     Green   \n",
              "5  E0004         IT  frontend developer  120000.0  32.0    Oscar    Smi̇th   \n",
              "6  E0005         IT      data scientist  135000.0  40.0   Adrian      Star   \n",
              "7  E0006         IT      data scientist  125000.0  35.0   Albert     Simon   \n",
              "\n",
              "                   skills              Skills  \n",
              "0                      []                      \n",
              "1             [Java, C++]            Java,C++  \n",
              "2  [Python, Tableau, SQL]  Python,Tableau,SQL  \n",
              "3                      []                      \n",
              "4         [React, Django]        React,Django  \n",
              "5    [JavaScript, Python]   JavaScript,Python  \n",
              "6                [R, SQL]               R,SQL  \n",
              "7           [SQL, Python]          SQL,Python  "
            ]
          },
          "execution_count": 67,
          "metadata": {},
          "output_type": "execute_result"
        }
      ],
      "source": [
        "df"
      ]
    },
    {
      "cell_type": "markdown",
      "metadata": {
        "id": "AsfJC4gjhqD8"
      },
      "source": [
        "## Dummy Operation"
      ]
    },
    {
      "cell_type": "markdown",
      "metadata": {
        "id": "aVQ6e8rwhqD8"
      },
      "source": [
        "### get_dummies()\n",
        "\n",
        "\n",
        "1. pd.get_dummies(df/df[\"col_name\"])\n",
        "\n",
        "\n",
        "2. df[\"col_name\"].get_dummies(sep = \",\")"
      ]
    },
    {
      "cell_type": "code",
      "execution_count": null,
      "metadata": {
        "id": "3JgWDFJ5hqD8",
        "outputId": "25d6764b-0c5c-4624-cea5-d1f6ca6fad92"
      },
      "outputs": [
        {
          "data": {
            "text/plain": [
              "0    HR\n",
              "1    IT\n",
              "2    IT\n",
              "3    HR\n",
              "4    IT\n",
              "5    IT\n",
              "6    IT\n",
              "7    IT\n",
              "Name: department, dtype: object"
            ]
          },
          "execution_count": 68,
          "metadata": {},
          "output_type": "execute_result"
        }
      ],
      "source": [
        "df.department"
      ]
    },
    {
      "cell_type": "code",
      "execution_count": null,
      "metadata": {
        "id": "bFn_KZWrhqD8",
        "outputId": "1ae043cd-f16c-4d22-fb8a-c5e65dfdc219"
      },
      "outputs": [
        {
          "data": {
            "text/html": [
              "<div>\n",
              "<style scoped>\n",
              "    .dataframe tbody tr th:only-of-type {\n",
              "        vertical-align: middle;\n",
              "    }\n",
              "\n",
              "    .dataframe tbody tr th {\n",
              "        vertical-align: top;\n",
              "    }\n",
              "\n",
              "    .dataframe thead th {\n",
              "        text-align: right;\n",
              "    }\n",
              "</style>\n",
              "<table border=\"1\" class=\"dataframe\">\n",
              "  <thead>\n",
              "    <tr style=\"text-align: right;\">\n",
              "      <th></th>\n",
              "      <th>HR</th>\n",
              "      <th>IT</th>\n",
              "    </tr>\n",
              "  </thead>\n",
              "  <tbody>\n",
              "    <tr>\n",
              "      <th>0</th>\n",
              "      <td>1</td>\n",
              "      <td>0</td>\n",
              "    </tr>\n",
              "    <tr>\n",
              "      <th>1</th>\n",
              "      <td>0</td>\n",
              "      <td>1</td>\n",
              "    </tr>\n",
              "    <tr>\n",
              "      <th>2</th>\n",
              "      <td>0</td>\n",
              "      <td>1</td>\n",
              "    </tr>\n",
              "    <tr>\n",
              "      <th>3</th>\n",
              "      <td>1</td>\n",
              "      <td>0</td>\n",
              "    </tr>\n",
              "    <tr>\n",
              "      <th>4</th>\n",
              "      <td>0</td>\n",
              "      <td>1</td>\n",
              "    </tr>\n",
              "    <tr>\n",
              "      <th>5</th>\n",
              "      <td>0</td>\n",
              "      <td>1</td>\n",
              "    </tr>\n",
              "    <tr>\n",
              "      <th>6</th>\n",
              "      <td>0</td>\n",
              "      <td>1</td>\n",
              "    </tr>\n",
              "    <tr>\n",
              "      <th>7</th>\n",
              "      <td>0</td>\n",
              "      <td>1</td>\n",
              "    </tr>\n",
              "  </tbody>\n",
              "</table>\n",
              "</div>"
            ],
            "text/plain": [
              "   HR  IT\n",
              "0   1   0\n",
              "1   0   1\n",
              "2   0   1\n",
              "3   1   0\n",
              "4   0   1\n",
              "5   0   1\n",
              "6   0   1\n",
              "7   0   1"
            ]
          },
          "execution_count": 70,
          "metadata": {},
          "output_type": "execute_result"
        }
      ],
      "source": [
        "pd.get_dummies(df.department)"
      ]
    },
    {
      "cell_type": "code",
      "execution_count": null,
      "metadata": {
        "id": "a2llym-phqD8",
        "outputId": "3b8e121e-085b-4b5e-eb6a-f8d17c72fe91"
      },
      "outputs": [
        {
          "data": {
            "text/html": [
              "<div>\n",
              "<style scoped>\n",
              "    .dataframe tbody tr th:only-of-type {\n",
              "        vertical-align: middle;\n",
              "    }\n",
              "\n",
              "    .dataframe tbody tr th {\n",
              "        vertical-align: top;\n",
              "    }\n",
              "\n",
              "    .dataframe thead th {\n",
              "        text-align: right;\n",
              "    }\n",
              "</style>\n",
              "<table border=\"1\" class=\"dataframe\">\n",
              "  <thead>\n",
              "    <tr style=\"text-align: right;\">\n",
              "      <th></th>\n",
              "      <th>IT</th>\n",
              "    </tr>\n",
              "  </thead>\n",
              "  <tbody>\n",
              "    <tr>\n",
              "      <th>0</th>\n",
              "      <td>0</td>\n",
              "    </tr>\n",
              "    <tr>\n",
              "      <th>1</th>\n",
              "      <td>1</td>\n",
              "    </tr>\n",
              "    <tr>\n",
              "      <th>2</th>\n",
              "      <td>1</td>\n",
              "    </tr>\n",
              "    <tr>\n",
              "      <th>3</th>\n",
              "      <td>0</td>\n",
              "    </tr>\n",
              "    <tr>\n",
              "      <th>4</th>\n",
              "      <td>1</td>\n",
              "    </tr>\n",
              "    <tr>\n",
              "      <th>5</th>\n",
              "      <td>1</td>\n",
              "    </tr>\n",
              "    <tr>\n",
              "      <th>6</th>\n",
              "      <td>1</td>\n",
              "    </tr>\n",
              "    <tr>\n",
              "      <th>7</th>\n",
              "      <td>1</td>\n",
              "    </tr>\n",
              "  </tbody>\n",
              "</table>\n",
              "</div>"
            ],
            "text/plain": [
              "   IT\n",
              "0   0\n",
              "1   1\n",
              "2   1\n",
              "3   0\n",
              "4   1\n",
              "5   1\n",
              "6   1\n",
              "7   1"
            ]
          },
          "execution_count": 71,
          "metadata": {},
          "output_type": "execute_result"
        }
      ],
      "source": [
        "pd.get_dummies(df.department, drop_first=True)"
      ]
    },
    {
      "cell_type": "code",
      "execution_count": null,
      "metadata": {
        "id": "FP2rEof3hqD9",
        "outputId": "f1ba4ab2-f08b-48d8-96d8-fb679c832ec8"
      },
      "outputs": [
        {
          "data": {
            "text/plain": [
              "0                      \n",
              "1              Java,C++\n",
              "2    Python,Tableau,SQL\n",
              "3                      \n",
              "4          React,Django\n",
              "5     JavaScript,Python\n",
              "6                 R,SQL\n",
              "7            SQL,Python\n",
              "Name: Skills, dtype: object"
            ]
          },
          "execution_count": 72,
          "metadata": {},
          "output_type": "execute_result"
        }
      ],
      "source": [
        "df.Skills"
      ]
    },
    {
      "cell_type": "code",
      "execution_count": null,
      "metadata": {
        "id": "QL5zUtTghqD9",
        "outputId": "4b789a5c-cc6b-4f59-cdb1-cfb4dad371ec"
      },
      "outputs": [
        {
          "data": {
            "text/html": [
              "<div>\n",
              "<style scoped>\n",
              "    .dataframe tbody tr th:only-of-type {\n",
              "        vertical-align: middle;\n",
              "    }\n",
              "\n",
              "    .dataframe tbody tr th {\n",
              "        vertical-align: top;\n",
              "    }\n",
              "\n",
              "    .dataframe thead th {\n",
              "        text-align: right;\n",
              "    }\n",
              "</style>\n",
              "<table border=\"1\" class=\"dataframe\">\n",
              "  <thead>\n",
              "    <tr style=\"text-align: right;\">\n",
              "      <th></th>\n",
              "      <th>C++</th>\n",
              "      <th>Django</th>\n",
              "      <th>Java</th>\n",
              "      <th>JavaScript</th>\n",
              "      <th>Python</th>\n",
              "      <th>R</th>\n",
              "      <th>React</th>\n",
              "      <th>SQL</th>\n",
              "      <th>Tableau</th>\n",
              "    </tr>\n",
              "  </thead>\n",
              "  <tbody>\n",
              "    <tr>\n",
              "      <th>0</th>\n",
              "      <td>0</td>\n",
              "      <td>0</td>\n",
              "      <td>0</td>\n",
              "      <td>0</td>\n",
              "      <td>0</td>\n",
              "      <td>0</td>\n",
              "      <td>0</td>\n",
              "      <td>0</td>\n",
              "      <td>0</td>\n",
              "    </tr>\n",
              "    <tr>\n",
              "      <th>1</th>\n",
              "      <td>1</td>\n",
              "      <td>0</td>\n",
              "      <td>1</td>\n",
              "      <td>0</td>\n",
              "      <td>0</td>\n",
              "      <td>0</td>\n",
              "      <td>0</td>\n",
              "      <td>0</td>\n",
              "      <td>0</td>\n",
              "    </tr>\n",
              "    <tr>\n",
              "      <th>2</th>\n",
              "      <td>0</td>\n",
              "      <td>0</td>\n",
              "      <td>0</td>\n",
              "      <td>0</td>\n",
              "      <td>1</td>\n",
              "      <td>0</td>\n",
              "      <td>0</td>\n",
              "      <td>1</td>\n",
              "      <td>1</td>\n",
              "    </tr>\n",
              "    <tr>\n",
              "      <th>3</th>\n",
              "      <td>0</td>\n",
              "      <td>0</td>\n",
              "      <td>0</td>\n",
              "      <td>0</td>\n",
              "      <td>0</td>\n",
              "      <td>0</td>\n",
              "      <td>0</td>\n",
              "      <td>0</td>\n",
              "      <td>0</td>\n",
              "    </tr>\n",
              "    <tr>\n",
              "      <th>4</th>\n",
              "      <td>0</td>\n",
              "      <td>1</td>\n",
              "      <td>0</td>\n",
              "      <td>0</td>\n",
              "      <td>0</td>\n",
              "      <td>0</td>\n",
              "      <td>1</td>\n",
              "      <td>0</td>\n",
              "      <td>0</td>\n",
              "    </tr>\n",
              "    <tr>\n",
              "      <th>5</th>\n",
              "      <td>0</td>\n",
              "      <td>0</td>\n",
              "      <td>0</td>\n",
              "      <td>1</td>\n",
              "      <td>1</td>\n",
              "      <td>0</td>\n",
              "      <td>0</td>\n",
              "      <td>0</td>\n",
              "      <td>0</td>\n",
              "    </tr>\n",
              "    <tr>\n",
              "      <th>6</th>\n",
              "      <td>0</td>\n",
              "      <td>0</td>\n",
              "      <td>0</td>\n",
              "      <td>0</td>\n",
              "      <td>0</td>\n",
              "      <td>1</td>\n",
              "      <td>0</td>\n",
              "      <td>1</td>\n",
              "      <td>0</td>\n",
              "    </tr>\n",
              "    <tr>\n",
              "      <th>7</th>\n",
              "      <td>0</td>\n",
              "      <td>0</td>\n",
              "      <td>0</td>\n",
              "      <td>0</td>\n",
              "      <td>1</td>\n",
              "      <td>0</td>\n",
              "      <td>0</td>\n",
              "      <td>1</td>\n",
              "      <td>0</td>\n",
              "    </tr>\n",
              "  </tbody>\n",
              "</table>\n",
              "</div>"
            ],
            "text/plain": [
              "   C++  Django  Java  JavaScript  Python  R  React  SQL  Tableau\n",
              "0    0       0     0           0       0  0      0    0        0\n",
              "1    1       0     1           0       0  0      0    0        0\n",
              "2    0       0     0           0       1  0      0    1        1\n",
              "3    0       0     0           0       0  0      0    0        0\n",
              "4    0       1     0           0       0  0      1    0        0\n",
              "5    0       0     0           1       1  0      0    0        0\n",
              "6    0       0     0           0       0  1      0    1        0\n",
              "7    0       0     0           0       1  0      0    1        0"
            ]
          },
          "execution_count": 73,
          "metadata": {},
          "output_type": "execute_result"
        }
      ],
      "source": [
        "df.Skills.str.get_dummies(sep=\",\")"
      ]
    },
    {
      "cell_type": "code",
      "execution_count": null,
      "metadata": {
        "id": "NMVNWVOahqD9",
        "outputId": "bbf0c865-4396-4578-881b-4903531b9233"
      },
      "outputs": [
        {
          "data": {
            "text/html": [
              "<div>\n",
              "<style scoped>\n",
              "    .dataframe tbody tr th:only-of-type {\n",
              "        vertical-align: middle;\n",
              "    }\n",
              "\n",
              "    .dataframe tbody tr th {\n",
              "        vertical-align: top;\n",
              "    }\n",
              "\n",
              "    .dataframe thead th {\n",
              "        text-align: right;\n",
              "    }\n",
              "</style>\n",
              "<table border=\"1\" class=\"dataframe\">\n",
              "  <thead>\n",
              "    <tr style=\"text-align: right;\">\n",
              "      <th></th>\n",
              "      <th>skills_C++</th>\n",
              "      <th>skills_Django</th>\n",
              "      <th>skills_Java</th>\n",
              "      <th>skills_JavaScript</th>\n",
              "      <th>skills_Python</th>\n",
              "      <th>skills_R</th>\n",
              "      <th>skills_React</th>\n",
              "      <th>skills_SQL</th>\n",
              "      <th>skills_Tableau</th>\n",
              "    </tr>\n",
              "  </thead>\n",
              "  <tbody>\n",
              "    <tr>\n",
              "      <th>0</th>\n",
              "      <td>0</td>\n",
              "      <td>0</td>\n",
              "      <td>0</td>\n",
              "      <td>0</td>\n",
              "      <td>0</td>\n",
              "      <td>0</td>\n",
              "      <td>0</td>\n",
              "      <td>0</td>\n",
              "      <td>0</td>\n",
              "    </tr>\n",
              "    <tr>\n",
              "      <th>1</th>\n",
              "      <td>1</td>\n",
              "      <td>0</td>\n",
              "      <td>1</td>\n",
              "      <td>0</td>\n",
              "      <td>0</td>\n",
              "      <td>0</td>\n",
              "      <td>0</td>\n",
              "      <td>0</td>\n",
              "      <td>0</td>\n",
              "    </tr>\n",
              "    <tr>\n",
              "      <th>2</th>\n",
              "      <td>0</td>\n",
              "      <td>0</td>\n",
              "      <td>0</td>\n",
              "      <td>0</td>\n",
              "      <td>1</td>\n",
              "      <td>0</td>\n",
              "      <td>0</td>\n",
              "      <td>1</td>\n",
              "      <td>1</td>\n",
              "    </tr>\n",
              "    <tr>\n",
              "      <th>3</th>\n",
              "      <td>0</td>\n",
              "      <td>0</td>\n",
              "      <td>0</td>\n",
              "      <td>0</td>\n",
              "      <td>0</td>\n",
              "      <td>0</td>\n",
              "      <td>0</td>\n",
              "      <td>0</td>\n",
              "      <td>0</td>\n",
              "    </tr>\n",
              "    <tr>\n",
              "      <th>4</th>\n",
              "      <td>0</td>\n",
              "      <td>1</td>\n",
              "      <td>0</td>\n",
              "      <td>0</td>\n",
              "      <td>0</td>\n",
              "      <td>0</td>\n",
              "      <td>1</td>\n",
              "      <td>0</td>\n",
              "      <td>0</td>\n",
              "    </tr>\n",
              "    <tr>\n",
              "      <th>5</th>\n",
              "      <td>0</td>\n",
              "      <td>0</td>\n",
              "      <td>0</td>\n",
              "      <td>1</td>\n",
              "      <td>1</td>\n",
              "      <td>0</td>\n",
              "      <td>0</td>\n",
              "      <td>0</td>\n",
              "      <td>0</td>\n",
              "    </tr>\n",
              "    <tr>\n",
              "      <th>6</th>\n",
              "      <td>0</td>\n",
              "      <td>0</td>\n",
              "      <td>0</td>\n",
              "      <td>0</td>\n",
              "      <td>0</td>\n",
              "      <td>1</td>\n",
              "      <td>0</td>\n",
              "      <td>1</td>\n",
              "      <td>0</td>\n",
              "    </tr>\n",
              "    <tr>\n",
              "      <th>7</th>\n",
              "      <td>0</td>\n",
              "      <td>0</td>\n",
              "      <td>0</td>\n",
              "      <td>0</td>\n",
              "      <td>1</td>\n",
              "      <td>0</td>\n",
              "      <td>0</td>\n",
              "      <td>1</td>\n",
              "      <td>0</td>\n",
              "    </tr>\n",
              "  </tbody>\n",
              "</table>\n",
              "</div>"
            ],
            "text/plain": [
              "   skills_C++  skills_Django  skills_Java  skills_JavaScript  skills_Python  \\\n",
              "0           0              0            0                  0              0   \n",
              "1           1              0            1                  0              0   \n",
              "2           0              0            0                  0              1   \n",
              "3           0              0            0                  0              0   \n",
              "4           0              1            0                  0              0   \n",
              "5           0              0            0                  1              1   \n",
              "6           0              0            0                  0              0   \n",
              "7           0              0            0                  0              1   \n",
              "\n",
              "   skills_R  skills_React  skills_SQL  skills_Tableau  \n",
              "0         0             0           0               0  \n",
              "1         0             0           0               0  \n",
              "2         0             0           1               1  \n",
              "3         0             0           0               0  \n",
              "4         0             1           0               0  \n",
              "5         0             0           0               0  \n",
              "6         1             0           1               0  \n",
              "7         0             0           1               0  "
            ]
          },
          "execution_count": 74,
          "metadata": {},
          "output_type": "execute_result"
        }
      ],
      "source": [
        "df.Skills.str.get_dummies(sep=\",\").add_prefix(\"skills_\")"
      ]
    },
    {
      "cell_type": "code",
      "execution_count": null,
      "metadata": {
        "id": "pnaftn-vhqD9"
      },
      "outputs": [],
      "source": [
        "skills_dummy = df.Skills.str.get_dummies(sep=\",\").add_prefix(\"skills_\")"
      ]
    },
    {
      "cell_type": "code",
      "execution_count": null,
      "metadata": {
        "id": "azMyM-KahqD9",
        "outputId": "2d21b294-a73f-470f-fa8f-6dbc081768e3"
      },
      "outputs": [
        {
          "data": {
            "text/html": [
              "<div>\n",
              "<style scoped>\n",
              "    .dataframe tbody tr th:only-of-type {\n",
              "        vertical-align: middle;\n",
              "    }\n",
              "\n",
              "    .dataframe tbody tr th {\n",
              "        vertical-align: top;\n",
              "    }\n",
              "\n",
              "    .dataframe thead th {\n",
              "        text-align: right;\n",
              "    }\n",
              "</style>\n",
              "<table border=\"1\" class=\"dataframe\">\n",
              "  <thead>\n",
              "    <tr style=\"text-align: right;\">\n",
              "      <th></th>\n",
              "      <th>id</th>\n",
              "      <th>department</th>\n",
              "      <th>job</th>\n",
              "      <th>salary</th>\n",
              "      <th>Skills</th>\n",
              "    </tr>\n",
              "  </thead>\n",
              "  <tbody>\n",
              "    <tr>\n",
              "      <th>0</th>\n",
              "      <td>M0001</td>\n",
              "      <td>HR</td>\n",
              "      <td>manager</td>\n",
              "      <td>150000.0</td>\n",
              "      <td></td>\n",
              "    </tr>\n",
              "    <tr>\n",
              "      <th>1</th>\n",
              "      <td>M0002</td>\n",
              "      <td>IT</td>\n",
              "      <td>manager</td>\n",
              "      <td>180000.0</td>\n",
              "      <td>Java,C++</td>\n",
              "    </tr>\n",
              "    <tr>\n",
              "      <th>2</th>\n",
              "      <td>E0001</td>\n",
              "      <td>IT</td>\n",
              "      <td>data scientist</td>\n",
              "      <td>150000.0</td>\n",
              "      <td>Python,Tableau,SQL</td>\n",
              "    </tr>\n",
              "    <tr>\n",
              "      <th>3</th>\n",
              "      <td>E0002</td>\n",
              "      <td>HR</td>\n",
              "      <td>recruiter</td>\n",
              "      <td>130000.0</td>\n",
              "      <td></td>\n",
              "    </tr>\n",
              "    <tr>\n",
              "      <th>4</th>\n",
              "      <td>E0003</td>\n",
              "      <td>IT</td>\n",
              "      <td>backend developer</td>\n",
              "      <td>110000.0</td>\n",
              "      <td>React,Django</td>\n",
              "    </tr>\n",
              "    <tr>\n",
              "      <th>5</th>\n",
              "      <td>E0004</td>\n",
              "      <td>IT</td>\n",
              "      <td>frontend developer</td>\n",
              "      <td>120000.0</td>\n",
              "      <td>JavaScript,Python</td>\n",
              "    </tr>\n",
              "    <tr>\n",
              "      <th>6</th>\n",
              "      <td>E0005</td>\n",
              "      <td>IT</td>\n",
              "      <td>data scientist</td>\n",
              "      <td>135000.0</td>\n",
              "      <td>R,SQL</td>\n",
              "    </tr>\n",
              "    <tr>\n",
              "      <th>7</th>\n",
              "      <td>E0006</td>\n",
              "      <td>IT</td>\n",
              "      <td>data scientist</td>\n",
              "      <td>125000.0</td>\n",
              "      <td>SQL,Python</td>\n",
              "    </tr>\n",
              "  </tbody>\n",
              "</table>\n",
              "</div>"
            ],
            "text/plain": [
              "      id department                 job    salary              Skills\n",
              "0  M0001         HR             manager  150000.0                    \n",
              "1  M0002         IT             manager  180000.0            Java,C++\n",
              "2  E0001         IT      data scientist  150000.0  Python,Tableau,SQL\n",
              "3  E0002         HR           recruiter  130000.0                    \n",
              "4  E0003         IT   backend developer  110000.0        React,Django\n",
              "5  E0004         IT  frontend developer  120000.0   JavaScript,Python\n",
              "6  E0005         IT      data scientist  135000.0               R,SQL\n",
              "7  E0006         IT      data scientist  125000.0          SQL,Python"
            ]
          },
          "execution_count": 77,
          "metadata": {},
          "output_type": "execute_result"
        }
      ],
      "source": [
        "df_final = df[[\"id\", \"department\", \"job\", \"salary\", \"Skills\"]]\n",
        "df_final"
      ]
    },
    {
      "cell_type": "code",
      "execution_count": null,
      "metadata": {
        "id": "x1tkY1wjhqD9",
        "outputId": "f78e85ff-b40d-48f6-ac69-6c25f8bb7361"
      },
      "outputs": [
        {
          "data": {
            "text/html": [
              "<div>\n",
              "<style scoped>\n",
              "    .dataframe tbody tr th:only-of-type {\n",
              "        vertical-align: middle;\n",
              "    }\n",
              "\n",
              "    .dataframe tbody tr th {\n",
              "        vertical-align: top;\n",
              "    }\n",
              "\n",
              "    .dataframe thead th {\n",
              "        text-align: right;\n",
              "    }\n",
              "</style>\n",
              "<table border=\"1\" class=\"dataframe\">\n",
              "  <thead>\n",
              "    <tr style=\"text-align: right;\">\n",
              "      <th></th>\n",
              "      <th>id</th>\n",
              "      <th>department</th>\n",
              "      <th>job</th>\n",
              "      <th>salary</th>\n",
              "      <th>Skills</th>\n",
              "      <th>skills_C++</th>\n",
              "      <th>skills_Django</th>\n",
              "      <th>skills_Java</th>\n",
              "      <th>skills_JavaScript</th>\n",
              "      <th>skills_Python</th>\n",
              "      <th>skills_R</th>\n",
              "      <th>skills_React</th>\n",
              "      <th>skills_SQL</th>\n",
              "      <th>skills_Tableau</th>\n",
              "    </tr>\n",
              "  </thead>\n",
              "  <tbody>\n",
              "    <tr>\n",
              "      <th>0</th>\n",
              "      <td>M0001</td>\n",
              "      <td>HR</td>\n",
              "      <td>manager</td>\n",
              "      <td>150000.0</td>\n",
              "      <td></td>\n",
              "      <td>0</td>\n",
              "      <td>0</td>\n",
              "      <td>0</td>\n",
              "      <td>0</td>\n",
              "      <td>0</td>\n",
              "      <td>0</td>\n",
              "      <td>0</td>\n",
              "      <td>0</td>\n",
              "      <td>0</td>\n",
              "    </tr>\n",
              "    <tr>\n",
              "      <th>1</th>\n",
              "      <td>M0002</td>\n",
              "      <td>IT</td>\n",
              "      <td>manager</td>\n",
              "      <td>180000.0</td>\n",
              "      <td>Java,C++</td>\n",
              "      <td>1</td>\n",
              "      <td>0</td>\n",
              "      <td>1</td>\n",
              "      <td>0</td>\n",
              "      <td>0</td>\n",
              "      <td>0</td>\n",
              "      <td>0</td>\n",
              "      <td>0</td>\n",
              "      <td>0</td>\n",
              "    </tr>\n",
              "    <tr>\n",
              "      <th>2</th>\n",
              "      <td>E0001</td>\n",
              "      <td>IT</td>\n",
              "      <td>data scientist</td>\n",
              "      <td>150000.0</td>\n",
              "      <td>Python,Tableau,SQL</td>\n",
              "      <td>0</td>\n",
              "      <td>0</td>\n",
              "      <td>0</td>\n",
              "      <td>0</td>\n",
              "      <td>1</td>\n",
              "      <td>0</td>\n",
              "      <td>0</td>\n",
              "      <td>1</td>\n",
              "      <td>1</td>\n",
              "    </tr>\n",
              "    <tr>\n",
              "      <th>3</th>\n",
              "      <td>E0002</td>\n",
              "      <td>HR</td>\n",
              "      <td>recruiter</td>\n",
              "      <td>130000.0</td>\n",
              "      <td></td>\n",
              "      <td>0</td>\n",
              "      <td>0</td>\n",
              "      <td>0</td>\n",
              "      <td>0</td>\n",
              "      <td>0</td>\n",
              "      <td>0</td>\n",
              "      <td>0</td>\n",
              "      <td>0</td>\n",
              "      <td>0</td>\n",
              "    </tr>\n",
              "    <tr>\n",
              "      <th>4</th>\n",
              "      <td>E0003</td>\n",
              "      <td>IT</td>\n",
              "      <td>backend developer</td>\n",
              "      <td>110000.0</td>\n",
              "      <td>React,Django</td>\n",
              "      <td>0</td>\n",
              "      <td>1</td>\n",
              "      <td>0</td>\n",
              "      <td>0</td>\n",
              "      <td>0</td>\n",
              "      <td>0</td>\n",
              "      <td>1</td>\n",
              "      <td>0</td>\n",
              "      <td>0</td>\n",
              "    </tr>\n",
              "    <tr>\n",
              "      <th>5</th>\n",
              "      <td>E0004</td>\n",
              "      <td>IT</td>\n",
              "      <td>frontend developer</td>\n",
              "      <td>120000.0</td>\n",
              "      <td>JavaScript,Python</td>\n",
              "      <td>0</td>\n",
              "      <td>0</td>\n",
              "      <td>0</td>\n",
              "      <td>1</td>\n",
              "      <td>1</td>\n",
              "      <td>0</td>\n",
              "      <td>0</td>\n",
              "      <td>0</td>\n",
              "      <td>0</td>\n",
              "    </tr>\n",
              "    <tr>\n",
              "      <th>6</th>\n",
              "      <td>E0005</td>\n",
              "      <td>IT</td>\n",
              "      <td>data scientist</td>\n",
              "      <td>135000.0</td>\n",
              "      <td>R,SQL</td>\n",
              "      <td>0</td>\n",
              "      <td>0</td>\n",
              "      <td>0</td>\n",
              "      <td>0</td>\n",
              "      <td>0</td>\n",
              "      <td>1</td>\n",
              "      <td>0</td>\n",
              "      <td>1</td>\n",
              "      <td>0</td>\n",
              "    </tr>\n",
              "    <tr>\n",
              "      <th>7</th>\n",
              "      <td>E0006</td>\n",
              "      <td>IT</td>\n",
              "      <td>data scientist</td>\n",
              "      <td>125000.0</td>\n",
              "      <td>SQL,Python</td>\n",
              "      <td>0</td>\n",
              "      <td>0</td>\n",
              "      <td>0</td>\n",
              "      <td>0</td>\n",
              "      <td>1</td>\n",
              "      <td>0</td>\n",
              "      <td>0</td>\n",
              "      <td>1</td>\n",
              "      <td>0</td>\n",
              "    </tr>\n",
              "  </tbody>\n",
              "</table>\n",
              "</div>"
            ],
            "text/plain": [
              "      id department                 job    salary              Skills  \\\n",
              "0  M0001         HR             manager  150000.0                       \n",
              "1  M0002         IT             manager  180000.0            Java,C++   \n",
              "2  E0001         IT      data scientist  150000.0  Python,Tableau,SQL   \n",
              "3  E0002         HR           recruiter  130000.0                       \n",
              "4  E0003         IT   backend developer  110000.0        React,Django   \n",
              "5  E0004         IT  frontend developer  120000.0   JavaScript,Python   \n",
              "6  E0005         IT      data scientist  135000.0               R,SQL   \n",
              "7  E0006         IT      data scientist  125000.0          SQL,Python   \n",
              "\n",
              "   skills_C++  skills_Django  skills_Java  skills_JavaScript  skills_Python  \\\n",
              "0           0              0            0                  0              0   \n",
              "1           1              0            1                  0              0   \n",
              "2           0              0            0                  0              1   \n",
              "3           0              0            0                  0              0   \n",
              "4           0              1            0                  0              0   \n",
              "5           0              0            0                  1              1   \n",
              "6           0              0            0                  0              0   \n",
              "7           0              0            0                  0              1   \n",
              "\n",
              "   skills_R  skills_React  skills_SQL  skills_Tableau  \n",
              "0         0             0           0               0  \n",
              "1         0             0           0               0  \n",
              "2         0             0           1               1  \n",
              "3         0             0           0               0  \n",
              "4         0             1           0               0  \n",
              "5         0             0           0               0  \n",
              "6         1             0           1               0  \n",
              "7         0             0           1               0  "
            ]
          },
          "execution_count": 78,
          "metadata": {},
          "output_type": "execute_result"
        }
      ],
      "source": [
        "df_final.join(skills_dummy)"
      ]
    },
    {
      "cell_type": "code",
      "execution_count": null,
      "metadata": {
        "id": "2hg-HOuuhqD-",
        "outputId": "967d6002-a064-4ff0-fe98-0f32f68c5f8a"
      },
      "outputs": [
        {
          "data": {
            "text/html": [
              "<div>\n",
              "<style scoped>\n",
              "    .dataframe tbody tr th:only-of-type {\n",
              "        vertical-align: middle;\n",
              "    }\n",
              "\n",
              "    .dataframe tbody tr th {\n",
              "        vertical-align: top;\n",
              "    }\n",
              "\n",
              "    .dataframe thead th {\n",
              "        text-align: right;\n",
              "    }\n",
              "</style>\n",
              "<table border=\"1\" class=\"dataframe\">\n",
              "  <thead>\n",
              "    <tr style=\"text-align: right;\">\n",
              "      <th></th>\n",
              "      <th>id</th>\n",
              "      <th>department</th>\n",
              "      <th>job</th>\n",
              "      <th>salary</th>\n",
              "      <th>skills_C++</th>\n",
              "      <th>skills_Django</th>\n",
              "      <th>skills_Java</th>\n",
              "      <th>skills_JavaScript</th>\n",
              "      <th>skills_Python</th>\n",
              "      <th>skills_R</th>\n",
              "      <th>skills_React</th>\n",
              "      <th>skills_SQL</th>\n",
              "      <th>skills_Tableau</th>\n",
              "    </tr>\n",
              "  </thead>\n",
              "  <tbody>\n",
              "    <tr>\n",
              "      <th>0</th>\n",
              "      <td>M0001</td>\n",
              "      <td>HR</td>\n",
              "      <td>manager</td>\n",
              "      <td>150000.0</td>\n",
              "      <td>0</td>\n",
              "      <td>0</td>\n",
              "      <td>0</td>\n",
              "      <td>0</td>\n",
              "      <td>0</td>\n",
              "      <td>0</td>\n",
              "      <td>0</td>\n",
              "      <td>0</td>\n",
              "      <td>0</td>\n",
              "    </tr>\n",
              "    <tr>\n",
              "      <th>1</th>\n",
              "      <td>M0002</td>\n",
              "      <td>IT</td>\n",
              "      <td>manager</td>\n",
              "      <td>180000.0</td>\n",
              "      <td>1</td>\n",
              "      <td>0</td>\n",
              "      <td>1</td>\n",
              "      <td>0</td>\n",
              "      <td>0</td>\n",
              "      <td>0</td>\n",
              "      <td>0</td>\n",
              "      <td>0</td>\n",
              "      <td>0</td>\n",
              "    </tr>\n",
              "    <tr>\n",
              "      <th>2</th>\n",
              "      <td>E0001</td>\n",
              "      <td>IT</td>\n",
              "      <td>data scientist</td>\n",
              "      <td>150000.0</td>\n",
              "      <td>0</td>\n",
              "      <td>0</td>\n",
              "      <td>0</td>\n",
              "      <td>0</td>\n",
              "      <td>1</td>\n",
              "      <td>0</td>\n",
              "      <td>0</td>\n",
              "      <td>1</td>\n",
              "      <td>1</td>\n",
              "    </tr>\n",
              "    <tr>\n",
              "      <th>3</th>\n",
              "      <td>E0002</td>\n",
              "      <td>HR</td>\n",
              "      <td>recruiter</td>\n",
              "      <td>130000.0</td>\n",
              "      <td>0</td>\n",
              "      <td>0</td>\n",
              "      <td>0</td>\n",
              "      <td>0</td>\n",
              "      <td>0</td>\n",
              "      <td>0</td>\n",
              "      <td>0</td>\n",
              "      <td>0</td>\n",
              "      <td>0</td>\n",
              "    </tr>\n",
              "    <tr>\n",
              "      <th>4</th>\n",
              "      <td>E0003</td>\n",
              "      <td>IT</td>\n",
              "      <td>backend developer</td>\n",
              "      <td>110000.0</td>\n",
              "      <td>0</td>\n",
              "      <td>1</td>\n",
              "      <td>0</td>\n",
              "      <td>0</td>\n",
              "      <td>0</td>\n",
              "      <td>0</td>\n",
              "      <td>1</td>\n",
              "      <td>0</td>\n",
              "      <td>0</td>\n",
              "    </tr>\n",
              "    <tr>\n",
              "      <th>5</th>\n",
              "      <td>E0004</td>\n",
              "      <td>IT</td>\n",
              "      <td>frontend developer</td>\n",
              "      <td>120000.0</td>\n",
              "      <td>0</td>\n",
              "      <td>0</td>\n",
              "      <td>0</td>\n",
              "      <td>1</td>\n",
              "      <td>1</td>\n",
              "      <td>0</td>\n",
              "      <td>0</td>\n",
              "      <td>0</td>\n",
              "      <td>0</td>\n",
              "    </tr>\n",
              "    <tr>\n",
              "      <th>6</th>\n",
              "      <td>E0005</td>\n",
              "      <td>IT</td>\n",
              "      <td>data scientist</td>\n",
              "      <td>135000.0</td>\n",
              "      <td>0</td>\n",
              "      <td>0</td>\n",
              "      <td>0</td>\n",
              "      <td>0</td>\n",
              "      <td>0</td>\n",
              "      <td>1</td>\n",
              "      <td>0</td>\n",
              "      <td>1</td>\n",
              "      <td>0</td>\n",
              "    </tr>\n",
              "    <tr>\n",
              "      <th>7</th>\n",
              "      <td>E0006</td>\n",
              "      <td>IT</td>\n",
              "      <td>data scientist</td>\n",
              "      <td>125000.0</td>\n",
              "      <td>0</td>\n",
              "      <td>0</td>\n",
              "      <td>0</td>\n",
              "      <td>0</td>\n",
              "      <td>1</td>\n",
              "      <td>0</td>\n",
              "      <td>0</td>\n",
              "      <td>1</td>\n",
              "      <td>0</td>\n",
              "    </tr>\n",
              "  </tbody>\n",
              "</table>\n",
              "</div>"
            ],
            "text/plain": [
              "      id department                 job    salary  skills_C++  skills_Django  \\\n",
              "0  M0001         HR             manager  150000.0           0              0   \n",
              "1  M0002         IT             manager  180000.0           1              0   \n",
              "2  E0001         IT      data scientist  150000.0           0              0   \n",
              "3  E0002         HR           recruiter  130000.0           0              0   \n",
              "4  E0003         IT   backend developer  110000.0           0              1   \n",
              "5  E0004         IT  frontend developer  120000.0           0              0   \n",
              "6  E0005         IT      data scientist  135000.0           0              0   \n",
              "7  E0006         IT      data scientist  125000.0           0              0   \n",
              "\n",
              "   skills_Java  skills_JavaScript  skills_Python  skills_R  skills_React  \\\n",
              "0            0                  0              0         0             0   \n",
              "1            1                  0              0         0             0   \n",
              "2            0                  0              1         0             0   \n",
              "3            0                  0              0         0             0   \n",
              "4            0                  0              0         0             1   \n",
              "5            0                  1              1         0             0   \n",
              "6            0                  0              0         1             0   \n",
              "7            0                  0              1         0             0   \n",
              "\n",
              "   skills_SQL  skills_Tableau  \n",
              "0           0               0  \n",
              "1           0               0  \n",
              "2           1               1  \n",
              "3           0               0  \n",
              "4           0               0  \n",
              "5           0               0  \n",
              "6           1               0  \n",
              "7           1               0  "
            ]
          },
          "execution_count": 79,
          "metadata": {},
          "output_type": "execute_result"
        }
      ],
      "source": [
        "df_final = df_final.join(skills_dummy)\n",
        "df_final.drop(\"Skills\", axis=1, inplace=True)\n",
        "df_final"
      ]
    },
    {
      "cell_type": "code",
      "execution_count": null,
      "metadata": {
        "id": "O6pUSyhthqD-"
      },
      "outputs": [],
      "source": [
        "df_final.drop(\"id\", axis=1, inplace=True)"
      ]
    },
    {
      "cell_type": "code",
      "execution_count": null,
      "metadata": {
        "id": "S883L1ZPhqD-",
        "outputId": "4b4117b0-8d18-4043-8bbb-82b88d4e0f84"
      },
      "outputs": [
        {
          "data": {
            "text/html": [
              "<div>\n",
              "<style scoped>\n",
              "    .dataframe tbody tr th:only-of-type {\n",
              "        vertical-align: middle;\n",
              "    }\n",
              "\n",
              "    .dataframe tbody tr th {\n",
              "        vertical-align: top;\n",
              "    }\n",
              "\n",
              "    .dataframe thead th {\n",
              "        text-align: right;\n",
              "    }\n",
              "</style>\n",
              "<table border=\"1\" class=\"dataframe\">\n",
              "  <thead>\n",
              "    <tr style=\"text-align: right;\">\n",
              "      <th></th>\n",
              "      <th>salary</th>\n",
              "      <th>skills_C++</th>\n",
              "      <th>skills_Django</th>\n",
              "      <th>skills_Java</th>\n",
              "      <th>skills_JavaScript</th>\n",
              "      <th>skills_Python</th>\n",
              "      <th>skills_R</th>\n",
              "      <th>skills_React</th>\n",
              "      <th>skills_SQL</th>\n",
              "      <th>skills_Tableau</th>\n",
              "      <th>department_IT</th>\n",
              "      <th>job_data scientist</th>\n",
              "      <th>job_frontend developer</th>\n",
              "      <th>job_manager</th>\n",
              "      <th>job_recruiter</th>\n",
              "    </tr>\n",
              "  </thead>\n",
              "  <tbody>\n",
              "    <tr>\n",
              "      <th>0</th>\n",
              "      <td>150000.0</td>\n",
              "      <td>0</td>\n",
              "      <td>0</td>\n",
              "      <td>0</td>\n",
              "      <td>0</td>\n",
              "      <td>0</td>\n",
              "      <td>0</td>\n",
              "      <td>0</td>\n",
              "      <td>0</td>\n",
              "      <td>0</td>\n",
              "      <td>0</td>\n",
              "      <td>0</td>\n",
              "      <td>0</td>\n",
              "      <td>1</td>\n",
              "      <td>0</td>\n",
              "    </tr>\n",
              "    <tr>\n",
              "      <th>1</th>\n",
              "      <td>180000.0</td>\n",
              "      <td>1</td>\n",
              "      <td>0</td>\n",
              "      <td>1</td>\n",
              "      <td>0</td>\n",
              "      <td>0</td>\n",
              "      <td>0</td>\n",
              "      <td>0</td>\n",
              "      <td>0</td>\n",
              "      <td>0</td>\n",
              "      <td>1</td>\n",
              "      <td>0</td>\n",
              "      <td>0</td>\n",
              "      <td>1</td>\n",
              "      <td>0</td>\n",
              "    </tr>\n",
              "    <tr>\n",
              "      <th>2</th>\n",
              "      <td>150000.0</td>\n",
              "      <td>0</td>\n",
              "      <td>0</td>\n",
              "      <td>0</td>\n",
              "      <td>0</td>\n",
              "      <td>1</td>\n",
              "      <td>0</td>\n",
              "      <td>0</td>\n",
              "      <td>1</td>\n",
              "      <td>1</td>\n",
              "      <td>1</td>\n",
              "      <td>1</td>\n",
              "      <td>0</td>\n",
              "      <td>0</td>\n",
              "      <td>0</td>\n",
              "    </tr>\n",
              "    <tr>\n",
              "      <th>3</th>\n",
              "      <td>130000.0</td>\n",
              "      <td>0</td>\n",
              "      <td>0</td>\n",
              "      <td>0</td>\n",
              "      <td>0</td>\n",
              "      <td>0</td>\n",
              "      <td>0</td>\n",
              "      <td>0</td>\n",
              "      <td>0</td>\n",
              "      <td>0</td>\n",
              "      <td>0</td>\n",
              "      <td>0</td>\n",
              "      <td>0</td>\n",
              "      <td>0</td>\n",
              "      <td>1</td>\n",
              "    </tr>\n",
              "    <tr>\n",
              "      <th>4</th>\n",
              "      <td>110000.0</td>\n",
              "      <td>0</td>\n",
              "      <td>1</td>\n",
              "      <td>0</td>\n",
              "      <td>0</td>\n",
              "      <td>0</td>\n",
              "      <td>0</td>\n",
              "      <td>1</td>\n",
              "      <td>0</td>\n",
              "      <td>0</td>\n",
              "      <td>1</td>\n",
              "      <td>0</td>\n",
              "      <td>0</td>\n",
              "      <td>0</td>\n",
              "      <td>0</td>\n",
              "    </tr>\n",
              "    <tr>\n",
              "      <th>5</th>\n",
              "      <td>120000.0</td>\n",
              "      <td>0</td>\n",
              "      <td>0</td>\n",
              "      <td>0</td>\n",
              "      <td>1</td>\n",
              "      <td>1</td>\n",
              "      <td>0</td>\n",
              "      <td>0</td>\n",
              "      <td>0</td>\n",
              "      <td>0</td>\n",
              "      <td>1</td>\n",
              "      <td>0</td>\n",
              "      <td>1</td>\n",
              "      <td>0</td>\n",
              "      <td>0</td>\n",
              "    </tr>\n",
              "    <tr>\n",
              "      <th>6</th>\n",
              "      <td>135000.0</td>\n",
              "      <td>0</td>\n",
              "      <td>0</td>\n",
              "      <td>0</td>\n",
              "      <td>0</td>\n",
              "      <td>0</td>\n",
              "      <td>1</td>\n",
              "      <td>0</td>\n",
              "      <td>1</td>\n",
              "      <td>0</td>\n",
              "      <td>1</td>\n",
              "      <td>1</td>\n",
              "      <td>0</td>\n",
              "      <td>0</td>\n",
              "      <td>0</td>\n",
              "    </tr>\n",
              "    <tr>\n",
              "      <th>7</th>\n",
              "      <td>125000.0</td>\n",
              "      <td>0</td>\n",
              "      <td>0</td>\n",
              "      <td>0</td>\n",
              "      <td>0</td>\n",
              "      <td>1</td>\n",
              "      <td>0</td>\n",
              "      <td>0</td>\n",
              "      <td>1</td>\n",
              "      <td>0</td>\n",
              "      <td>1</td>\n",
              "      <td>1</td>\n",
              "      <td>0</td>\n",
              "      <td>0</td>\n",
              "      <td>0</td>\n",
              "    </tr>\n",
              "  </tbody>\n",
              "</table>\n",
              "</div>"
            ],
            "text/plain": [
              "     salary  skills_C++  skills_Django  skills_Java  skills_JavaScript  \\\n",
              "0  150000.0           0              0            0                  0   \n",
              "1  180000.0           1              0            1                  0   \n",
              "2  150000.0           0              0            0                  0   \n",
              "3  130000.0           0              0            0                  0   \n",
              "4  110000.0           0              1            0                  0   \n",
              "5  120000.0           0              0            0                  1   \n",
              "6  135000.0           0              0            0                  0   \n",
              "7  125000.0           0              0            0                  0   \n",
              "\n",
              "   skills_Python  skills_R  skills_React  skills_SQL  skills_Tableau  \\\n",
              "0              0         0             0           0               0   \n",
              "1              0         0             0           0               0   \n",
              "2              1         0             0           1               1   \n",
              "3              0         0             0           0               0   \n",
              "4              0         0             1           0               0   \n",
              "5              1         0             0           0               0   \n",
              "6              0         1             0           1               0   \n",
              "7              1         0             0           1               0   \n",
              "\n",
              "   department_IT  job_data scientist  job_frontend developer  job_manager  \\\n",
              "0              0                   0                       0            1   \n",
              "1              1                   0                       0            1   \n",
              "2              1                   1                       0            0   \n",
              "3              0                   0                       0            0   \n",
              "4              1                   0                       0            0   \n",
              "5              1                   0                       1            0   \n",
              "6              1                   1                       0            0   \n",
              "7              1                   1                       0            0   \n",
              "\n",
              "   job_recruiter  \n",
              "0              0  \n",
              "1              0  \n",
              "2              0  \n",
              "3              1  \n",
              "4              0  \n",
              "5              0  \n",
              "6              0  \n",
              "7              0  "
            ]
          },
          "execution_count": 83,
          "metadata": {},
          "output_type": "execute_result"
        }
      ],
      "source": [
        "pd.get_dummies(df_final, drop_first=True)"
      ]
    },
    {
      "cell_type": "code",
      "execution_count": null,
      "metadata": {
        "id": "_gS5GcUIhqD-",
        "outputId": "c99df61d-473c-4215-e2d1-82b605eef678"
      },
      "outputs": [
        {
          "data": {
            "text/html": [
              "<div>\n",
              "<style scoped>\n",
              "    .dataframe tbody tr th:only-of-type {\n",
              "        vertical-align: middle;\n",
              "    }\n",
              "\n",
              "    .dataframe tbody tr th {\n",
              "        vertical-align: top;\n",
              "    }\n",
              "\n",
              "    .dataframe thead th {\n",
              "        text-align: right;\n",
              "    }\n",
              "</style>\n",
              "<table border=\"1\" class=\"dataframe\">\n",
              "  <thead>\n",
              "    <tr style=\"text-align: right;\">\n",
              "      <th></th>\n",
              "      <th>salary</th>\n",
              "      <th>skills_C++</th>\n",
              "      <th>skills_Django</th>\n",
              "      <th>skills_Java</th>\n",
              "      <th>skills_JavaScript</th>\n",
              "      <th>skills_Python</th>\n",
              "      <th>skills_R</th>\n",
              "      <th>skills_React</th>\n",
              "      <th>skills_SQL</th>\n",
              "      <th>skills_Tableau</th>\n",
              "      <th>department_IT</th>\n",
              "      <th>job_data scientist</th>\n",
              "      <th>job_frontend developer</th>\n",
              "      <th>job_manager</th>\n",
              "      <th>job_recruiter</th>\n",
              "    </tr>\n",
              "  </thead>\n",
              "  <tbody>\n",
              "    <tr>\n",
              "      <th>0</th>\n",
              "      <td>150000.0</td>\n",
              "      <td>0</td>\n",
              "      <td>0</td>\n",
              "      <td>0</td>\n",
              "      <td>0</td>\n",
              "      <td>0</td>\n",
              "      <td>0</td>\n",
              "      <td>0</td>\n",
              "      <td>0</td>\n",
              "      <td>0</td>\n",
              "      <td>0</td>\n",
              "      <td>0</td>\n",
              "      <td>0</td>\n",
              "      <td>1</td>\n",
              "      <td>0</td>\n",
              "    </tr>\n",
              "    <tr>\n",
              "      <th>1</th>\n",
              "      <td>180000.0</td>\n",
              "      <td>1</td>\n",
              "      <td>0</td>\n",
              "      <td>1</td>\n",
              "      <td>0</td>\n",
              "      <td>0</td>\n",
              "      <td>0</td>\n",
              "      <td>0</td>\n",
              "      <td>0</td>\n",
              "      <td>0</td>\n",
              "      <td>1</td>\n",
              "      <td>0</td>\n",
              "      <td>0</td>\n",
              "      <td>1</td>\n",
              "      <td>0</td>\n",
              "    </tr>\n",
              "    <tr>\n",
              "      <th>2</th>\n",
              "      <td>150000.0</td>\n",
              "      <td>0</td>\n",
              "      <td>0</td>\n",
              "      <td>0</td>\n",
              "      <td>0</td>\n",
              "      <td>1</td>\n",
              "      <td>0</td>\n",
              "      <td>0</td>\n",
              "      <td>1</td>\n",
              "      <td>1</td>\n",
              "      <td>1</td>\n",
              "      <td>1</td>\n",
              "      <td>0</td>\n",
              "      <td>0</td>\n",
              "      <td>0</td>\n",
              "    </tr>\n",
              "    <tr>\n",
              "      <th>3</th>\n",
              "      <td>130000.0</td>\n",
              "      <td>0</td>\n",
              "      <td>0</td>\n",
              "      <td>0</td>\n",
              "      <td>0</td>\n",
              "      <td>0</td>\n",
              "      <td>0</td>\n",
              "      <td>0</td>\n",
              "      <td>0</td>\n",
              "      <td>0</td>\n",
              "      <td>0</td>\n",
              "      <td>0</td>\n",
              "      <td>0</td>\n",
              "      <td>0</td>\n",
              "      <td>1</td>\n",
              "    </tr>\n",
              "    <tr>\n",
              "      <th>4</th>\n",
              "      <td>110000.0</td>\n",
              "      <td>0</td>\n",
              "      <td>1</td>\n",
              "      <td>0</td>\n",
              "      <td>0</td>\n",
              "      <td>0</td>\n",
              "      <td>0</td>\n",
              "      <td>1</td>\n",
              "      <td>0</td>\n",
              "      <td>0</td>\n",
              "      <td>1</td>\n",
              "      <td>0</td>\n",
              "      <td>0</td>\n",
              "      <td>0</td>\n",
              "      <td>0</td>\n",
              "    </tr>\n",
              "    <tr>\n",
              "      <th>5</th>\n",
              "      <td>120000.0</td>\n",
              "      <td>0</td>\n",
              "      <td>0</td>\n",
              "      <td>0</td>\n",
              "      <td>1</td>\n",
              "      <td>1</td>\n",
              "      <td>0</td>\n",
              "      <td>0</td>\n",
              "      <td>0</td>\n",
              "      <td>0</td>\n",
              "      <td>1</td>\n",
              "      <td>0</td>\n",
              "      <td>1</td>\n",
              "      <td>0</td>\n",
              "      <td>0</td>\n",
              "    </tr>\n",
              "    <tr>\n",
              "      <th>6</th>\n",
              "      <td>135000.0</td>\n",
              "      <td>0</td>\n",
              "      <td>0</td>\n",
              "      <td>0</td>\n",
              "      <td>0</td>\n",
              "      <td>0</td>\n",
              "      <td>1</td>\n",
              "      <td>0</td>\n",
              "      <td>1</td>\n",
              "      <td>0</td>\n",
              "      <td>1</td>\n",
              "      <td>1</td>\n",
              "      <td>0</td>\n",
              "      <td>0</td>\n",
              "      <td>0</td>\n",
              "    </tr>\n",
              "    <tr>\n",
              "      <th>7</th>\n",
              "      <td>125000.0</td>\n",
              "      <td>0</td>\n",
              "      <td>0</td>\n",
              "      <td>0</td>\n",
              "      <td>0</td>\n",
              "      <td>1</td>\n",
              "      <td>0</td>\n",
              "      <td>0</td>\n",
              "      <td>1</td>\n",
              "      <td>0</td>\n",
              "      <td>1</td>\n",
              "      <td>1</td>\n",
              "      <td>0</td>\n",
              "      <td>0</td>\n",
              "      <td>0</td>\n",
              "    </tr>\n",
              "  </tbody>\n",
              "</table>\n",
              "</div>"
            ],
            "text/plain": [
              "     salary  skills_C++  skills_Django  skills_Java  skills_JavaScript  \\\n",
              "0  150000.0           0              0            0                  0   \n",
              "1  180000.0           1              0            1                  0   \n",
              "2  150000.0           0              0            0                  0   \n",
              "3  130000.0           0              0            0                  0   \n",
              "4  110000.0           0              1            0                  0   \n",
              "5  120000.0           0              0            0                  1   \n",
              "6  135000.0           0              0            0                  0   \n",
              "7  125000.0           0              0            0                  0   \n",
              "\n",
              "   skills_Python  skills_R  skills_React  skills_SQL  skills_Tableau  \\\n",
              "0              0         0             0           0               0   \n",
              "1              0         0             0           0               0   \n",
              "2              1         0             0           1               1   \n",
              "3              0         0             0           0               0   \n",
              "4              0         0             1           0               0   \n",
              "5              1         0             0           0               0   \n",
              "6              0         1             0           1               0   \n",
              "7              1         0             0           1               0   \n",
              "\n",
              "   department_IT  job_data scientist  job_frontend developer  job_manager  \\\n",
              "0              0                   0                       0            1   \n",
              "1              1                   0                       0            1   \n",
              "2              1                   1                       0            0   \n",
              "3              0                   0                       0            0   \n",
              "4              1                   0                       0            0   \n",
              "5              1                   0                       1            0   \n",
              "6              1                   1                       0            0   \n",
              "7              1                   1                       0            0   \n",
              "\n",
              "   job_recruiter  \n",
              "0              0  \n",
              "1              0  \n",
              "2              0  \n",
              "3              1  \n",
              "4              0  \n",
              "5              0  \n",
              "6              0  \n",
              "7              0  "
            ]
          },
          "execution_count": 84,
          "metadata": {},
          "output_type": "execute_result"
        }
      ],
      "source": [
        "df_final= pd.get_dummies(df_final, drop_first=True)\n",
        "df_final"
      ]
    },
    {
      "cell_type": "markdown",
      "metadata": {
        "id": "9iQl0GyqhqD-"
      },
      "source": [
        "# Working with Time Data"
      ]
    },
    {
      "cell_type": "markdown",
      "metadata": {
        "id": "3ljpYDvEhqD-"
      },
      "source": [
        "## pd.to_datetime()\n",
        "https://pandas.pydata.org/docs/reference/api/pandas.to_datetime.html"
      ]
    },
    {
      "cell_type": "code",
      "execution_count": null,
      "metadata": {
        "id": "t_-dzZamhqD-",
        "outputId": "419ec7df-5db2-44c7-d958-0be4f12b7a55"
      },
      "outputs": [
        {
          "data": {
            "text/html": [
              "<div>\n",
              "<style scoped>\n",
              "    .dataframe tbody tr th:only-of-type {\n",
              "        vertical-align: middle;\n",
              "    }\n",
              "\n",
              "    .dataframe tbody tr th {\n",
              "        vertical-align: top;\n",
              "    }\n",
              "\n",
              "    .dataframe thead th {\n",
              "        text-align: right;\n",
              "    }\n",
              "</style>\n",
              "<table border=\"1\" class=\"dataframe\">\n",
              "  <thead>\n",
              "    <tr style=\"text-align: right;\">\n",
              "      <th></th>\n",
              "      <th>id_product</th>\n",
              "      <th>order_date</th>\n",
              "      <th>product_quantity</th>\n",
              "      <th>product_price</th>\n",
              "      <th>entry_date</th>\n",
              "    </tr>\n",
              "  </thead>\n",
              "  <tbody>\n",
              "    <tr>\n",
              "      <th>0</th>\n",
              "      <td>401</td>\n",
              "      <td>2021-01-23</td>\n",
              "      <td>1.0</td>\n",
              "      <td>541.487603</td>\n",
              "      <td>2018-12-04</td>\n",
              "    </tr>\n",
              "    <tr>\n",
              "      <th>1</th>\n",
              "      <td>416</td>\n",
              "      <td>2020-04-02</td>\n",
              "      <td>1.0</td>\n",
              "      <td>131.181818</td>\n",
              "      <td>2018-12-04</td>\n",
              "    </tr>\n",
              "    <tr>\n",
              "      <th>2</th>\n",
              "      <td>717</td>\n",
              "      <td>2019-03-10</td>\n",
              "      <td>1.0</td>\n",
              "      <td>2035.488500</td>\n",
              "      <td>2018-12-04</td>\n",
              "    </tr>\n",
              "    <tr>\n",
              "      <th>3</th>\n",
              "      <td>778</td>\n",
              "      <td>2019-12-27</td>\n",
              "      <td>1.0</td>\n",
              "      <td>335.988000</td>\n",
              "      <td>2018-12-04</td>\n",
              "    </tr>\n",
              "    <tr>\n",
              "      <th>4</th>\n",
              "      <td>826</td>\n",
              "      <td>2020-02-19</td>\n",
              "      <td>1.0</td>\n",
              "      <td>342.292302</td>\n",
              "      <td>2018-12-04</td>\n",
              "    </tr>\n",
              "  </tbody>\n",
              "</table>\n",
              "</div>"
            ],
            "text/plain": [
              "   id_product  order_date  product_quantity  product_price  entry_date\n",
              "0         401  2021-01-23               1.0     541.487603  2018-12-04\n",
              "1         416  2020-04-02               1.0     131.181818  2018-12-04\n",
              "2         717  2019-03-10               1.0    2035.488500  2018-12-04\n",
              "3         778  2019-12-27               1.0     335.988000  2018-12-04\n",
              "4         826  2020-02-19               1.0     342.292302  2018-12-04"
            ]
          },
          "execution_count": 85,
          "metadata": {},
          "output_type": "execute_result"
        }
      ],
      "source": [
        "df = pd.read_csv(\"../data&resources/time_exercise.csv\")\n",
        "df.head()"
      ]
    },
    {
      "cell_type": "code",
      "execution_count": null,
      "metadata": {
        "id": "tGzXfS1shqD-",
        "outputId": "bc72187c-5a24-4588-f9b8-60b2bd9a5467"
      },
      "outputs": [
        {
          "name": "stdout",
          "output_type": "stream",
          "text": [
            "<class 'pandas.core.frame.DataFrame'>\n",
            "RangeIndex: 911 entries, 0 to 910\n",
            "Data columns (total 5 columns):\n",
            " #   Column            Non-Null Count  Dtype  \n",
            "---  ------            --------------  -----  \n",
            " 0   id_product        911 non-null    int64  \n",
            " 1   order_date        911 non-null    object \n",
            " 2   product_quantity  911 non-null    float64\n",
            " 3   product_price     911 non-null    float64\n",
            " 4   entry_date        911 non-null    object \n",
            "dtypes: float64(2), int64(1), object(2)\n",
            "memory usage: 35.7+ KB\n"
          ]
        }
      ],
      "source": [
        "df.info()"
      ]
    },
    {
      "cell_type": "code",
      "execution_count": null,
      "metadata": {
        "id": "10_5avU9hqD_",
        "outputId": "64c60e0e-94b6-430e-f4b5-708dcf0f4709"
      },
      "outputs": [
        {
          "data": {
            "text/plain": [
              "0      2021-01-23\n",
              "1      2020-04-02\n",
              "2      2019-03-10\n",
              "3      2019-12-27\n",
              "4      2020-02-19\n",
              "          ...    \n",
              "906    2020-11-24\n",
              "907    2020-11-24\n",
              "908    2020-11-22\n",
              "909    2021-01-26\n",
              "910    2020-12-06\n",
              "Name: order_date, Length: 911, dtype: object"
            ]
          },
          "execution_count": 87,
          "metadata": {},
          "output_type": "execute_result"
        }
      ],
      "source": [
        "df.order_date"
      ]
    },
    {
      "cell_type": "code",
      "execution_count": null,
      "metadata": {
        "id": "j2EWC6HDhqD_",
        "outputId": "b50c1016-8ec1-4222-ff54-293d9f1343e7"
      },
      "outputs": [
        {
          "data": {
            "text/plain": [
              "0     2021-01-23\n",
              "1     2020-04-02\n",
              "2     2019-03-10\n",
              "3     2019-12-27\n",
              "4     2020-02-19\n",
              "         ...    \n",
              "906   2020-11-24\n",
              "907   2020-11-24\n",
              "908   2020-11-22\n",
              "909   2021-01-26\n",
              "910   2020-12-06\n",
              "Name: order_date, Length: 911, dtype: datetime64[ns]"
            ]
          },
          "execution_count": 88,
          "metadata": {},
          "output_type": "execute_result"
        }
      ],
      "source": [
        "pd.to_datetime(df.order_date)"
      ]
    },
    {
      "cell_type": "code",
      "execution_count": null,
      "metadata": {
        "id": "Z_CKGFR0hqD_"
      },
      "outputs": [],
      "source": [
        "df[\"entry_date\"] = pd.to_datetime(df[\"entry_date\"])\n",
        "df[\"order_date\"] = pd.to_datetime(df[\"order_date\"])"
      ]
    },
    {
      "cell_type": "code",
      "execution_count": null,
      "metadata": {
        "id": "gPHxSxS-hqD_",
        "outputId": "16dc73c7-c148-41bb-f8f1-34af9b7d9d4b"
      },
      "outputs": [
        {
          "data": {
            "text/html": [
              "<div>\n",
              "<style scoped>\n",
              "    .dataframe tbody tr th:only-of-type {\n",
              "        vertical-align: middle;\n",
              "    }\n",
              "\n",
              "    .dataframe tbody tr th {\n",
              "        vertical-align: top;\n",
              "    }\n",
              "\n",
              "    .dataframe thead th {\n",
              "        text-align: right;\n",
              "    }\n",
              "</style>\n",
              "<table border=\"1\" class=\"dataframe\">\n",
              "  <thead>\n",
              "    <tr style=\"text-align: right;\">\n",
              "      <th></th>\n",
              "      <th>id_product</th>\n",
              "      <th>order_date</th>\n",
              "      <th>product_quantity</th>\n",
              "      <th>product_price</th>\n",
              "      <th>entry_date</th>\n",
              "    </tr>\n",
              "  </thead>\n",
              "  <tbody>\n",
              "    <tr>\n",
              "      <th>0</th>\n",
              "      <td>401</td>\n",
              "      <td>2021-01-23</td>\n",
              "      <td>1.0</td>\n",
              "      <td>541.487603</td>\n",
              "      <td>2018-12-04</td>\n",
              "    </tr>\n",
              "    <tr>\n",
              "      <th>1</th>\n",
              "      <td>416</td>\n",
              "      <td>2020-04-02</td>\n",
              "      <td>1.0</td>\n",
              "      <td>131.181818</td>\n",
              "      <td>2018-12-04</td>\n",
              "    </tr>\n",
              "    <tr>\n",
              "      <th>2</th>\n",
              "      <td>717</td>\n",
              "      <td>2019-03-10</td>\n",
              "      <td>1.0</td>\n",
              "      <td>2035.488500</td>\n",
              "      <td>2018-12-04</td>\n",
              "    </tr>\n",
              "    <tr>\n",
              "      <th>3</th>\n",
              "      <td>778</td>\n",
              "      <td>2019-12-27</td>\n",
              "      <td>1.0</td>\n",
              "      <td>335.988000</td>\n",
              "      <td>2018-12-04</td>\n",
              "    </tr>\n",
              "    <tr>\n",
              "      <th>4</th>\n",
              "      <td>826</td>\n",
              "      <td>2020-02-19</td>\n",
              "      <td>1.0</td>\n",
              "      <td>342.292302</td>\n",
              "      <td>2018-12-04</td>\n",
              "    </tr>\n",
              "  </tbody>\n",
              "</table>\n",
              "</div>"
            ],
            "text/plain": [
              "   id_product order_date  product_quantity  product_price entry_date\n",
              "0         401 2021-01-23               1.0     541.487603 2018-12-04\n",
              "1         416 2020-04-02               1.0     131.181818 2018-12-04\n",
              "2         717 2019-03-10               1.0    2035.488500 2018-12-04\n",
              "3         778 2019-12-27               1.0     335.988000 2018-12-04\n",
              "4         826 2020-02-19               1.0     342.292302 2018-12-04"
            ]
          },
          "execution_count": 90,
          "metadata": {},
          "output_type": "execute_result"
        }
      ],
      "source": [
        "df.head()"
      ]
    },
    {
      "cell_type": "code",
      "execution_count": null,
      "metadata": {
        "id": "_Z6I7Yy4hqD_",
        "outputId": "90229f88-a275-4dd8-c852-6876457aeaa2"
      },
      "outputs": [
        {
          "name": "stdout",
          "output_type": "stream",
          "text": [
            "<class 'pandas.core.frame.DataFrame'>\n",
            "RangeIndex: 911 entries, 0 to 910\n",
            "Data columns (total 5 columns):\n",
            " #   Column            Non-Null Count  Dtype         \n",
            "---  ------            --------------  -----         \n",
            " 0   id_product        911 non-null    int64         \n",
            " 1   order_date        911 non-null    datetime64[ns]\n",
            " 2   product_quantity  911 non-null    float64       \n",
            " 3   product_price     911 non-null    float64       \n",
            " 4   entry_date        911 non-null    datetime64[ns]\n",
            "dtypes: datetime64[ns](2), float64(2), int64(1)\n",
            "memory usage: 35.7 KB\n"
          ]
        }
      ],
      "source": [
        "df.info()"
      ]
    },
    {
      "cell_type": "code",
      "execution_count": null,
      "metadata": {
        "id": "TvGfYiTYhqD_",
        "outputId": "9f0db03b-e0db-4dc5-c37c-809497e6c43c"
      },
      "outputs": [
        {
          "data": {
            "text/plain": [
              "Timestamp('2018-12-04 00:00:00')"
            ]
          },
          "execution_count": 93,
          "metadata": {},
          "output_type": "execute_result"
        }
      ],
      "source": [
        "df.entry_date.min()"
      ]
    },
    {
      "cell_type": "code",
      "execution_count": null,
      "metadata": {
        "id": "pNeE2sL-hqEA",
        "outputId": "6e3a47d9-4474-4531-a965-0d9c45593ba1"
      },
      "outputs": [
        {
          "data": {
            "text/plain": [
              "Timestamp('2020-11-26 00:00:00')"
            ]
          },
          "execution_count": 94,
          "metadata": {},
          "output_type": "execute_result"
        }
      ],
      "source": [
        "df.entry_date.max()"
      ]
    },
    {
      "cell_type": "code",
      "execution_count": null,
      "metadata": {
        "id": "GBKzz9fJhqEA",
        "outputId": "a37f07ce-b7fe-4205-bc66-e1c66f7f7b85"
      },
      "outputs": [
        {
          "data": {
            "text/plain": [
              "0    15-03-2020\n",
              "1    18-05-2019\n",
              "2    24-07-2018\n",
              "dtype: object"
            ]
          },
          "execution_count": 95,
          "metadata": {},
          "output_type": "execute_result"
        }
      ],
      "source": [
        "a = pd.Series([\"15-03-2020\", \"18-05-2019\", \"24-07-2018\"])\n",
        "a"
      ]
    },
    {
      "cell_type": "code",
      "execution_count": null,
      "metadata": {
        "id": "VZisDlpehqEA",
        "outputId": "de570fc8-6688-483a-d976-74895524bab6"
      },
      "outputs": [
        {
          "data": {
            "text/plain": [
              "'15-03-2020'"
            ]
          },
          "execution_count": 96,
          "metadata": {},
          "output_type": "execute_result"
        }
      ],
      "source": [
        "a.min()"
      ]
    },
    {
      "cell_type": "code",
      "execution_count": null,
      "metadata": {
        "id": "d6Q2aSzwhqEA",
        "outputId": "3da354b4-10b5-4dd7-eded-08dbb5ec8510"
      },
      "outputs": [
        {
          "data": {
            "text/plain": [
              "0   2020-03-15\n",
              "1   2019-05-18\n",
              "2   2018-07-24\n",
              "dtype: datetime64[ns]"
            ]
          },
          "execution_count": 97,
          "metadata": {},
          "output_type": "execute_result"
        }
      ],
      "source": [
        "pd.to_datetime(a, format = \"%d-%m-%Y\")"
      ]
    },
    {
      "cell_type": "code",
      "execution_count": null,
      "metadata": {
        "id": "Dz-s8PM-hqEA",
        "outputId": "fd203f85-dcd7-477e-e212-617f670ef349"
      },
      "outputs": [
        {
          "data": {
            "text/plain": [
              "Timestamp('2018-07-24 00:00:00')"
            ]
          },
          "execution_count": 98,
          "metadata": {},
          "output_type": "execute_result"
        }
      ],
      "source": [
        "pd.to_datetime(a, format = \"%d-%m-%Y\").min()"
      ]
    },
    {
      "cell_type": "markdown",
      "metadata": {
        "id": "_vpFPYp8hqEA"
      },
      "source": [
        "## Series.dt()\n",
        "Accessor object for datetimelike properties of the Series values.\n",
        "\n",
        "https://pandas.pydata.org/docs/reference/api/pandas.Series.dt.html"
      ]
    },
    {
      "cell_type": "code",
      "execution_count": null,
      "metadata": {
        "id": "77sSgM-VhqEA",
        "outputId": "7191fc23-1d6b-4199-9887-9b4990907133"
      },
      "outputs": [
        {
          "data": {
            "text/html": [
              "<div>\n",
              "<style scoped>\n",
              "    .dataframe tbody tr th:only-of-type {\n",
              "        vertical-align: middle;\n",
              "    }\n",
              "\n",
              "    .dataframe tbody tr th {\n",
              "        vertical-align: top;\n",
              "    }\n",
              "\n",
              "    .dataframe thead th {\n",
              "        text-align: right;\n",
              "    }\n",
              "</style>\n",
              "<table border=\"1\" class=\"dataframe\">\n",
              "  <thead>\n",
              "    <tr style=\"text-align: right;\">\n",
              "      <th></th>\n",
              "      <th>id_product</th>\n",
              "      <th>order_date</th>\n",
              "      <th>product_quantity</th>\n",
              "      <th>product_price</th>\n",
              "      <th>entry_date</th>\n",
              "    </tr>\n",
              "  </thead>\n",
              "  <tbody>\n",
              "    <tr>\n",
              "      <th>0</th>\n",
              "      <td>401</td>\n",
              "      <td>2021-01-23</td>\n",
              "      <td>1.0</td>\n",
              "      <td>541.487603</td>\n",
              "      <td>2018-12-04</td>\n",
              "    </tr>\n",
              "    <tr>\n",
              "      <th>1</th>\n",
              "      <td>416</td>\n",
              "      <td>2020-04-02</td>\n",
              "      <td>1.0</td>\n",
              "      <td>131.181818</td>\n",
              "      <td>2018-12-04</td>\n",
              "    </tr>\n",
              "    <tr>\n",
              "      <th>2</th>\n",
              "      <td>717</td>\n",
              "      <td>2019-03-10</td>\n",
              "      <td>1.0</td>\n",
              "      <td>2035.488500</td>\n",
              "      <td>2018-12-04</td>\n",
              "    </tr>\n",
              "    <tr>\n",
              "      <th>3</th>\n",
              "      <td>778</td>\n",
              "      <td>2019-12-27</td>\n",
              "      <td>1.0</td>\n",
              "      <td>335.988000</td>\n",
              "      <td>2018-12-04</td>\n",
              "    </tr>\n",
              "    <tr>\n",
              "      <th>4</th>\n",
              "      <td>826</td>\n",
              "      <td>2020-02-19</td>\n",
              "      <td>1.0</td>\n",
              "      <td>342.292302</td>\n",
              "      <td>2018-12-04</td>\n",
              "    </tr>\n",
              "    <tr>\n",
              "      <th>...</th>\n",
              "      <td>...</td>\n",
              "      <td>...</td>\n",
              "      <td>...</td>\n",
              "      <td>...</td>\n",
              "      <td>...</td>\n",
              "    </tr>\n",
              "    <tr>\n",
              "      <th>906</th>\n",
              "      <td>1536842</td>\n",
              "      <td>2020-11-24</td>\n",
              "      <td>1.0</td>\n",
              "      <td>1186.776860</td>\n",
              "      <td>2020-10-07</td>\n",
              "    </tr>\n",
              "    <tr>\n",
              "      <th>907</th>\n",
              "      <td>1536842</td>\n",
              "      <td>2020-11-24</td>\n",
              "      <td>1.0</td>\n",
              "      <td>1186.776860</td>\n",
              "      <td>2020-10-07</td>\n",
              "    </tr>\n",
              "    <tr>\n",
              "      <th>908</th>\n",
              "      <td>1536887</td>\n",
              "      <td>2020-11-22</td>\n",
              "      <td>1.0</td>\n",
              "      <td>0.000000</td>\n",
              "      <td>2020-11-13</td>\n",
              "    </tr>\n",
              "    <tr>\n",
              "      <th>909</th>\n",
              "      <td>1536952</td>\n",
              "      <td>2021-01-26</td>\n",
              "      <td>1.0</td>\n",
              "      <td>988.429752</td>\n",
              "      <td>2020-11-24</td>\n",
              "    </tr>\n",
              "    <tr>\n",
              "      <th>910</th>\n",
              "      <td>1536974</td>\n",
              "      <td>2020-12-06</td>\n",
              "      <td>1.0</td>\n",
              "      <td>0.000000</td>\n",
              "      <td>2020-11-26</td>\n",
              "    </tr>\n",
              "  </tbody>\n",
              "</table>\n",
              "<p>911 rows × 5 columns</p>\n",
              "</div>"
            ],
            "text/plain": [
              "     id_product order_date  product_quantity  product_price entry_date\n",
              "0           401 2021-01-23               1.0     541.487603 2018-12-04\n",
              "1           416 2020-04-02               1.0     131.181818 2018-12-04\n",
              "2           717 2019-03-10               1.0    2035.488500 2018-12-04\n",
              "3           778 2019-12-27               1.0     335.988000 2018-12-04\n",
              "4           826 2020-02-19               1.0     342.292302 2018-12-04\n",
              "..          ...        ...               ...            ...        ...\n",
              "906     1536842 2020-11-24               1.0    1186.776860 2020-10-07\n",
              "907     1536842 2020-11-24               1.0    1186.776860 2020-10-07\n",
              "908     1536887 2020-11-22               1.0       0.000000 2020-11-13\n",
              "909     1536952 2021-01-26               1.0     988.429752 2020-11-24\n",
              "910     1536974 2020-12-06               1.0       0.000000 2020-11-26\n",
              "\n",
              "[911 rows x 5 columns]"
            ]
          },
          "execution_count": 99,
          "metadata": {},
          "output_type": "execute_result"
        }
      ],
      "source": [
        "df"
      ]
    },
    {
      "cell_type": "code",
      "execution_count": null,
      "metadata": {
        "id": "SpGDHZLphqEA",
        "outputId": "a4118709-f54f-492a-9fb8-2e91a78ccacd"
      },
      "outputs": [
        {
          "data": {
            "text/plain": [
              "0      12\n",
              "1      12\n",
              "2      12\n",
              "3      12\n",
              "4      12\n",
              "       ..\n",
              "906    10\n",
              "907    10\n",
              "908    11\n",
              "909    11\n",
              "910    11\n",
              "Name: entry_date, Length: 911, dtype: int64"
            ]
          },
          "execution_count": 101,
          "metadata": {},
          "output_type": "execute_result"
        }
      ],
      "source": [
        "# it can be date, year, quarter, month, week, day, weekday, dayofweek, hour, minute, second, microsecond\n",
        "df.entry_date.dt.month"
      ]
    },
    {
      "cell_type": "markdown",
      "metadata": {
        "id": "Kqp9H01EhqEB"
      },
      "source": [
        "## datetime module\n",
        "The datetime module supplies classes for manipulating dates and times.\n",
        "\n",
        "https://docs.python.org/3/library/datetime.html"
      ]
    },
    {
      "cell_type": "markdown",
      "metadata": {
        "id": "yBQdkYSwhqEB"
      },
      "source": [
        "### class datetime.datetime\n",
        "\n",
        "A combination of a date and a time. Attributes: year, month, day, hour, minute, second, microsecond, and tzinfo."
      ]
    },
    {
      "cell_type": "code",
      "execution_count": null,
      "metadata": {
        "id": "qobX7NIchqEB"
      },
      "outputs": [],
      "source": [
        "from datetime import datetime"
      ]
    },
    {
      "cell_type": "code",
      "execution_count": null,
      "metadata": {
        "id": "zTf5MTwBhqEB",
        "outputId": "036fe8a1-f55e-4ba3-dbdf-afe2e035b98b"
      },
      "outputs": [
        {
          "data": {
            "text/plain": [
              "datetime.datetime(2022, 1, 31, 22, 38, 8, 915222)"
            ]
          },
          "execution_count": 103,
          "metadata": {},
          "output_type": "execute_result"
        }
      ],
      "source": [
        "datetime.now()"
      ]
    },
    {
      "cell_type": "code",
      "execution_count": null,
      "metadata": {
        "id": "pXqDmIjzhqEB",
        "outputId": "cd649231-89c0-4936-e75e-849c045a5f36"
      },
      "outputs": [
        {
          "name": "stdout",
          "output_type": "stream",
          "text": [
            "2022-01-31 22:38:31.808853\n"
          ]
        }
      ],
      "source": [
        "print(datetime.now())"
      ]
    },
    {
      "cell_type": "code",
      "execution_count": null,
      "metadata": {
        "id": "MZGUoNHrhqEC",
        "outputId": "3b1b0d6d-d835-4ef6-8a0a-1437d4ee2ae4"
      },
      "outputs": [
        {
          "name": "stdout",
          "output_type": "stream",
          "text": [
            "2022-01-31 22:38:53.445085\n"
          ]
        }
      ],
      "source": [
        "print(datetime.today())"
      ]
    },
    {
      "cell_type": "code",
      "execution_count": null,
      "metadata": {
        "id": "RW6rRgL5hqEC"
      },
      "outputs": [],
      "source": [
        "current_datetime = datetime.today()"
      ]
    },
    {
      "cell_type": "code",
      "execution_count": null,
      "metadata": {
        "id": "Lmzd0N-ShqEC",
        "outputId": "47720c8b-15e2-4d80-a2d5-17922edebe4b"
      },
      "outputs": [
        {
          "data": {
            "text/plain": [
              "datetime.date(2022, 1, 31)"
            ]
          },
          "execution_count": 107,
          "metadata": {},
          "output_type": "execute_result"
        }
      ],
      "source": [
        "# it can be date, year, month, day, weekday, isoweekday, hour, minute, second, microsecond, tzinfo \n",
        "current_datetime.date()"
      ]
    },
    {
      "cell_type": "code",
      "execution_count": null,
      "metadata": {
        "id": "aeEnU9lMhqEC",
        "outputId": "846f5eeb-d68e-4a99-d323-57ce062b0fbc"
      },
      "outputs": [
        {
          "data": {
            "text/plain": [
              "2022"
            ]
          },
          "execution_count": 108,
          "metadata": {},
          "output_type": "execute_result"
        }
      ],
      "source": [
        "current_datetime.year"
      ]
    },
    {
      "cell_type": "code",
      "execution_count": null,
      "metadata": {
        "id": "H5y1CRtvhqEC",
        "outputId": "9cb90bb1-a073-46db-eefa-8baf99d967bf"
      },
      "outputs": [
        {
          "data": {
            "text/plain": [
              "0"
            ]
          },
          "execution_count": 109,
          "metadata": {},
          "output_type": "execute_result"
        }
      ],
      "source": [
        "current_datetime.weekday()"
      ]
    },
    {
      "cell_type": "code",
      "execution_count": null,
      "metadata": {
        "id": "_UbzJQLChqEC",
        "outputId": "ec26fdc6-41bd-4793-e145-44fcb8056e8d"
      },
      "outputs": [
        {
          "data": {
            "text/plain": [
              "1"
            ]
          },
          "execution_count": 110,
          "metadata": {},
          "output_type": "execute_result"
        }
      ],
      "source": [
        "current_datetime.isoweekday()"
      ]
    },
    {
      "cell_type": "markdown",
      "metadata": {
        "id": "E2kDsDoHhqEC"
      },
      "source": [
        "### class datetime.timedelta\n",
        "\n",
        "A duration expressing the difference between two date, time, or datetime instances to microsecond resolution."
      ]
    },
    {
      "cell_type": "code",
      "execution_count": null,
      "metadata": {
        "id": "bP8WMWBMhqED"
      },
      "outputs": [],
      "source": [
        "from datetime import timedelta"
      ]
    },
    {
      "cell_type": "code",
      "execution_count": null,
      "metadata": {
        "id": "9sgqizNXhqED",
        "outputId": "8907fe64-8d0a-4cbc-dae6-c762bea77b0e"
      },
      "outputs": [
        {
          "data": {
            "text/plain": [
              "datetime.timedelta(days=2)"
            ]
          },
          "execution_count": 112,
          "metadata": {},
          "output_type": "execute_result"
        }
      ],
      "source": [
        "timedelta(days=2)"
      ]
    },
    {
      "cell_type": "code",
      "execution_count": null,
      "metadata": {
        "id": "tagRnZ_0hqED",
        "outputId": "6a121f58-46bc-4a8e-9b65-1f36c7d5120a"
      },
      "outputs": [
        {
          "name": "stdout",
          "output_type": "stream",
          "text": [
            "2 days, 0:00:00\n"
          ]
        }
      ],
      "source": [
        "print(timedelta(days=2))"
      ]
    },
    {
      "cell_type": "code",
      "execution_count": null,
      "metadata": {
        "id": "B-zRuUYUhqED",
        "outputId": "b40b2a2b-0b99-4db6-8438-8ed833fd4f67"
      },
      "outputs": [
        {
          "name": "stdout",
          "output_type": "stream",
          "text": [
            "2022-01-31 22:39:29.633170\n"
          ]
        }
      ],
      "source": [
        "print(current_datetime)"
      ]
    },
    {
      "cell_type": "code",
      "execution_count": null,
      "metadata": {
        "id": "zT00k151hqED",
        "outputId": "5920a8ba-d7be-4a2f-a888-96e9682e7073"
      },
      "outputs": [
        {
          "data": {
            "text/plain": [
              "datetime.datetime(2022, 1, 29, 22, 39, 29, 633170)"
            ]
          },
          "execution_count": 115,
          "metadata": {},
          "output_type": "execute_result"
        }
      ],
      "source": [
        "two_days_before = current_datetime-timedelta(days=2)\n",
        "two_days_before"
      ]
    },
    {
      "cell_type": "code",
      "execution_count": null,
      "metadata": {
        "id": "Bn_u3qzwhqED",
        "outputId": "94e2df53-c0f4-467f-c78b-3d064f39572b"
      },
      "outputs": [
        {
          "data": {
            "text/plain": [
              "datetime.datetime(2022, 2, 18, 2, 49, 29, 633170)"
            ]
          },
          "execution_count": 116,
          "metadata": {},
          "output_type": "execute_result"
        }
      ],
      "source": [
        "current_datetime + timedelta(weeks=2, days=3, hours=4, minutes=10)"
      ]
    },
    {
      "cell_type": "code",
      "execution_count": null,
      "metadata": {
        "id": "zNBRe4eYhqED",
        "outputId": "0ee80f63-6abe-4e9b-9964-70e0ab338576"
      },
      "outputs": [
        {
          "name": "stdout",
          "output_type": "stream",
          "text": [
            "current_date    2022-01-31 22:39:29.633170\n",
            "plus            14 days, 4:10:00\n",
            "total           2022-02-18 02:49:29.633170\n"
          ]
        }
      ],
      "source": [
        "print(f\"{'current_date': <15}\", current_datetime)\n",
        "print(f\"{'plus': <15}\", timedelta(weeks=2, hours=4, minutes=10))\n",
        "print(f\"{'total': <15}\", current_datetime+timedelta(weeks=2, days=3, hours=4, minutes=10))"
      ]
    },
    {
      "cell_type": "markdown",
      "metadata": {
        "id": "xqYXSM-xhqEE"
      },
      "source": [
        "### strftime()\n",
        "\n",
        "Converting from date/datetime/timedelta object to string type\n",
        "\n",
        "https://strftime.org/"
      ]
    },
    {
      "cell_type": "code",
      "execution_count": null,
      "metadata": {
        "id": "mo3HOUhHhqEE",
        "outputId": "a7efe5ec-7cb8-44dd-bc4f-783681409d10"
      },
      "outputs": [
        {
          "name": "stdout",
          "output_type": "stream",
          "text": [
            "2022-01-31 22:39:29.633170\n"
          ]
        }
      ],
      "source": [
        "print(current_datetime)"
      ]
    },
    {
      "cell_type": "code",
      "execution_count": null,
      "metadata": {
        "id": "jhllKKuthqEE",
        "outputId": "9ea39663-4e0b-4a42-e48a-81d21c22affd"
      },
      "outputs": [
        {
          "data": {
            "text/plain": [
              "'2022'"
            ]
          },
          "execution_count": 119,
          "metadata": {},
          "output_type": "execute_result"
        }
      ],
      "source": [
        "current_datetime.strftime(\"%Y\")"
      ]
    },
    {
      "cell_type": "code",
      "execution_count": null,
      "metadata": {
        "id": "7cI-otfchqEE",
        "outputId": "9e17105d-8412-4953-b96b-dd09f538109e"
      },
      "outputs": [
        {
          "name": "stdout",
          "output_type": "stream",
          "text": [
            "year: 2022\n",
            "month: 01\n",
            "day: 31\n",
            "time: 22-39-29\n",
            "date and time: 01/31/2022, 22:39:29\n"
          ]
        }
      ],
      "source": [
        "year = current_datetime.strftime(\"%Y\")\n",
        "print(\"year:\", year)\n",
        "\n",
        "month = current_datetime.strftime(\"%m\")\n",
        "print(\"month:\", month)\n",
        "\n",
        "day = current_datetime.strftime(\"%d\")\n",
        "print(\"day:\", day)\n",
        "\n",
        "time = current_datetime.strftime(\"%H-%M-%S\")\n",
        "print(\"time:\", time)\n",
        "\n",
        "date_time = current_datetime.strftime(\"%m/%d/%Y, %H:%M:%S\")\n",
        "print(\"date and time:\",date_time)"
      ]
    },
    {
      "cell_type": "markdown",
      "metadata": {
        "id": "uobJnMoMhqEE"
      },
      "source": [
        "### strptime()\n",
        "\n",
        "Converting from string type to datetime object"
      ]
    },
    {
      "cell_type": "code",
      "execution_count": null,
      "metadata": {
        "id": "LS-ihstAhqEF",
        "outputId": "97871d53-4c3b-495a-9852-8dcdda65f3d8"
      },
      "outputs": [
        {
          "data": {
            "text/plain": [
              "'21 June, 2018'"
            ]
          },
          "execution_count": 122,
          "metadata": {},
          "output_type": "execute_result"
        }
      ],
      "source": [
        "date_string = \"21 June, 2018\"\n",
        "date_string"
      ]
    },
    {
      "cell_type": "code",
      "execution_count": null,
      "metadata": {
        "id": "OuNYfVKThqEF",
        "outputId": "af21548c-d7bd-4b0c-b4a4-4702cd44dc32"
      },
      "outputs": [
        {
          "data": {
            "text/plain": [
              "datetime.datetime(2018, 6, 21, 0, 0)"
            ]
          },
          "execution_count": 124,
          "metadata": {},
          "output_type": "execute_result"
        }
      ],
      "source": [
        "datetime.strptime(date_string, \"%d %B, %Y\")"
      ]
    },
    {
      "cell_type": "code",
      "execution_count": null,
      "metadata": {
        "id": "W4Qa2sMwhqEF",
        "outputId": "d5db6384-74eb-46eb-eb05-865dbdde8934"
      },
      "outputs": [
        {
          "data": {
            "text/plain": [
              "Timestamp('2018-06-21 00:00:00')"
            ]
          },
          "execution_count": 125,
          "metadata": {},
          "output_type": "execute_result"
        }
      ],
      "source": [
        "pd.to_datetime(date_string)"
      ]
    },
    {
      "cell_type": "code",
      "execution_count": null,
      "metadata": {
        "id": "zQk0_2c6hqEF",
        "outputId": "6d4da829-56b3-4fc2-9535-a94e7fdde856"
      },
      "outputs": [
        {
          "data": {
            "text/plain": [
              "datetime.datetime(2018, 6, 21, 0, 0)"
            ]
          },
          "execution_count": 126,
          "metadata": {},
          "output_type": "execute_result"
        }
      ],
      "source": [
        "datetime_object = datetime.strptime(date_string, \"%d %B, %Y\")\n",
        "datetime_object"
      ]
    },
    {
      "cell_type": "code",
      "execution_count": null,
      "metadata": {
        "id": "UiQUxXqfhqEF",
        "outputId": "be67b950-6a90-4af4-9116-ecd4d29c9e03"
      },
      "outputs": [
        {
          "data": {
            "text/plain": [
              "2018"
            ]
          },
          "execution_count": 128,
          "metadata": {},
          "output_type": "execute_result"
        }
      ],
      "source": [
        "datetime_object.year"
      ]
    },
    {
      "cell_type": "markdown",
      "metadata": {
        "id": "xgWw0MIEhqEF"
      },
      "source": [
        "### Operation with datetime object"
      ]
    },
    {
      "cell_type": "markdown",
      "metadata": {
        "id": "W3Xcc914hqEG"
      },
      "source": [
        "**lets detect the time between first order date and entry date for each product**"
      ]
    },
    {
      "cell_type": "code",
      "execution_count": null,
      "metadata": {
        "id": "ccYadb8ZhqEG",
        "outputId": "68f5e0d5-7ef4-4829-b73b-4560bd6e9428"
      },
      "outputs": [
        {
          "data": {
            "text/html": [
              "<div>\n",
              "<style scoped>\n",
              "    .dataframe tbody tr th:only-of-type {\n",
              "        vertical-align: middle;\n",
              "    }\n",
              "\n",
              "    .dataframe tbody tr th {\n",
              "        vertical-align: top;\n",
              "    }\n",
              "\n",
              "    .dataframe thead th {\n",
              "        text-align: right;\n",
              "    }\n",
              "</style>\n",
              "<table border=\"1\" class=\"dataframe\">\n",
              "  <thead>\n",
              "    <tr style=\"text-align: right;\">\n",
              "      <th></th>\n",
              "      <th>id_product</th>\n",
              "      <th>order_date</th>\n",
              "      <th>product_quantity</th>\n",
              "      <th>product_price</th>\n",
              "      <th>entry_date</th>\n",
              "    </tr>\n",
              "  </thead>\n",
              "  <tbody>\n",
              "    <tr>\n",
              "      <th>0</th>\n",
              "      <td>401</td>\n",
              "      <td>2021-01-23</td>\n",
              "      <td>1.0</td>\n",
              "      <td>541.487603</td>\n",
              "      <td>2018-12-04</td>\n",
              "    </tr>\n",
              "    <tr>\n",
              "      <th>1</th>\n",
              "      <td>416</td>\n",
              "      <td>2020-04-02</td>\n",
              "      <td>1.0</td>\n",
              "      <td>131.181818</td>\n",
              "      <td>2018-12-04</td>\n",
              "    </tr>\n",
              "    <tr>\n",
              "      <th>2</th>\n",
              "      <td>717</td>\n",
              "      <td>2019-03-10</td>\n",
              "      <td>1.0</td>\n",
              "      <td>2035.488500</td>\n",
              "      <td>2018-12-04</td>\n",
              "    </tr>\n",
              "    <tr>\n",
              "      <th>3</th>\n",
              "      <td>778</td>\n",
              "      <td>2019-12-27</td>\n",
              "      <td>1.0</td>\n",
              "      <td>335.988000</td>\n",
              "      <td>2018-12-04</td>\n",
              "    </tr>\n",
              "    <tr>\n",
              "      <th>4</th>\n",
              "      <td>826</td>\n",
              "      <td>2020-02-19</td>\n",
              "      <td>1.0</td>\n",
              "      <td>342.292302</td>\n",
              "      <td>2018-12-04</td>\n",
              "    </tr>\n",
              "    <tr>\n",
              "      <th>...</th>\n",
              "      <td>...</td>\n",
              "      <td>...</td>\n",
              "      <td>...</td>\n",
              "      <td>...</td>\n",
              "      <td>...</td>\n",
              "    </tr>\n",
              "    <tr>\n",
              "      <th>906</th>\n",
              "      <td>1536842</td>\n",
              "      <td>2020-11-24</td>\n",
              "      <td>1.0</td>\n",
              "      <td>1186.776860</td>\n",
              "      <td>2020-10-07</td>\n",
              "    </tr>\n",
              "    <tr>\n",
              "      <th>907</th>\n",
              "      <td>1536842</td>\n",
              "      <td>2020-11-24</td>\n",
              "      <td>1.0</td>\n",
              "      <td>1186.776860</td>\n",
              "      <td>2020-10-07</td>\n",
              "    </tr>\n",
              "    <tr>\n",
              "      <th>908</th>\n",
              "      <td>1536887</td>\n",
              "      <td>2020-11-22</td>\n",
              "      <td>1.0</td>\n",
              "      <td>0.000000</td>\n",
              "      <td>2020-11-13</td>\n",
              "    </tr>\n",
              "    <tr>\n",
              "      <th>909</th>\n",
              "      <td>1536952</td>\n",
              "      <td>2021-01-26</td>\n",
              "      <td>1.0</td>\n",
              "      <td>988.429752</td>\n",
              "      <td>2020-11-24</td>\n",
              "    </tr>\n",
              "    <tr>\n",
              "      <th>910</th>\n",
              "      <td>1536974</td>\n",
              "      <td>2020-12-06</td>\n",
              "      <td>1.0</td>\n",
              "      <td>0.000000</td>\n",
              "      <td>2020-11-26</td>\n",
              "    </tr>\n",
              "  </tbody>\n",
              "</table>\n",
              "<p>911 rows × 5 columns</p>\n",
              "</div>"
            ],
            "text/plain": [
              "     id_product order_date  product_quantity  product_price entry_date\n",
              "0           401 2021-01-23               1.0     541.487603 2018-12-04\n",
              "1           416 2020-04-02               1.0     131.181818 2018-12-04\n",
              "2           717 2019-03-10               1.0    2035.488500 2018-12-04\n",
              "3           778 2019-12-27               1.0     335.988000 2018-12-04\n",
              "4           826 2020-02-19               1.0     342.292302 2018-12-04\n",
              "..          ...        ...               ...            ...        ...\n",
              "906     1536842 2020-11-24               1.0    1186.776860 2020-10-07\n",
              "907     1536842 2020-11-24               1.0    1186.776860 2020-10-07\n",
              "908     1536887 2020-11-22               1.0       0.000000 2020-11-13\n",
              "909     1536952 2021-01-26               1.0     988.429752 2020-11-24\n",
              "910     1536974 2020-12-06               1.0       0.000000 2020-11-26\n",
              "\n",
              "[911 rows x 5 columns]"
            ]
          },
          "execution_count": 129,
          "metadata": {},
          "output_type": "execute_result"
        }
      ],
      "source": [
        "df"
      ]
    },
    {
      "cell_type": "code",
      "execution_count": null,
      "metadata": {
        "id": "joIk1xPHhqEG",
        "outputId": "8b0982eb-1fc1-45ec-b3aa-8cdd1732c7db"
      },
      "outputs": [
        {
          "data": {
            "text/plain": [
              "0     781 days\n",
              "1     485 days\n",
              "2      96 days\n",
              "3     388 days\n",
              "4     442 days\n",
              "        ...   \n",
              "906    48 days\n",
              "907    48 days\n",
              "908     9 days\n",
              "909    63 days\n",
              "910    10 days\n",
              "Length: 911, dtype: timedelta64[ns]"
            ]
          },
          "execution_count": 130,
          "metadata": {},
          "output_type": "execute_result"
        }
      ],
      "source": [
        "df.order_date-df.entry_date"
      ]
    },
    {
      "cell_type": "code",
      "execution_count": null,
      "metadata": {
        "id": "dq3Ck8rShqEG"
      },
      "outputs": [],
      "source": [
        "df[\"passing_time_to_firstsale\"] = df[\"order_date\"] - df[\"entry_date\"]"
      ]
    },
    {
      "cell_type": "code",
      "execution_count": null,
      "metadata": {
        "id": "mwzza1YKhqEG",
        "outputId": "d3b09c16-7c49-4cbf-dfbc-52d76ededfb8"
      },
      "outputs": [
        {
          "data": {
            "text/plain": [
              "0      781\n",
              "1      485\n",
              "2       96\n",
              "3      388\n",
              "4      442\n",
              "      ... \n",
              "906     48\n",
              "907     48\n",
              "908      9\n",
              "909     63\n",
              "910     10\n",
              "Name: passing_time_to_firstsale, Length: 911, dtype: int32"
            ]
          },
          "execution_count": 132,
          "metadata": {},
          "output_type": "execute_result"
        }
      ],
      "source": [
        "df[\"passing_time_to_firstsale\"].astype(\"str\").str.split(\" \").str[0].astype(int)"
      ]
    },
    {
      "cell_type": "code",
      "execution_count": null,
      "metadata": {
        "id": "rV-y0we_hqEG"
      },
      "outputs": [],
      "source": [
        "df[\"passing_time_to_firstsale\"] = df[\"passing_time_to_firstsale\"].astype(\"str\").str.split(\" \").str[0].astype(int)"
      ]
    },
    {
      "cell_type": "code",
      "execution_count": null,
      "metadata": {
        "id": "VYQqXH2ChqEG",
        "outputId": "9c82609d-8592-4e2b-b4f1-b3320b7a6a93"
      },
      "outputs": [
        {
          "data": {
            "text/html": [
              "<div>\n",
              "<style scoped>\n",
              "    .dataframe tbody tr th:only-of-type {\n",
              "        vertical-align: middle;\n",
              "    }\n",
              "\n",
              "    .dataframe tbody tr th {\n",
              "        vertical-align: top;\n",
              "    }\n",
              "\n",
              "    .dataframe thead th {\n",
              "        text-align: right;\n",
              "    }\n",
              "</style>\n",
              "<table border=\"1\" class=\"dataframe\">\n",
              "  <thead>\n",
              "    <tr style=\"text-align: right;\">\n",
              "      <th></th>\n",
              "      <th>passing_time_to_firstsale</th>\n",
              "    </tr>\n",
              "    <tr>\n",
              "      <th>id_product</th>\n",
              "      <th></th>\n",
              "    </tr>\n",
              "  </thead>\n",
              "  <tbody>\n",
              "    <tr>\n",
              "      <th>401</th>\n",
              "      <td>781</td>\n",
              "    </tr>\n",
              "    <tr>\n",
              "      <th>416</th>\n",
              "      <td>485</td>\n",
              "    </tr>\n",
              "    <tr>\n",
              "      <th>717</th>\n",
              "      <td>96</td>\n",
              "    </tr>\n",
              "    <tr>\n",
              "      <th>778</th>\n",
              "      <td>388</td>\n",
              "    </tr>\n",
              "    <tr>\n",
              "      <th>826</th>\n",
              "      <td>442</td>\n",
              "    </tr>\n",
              "    <tr>\n",
              "      <th>...</th>\n",
              "      <td>...</td>\n",
              "    </tr>\n",
              "    <tr>\n",
              "      <th>1536841</th>\n",
              "      <td>38</td>\n",
              "    </tr>\n",
              "    <tr>\n",
              "      <th>1536842</th>\n",
              "      <td>48</td>\n",
              "    </tr>\n",
              "    <tr>\n",
              "      <th>1536887</th>\n",
              "      <td>9</td>\n",
              "    </tr>\n",
              "    <tr>\n",
              "      <th>1536952</th>\n",
              "      <td>63</td>\n",
              "    </tr>\n",
              "    <tr>\n",
              "      <th>1536974</th>\n",
              "      <td>10</td>\n",
              "    </tr>\n",
              "  </tbody>\n",
              "</table>\n",
              "<p>498 rows × 1 columns</p>\n",
              "</div>"
            ],
            "text/plain": [
              "            passing_time_to_firstsale\n",
              "id_product                           \n",
              "401                               781\n",
              "416                               485\n",
              "717                                96\n",
              "778                               388\n",
              "826                               442\n",
              "...                               ...\n",
              "1536841                            38\n",
              "1536842                            48\n",
              "1536887                             9\n",
              "1536952                            63\n",
              "1536974                            10\n",
              "\n",
              "[498 rows x 1 columns]"
            ]
          },
          "execution_count": 135,
          "metadata": {},
          "output_type": "execute_result"
        }
      ],
      "source": [
        "df.groupby(\"id_product\")[[\"passing_time_to_firstsale\"]].min()"
      ]
    },
    {
      "cell_type": "code",
      "execution_count": null,
      "metadata": {
        "id": "6Spn6oPBhqEH",
        "outputId": "38102e7f-4345-47c0-b81a-2cbabadbfb16"
      },
      "outputs": [
        {
          "data": {
            "text/plain": [
              "0      781\n",
              "1      485\n",
              "2       96\n",
              "3      388\n",
              "4      442\n",
              "      ... \n",
              "906     48\n",
              "907     48\n",
              "908      9\n",
              "909     63\n",
              "910     10\n",
              "Name: passing_time_to_firstsale, Length: 911, dtype: int32"
            ]
          },
          "execution_count": 136,
          "metadata": {},
          "output_type": "execute_result"
        }
      ],
      "source": [
        "df.groupby(\"id_product\")[\"passing_time_to_firstsale\"].transform(min)"
      ]
    },
    {
      "cell_type": "code",
      "execution_count": null,
      "metadata": {
        "scrolled": true,
        "id": "5X8JIHkXhqEH",
        "outputId": "7d5cb215-9bae-4728-ee55-2cdb7a69252c"
      },
      "outputs": [
        {
          "data": {
            "text/html": [
              "<div>\n",
              "<style scoped>\n",
              "    .dataframe tbody tr th:only-of-type {\n",
              "        vertical-align: middle;\n",
              "    }\n",
              "\n",
              "    .dataframe tbody tr th {\n",
              "        vertical-align: top;\n",
              "    }\n",
              "\n",
              "    .dataframe thead th {\n",
              "        text-align: right;\n",
              "    }\n",
              "</style>\n",
              "<table border=\"1\" class=\"dataframe\">\n",
              "  <thead>\n",
              "    <tr style=\"text-align: right;\">\n",
              "      <th></th>\n",
              "      <th>id_product</th>\n",
              "      <th>order_date</th>\n",
              "      <th>product_quantity</th>\n",
              "      <th>product_price</th>\n",
              "      <th>entry_date</th>\n",
              "      <th>passing_time_to_firstsale</th>\n",
              "    </tr>\n",
              "  </thead>\n",
              "  <tbody>\n",
              "    <tr>\n",
              "      <th>0</th>\n",
              "      <td>401</td>\n",
              "      <td>2021-01-23</td>\n",
              "      <td>1.0</td>\n",
              "      <td>541.487603</td>\n",
              "      <td>2018-12-04</td>\n",
              "      <td>781</td>\n",
              "    </tr>\n",
              "    <tr>\n",
              "      <th>1</th>\n",
              "      <td>416</td>\n",
              "      <td>2020-04-02</td>\n",
              "      <td>1.0</td>\n",
              "      <td>131.181818</td>\n",
              "      <td>2018-12-04</td>\n",
              "      <td>485</td>\n",
              "    </tr>\n",
              "    <tr>\n",
              "      <th>2</th>\n",
              "      <td>717</td>\n",
              "      <td>2019-03-10</td>\n",
              "      <td>1.0</td>\n",
              "      <td>2035.488500</td>\n",
              "      <td>2018-12-04</td>\n",
              "      <td>96</td>\n",
              "    </tr>\n",
              "    <tr>\n",
              "      <th>3</th>\n",
              "      <td>778</td>\n",
              "      <td>2019-12-27</td>\n",
              "      <td>1.0</td>\n",
              "      <td>335.988000</td>\n",
              "      <td>2018-12-04</td>\n",
              "      <td>388</td>\n",
              "    </tr>\n",
              "    <tr>\n",
              "      <th>4</th>\n",
              "      <td>826</td>\n",
              "      <td>2020-02-19</td>\n",
              "      <td>1.0</td>\n",
              "      <td>342.292302</td>\n",
              "      <td>2018-12-04</td>\n",
              "      <td>442</td>\n",
              "    </tr>\n",
              "    <tr>\n",
              "      <th>...</th>\n",
              "      <td>...</td>\n",
              "      <td>...</td>\n",
              "      <td>...</td>\n",
              "      <td>...</td>\n",
              "      <td>...</td>\n",
              "      <td>...</td>\n",
              "    </tr>\n",
              "    <tr>\n",
              "      <th>906</th>\n",
              "      <td>1536842</td>\n",
              "      <td>2020-11-24</td>\n",
              "      <td>1.0</td>\n",
              "      <td>1186.776860</td>\n",
              "      <td>2020-10-07</td>\n",
              "      <td>48</td>\n",
              "    </tr>\n",
              "    <tr>\n",
              "      <th>907</th>\n",
              "      <td>1536842</td>\n",
              "      <td>2020-11-24</td>\n",
              "      <td>1.0</td>\n",
              "      <td>1186.776860</td>\n",
              "      <td>2020-10-07</td>\n",
              "      <td>48</td>\n",
              "    </tr>\n",
              "    <tr>\n",
              "      <th>908</th>\n",
              "      <td>1536887</td>\n",
              "      <td>2020-11-22</td>\n",
              "      <td>1.0</td>\n",
              "      <td>0.000000</td>\n",
              "      <td>2020-11-13</td>\n",
              "      <td>9</td>\n",
              "    </tr>\n",
              "    <tr>\n",
              "      <th>909</th>\n",
              "      <td>1536952</td>\n",
              "      <td>2021-01-26</td>\n",
              "      <td>1.0</td>\n",
              "      <td>988.429752</td>\n",
              "      <td>2020-11-24</td>\n",
              "      <td>63</td>\n",
              "    </tr>\n",
              "    <tr>\n",
              "      <th>910</th>\n",
              "      <td>1536974</td>\n",
              "      <td>2020-12-06</td>\n",
              "      <td>1.0</td>\n",
              "      <td>0.000000</td>\n",
              "      <td>2020-11-26</td>\n",
              "      <td>10</td>\n",
              "    </tr>\n",
              "  </tbody>\n",
              "</table>\n",
              "<p>911 rows × 6 columns</p>\n",
              "</div>"
            ],
            "text/plain": [
              "     id_product order_date  product_quantity  product_price entry_date  \\\n",
              "0           401 2021-01-23               1.0     541.487603 2018-12-04   \n",
              "1           416 2020-04-02               1.0     131.181818 2018-12-04   \n",
              "2           717 2019-03-10               1.0    2035.488500 2018-12-04   \n",
              "3           778 2019-12-27               1.0     335.988000 2018-12-04   \n",
              "4           826 2020-02-19               1.0     342.292302 2018-12-04   \n",
              "..          ...        ...               ...            ...        ...   \n",
              "906     1536842 2020-11-24               1.0    1186.776860 2020-10-07   \n",
              "907     1536842 2020-11-24               1.0    1186.776860 2020-10-07   \n",
              "908     1536887 2020-11-22               1.0       0.000000 2020-11-13   \n",
              "909     1536952 2021-01-26               1.0     988.429752 2020-11-24   \n",
              "910     1536974 2020-12-06               1.0       0.000000 2020-11-26   \n",
              "\n",
              "     passing_time_to_firstsale  \n",
              "0                          781  \n",
              "1                          485  \n",
              "2                           96  \n",
              "3                          388  \n",
              "4                          442  \n",
              "..                         ...  \n",
              "906                         48  \n",
              "907                         48  \n",
              "908                          9  \n",
              "909                         63  \n",
              "910                         10  \n",
              "\n",
              "[911 rows x 6 columns]"
            ]
          },
          "execution_count": 137,
          "metadata": {},
          "output_type": "execute_result"
        }
      ],
      "source": [
        "df[\"passing_time_to_firstsale\"]=df.groupby(\"id_product\")[\"passing_time_to_firstsale\"].transform(min)\n",
        "df"
      ]
    },
    {
      "cell_type": "markdown",
      "metadata": {
        "id": "PAFGMxKDhqEH"
      },
      "source": [
        "**lets detect the time between last order date and today for each product**"
      ]
    },
    {
      "cell_type": "code",
      "execution_count": null,
      "metadata": {
        "id": "P_Wp_VekhqEH",
        "outputId": "d737fa83-872b-4b4c-8254-09b1805ec96a"
      },
      "outputs": [
        {
          "data": {
            "text/plain": [
              "id_product\n",
              "401       2021-01-23\n",
              "416       2020-04-02\n",
              "717       2019-03-10\n",
              "778       2019-12-27\n",
              "826       2020-02-19\n",
              "             ...    \n",
              "1536841   2020-11-22\n",
              "1536842   2020-11-24\n",
              "1536887   2020-11-22\n",
              "1536952   2021-01-26\n",
              "1536974   2020-12-06\n",
              "Name: order_date, Length: 498, dtype: datetime64[ns]"
            ]
          },
          "execution_count": 138,
          "metadata": {},
          "output_type": "execute_result"
        }
      ],
      "source": [
        "df.groupby(\"id_product\").order_date.max()"
      ]
    },
    {
      "cell_type": "code",
      "execution_count": null,
      "metadata": {
        "id": "MijSaPi9hqEH",
        "outputId": "25616f85-6288-45c3-d84a-43ad315a722f"
      },
      "outputs": [
        {
          "data": {
            "text/plain": [
              "0      2021-01-23\n",
              "1      2020-04-02\n",
              "2      2019-03-10\n",
              "3      2019-12-27\n",
              "4      2020-02-19\n",
              "          ...    \n",
              "906    2020-11-24\n",
              "907    2020-11-24\n",
              "908    2020-11-22\n",
              "909    2021-01-26\n",
              "910    2020-12-06\n",
              "Name: order_date, Length: 911, dtype: object"
            ]
          },
          "execution_count": 139,
          "metadata": {},
          "output_type": "execute_result"
        }
      ],
      "source": [
        "df.groupby(\"id_product\").order_date.transform(max).dt.date"
      ]
    },
    {
      "cell_type": "code",
      "execution_count": null,
      "metadata": {
        "id": "Rm3lpP_2hqEH"
      },
      "outputs": [],
      "source": [
        "last_order_date = df.groupby(\"id_product\").order_date.transform(max).dt.date"
      ]
    },
    {
      "cell_type": "code",
      "execution_count": null,
      "metadata": {
        "id": "oLn2-6EMhqEH",
        "outputId": "bf88e4d2-d455-4380-a57d-3ee71ced4d5d"
      },
      "outputs": [
        {
          "name": "stdout",
          "output_type": "stream",
          "text": [
            "2021-02-01\n"
          ]
        }
      ],
      "source": [
        "today = pd.to_datetime(\"01-02-2021\", format='%d-%m-%Y').date()\n",
        "print(today)"
      ]
    },
    {
      "cell_type": "code",
      "execution_count": null,
      "metadata": {
        "id": "L1GixE3-hqEI",
        "outputId": "b5b0dc1d-478a-4abb-d0b8-e9e55eb737a7"
      },
      "outputs": [
        {
          "data": {
            "text/plain": [
              "0       9 days\n",
              "1     305 days\n",
              "2     694 days\n",
              "3     402 days\n",
              "4     348 days\n",
              "        ...   \n",
              "906    69 days\n",
              "907    69 days\n",
              "908    71 days\n",
              "909     6 days\n",
              "910    57 days\n",
              "Name: order_date, Length: 911, dtype: timedelta64[ns]"
            ]
          },
          "execution_count": 142,
          "metadata": {},
          "output_type": "execute_result"
        }
      ],
      "source": [
        "today - last_order_date"
      ]
    },
    {
      "cell_type": "code",
      "execution_count": null,
      "metadata": {
        "id": "cYc8ZG4ghqEI"
      },
      "outputs": [],
      "source": [
        "df[\"passing_time_from_lastsale\"] = today - last_order_date"
      ]
    },
    {
      "cell_type": "code",
      "execution_count": null,
      "metadata": {
        "id": "NRvudXAHhqEI",
        "outputId": "82116933-9ae7-44d6-8cf7-b7a604a83bd4"
      },
      "outputs": [
        {
          "data": {
            "text/html": [
              "<div>\n",
              "<style scoped>\n",
              "    .dataframe tbody tr th:only-of-type {\n",
              "        vertical-align: middle;\n",
              "    }\n",
              "\n",
              "    .dataframe tbody tr th {\n",
              "        vertical-align: top;\n",
              "    }\n",
              "\n",
              "    .dataframe thead th {\n",
              "        text-align: right;\n",
              "    }\n",
              "</style>\n",
              "<table border=\"1\" class=\"dataframe\">\n",
              "  <thead>\n",
              "    <tr style=\"text-align: right;\">\n",
              "      <th></th>\n",
              "      <th>id_product</th>\n",
              "      <th>order_date</th>\n",
              "      <th>product_quantity</th>\n",
              "      <th>product_price</th>\n",
              "      <th>entry_date</th>\n",
              "      <th>passing_time_to_firstsale</th>\n",
              "      <th>passing_time_from_lastsale</th>\n",
              "    </tr>\n",
              "  </thead>\n",
              "  <tbody>\n",
              "    <tr>\n",
              "      <th>0</th>\n",
              "      <td>401</td>\n",
              "      <td>2021-01-23</td>\n",
              "      <td>1.0</td>\n",
              "      <td>541.487603</td>\n",
              "      <td>2018-12-04</td>\n",
              "      <td>781</td>\n",
              "      <td>9</td>\n",
              "    </tr>\n",
              "    <tr>\n",
              "      <th>1</th>\n",
              "      <td>416</td>\n",
              "      <td>2020-04-02</td>\n",
              "      <td>1.0</td>\n",
              "      <td>131.181818</td>\n",
              "      <td>2018-12-04</td>\n",
              "      <td>485</td>\n",
              "      <td>305</td>\n",
              "    </tr>\n",
              "    <tr>\n",
              "      <th>2</th>\n",
              "      <td>717</td>\n",
              "      <td>2019-03-10</td>\n",
              "      <td>1.0</td>\n",
              "      <td>2035.488500</td>\n",
              "      <td>2018-12-04</td>\n",
              "      <td>96</td>\n",
              "      <td>694</td>\n",
              "    </tr>\n",
              "    <tr>\n",
              "      <th>3</th>\n",
              "      <td>778</td>\n",
              "      <td>2019-12-27</td>\n",
              "      <td>1.0</td>\n",
              "      <td>335.988000</td>\n",
              "      <td>2018-12-04</td>\n",
              "      <td>388</td>\n",
              "      <td>402</td>\n",
              "    </tr>\n",
              "    <tr>\n",
              "      <th>4</th>\n",
              "      <td>826</td>\n",
              "      <td>2020-02-19</td>\n",
              "      <td>1.0</td>\n",
              "      <td>342.292302</td>\n",
              "      <td>2018-12-04</td>\n",
              "      <td>442</td>\n",
              "      <td>348</td>\n",
              "    </tr>\n",
              "    <tr>\n",
              "      <th>...</th>\n",
              "      <td>...</td>\n",
              "      <td>...</td>\n",
              "      <td>...</td>\n",
              "      <td>...</td>\n",
              "      <td>...</td>\n",
              "      <td>...</td>\n",
              "      <td>...</td>\n",
              "    </tr>\n",
              "    <tr>\n",
              "      <th>906</th>\n",
              "      <td>1536842</td>\n",
              "      <td>2020-11-24</td>\n",
              "      <td>1.0</td>\n",
              "      <td>1186.776860</td>\n",
              "      <td>2020-10-07</td>\n",
              "      <td>48</td>\n",
              "      <td>69</td>\n",
              "    </tr>\n",
              "    <tr>\n",
              "      <th>907</th>\n",
              "      <td>1536842</td>\n",
              "      <td>2020-11-24</td>\n",
              "      <td>1.0</td>\n",
              "      <td>1186.776860</td>\n",
              "      <td>2020-10-07</td>\n",
              "      <td>48</td>\n",
              "      <td>69</td>\n",
              "    </tr>\n",
              "    <tr>\n",
              "      <th>908</th>\n",
              "      <td>1536887</td>\n",
              "      <td>2020-11-22</td>\n",
              "      <td>1.0</td>\n",
              "      <td>0.000000</td>\n",
              "      <td>2020-11-13</td>\n",
              "      <td>9</td>\n",
              "      <td>71</td>\n",
              "    </tr>\n",
              "    <tr>\n",
              "      <th>909</th>\n",
              "      <td>1536952</td>\n",
              "      <td>2021-01-26</td>\n",
              "      <td>1.0</td>\n",
              "      <td>988.429752</td>\n",
              "      <td>2020-11-24</td>\n",
              "      <td>63</td>\n",
              "      <td>6</td>\n",
              "    </tr>\n",
              "    <tr>\n",
              "      <th>910</th>\n",
              "      <td>1536974</td>\n",
              "      <td>2020-12-06</td>\n",
              "      <td>1.0</td>\n",
              "      <td>0.000000</td>\n",
              "      <td>2020-11-26</td>\n",
              "      <td>10</td>\n",
              "      <td>57</td>\n",
              "    </tr>\n",
              "  </tbody>\n",
              "</table>\n",
              "<p>911 rows × 7 columns</p>\n",
              "</div>"
            ],
            "text/plain": [
              "     id_product order_date  product_quantity  product_price entry_date  \\\n",
              "0           401 2021-01-23               1.0     541.487603 2018-12-04   \n",
              "1           416 2020-04-02               1.0     131.181818 2018-12-04   \n",
              "2           717 2019-03-10               1.0    2035.488500 2018-12-04   \n",
              "3           778 2019-12-27               1.0     335.988000 2018-12-04   \n",
              "4           826 2020-02-19               1.0     342.292302 2018-12-04   \n",
              "..          ...        ...               ...            ...        ...   \n",
              "906     1536842 2020-11-24               1.0    1186.776860 2020-10-07   \n",
              "907     1536842 2020-11-24               1.0    1186.776860 2020-10-07   \n",
              "908     1536887 2020-11-22               1.0       0.000000 2020-11-13   \n",
              "909     1536952 2021-01-26               1.0     988.429752 2020-11-24   \n",
              "910     1536974 2020-12-06               1.0       0.000000 2020-11-26   \n",
              "\n",
              "     passing_time_to_firstsale  passing_time_from_lastsale  \n",
              "0                          781                           9  \n",
              "1                          485                         305  \n",
              "2                           96                         694  \n",
              "3                          388                         402  \n",
              "4                          442                         348  \n",
              "..                         ...                         ...  \n",
              "906                         48                          69  \n",
              "907                         48                          69  \n",
              "908                          9                          71  \n",
              "909                         63                           6  \n",
              "910                         10                          57  \n",
              "\n",
              "[911 rows x 7 columns]"
            ]
          },
          "execution_count": 144,
          "metadata": {},
          "output_type": "execute_result"
        }
      ],
      "source": [
        "df[\"passing_time_from_lastsale\"] = df[\"passing_time_from_lastsale\"].astype(\"str\").str.split(\" \").str[0].astype(int)\n",
        "df"
      ]
    },
    {
      "cell_type": "code",
      "execution_count": null,
      "metadata": {
        "id": "00LOEF7uhqEI"
      },
      "outputs": [],
      "source": [
        ""
      ]
    },
    {
      "cell_type": "code",
      "execution_count": null,
      "metadata": {
        "id": "WplEzLCVhqEI"
      },
      "outputs": [],
      "source": [
        ""
      ]
    },
    {
      "cell_type": "markdown",
      "metadata": {
        "id": "xehxV5r4hqEI"
      },
      "source": [
        "# End of The Session"
      ]
    },
    {
      "cell_type": "code",
      "execution_count": null,
      "metadata": {
        "id": "4E5Z8EFkhqEI"
      },
      "outputs": [],
      "source": [
        ""
      ]
    }
  ],
  "metadata": {
    "kernelspec": {
      "display_name": "Python 3",
      "language": "python",
      "name": "python3"
    },
    "language_info": {
      "codemirror_mode": {
        "name": "ipython",
        "version": 3
      },
      "file_extension": ".py",
      "mimetype": "text/x-python",
      "name": "python",
      "nbconvert_exporter": "python",
      "pygments_lexer": "ipython3",
      "version": "3.7.6"
    },
    "colab": {
      "name": "DAwPy-S10-Part-1 (Text-Time Methods)-empty (1).ipynb",
      "provenance": [],
      "collapsed_sections": [
        "AsfJC4gjhqD8",
        "aVQ6e8rwhqD8",
        "9iQl0GyqhqD-",
        "3ljpYDvEhqD-",
        "_vpFPYp8hqEA",
        "Kqp9H01EhqEB",
        "yBQdkYSwhqEB",
        "E2kDsDoHhqEC",
        "xqYXSM-xhqEE",
        "uobJnMoMhqEE",
        "xgWw0MIEhqEF",
        "xehxV5r4hqEI"
      ],
      "include_colab_link": true
    }
  },
  "nbformat": 4,
  "nbformat_minor": 0
}