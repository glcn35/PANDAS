{
  "cells": [
    {
      "cell_type": "markdown",
      "metadata": {
        "id": "view-in-github",
        "colab_type": "text"
      },
      "source": [
        "<a href=\"https://colab.research.google.com/github/glcn35/PANDAS/blob/main/Pandas_Task_Cohort_DS_10_22_EU.ipynb\" target=\"_parent\"><img src=\"https://colab.research.google.com/assets/colab-badge.svg\" alt=\"Open In Colab\"/></a>"
      ]
    },
    {
      "cell_type": "markdown",
      "id": "a5feda64",
      "metadata": {
        "id": "a5feda64"
      },
      "source": [
        "___\n",
        "\n",
        "<p style=\"text-align: center;\"><img src=\"https://docs.google.com/uc?id=1lY0Uj5R04yMY3-ZppPWxqCr5pvBLYPnV\" class=\"img-fluid\" \n",
        "alt=\"CLRSWY\"></p>\n",
        "\n",
        "## <p style=\"background-color:#FDFEFE; font-family:newtimeroman; color:#9d4f8c; font-size:100%; text-align:center; border-radius:10px 10px;\">WAY TO REINVENT YOURSELF</p>"
      ]
    },
    {
      "cell_type": "markdown",
      "id": "cf9f51e8",
      "metadata": {
        "id": "cf9f51e8"
      },
      "source": [
        "![image.png](https://i.ibb.co/6gCsHd6/1200px-Pandas-logo-svg.png)\n",
        "\n",
        "## <p style=\"background-color:#FDFEFE; font-family:newtimeroman; color:#9d4f8c; font-size:150%; text-align:center; border-radius:10px 10px;\">Groupby(), Map(), Apply(), Applymap() & Transform()</p>"
      ]
    },
    {
      "cell_type": "markdown",
      "id": "6d1be07f",
      "metadata": {
        "id": "6d1be07f"
      },
      "source": [
        "## <p style=\"background-color:#9d4f8c; font-family:newtimeroman; color:#FFF9ED; font-size:150%; text-align:center; border-radius:10px 10px;\">IMPORTING LIBRARIES NEEDED IN THIS NOTEBOOK</p>"
      ]
    },
    {
      "cell_type": "code",
      "execution_count": 1,
      "id": "7c302288",
      "metadata": {
        "id": "7c302288"
      },
      "outputs": [],
      "source": [
        "import numpy as np\n",
        "import seaborn as sns\n",
        "import pandas as pd\n",
        "import matplotlib.pyplot as plt\n",
        "%matplotlib inline\n",
        "import scipy\n",
        "\n",
        "import warnings\n",
        "warnings.filterwarnings('ignore') \n",
        "\n",
        "np.random.seed(42)"
      ]
    },
    {
      "cell_type": "code",
      "execution_count": 107,
      "id": "fee9465e",
      "metadata": {
        "colab": {
          "base_uri": "https://localhost:8080/",
          "height": 424
        },
        "id": "fee9465e",
        "outputId": "8e415633-8964-4672-e356-e5aeac425606"
      },
      "outputs": [
        {
          "output_type": "execute_result",
          "data": {
            "text/html": [
              "\n",
              "  <div id=\"df-c3c8c83f-79e4-4fd5-9b3c-f1b81b2b6b66\">\n",
              "    <div class=\"colab-df-container\">\n",
              "      <div>\n",
              "<style scoped>\n",
              "    .dataframe tbody tr th:only-of-type {\n",
              "        vertical-align: middle;\n",
              "    }\n",
              "\n",
              "    .dataframe tbody tr th {\n",
              "        vertical-align: top;\n",
              "    }\n",
              "\n",
              "    .dataframe thead th {\n",
              "        text-align: right;\n",
              "    }\n",
              "</style>\n",
              "<table border=\"1\" class=\"dataframe\">\n",
              "  <thead>\n",
              "    <tr style=\"text-align: right;\">\n",
              "      <th></th>\n",
              "      <th>Order ID</th>\n",
              "      <th>Product</th>\n",
              "      <th>Quantity Ordered</th>\n",
              "      <th>Price Each</th>\n",
              "      <th>Order Date</th>\n",
              "      <th>Purchase Address</th>\n",
              "    </tr>\n",
              "  </thead>\n",
              "  <tbody>\n",
              "    <tr>\n",
              "      <th>0</th>\n",
              "      <td>176558</td>\n",
              "      <td>USB-C Charging Cable</td>\n",
              "      <td>2</td>\n",
              "      <td>11.95</td>\n",
              "      <td>04/19/19 08:46</td>\n",
              "      <td>917 1st St, Dallas, TX 75001</td>\n",
              "    </tr>\n",
              "    <tr>\n",
              "      <th>1</th>\n",
              "      <td>NaN</td>\n",
              "      <td>NaN</td>\n",
              "      <td>NaN</td>\n",
              "      <td>NaN</td>\n",
              "      <td>NaN</td>\n",
              "      <td>NaN</td>\n",
              "    </tr>\n",
              "    <tr>\n",
              "      <th>2</th>\n",
              "      <td>176559</td>\n",
              "      <td>Bose SoundSport Headphones</td>\n",
              "      <td>1</td>\n",
              "      <td>99.99</td>\n",
              "      <td>04/07/19 22:30</td>\n",
              "      <td>682 Chestnut St, Boston, MA 02215</td>\n",
              "    </tr>\n",
              "    <tr>\n",
              "      <th>3</th>\n",
              "      <td>176560</td>\n",
              "      <td>Google Phone</td>\n",
              "      <td>1</td>\n",
              "      <td>600</td>\n",
              "      <td>04/12/19 14:38</td>\n",
              "      <td>669 Spruce St, Los Angeles, CA 90001</td>\n",
              "    </tr>\n",
              "    <tr>\n",
              "      <th>4</th>\n",
              "      <td>176560</td>\n",
              "      <td>Wired Headphones</td>\n",
              "      <td>1</td>\n",
              "      <td>11.99</td>\n",
              "      <td>04/12/19 14:38</td>\n",
              "      <td>669 Spruce St, Los Angeles, CA 90001</td>\n",
              "    </tr>\n",
              "    <tr>\n",
              "      <th>...</th>\n",
              "      <td>...</td>\n",
              "      <td>...</td>\n",
              "      <td>...</td>\n",
              "      <td>...</td>\n",
              "      <td>...</td>\n",
              "      <td>...</td>\n",
              "    </tr>\n",
              "    <tr>\n",
              "      <th>18378</th>\n",
              "      <td>194090</td>\n",
              "      <td>Google Phone</td>\n",
              "      <td>1</td>\n",
              "      <td>600</td>\n",
              "      <td>04/08/19 17:11</td>\n",
              "      <td>177 Jackson St, Los Angeles, CA 90001</td>\n",
              "    </tr>\n",
              "    <tr>\n",
              "      <th>18379</th>\n",
              "      <td>194091</td>\n",
              "      <td>AA Batteries (4-pack)</td>\n",
              "      <td>1</td>\n",
              "      <td>3.84</td>\n",
              "      <td>04/15/19 16:02</td>\n",
              "      <td>311 Forest St, Austin, TX 73301</td>\n",
              "    </tr>\n",
              "    <tr>\n",
              "      <th>18380</th>\n",
              "      <td>194092</td>\n",
              "      <td>AAA Batteries (4-pack)</td>\n",
              "      <td>2</td>\n",
              "      <td>2.99</td>\n",
              "      <td>04/28/19 14:36</td>\n",
              "      <td>347 Sunset St, San Francisco, CA 94016</td>\n",
              "    </tr>\n",
              "    <tr>\n",
              "      <th>18381</th>\n",
              "      <td>194093</td>\n",
              "      <td>AA Batteries (4-pack)</td>\n",
              "      <td>1</td>\n",
              "      <td>3.84</td>\n",
              "      <td>04/14/19 15:09</td>\n",
              "      <td>835 Lake St, Portland, OR 97035</td>\n",
              "    </tr>\n",
              "    <tr>\n",
              "      <th>18382</th>\n",
              "      <td>194094</td>\n",
              "      <td>Lightning Charging Cable</td>\n",
              "      <td>1</td>\n",
              "      <td>14.95</td>\n",
              "      <td>04/18/19 11:08</td>\n",
              "      <td>354 North St, Boston, MA 02215</td>\n",
              "    </tr>\n",
              "  </tbody>\n",
              "</table>\n",
              "<p>18383 rows × 6 columns</p>\n",
              "</div>\n",
              "      <button class=\"colab-df-convert\" onclick=\"convertToInteractive('df-c3c8c83f-79e4-4fd5-9b3c-f1b81b2b6b66')\"\n",
              "              title=\"Convert this dataframe to an interactive table.\"\n",
              "              style=\"display:none;\">\n",
              "        \n",
              "  <svg xmlns=\"http://www.w3.org/2000/svg\" height=\"24px\"viewBox=\"0 0 24 24\"\n",
              "       width=\"24px\">\n",
              "    <path d=\"M0 0h24v24H0V0z\" fill=\"none\"/>\n",
              "    <path d=\"M18.56 5.44l.94 2.06.94-2.06 2.06-.94-2.06-.94-.94-2.06-.94 2.06-2.06.94zm-11 1L8.5 8.5l.94-2.06 2.06-.94-2.06-.94L8.5 2.5l-.94 2.06-2.06.94zm10 10l.94 2.06.94-2.06 2.06-.94-2.06-.94-.94-2.06-.94 2.06-2.06.94z\"/><path d=\"M17.41 7.96l-1.37-1.37c-.4-.4-.92-.59-1.43-.59-.52 0-1.04.2-1.43.59L10.3 9.45l-7.72 7.72c-.78.78-.78 2.05 0 2.83L4 21.41c.39.39.9.59 1.41.59.51 0 1.02-.2 1.41-.59l7.78-7.78 2.81-2.81c.8-.78.8-2.07 0-2.86zM5.41 20L4 18.59l7.72-7.72 1.47 1.35L5.41 20z\"/>\n",
              "  </svg>\n",
              "      </button>\n",
              "      \n",
              "  <style>\n",
              "    .colab-df-container {\n",
              "      display:flex;\n",
              "      flex-wrap:wrap;\n",
              "      gap: 12px;\n",
              "    }\n",
              "\n",
              "    .colab-df-convert {\n",
              "      background-color: #E8F0FE;\n",
              "      border: none;\n",
              "      border-radius: 50%;\n",
              "      cursor: pointer;\n",
              "      display: none;\n",
              "      fill: #1967D2;\n",
              "      height: 32px;\n",
              "      padding: 0 0 0 0;\n",
              "      width: 32px;\n",
              "    }\n",
              "\n",
              "    .colab-df-convert:hover {\n",
              "      background-color: #E2EBFA;\n",
              "      box-shadow: 0px 1px 2px rgba(60, 64, 67, 0.3), 0px 1px 3px 1px rgba(60, 64, 67, 0.15);\n",
              "      fill: #174EA6;\n",
              "    }\n",
              "\n",
              "    [theme=dark] .colab-df-convert {\n",
              "      background-color: #3B4455;\n",
              "      fill: #D2E3FC;\n",
              "    }\n",
              "\n",
              "    [theme=dark] .colab-df-convert:hover {\n",
              "      background-color: #434B5C;\n",
              "      box-shadow: 0px 1px 3px 1px rgba(0, 0, 0, 0.15);\n",
              "      filter: drop-shadow(0px 1px 2px rgba(0, 0, 0, 0.3));\n",
              "      fill: #FFFFFF;\n",
              "    }\n",
              "  </style>\n",
              "\n",
              "      <script>\n",
              "        const buttonEl =\n",
              "          document.querySelector('#df-c3c8c83f-79e4-4fd5-9b3c-f1b81b2b6b66 button.colab-df-convert');\n",
              "        buttonEl.style.display =\n",
              "          google.colab.kernel.accessAllowed ? 'block' : 'none';\n",
              "\n",
              "        async function convertToInteractive(key) {\n",
              "          const element = document.querySelector('#df-c3c8c83f-79e4-4fd5-9b3c-f1b81b2b6b66');\n",
              "          const dataTable =\n",
              "            await google.colab.kernel.invokeFunction('convertToInteractive',\n",
              "                                                     [key], {});\n",
              "          if (!dataTable) return;\n",
              "\n",
              "          const docLinkHtml = 'Like what you see? Visit the ' +\n",
              "            '<a target=\"_blank\" href=https://colab.research.google.com/notebooks/data_table.ipynb>data table notebook</a>'\n",
              "            + ' to learn more about interactive tables.';\n",
              "          element.innerHTML = '';\n",
              "          dataTable['output_type'] = 'display_data';\n",
              "          await google.colab.output.renderOutput(dataTable, element);\n",
              "          const docLink = document.createElement('div');\n",
              "          docLink.innerHTML = docLinkHtml;\n",
              "          element.appendChild(docLink);\n",
              "        }\n",
              "      </script>\n",
              "    </div>\n",
              "  </div>\n",
              "  "
            ],
            "text/plain": [
              "      Order ID  ...                        Purchase Address\n",
              "0       176558  ...            917 1st St, Dallas, TX 75001\n",
              "1          NaN  ...                                     NaN\n",
              "2       176559  ...       682 Chestnut St, Boston, MA 02215\n",
              "3       176560  ...    669 Spruce St, Los Angeles, CA 90001\n",
              "4       176560  ...    669 Spruce St, Los Angeles, CA 90001\n",
              "...        ...  ...                                     ...\n",
              "18378   194090  ...   177 Jackson St, Los Angeles, CA 90001\n",
              "18379   194091  ...         311 Forest St, Austin, TX 73301\n",
              "18380   194092  ...  347 Sunset St, San Francisco, CA 94016\n",
              "18381   194093  ...         835 Lake St, Portland, OR 97035\n",
              "18382   194094  ...          354 North St, Boston, MA 02215\n",
              "\n",
              "[18383 rows x 6 columns]"
            ]
          },
          "metadata": {},
          "execution_count": 107
        }
      ],
      "source": [
        "df=pd.read_csv(\"/content/sample_data/Sales_April_2019.csv\")\n",
        "df"
      ]
    },
    {
      "cell_type": "code",
      "execution_count": 94,
      "id": "abf2449e",
      "metadata": {
        "colab": {
          "base_uri": "https://localhost:8080/"
        },
        "id": "abf2449e",
        "outputId": "76111f5c-ed8f-42d9-f760-6c15b7d130fb"
      },
      "outputs": [
        {
          "output_type": "execute_result",
          "data": {
            "text/plain": [
              "Index(['Order ID', 'Product', 'Quantity Ordered', 'Price Each', 'Order Date',\n",
              "       'Purchase Address'],\n",
              "      dtype='object')"
            ]
          },
          "metadata": {},
          "execution_count": 94
        }
      ],
      "source": [
        "df.columns"
      ]
    },
    {
      "cell_type": "code",
      "execution_count": 95,
      "id": "efbf74b6",
      "metadata": {
        "colab": {
          "base_uri": "https://localhost:8080/"
        },
        "id": "efbf74b6",
        "outputId": "8f2ab929-7dd7-460f-ecc0-73d28bc09ff5"
      },
      "outputs": [
        {
          "output_type": "stream",
          "name": "stdout",
          "text": [
            "<class 'pandas.core.frame.DataFrame'>\n",
            "RangeIndex: 18383 entries, 0 to 18382\n",
            "Data columns (total 6 columns):\n",
            " #   Column            Non-Null Count  Dtype \n",
            "---  ------            --------------  ----- \n",
            " 0   Order ID          18324 non-null  object\n",
            " 1   Product           18324 non-null  object\n",
            " 2   Quantity Ordered  18324 non-null  object\n",
            " 3   Price Each        18324 non-null  object\n",
            " 4   Order Date        18324 non-null  object\n",
            " 5   Purchase Address  18324 non-null  object\n",
            "dtypes: object(6)\n",
            "memory usage: 861.8+ KB\n"
          ]
        }
      ],
      "source": [
        "df.info()"
      ]
    },
    {
      "cell_type": "code",
      "source": [
        "df[df.duplicated()]"
      ],
      "metadata": {
        "colab": {
          "base_uri": "https://localhost:8080/",
          "height": 424
        },
        "id": "Rcrg8uMdMJ9N",
        "outputId": "b8d5f02e-91d1-4d25-f4a9-dea10ded2724"
      },
      "id": "Rcrg8uMdMJ9N",
      "execution_count": 96,
      "outputs": [
        {
          "output_type": "execute_result",
          "data": {
            "text/html": [
              "\n",
              "  <div id=\"df-f70fdd7e-ed2b-4c66-b326-e7262231734c\">\n",
              "    <div class=\"colab-df-container\">\n",
              "      <div>\n",
              "<style scoped>\n",
              "    .dataframe tbody tr th:only-of-type {\n",
              "        vertical-align: middle;\n",
              "    }\n",
              "\n",
              "    .dataframe tbody tr th {\n",
              "        vertical-align: top;\n",
              "    }\n",
              "\n",
              "    .dataframe thead th {\n",
              "        text-align: right;\n",
              "    }\n",
              "</style>\n",
              "<table border=\"1\" class=\"dataframe\">\n",
              "  <thead>\n",
              "    <tr style=\"text-align: right;\">\n",
              "      <th></th>\n",
              "      <th>Order ID</th>\n",
              "      <th>Product</th>\n",
              "      <th>Quantity Ordered</th>\n",
              "      <th>Price Each</th>\n",
              "      <th>Order Date</th>\n",
              "      <th>Purchase Address</th>\n",
              "    </tr>\n",
              "  </thead>\n",
              "  <tbody>\n",
              "    <tr>\n",
              "      <th>31</th>\n",
              "      <td>176585</td>\n",
              "      <td>Bose SoundSport Headphones</td>\n",
              "      <td>1</td>\n",
              "      <td>99.99</td>\n",
              "      <td>04/07/19 11:31</td>\n",
              "      <td>823 Highland St, Boston, MA 02215</td>\n",
              "    </tr>\n",
              "    <tr>\n",
              "      <th>356</th>\n",
              "      <td>NaN</td>\n",
              "      <td>NaN</td>\n",
              "      <td>NaN</td>\n",
              "      <td>NaN</td>\n",
              "      <td>NaN</td>\n",
              "      <td>NaN</td>\n",
              "    </tr>\n",
              "    <tr>\n",
              "      <th>735</th>\n",
              "      <td>NaN</td>\n",
              "      <td>NaN</td>\n",
              "      <td>NaN</td>\n",
              "      <td>NaN</td>\n",
              "      <td>NaN</td>\n",
              "      <td>NaN</td>\n",
              "    </tr>\n",
              "    <tr>\n",
              "      <th>1149</th>\n",
              "      <td>Order ID</td>\n",
              "      <td>Product</td>\n",
              "      <td>Quantity Ordered</td>\n",
              "      <td>Price Each</td>\n",
              "      <td>Order Date</td>\n",
              "      <td>Purchase Address</td>\n",
              "    </tr>\n",
              "    <tr>\n",
              "      <th>1155</th>\n",
              "      <td>Order ID</td>\n",
              "      <td>Product</td>\n",
              "      <td>Quantity Ordered</td>\n",
              "      <td>Price Each</td>\n",
              "      <td>Order Date</td>\n",
              "      <td>Purchase Address</td>\n",
              "    </tr>\n",
              "    <tr>\n",
              "      <th>...</th>\n",
              "      <td>...</td>\n",
              "      <td>...</td>\n",
              "      <td>...</td>\n",
              "      <td>...</td>\n",
              "      <td>...</td>\n",
              "      <td>...</td>\n",
              "    </tr>\n",
              "    <tr>\n",
              "      <th>17339</th>\n",
              "      <td>Order ID</td>\n",
              "      <td>Product</td>\n",
              "      <td>Quantity Ordered</td>\n",
              "      <td>Price Each</td>\n",
              "      <td>Order Date</td>\n",
              "      <td>Purchase Address</td>\n",
              "    </tr>\n",
              "    <tr>\n",
              "      <th>17446</th>\n",
              "      <td>NaN</td>\n",
              "      <td>NaN</td>\n",
              "      <td>NaN</td>\n",
              "      <td>NaN</td>\n",
              "      <td>NaN</td>\n",
              "      <td>NaN</td>\n",
              "    </tr>\n",
              "    <tr>\n",
              "      <th>17718</th>\n",
              "      <td>NaN</td>\n",
              "      <td>NaN</td>\n",
              "      <td>NaN</td>\n",
              "      <td>NaN</td>\n",
              "      <td>NaN</td>\n",
              "      <td>NaN</td>\n",
              "    </tr>\n",
              "    <tr>\n",
              "      <th>17744</th>\n",
              "      <td>Order ID</td>\n",
              "      <td>Product</td>\n",
              "      <td>Quantity Ordered</td>\n",
              "      <td>Price Each</td>\n",
              "      <td>Order Date</td>\n",
              "      <td>Purchase Address</td>\n",
              "    </tr>\n",
              "    <tr>\n",
              "      <th>18194</th>\n",
              "      <td>193916</td>\n",
              "      <td>20in Monitor</td>\n",
              "      <td>1</td>\n",
              "      <td>109.99</td>\n",
              "      <td>04/18/19 12:59</td>\n",
              "      <td>653 Cherry St, Dallas, TX 75001</td>\n",
              "    </tr>\n",
              "  </tbody>\n",
              "</table>\n",
              "<p>114 rows × 6 columns</p>\n",
              "</div>\n",
              "      <button class=\"colab-df-convert\" onclick=\"convertToInteractive('df-f70fdd7e-ed2b-4c66-b326-e7262231734c')\"\n",
              "              title=\"Convert this dataframe to an interactive table.\"\n",
              "              style=\"display:none;\">\n",
              "        \n",
              "  <svg xmlns=\"http://www.w3.org/2000/svg\" height=\"24px\"viewBox=\"0 0 24 24\"\n",
              "       width=\"24px\">\n",
              "    <path d=\"M0 0h24v24H0V0z\" fill=\"none\"/>\n",
              "    <path d=\"M18.56 5.44l.94 2.06.94-2.06 2.06-.94-2.06-.94-.94-2.06-.94 2.06-2.06.94zm-11 1L8.5 8.5l.94-2.06 2.06-.94-2.06-.94L8.5 2.5l-.94 2.06-2.06.94zm10 10l.94 2.06.94-2.06 2.06-.94-2.06-.94-.94-2.06-.94 2.06-2.06.94z\"/><path d=\"M17.41 7.96l-1.37-1.37c-.4-.4-.92-.59-1.43-.59-.52 0-1.04.2-1.43.59L10.3 9.45l-7.72 7.72c-.78.78-.78 2.05 0 2.83L4 21.41c.39.39.9.59 1.41.59.51 0 1.02-.2 1.41-.59l7.78-7.78 2.81-2.81c.8-.78.8-2.07 0-2.86zM5.41 20L4 18.59l7.72-7.72 1.47 1.35L5.41 20z\"/>\n",
              "  </svg>\n",
              "      </button>\n",
              "      \n",
              "  <style>\n",
              "    .colab-df-container {\n",
              "      display:flex;\n",
              "      flex-wrap:wrap;\n",
              "      gap: 12px;\n",
              "    }\n",
              "\n",
              "    .colab-df-convert {\n",
              "      background-color: #E8F0FE;\n",
              "      border: none;\n",
              "      border-radius: 50%;\n",
              "      cursor: pointer;\n",
              "      display: none;\n",
              "      fill: #1967D2;\n",
              "      height: 32px;\n",
              "      padding: 0 0 0 0;\n",
              "      width: 32px;\n",
              "    }\n",
              "\n",
              "    .colab-df-convert:hover {\n",
              "      background-color: #E2EBFA;\n",
              "      box-shadow: 0px 1px 2px rgba(60, 64, 67, 0.3), 0px 1px 3px 1px rgba(60, 64, 67, 0.15);\n",
              "      fill: #174EA6;\n",
              "    }\n",
              "\n",
              "    [theme=dark] .colab-df-convert {\n",
              "      background-color: #3B4455;\n",
              "      fill: #D2E3FC;\n",
              "    }\n",
              "\n",
              "    [theme=dark] .colab-df-convert:hover {\n",
              "      background-color: #434B5C;\n",
              "      box-shadow: 0px 1px 3px 1px rgba(0, 0, 0, 0.15);\n",
              "      filter: drop-shadow(0px 1px 2px rgba(0, 0, 0, 0.3));\n",
              "      fill: #FFFFFF;\n",
              "    }\n",
              "  </style>\n",
              "\n",
              "      <script>\n",
              "        const buttonEl =\n",
              "          document.querySelector('#df-f70fdd7e-ed2b-4c66-b326-e7262231734c button.colab-df-convert');\n",
              "        buttonEl.style.display =\n",
              "          google.colab.kernel.accessAllowed ? 'block' : 'none';\n",
              "\n",
              "        async function convertToInteractive(key) {\n",
              "          const element = document.querySelector('#df-f70fdd7e-ed2b-4c66-b326-e7262231734c');\n",
              "          const dataTable =\n",
              "            await google.colab.kernel.invokeFunction('convertToInteractive',\n",
              "                                                     [key], {});\n",
              "          if (!dataTable) return;\n",
              "\n",
              "          const docLinkHtml = 'Like what you see? Visit the ' +\n",
              "            '<a target=\"_blank\" href=https://colab.research.google.com/notebooks/data_table.ipynb>data table notebook</a>'\n",
              "            + ' to learn more about interactive tables.';\n",
              "          element.innerHTML = '';\n",
              "          dataTable['output_type'] = 'display_data';\n",
              "          await google.colab.output.renderOutput(dataTable, element);\n",
              "          const docLink = document.createElement('div');\n",
              "          docLink.innerHTML = docLinkHtml;\n",
              "          element.appendChild(docLink);\n",
              "        }\n",
              "      </script>\n",
              "    </div>\n",
              "  </div>\n",
              "  "
            ],
            "text/plain": [
              "       Order ID  ...                   Purchase Address\n",
              "31       176585  ...  823 Highland St, Boston, MA 02215\n",
              "356         NaN  ...                                NaN\n",
              "735         NaN  ...                                NaN\n",
              "1149   Order ID  ...                   Purchase Address\n",
              "1155   Order ID  ...                   Purchase Address\n",
              "...         ...  ...                                ...\n",
              "17339  Order ID  ...                   Purchase Address\n",
              "17446       NaN  ...                                NaN\n",
              "17718       NaN  ...                                NaN\n",
              "17744  Order ID  ...                   Purchase Address\n",
              "18194    193916  ...    653 Cherry St, Dallas, TX 75001\n",
              "\n",
              "[114 rows x 6 columns]"
            ]
          },
          "metadata": {},
          "execution_count": 96
        }
      ]
    },
    {
      "cell_type": "code",
      "execution_count": 97,
      "id": "188e5b72",
      "metadata": {
        "colab": {
          "base_uri": "https://localhost:8080/"
        },
        "id": "188e5b72",
        "outputId": "85f88251-64d1-4b32-de76-c2907c2164b7"
      },
      "outputs": [
        {
          "output_type": "execute_result",
          "data": {
            "text/plain": [
              "Order ID            59\n",
              "Product             59\n",
              "Quantity Ordered    59\n",
              "Price Each          59\n",
              "Order Date          59\n",
              "Purchase Address    59\n",
              "dtype: int64"
            ]
          },
          "metadata": {},
          "execution_count": 97
        }
      ],
      "source": [
        "df.isnull().sum()"
      ]
    },
    {
      "cell_type": "code",
      "source": [
        "df[\"Product\"].unique()"
      ],
      "metadata": {
        "colab": {
          "base_uri": "https://localhost:8080/"
        },
        "id": "Pr1uiXh1CtLt",
        "outputId": "c5d72cc8-31b2-4b61-dde7-892a447799a8"
      },
      "id": "Pr1uiXh1CtLt",
      "execution_count": 98,
      "outputs": [
        {
          "output_type": "execute_result",
          "data": {
            "text/plain": [
              "array(['USB-C Charging Cable', nan, 'Bose SoundSport Headphones',\n",
              "       'Google Phone', 'Wired Headphones', 'Macbook Pro Laptop',\n",
              "       'Lightning Charging Cable', '27in 4K Gaming Monitor',\n",
              "       'AA Batteries (4-pack)', 'Apple Airpods Headphones',\n",
              "       'AAA Batteries (4-pack)', 'iPhone', 'Flatscreen TV',\n",
              "       '27in FHD Monitor', '20in Monitor', 'LG Dryer', 'ThinkPad Laptop',\n",
              "       'Vareebadd Phone', 'LG Washing Machine', '34in Ultrawide Monitor',\n",
              "       'Product'], dtype=object)"
            ]
          },
          "metadata": {},
          "execution_count": 98
        }
      ]
    },
    {
      "cell_type": "markdown",
      "id": "36a1973e",
      "metadata": {
        "id": "36a1973e"
      },
      "source": [
        "### <p style=\"background-color:#9d4f8c; font-family:newtimeroman; color:#FFF9ED; font-size:150%; text-align:center; border-radius:10px 10px;\">THE APPLICATION OF GROUPBY(), TRANSFORM() & APPLY() METHODS WITH GROUPBY() TO REAL WORLD DATASET</p>"
      ]
    },
    {
      "cell_type": "code",
      "execution_count": null,
      "id": "df3be983",
      "metadata": {
        "id": "df3be983"
      },
      "outputs": [],
      "source": [
        ""
      ]
    },
    {
      "cell_type": "code",
      "execution_count": null,
      "id": "4ef1ea3d",
      "metadata": {
        "id": "4ef1ea3d"
      },
      "outputs": [],
      "source": [
        ""
      ]
    },
    {
      "cell_type": "code",
      "execution_count": null,
      "id": "ef463c38",
      "metadata": {
        "id": "ef463c38"
      },
      "outputs": [],
      "source": [
        ""
      ]
    },
    {
      "cell_type": "markdown",
      "id": "9cde9bd9",
      "metadata": {
        "id": "9cde9bd9"
      },
      "source": [
        "### **``Question:``** Which is the highest sold product and its number?\n",
        "\n",
        "En çok satılan ürün ve sayısı nedir?"
      ]
    },
    {
      "cell_type": "code",
      "source": [
        "df[\"Product\"].value_counts(dropna=False)"
      ],
      "metadata": {
        "colab": {
          "base_uri": "https://localhost:8080/"
        },
        "id": "hgzOavIGEUuf",
        "outputId": "d4f14eaf-c98c-4e32-8a34-6f1725a248dd"
      },
      "id": "hgzOavIGEUuf",
      "execution_count": 99,
      "outputs": [
        {
          "output_type": "execute_result",
          "data": {
            "text/plain": [
              "Lightning Charging Cable      2201\n",
              "USB-C Charging Cable          2079\n",
              "AA Batteries (4-pack)         2063\n",
              "AAA Batteries (4-pack)        1989\n",
              "Wired Headphones              1890\n",
              "Apple Airpods Headphones      1515\n",
              "Bose SoundSport Headphones    1280\n",
              "27in FHD Monitor               734\n",
              "iPhone                         693\n",
              "34in Ultrawide Monitor         650\n",
              "Google Phone                   581\n",
              "27in 4K Gaming Monitor         563\n",
              "Flatscreen TV                  458\n",
              "Macbook Pro Laptop             453\n",
              "ThinkPad Laptop                392\n",
              "20in Monitor                   390\n",
              "Vareebadd Phone                220\n",
              "LG Dryer                        77\n",
              "LG Washing Machine              61\n",
              "NaN                             59\n",
              "Product                         35\n",
              "Name: Product, dtype: int64"
            ]
          },
          "metadata": {},
          "execution_count": 99
        }
      ]
    },
    {
      "cell_type": "code",
      "execution_count": 16,
      "metadata": {
        "colab": {
          "base_uri": "https://localhost:8080/"
        },
        "id": "32b51e50",
        "outputId": "6e00dd07-b6f9-48c2-daa7-a633c22a1f77"
      },
      "outputs": [
        {
          "output_type": "execute_result",
          "data": {
            "text/plain": [
              "Lightning Charging Cable    2201\n",
              "Name: Product, dtype: int64"
            ]
          },
          "metadata": {},
          "execution_count": 16
        }
      ],
      "source": [
        "df[\"Product\"].value_counts(dropna=False).head(1)"
      ],
      "id": "32b51e50"
    },
    {
      "cell_type": "markdown",
      "id": "1e5ece3b",
      "metadata": {
        "id": "1e5ece3b"
      },
      "source": [
        "### **``Question:``** Find the ``Total Number of Each Product Sold``\n",
        "Satılan Her Ürünün Toplam Sayısını Bulun"
      ]
    },
    {
      "cell_type": "code",
      "execution_count": 105,
      "id": "b383bfc7",
      "metadata": {
        "colab": {
          "base_uri": "https://localhost:8080/"
        },
        "id": "b383bfc7",
        "outputId": "edb70dd7-f225-493d-9ef0-8f6223723866"
      },
      "outputs": [
        {
          "output_type": "execute_result",
          "data": {
            "text/plain": [
              "Product\n",
              "20in Monitor                  1111121111111111111111111111111111111111111111...\n",
              "27in 4K Gaming Monitor        1111111111111111111111111111111111111111111111...\n",
              "27in FHD Monitor              1111111111111111111111111111111111111111111111...\n",
              "34in Ultrawide Monitor        1111111111111111111111111111111111111111111111...\n",
              "AA Batteries (4-pack)         1111111111211212121111112111122213111111111112...\n",
              "AAA Batteries (4-pack)        1222212113212312112121111113112131111112112111...\n",
              "Apple Airpods Headphones      1111111111111111111111111111111111111111111112...\n",
              "Bose SoundSport Headphones    1111111111111111111211111111111111111111111111...\n",
              "Flatscreen TV                 1111111111111111111111111111111111111111111111...\n",
              "Google Phone                  1111111111111111111111111111111111111111111111...\n",
              "LG Dryer                      1111111111111111111111111111111111111111111111...\n",
              "LG Washing Machine            1111111111111111111111111111111111111111111111...\n",
              "Lightning Charging Cable      1112111212111112111111111111111111111111111111...\n",
              "Macbook Pro Laptop            1111111111111111111111111111111111111111111111...\n",
              "Product                                                                      35\n",
              "ThinkPad Laptop               1111111111111111111111111111111111111111111111...\n",
              "USB-C Charging Cable          2111111111112111111111111111111111211121121111...\n",
              "Vareebadd Phone               1111111111111111111111111111111111111111111111...\n",
              "Wired Headphones              1111312111111111111111111111111111112111111111...\n",
              "iPhone                        1111111111111111111111111111111111111111111111...\n",
              "Name: Quantity Ordered, dtype: object"
            ]
          },
          "metadata": {},
          "execution_count": 105
        }
      ],
      "source": [
        "df.groupby(\"Product\")[\"Quantity Ordered\"].sum()"
      ]
    },
    {
      "cell_type": "code",
      "execution_count": 108,
      "id": "ce4d9210",
      "metadata": {
        "colab": {
          "base_uri": "https://localhost:8080/"
        },
        "id": "ce4d9210",
        "outputId": "8179b7fa-2c64-4cb1-8fb3-63dd898ca02b"
      },
      "outputs": [
        {
          "output_type": "execute_result",
          "data": {
            "text/plain": [
              "array(['2', nan, '1', '3', '5', 'Quantity Ordered', '4', '7', '6'],\n",
              "      dtype=object)"
            ]
          },
          "metadata": {},
          "execution_count": 108
        }
      ],
      "source": [
        "df[\"Quantity Ordered\"].unique()"
      ]
    },
    {
      "cell_type": "code",
      "execution_count": 109,
      "id": "2fa5abb0",
      "metadata": {
        "id": "2fa5abb0"
      },
      "outputs": [],
      "source": [
        "df[\"Quantity Ordered\"].replace(to_replace=\"Quantity Ordered\",value=1,inplace=True)"
      ]
    },
    {
      "cell_type": "code",
      "execution_count": 110,
      "metadata": {
        "id": "iRmggnxCJpiG"
      },
      "outputs": [],
      "source": [
        "df[\"Quantity Ordered\"].fillna(1,inplace=True)"
      ],
      "id": "iRmggnxCJpiG"
    },
    {
      "cell_type": "code",
      "source": [
        "df[\"Quantity Ordered\"].unique()"
      ],
      "metadata": {
        "colab": {
          "base_uri": "https://localhost:8080/"
        },
        "id": "mvDicU2aFS09",
        "outputId": "5b0c0520-40ac-40ff-8268-9b07898f2c68"
      },
      "id": "mvDicU2aFS09",
      "execution_count": 111,
      "outputs": [
        {
          "output_type": "execute_result",
          "data": {
            "text/plain": [
              "array(['2', 1, '1', '3', '5', '4', '7', '6'], dtype=object)"
            ]
          },
          "metadata": {},
          "execution_count": 111
        }
      ]
    },
    {
      "cell_type": "code",
      "source": [
        "df[\"Quantity Ordered\"].astype(\"int64\")"
      ],
      "metadata": {
        "colab": {
          "base_uri": "https://localhost:8080/"
        },
        "id": "8fTPd5kmKa4r",
        "outputId": "fc1efb11-3ebc-4519-eea2-5a9942f218d5"
      },
      "id": "8fTPd5kmKa4r",
      "execution_count": 112,
      "outputs": [
        {
          "output_type": "execute_result",
          "data": {
            "text/plain": [
              "0        2\n",
              "1        1\n",
              "2        1\n",
              "3        1\n",
              "4        1\n",
              "        ..\n",
              "18378    1\n",
              "18379    1\n",
              "18380    2\n",
              "18381    1\n",
              "18382    1\n",
              "Name: Quantity Ordered, Length: 18383, dtype: int64"
            ]
          },
          "metadata": {},
          "execution_count": 112
        }
      ]
    },
    {
      "cell_type": "code",
      "source": [
        "df = df.astype({\"Quantity Ordered\":'int64'})"
      ],
      "metadata": {
        "id": "mYjriwebLkb1"
      },
      "id": "mYjriwebLkb1",
      "execution_count": 113,
      "outputs": []
    },
    {
      "cell_type": "code",
      "source": [
        "df.info()"
      ],
      "metadata": {
        "colab": {
          "base_uri": "https://localhost:8080/"
        },
        "id": "rPiZ_Sy-LrR6",
        "outputId": "36665d42-0f20-4ef1-c0aa-fdc5e1519c86"
      },
      "id": "rPiZ_Sy-LrR6",
      "execution_count": 114,
      "outputs": [
        {
          "output_type": "stream",
          "name": "stdout",
          "text": [
            "<class 'pandas.core.frame.DataFrame'>\n",
            "RangeIndex: 18383 entries, 0 to 18382\n",
            "Data columns (total 6 columns):\n",
            " #   Column            Non-Null Count  Dtype \n",
            "---  ------            --------------  ----- \n",
            " 0   Order ID          18324 non-null  object\n",
            " 1   Product           18324 non-null  object\n",
            " 2   Quantity Ordered  18383 non-null  int64 \n",
            " 3   Price Each        18324 non-null  object\n",
            " 4   Order Date        18324 non-null  object\n",
            " 5   Purchase Address  18324 non-null  object\n",
            "dtypes: int64(1), object(5)\n",
            "memory usage: 861.8+ KB\n"
          ]
        }
      ]
    },
    {
      "cell_type": "code",
      "source": [
        "df.groupby(\"Product\")[\"Quantity Ordered\"].sum().sort_values(ascending=False)"
      ],
      "metadata": {
        "colab": {
          "base_uri": "https://localhost:8080/"
        },
        "id": "rSTUb54SKf4c",
        "outputId": "72e76bf2-b85d-43ac-aaba-a81f8025f851"
      },
      "id": "rSTUb54SKf4c",
      "execution_count": 115,
      "outputs": [
        {
          "output_type": "execute_result",
          "data": {
            "text/plain": [
              "Product\n",
              "AAA Batteries (4-pack)        2936\n",
              "AA Batteries (4-pack)         2822\n",
              "Lightning Charging Cable      2371\n",
              "USB-C Charging Cable          2270\n",
              "Wired Headphones              2066\n",
              "Apple Airpods Headphones      1525\n",
              "Bose SoundSport Headphones    1288\n",
              "27in FHD Monitor               737\n",
              "iPhone                         695\n",
              "34in Ultrawide Monitor         653\n",
              "Google Phone                   581\n",
              "27in 4K Gaming Monitor         565\n",
              "Flatscreen TV                  459\n",
              "Macbook Pro Laptop             455\n",
              "20in Monitor                   395\n",
              "ThinkPad Laptop                392\n",
              "Vareebadd Phone                220\n",
              "LG Dryer                        77\n",
              "LG Washing Machine              61\n",
              "Product                         35\n",
              "Name: Quantity Ordered, dtype: int64"
            ]
          },
          "metadata": {},
          "execution_count": 115
        }
      ]
    },
    {
      "cell_type": "markdown",
      "id": "3e6117ab",
      "metadata": {
        "id": "3e6117ab"
      },
      "source": [
        "### **``Question:``** Find the ``Total Revenue of Each Product Sold``  \n",
        "Satılan Her Ürünün Toplam Gelirini Bulun"
      ]
    },
    {
      "cell_type": "code",
      "execution_count": 116,
      "id": "9a2c3e60",
      "metadata": {
        "colab": {
          "base_uri": "https://localhost:8080/"
        },
        "id": "9a2c3e60",
        "outputId": "b05c0057-93d2-4007-c2b6-1e0f713bb4bc"
      },
      "outputs": [
        {
          "output_type": "execute_result",
          "data": {
            "text/plain": [
              "0        11.9511.95\n",
              "1               NaN\n",
              "2             99.99\n",
              "3               600\n",
              "4             11.99\n",
              "            ...    \n",
              "18378           600\n",
              "18379          3.84\n",
              "18380      2.992.99\n",
              "18381          3.84\n",
              "18382         14.95\n",
              "Name: total, Length: 18383, dtype: object"
            ]
          },
          "metadata": {},
          "execution_count": 116
        }
      ],
      "source": [
        "df[\"total\"]=df[\"Quantity Ordered\"]*df[\"Price Each\"]\t\n",
        "df[\"total\"]"
      ]
    },
    {
      "cell_type": "code",
      "execution_count": 117,
      "id": "18172801",
      "metadata": {
        "colab": {
          "base_uri": "https://localhost:8080/"
        },
        "id": "18172801",
        "outputId": "687e2091-3fc4-4793-a8da-cbcb071c59ba"
      },
      "outputs": [
        {
          "output_type": "execute_result",
          "data": {
            "text/plain": [
              "Product\n",
              "Product                       Price EachPrice EachPrice EachPrice EachPrice ...\n",
              "ThinkPad Laptop               999.99999.99999.99999.99999.99999.99999.99999....\n",
              "Bose SoundSport Headphones    99.9999.9999.9999.9999.9999.9999.9999.9999.999...\n",
              "iPhone                        7007007007007007007007007007007007007007007007...\n",
              "Google Phone                  6006006006006006006006006006006006006006006006...\n",
              "LG Dryer                      600.0600.0600.0600.0600.0600.0600.0600.0600.06...\n",
              "LG Washing Machine            600.0600.0600.0600.0600.0600.0600.0600.0600.06...\n",
              "Vareebadd Phone               4004004004004004004004004004004004004004004004...\n",
              "27in 4K Gaming Monitor        389.99389.99389.99389.99389.99389.99389.99389....\n",
              "34in Ultrawide Monitor        379.99379.99379.99379.99379.99379.99379.99379....\n",
              "Flatscreen TV                 3003003003003003003003003003003003003003003003...\n",
              "AA Batteries (4-pack)         3.843.843.843.843.843.843.843.843.843.843.843....\n",
              "AAA Batteries (4-pack)        2.992.992.992.992.992.992.992.992.992.992.992....\n",
              "Macbook Pro Laptop            1700170017001700170017001700170017001700170017...\n",
              "Apple Airpods Headphones      1501501501501501501501501501501501501501501501...\n",
              "27in FHD Monitor              149.99149.99149.99149.99149.99149.99149.99149....\n",
              "Lightning Charging Cable      14.9514.9514.9514.9514.9514.9514.9514.9514.951...\n",
              "Wired Headphones              11.9911.9911.9911.9911.9911.9911.9911.9911.991...\n",
              "USB-C Charging Cable          11.9511.9511.9511.9511.9511.9511.9511.9511.951...\n",
              "20in Monitor                  109.99109.99109.99109.99109.99109.99109.99109....\n",
              "Name: total, dtype: object"
            ]
          },
          "metadata": {},
          "execution_count": 117
        }
      ],
      "source": [
        "df.groupby(\"Product\")[\"total\"].sum().sort_values(ascending=False)"
      ]
    },
    {
      "cell_type": "code",
      "execution_count": 118,
      "id": "0f2d195c",
      "metadata": {
        "colab": {
          "base_uri": "https://localhost:8080/"
        },
        "id": "0f2d195c",
        "outputId": "c9a2220a-1e42-4e02-9ec5-89eb330b498f"
      },
      "outputs": [
        {
          "output_type": "execute_result",
          "data": {
            "text/plain": [
              "array(['11.95', nan, '99.99', '600', '11.99', '1700', '14.95', '389.99',\n",
              "       '3.84', '150', '2.99', '700', '300', '149.99', '109.99', '600.0',\n",
              "       '999.99', '400', '379.99', 'Price Each'], dtype=object)"
            ]
          },
          "metadata": {},
          "execution_count": 118
        }
      ],
      "source": [
        "df[\"Price Each\"].unique()"
      ]
    },
    {
      "cell_type": "code",
      "source": [
        "df[\"Price Each\"].replace(to_replace=[\"Price Each\",\"nan\"],value=0,inplace=True)"
      ],
      "metadata": {
        "id": "24nRuP-6NY3h"
      },
      "id": "24nRuP-6NY3h",
      "execution_count": 124,
      "outputs": []
    },
    {
      "cell_type": "code",
      "source": [
        "df[\"Price Each\"].unique()"
      ],
      "metadata": {
        "colab": {
          "base_uri": "https://localhost:8080/"
        },
        "id": "GwAzMq-dOuNW",
        "outputId": "39258cce-6f1e-4294-cc5c-7ecda8aaddb8"
      },
      "id": "GwAzMq-dOuNW",
      "execution_count": 123,
      "outputs": [
        {
          "output_type": "execute_result",
          "data": {
            "text/plain": [
              "array(['11.95', nan, '99.99', '600', '11.99', '1700', '14.95', '389.99',\n",
              "       '3.84', '150', '2.99', '700', '300', '149.99', '109.99', '600.0',\n",
              "       '999.99', '400', '379.99', 0], dtype=object)"
            ]
          },
          "metadata": {},
          "execution_count": 123
        }
      ]
    },
    {
      "cell_type": "code",
      "source": [
        "df[\"Price Each\"].fillna(0,inplace=True)"
      ],
      "metadata": {
        "id": "9oWMubA2PikG"
      },
      "id": "9oWMubA2PikG",
      "execution_count": 125,
      "outputs": []
    },
    {
      "cell_type": "code",
      "source": [
        "df = df.astype({\"Price Each\":'float'})\n",
        "df.info()"
      ],
      "metadata": {
        "colab": {
          "base_uri": "https://localhost:8080/"
        },
        "id": "um9C_WcRO5wM",
        "outputId": "9f3b10a1-de9d-4486-d122-be3f59bbf9a3"
      },
      "id": "um9C_WcRO5wM",
      "execution_count": 131,
      "outputs": [
        {
          "output_type": "stream",
          "name": "stdout",
          "text": [
            "<class 'pandas.core.frame.DataFrame'>\n",
            "RangeIndex: 18383 entries, 0 to 18382\n",
            "Data columns (total 7 columns):\n",
            " #   Column            Non-Null Count  Dtype  \n",
            "---  ------            --------------  -----  \n",
            " 0   Order ID          18324 non-null  object \n",
            " 1   Product           18324 non-null  object \n",
            " 2   Quantity Ordered  18383 non-null  int64  \n",
            " 3   Price Each        18383 non-null  float64\n",
            " 4   Order Date        18324 non-null  object \n",
            " 5   Purchase Address  18324 non-null  object \n",
            " 6   total             18324 non-null  object \n",
            "dtypes: float64(1), int64(1), object(5)\n",
            "memory usage: 1005.4+ KB\n"
          ]
        }
      ]
    },
    {
      "cell_type": "code",
      "source": [
        "df.groupby(\"Product\")[\"total\"].sum().sort_values(ascending=False)"
      ],
      "metadata": {
        "colab": {
          "base_uri": "https://localhost:8080/"
        },
        "id": "tPFRXJ5pNY7f",
        "outputId": "ab868e1c-c331-4d09-bcd4-57150bf593fa"
      },
      "id": "tPFRXJ5pNY7f",
      "execution_count": 128,
      "outputs": [
        {
          "output_type": "execute_result",
          "data": {
            "text/plain": [
              "Product\n",
              "Product                       Price EachPrice EachPrice EachPrice EachPrice ...\n",
              "ThinkPad Laptop               999.99999.99999.99999.99999.99999.99999.99999....\n",
              "Bose SoundSport Headphones    99.9999.9999.9999.9999.9999.9999.9999.9999.999...\n",
              "iPhone                        7007007007007007007007007007007007007007007007...\n",
              "Google Phone                  6006006006006006006006006006006006006006006006...\n",
              "LG Dryer                      600.0600.0600.0600.0600.0600.0600.0600.0600.06...\n",
              "LG Washing Machine            600.0600.0600.0600.0600.0600.0600.0600.0600.06...\n",
              "Vareebadd Phone               4004004004004004004004004004004004004004004004...\n",
              "27in 4K Gaming Monitor        389.99389.99389.99389.99389.99389.99389.99389....\n",
              "34in Ultrawide Monitor        379.99379.99379.99379.99379.99379.99379.99379....\n",
              "Flatscreen TV                 3003003003003003003003003003003003003003003003...\n",
              "AA Batteries (4-pack)         3.843.843.843.843.843.843.843.843.843.843.843....\n",
              "AAA Batteries (4-pack)        2.992.992.992.992.992.992.992.992.992.992.992....\n",
              "Macbook Pro Laptop            1700170017001700170017001700170017001700170017...\n",
              "Apple Airpods Headphones      1501501501501501501501501501501501501501501501...\n",
              "27in FHD Monitor              149.99149.99149.99149.99149.99149.99149.99149....\n",
              "Lightning Charging Cable      14.9514.9514.9514.9514.9514.9514.9514.9514.951...\n",
              "Wired Headphones              11.9911.9911.9911.9911.9911.9911.9911.9911.991...\n",
              "USB-C Charging Cable          11.9511.9511.9511.9511.9511.9511.9511.9511.951...\n",
              "20in Monitor                  109.99109.99109.99109.99109.99109.99109.99109....\n",
              "Name: total, dtype: object"
            ]
          },
          "metadata": {},
          "execution_count": 128
        }
      ]
    },
    {
      "cell_type": "code",
      "execution_count": 132,
      "metadata": {
        "colab": {
          "base_uri": "https://localhost:8080/"
        },
        "id": "248b5cb7",
        "outputId": "0b944172-c79c-4fed-ba2b-d35bd1b06e08"
      },
      "outputs": [
        {
          "output_type": "execute_result",
          "data": {
            "text/plain": [
              "0        11.9511.95\n",
              "1               NaN\n",
              "2             99.99\n",
              "3               600\n",
              "4             11.99\n",
              "            ...    \n",
              "18378           600\n",
              "18379          3.84\n",
              "18380      2.992.99\n",
              "18381          3.84\n",
              "18382         14.95\n",
              "Name: total, Length: 18383, dtype: object"
            ]
          },
          "metadata": {},
          "execution_count": 132
        }
      ],
      "source": [
        "df.total"
      ],
      "id": "248b5cb7"
    },
    {
      "cell_type": "code",
      "execution_count": 133,
      "metadata": {
        "colab": {
          "base_uri": "https://localhost:8080/"
        },
        "id": "4c7508ef",
        "outputId": "98de30ee-69cd-4b59-b266-f712ea9aaf66"
      },
      "outputs": [
        {
          "output_type": "execute_result",
          "data": {
            "text/plain": [
              "0         23.90\n",
              "1          0.00\n",
              "2         99.99\n",
              "3        600.00\n",
              "4         11.99\n",
              "          ...  \n",
              "18378    600.00\n",
              "18379      3.84\n",
              "18380      5.98\n",
              "18381      3.84\n",
              "18382     14.95\n",
              "Name: total, Length: 18383, dtype: float64"
            ]
          },
          "metadata": {},
          "execution_count": 133
        }
      ],
      "source": [
        "df[\"total\"]=df[\"Quantity Ordered\"]*df[\"Price Each\"]\t\n",
        "df[\"total\"]"
      ],
      "id": "4c7508ef"
    },
    {
      "cell_type": "code",
      "execution_count": 134,
      "metadata": {
        "colab": {
          "base_uri": "https://localhost:8080/"
        },
        "id": "8b9e0c13",
        "outputId": "3801d5bc-b329-43f0-eb8b-cad8d7690228"
      },
      "outputs": [
        {
          "output_type": "execute_result",
          "data": {
            "text/plain": [
              "Product\n",
              "Macbook Pro Laptop            773500.00\n",
              "iPhone                        486500.00\n",
              "ThinkPad Laptop               391996.08\n",
              "Google Phone                  348600.00\n",
              "34in Ultrawide Monitor        248133.47\n",
              "Apple Airpods Headphones      228750.00\n",
              "27in 4K Gaming Monitor        220344.35\n",
              "Flatscreen TV                 137700.00\n",
              "Bose SoundSport Headphones    128787.12\n",
              "27in FHD Monitor              110542.63\n",
              "Vareebadd Phone                88000.00\n",
              "LG Dryer                       46200.00\n",
              "20in Monitor                   43446.05\n",
              "LG Washing Machine             36600.00\n",
              "Lightning Charging Cable       35446.45\n",
              "USB-C Charging Cable           27126.50\n",
              "Wired Headphones               24771.34\n",
              "AA Batteries (4-pack)          10836.48\n",
              "AAA Batteries (4-pack)          8778.64\n",
              "Product                            0.00\n",
              "Name: total, dtype: float64"
            ]
          },
          "metadata": {},
          "execution_count": 134
        }
      ],
      "source": [
        "df.groupby(\"Product\")[\"total\"].sum().sort_values(ascending=False)"
      ],
      "id": "8b9e0c13"
    },
    {
      "cell_type": "markdown",
      "id": "e96ace40",
      "metadata": {
        "id": "e96ace40"
      },
      "source": [
        "### **``Question:``** Which Product has the highest revenue and its number?  \n",
        "\n",
        "Hangi Ürün en yüksek gelire ve sayısına sahiptir?"
      ]
    },
    {
      "cell_type": "code",
      "source": [
        "df.groupby(\"Product\")[\"total\"].sum().sort_values(ascending=False).head(1)"
      ],
      "metadata": {
        "colab": {
          "base_uri": "https://localhost:8080/"
        },
        "id": "eMOnVcaYQYQM",
        "outputId": "556d7bd1-0e71-4633-eb71-181841738ab6"
      },
      "id": "eMOnVcaYQYQM",
      "execution_count": 136,
      "outputs": [
        {
          "output_type": "execute_result",
          "data": {
            "text/plain": [
              "Product\n",
              "Macbook Pro Laptop    773500.0\n",
              "Name: total, dtype: float64"
            ]
          },
          "metadata": {},
          "execution_count": 136
        }
      ]
    },
    {
      "cell_type": "markdown",
      "id": "fdd7650d",
      "metadata": {
        "id": "fdd7650d"
      },
      "source": [
        "### **``Question:``** Find the ``Percentage of Product Sold by Total Revenue`` and What is the top 5 products?  "
      ]
    },
    {
      "cell_type": "code",
      "execution_count": 137,
      "id": "1863d99a",
      "metadata": {
        "colab": {
          "base_uri": "https://localhost:8080/"
        },
        "id": "1863d99a",
        "outputId": "42275a87-8bec-4fbc-f738-34517db361a6"
      },
      "outputs": [
        {
          "output_type": "execute_result",
          "data": {
            "text/plain": [
              "Product\n",
              "LG Washing Machine     600.000000\n",
              "LG Dryer               600.000000\n",
              "iPhone                 702.020202\n",
              "ThinkPad Laptop        999.990000\n",
              "Macbook Pro Laptop    1707.505519\n",
              "Name: total, dtype: float64"
            ]
          },
          "metadata": {},
          "execution_count": 137
        }
      ],
      "source": [
        "df.groupby(\"Product\")[\"total\"].mean().sort_values().tail(5)"
      ]
    },
    {
      "cell_type": "code",
      "execution_count": null,
      "id": "9825bef8",
      "metadata": {
        "id": "9825bef8"
      },
      "outputs": [],
      "source": [
        ""
      ]
    },
    {
      "cell_type": "code",
      "execution_count": null,
      "id": "104b18c0",
      "metadata": {
        "id": "104b18c0"
      },
      "outputs": [],
      "source": [
        ""
      ]
    },
    {
      "cell_type": "markdown",
      "id": "deee7fad",
      "metadata": {
        "id": "deee7fad"
      },
      "source": [
        "## <p style=\"background-color:#FDFEFE; font-family:newtimeroman; color:#9d4f8c; font-size:150%; text-align:center; border-radius:10px 10px;\">The End of the Task</p>"
      ]
    },
    {
      "cell_type": "markdown",
      "id": "fcbb449e",
      "metadata": {
        "id": "fcbb449e"
      },
      "source": [
        "___\n",
        "\n",
        "<p style=\"text-align: center;\"><img src=\"https://docs.google.com/uc?id=1lY0Uj5R04yMY3-ZppPWxqCr5pvBLYPnV\" class=\"img-fluid\" \n",
        "alt=\"CLRSWY\"></p>\n",
        "\n",
        "## <p style=\"background-color:#FDFEFE; font-family:newtimeroman; color:#9d4f8c; font-size:100%; text-align:center; border-radius:10px 10px;\">WAY TO REINVENT YOURSELF</p>\n",
        "___"
      ]
    }
  ],
  "metadata": {
    "kernelspec": {
      "display_name": "Python 3",
      "language": "python",
      "name": "python3"
    },
    "language_info": {
      "codemirror_mode": {
        "name": "ipython",
        "version": 3
      },
      "file_extension": ".py",
      "mimetype": "text/x-python",
      "name": "python",
      "nbconvert_exporter": "python",
      "pygments_lexer": "ipython3",
      "version": "3.8.8"
    },
    "colab": {
      "name": "Pandas Task - Cohort DS 10-22 EU.ipynb",
      "provenance": [],
      "include_colab_link": true
    }
  },
  "nbformat": 4,
  "nbformat_minor": 5
}